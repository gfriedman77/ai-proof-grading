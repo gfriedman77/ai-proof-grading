{
 "cells": [
  {
   "cell_type": "markdown",
   "metadata": {
    "cell_id": "ac4948d6a86f4cefa4abe3674990ec73",
    "deepnote_cell_type": "text-cell-p",
    "formattedRanges": [
     {
      "fromCodePoint": 0,
      "marks": {
       "bold": true
      },
      "toCodePoint": 4,
      "type": "marks"
     }
    ]
   },
   "source": [
    "Data"
   ]
  },
  {
   "cell_type": "code",
   "execution_count": 1,
   "metadata": {
    "cell_id": "74e6f4f00b9845af90616c61cd38bdfc",
    "deepnote_cell_type": "code",
    "execution_context_id": "3e5c51cf-c3c5-4dc9-b492-f691f1887d86",
    "execution_millis": 1385,
    "execution_start": 1756498185108,
    "id": "JxH0UdX4-S1s",
    "source_hash": "d934721e"
   },
   "outputs": [],
   "source": [
    "import numpy as np\n",
    "import pandas as pd\n",
    "import scipy.stats as stats\n",
    "from statsmodels.stats.proportion import proportions_ztest, confint_proportions_2indep\n",
    "import seaborn as sns\n",
    "import matplotlib.pyplot as plt\n",
    "from matplotlib.ticker import PercentFormatter\n",
    "import re"
   ]
  },
  {
   "cell_type": "code",
   "execution_count": null,
   "metadata": {
    "cell_id": "04df1821e82a48649594e0b169d92ad1",
    "deepnote_cell_type": "code",
    "execution_context_id": "3e5c51cf-c3c5-4dc9-b492-f691f1887d86",
    "execution_millis": 199,
    "execution_start": 1756498186562,
    "id": "JQO8dEvz-hzj",
    "source_hash": "12f1203d"
   },
   "outputs": [
    {
     "data": {
      "application/vnd.deepnote.dataframe.v3+json": {
       "column_count": 25,
       "columns": [
        {
         "dtype": "int64",
         "name": "ProofID",
         "stats": {
          "categories": null,
          "histogram": [
           {
            "bin_end": 79.3,
            "bin_start": 1,
            "count": 79
           },
           {
            "bin_end": 157.6,
            "bin_start": 79.3,
            "count": 77
           },
           {
            "bin_end": 235.89999999999998,
            "bin_start": 157.6,
            "count": 78
           },
           {
            "bin_end": 314.2,
            "bin_start": 235.89999999999998,
            "count": 79
           },
           {
            "bin_end": 392.5,
            "bin_start": 314.2,
            "count": 78
           },
           {
            "bin_end": 470.79999999999995,
            "bin_start": 392.5,
            "count": 77
           },
           {
            "bin_end": 549.1,
            "bin_start": 470.79999999999995,
            "count": 79
           },
           {
            "bin_end": 627.4,
            "bin_start": 549.1,
            "count": 78
           },
           {
            "bin_end": 705.6999999999999,
            "bin_start": 627.4,
            "count": 77
           },
           {
            "bin_end": 784,
            "bin_start": 705.6999999999999,
            "count": 79
           }
          ],
          "max": "784",
          "min": "1",
          "nan_count": 0,
          "unique_count": 781
         }
        },
        {
         "dtype": "int64",
         "name": "InstitutionID",
         "stats": {
          "categories": null,
          "histogram": [
           {
            "bin_end": 1.4,
            "bin_start": 1,
            "count": 43
           },
           {
            "bin_end": 1.8,
            "bin_start": 1.4,
            "count": 0
           },
           {
            "bin_end": 2.2,
            "bin_start": 1.8,
            "count": 60
           },
           {
            "bin_end": 2.6,
            "bin_start": 2.2,
            "count": 0
           },
           {
            "bin_end": 3,
            "bin_start": 2.6,
            "count": 0
           },
           {
            "bin_end": 3.4000000000000004,
            "bin_start": 3,
            "count": 527
           },
           {
            "bin_end": 3.8000000000000003,
            "bin_start": 3.4000000000000004,
            "count": 0
           },
           {
            "bin_end": 4.2,
            "bin_start": 3.8000000000000003,
            "count": 105
           },
           {
            "bin_end": 4.6,
            "bin_start": 4.2,
            "count": 0
           },
           {
            "bin_end": 5,
            "bin_start": 4.6,
            "count": 46
           }
          ],
          "max": "5",
          "min": "1",
          "nan_count": 0,
          "unique_count": 5
         }
        },
        {
         "dtype": "object",
         "name": "InstitutionType",
         "stats": {
          "categories": [
           {
            "count": 527,
            "name": "Doctoral"
           },
           {
            "count": 149,
            "name": "Masters"
           },
           {
            "count": 105,
            "name": "Four-year"
           }
          ],
          "histogram": null,
          "max": null,
          "min": null,
          "nan_count": 0,
          "unique_count": 3
         }
        },
        {
         "dtype": "object",
         "name": "Topic",
         "stats": {
          "categories": [
           {
            "count": 344,
            "name": "linear algebra"
           },
           {
            "count": 190,
            "name": "modular arithmetic"
           },
           {
            "count": 247,
            "name": "9 others"
           }
          ],
          "histogram": null,
          "max": null,
          "min": null,
          "nan_count": 0,
          "unique_count": 11
         }
        },
        {
         "dtype": "int64",
         "name": "Bytes",
         "stats": {
          "categories": null,
          "histogram": [
           {
            "bin_end": 576,
            "bin_start": 175,
            "count": 199
           },
           {
            "bin_end": 977,
            "bin_start": 576,
            "count": 305
           },
           {
            "bin_end": 1378,
            "bin_start": 977,
            "count": 182
           },
           {
            "bin_end": 1779,
            "bin_start": 1378,
            "count": 55
           },
           {
            "bin_end": 2180,
            "bin_start": 1779,
            "count": 26
           },
           {
            "bin_end": 2581,
            "bin_start": 2180,
            "count": 7
           },
           {
            "bin_end": 2982,
            "bin_start": 2581,
            "count": 5
           },
           {
            "bin_end": 3383,
            "bin_start": 2982,
            "count": 1
           },
           {
            "bin_end": 3784,
            "bin_start": 3383,
            "count": 0
           },
           {
            "bin_end": 4185,
            "bin_start": 3784,
            "count": 1
           }
          ],
          "max": "4185",
          "min": "175",
          "nan_count": 0,
          "unique_count": 593
         }
        },
        {
         "dtype": "int64",
         "name": "HasHumanGrade",
         "stats": {
          "categories": null,
          "histogram": [
           {
            "bin_end": 0.1,
            "bin_start": 0,
            "count": 568
           },
           {
            "bin_end": 0.2,
            "bin_start": 0.1,
            "count": 0
           },
           {
            "bin_end": 0.30000000000000004,
            "bin_start": 0.2,
            "count": 0
           },
           {
            "bin_end": 0.4,
            "bin_start": 0.30000000000000004,
            "count": 0
           },
           {
            "bin_end": 0.5,
            "bin_start": 0.4,
            "count": 0
           },
           {
            "bin_end": 0.6000000000000001,
            "bin_start": 0.5,
            "count": 0
           },
           {
            "bin_end": 0.7000000000000001,
            "bin_start": 0.6000000000000001,
            "count": 0
           },
           {
            "bin_end": 0.8,
            "bin_start": 0.7000000000000001,
            "count": 0
           },
           {
            "bin_end": 0.9,
            "bin_start": 0.8,
            "count": 0
           },
           {
            "bin_end": 1,
            "bin_start": 0.9,
            "count": 213
           }
          ],
          "max": "1",
          "min": "0",
          "nan_count": 0,
          "unique_count": 2
         }
        },
        {
         "dtype": "int64",
         "name": "M_H",
         "stats": {
          "categories": null,
          "histogram": [
           {
            "bin_end": 0.1,
            "bin_start": 0,
            "count": 647
           },
           {
            "bin_end": 0.2,
            "bin_start": 0.1,
            "count": 0
           },
           {
            "bin_end": 0.30000000000000004,
            "bin_start": 0.2,
            "count": 0
           },
           {
            "bin_end": 0.4,
            "bin_start": 0.30000000000000004,
            "count": 0
           },
           {
            "bin_end": 0.5,
            "bin_start": 0.4,
            "count": 0
           },
           {
            "bin_end": 0.6000000000000001,
            "bin_start": 0.5,
            "count": 0
           },
           {
            "bin_end": 0.7000000000000001,
            "bin_start": 0.6000000000000001,
            "count": 0
           },
           {
            "bin_end": 0.8,
            "bin_start": 0.7000000000000001,
            "count": 0
           },
           {
            "bin_end": 0.9,
            "bin_start": 0.8,
            "count": 0
           },
           {
            "bin_end": 1,
            "bin_start": 0.9,
            "count": 134
           }
          ],
          "max": "1",
          "min": "0",
          "nan_count": 0,
          "unique_count": 2
         }
        },
        {
         "dtype": "int64",
         "name": "M_A",
         "stats": {
          "categories": null,
          "histogram": [
           {
            "bin_end": 0.1,
            "bin_start": 0,
            "count": 30
           },
           {
            "bin_end": 0.2,
            "bin_start": 0.1,
            "count": 0
           },
           {
            "bin_end": 0.30000000000000004,
            "bin_start": 0.2,
            "count": 0
           },
           {
            "bin_end": 0.4,
            "bin_start": 0.30000000000000004,
            "count": 0
           },
           {
            "bin_end": 0.5,
            "bin_start": 0.4,
            "count": 0
           },
           {
            "bin_end": 0.6000000000000001,
            "bin_start": 0.5,
            "count": 0
           },
           {
            "bin_end": 0.7000000000000001,
            "bin_start": 0.6000000000000001,
            "count": 0
           },
           {
            "bin_end": 0.8,
            "bin_start": 0.7000000000000001,
            "count": 0
           },
           {
            "bin_end": 0.9,
            "bin_start": 0.8,
            "count": 0
           },
           {
            "bin_end": 1,
            "bin_start": 0.9,
            "count": 751
           }
          ],
          "max": "1",
          "min": "0",
          "nan_count": 0,
          "unique_count": 2
         }
        },
        {
         "dtype": "object",
         "name": "T_H",
         "stats": {
          "categories": [
           {
            "count": 79,
            "name": "No mistakes"
           },
           {
            "count": 134,
            "name": "9 others"
           },
           {
            "count": 568,
            "name": "Missing"
           }
          ],
          "histogram": null,
          "max": null,
          "min": null,
          "nan_count": 568,
          "unique_count": 10
         }
        },
        {
         "dtype": "object",
         "name": "T_A",
         "stats": {
          "categories": [
           {
            "count": 240,
            "name": "Grammar/syntax"
           },
           {
            "count": 200,
            "name": "Justification"
           },
           {
            "count": 341,
            "name": "7 others"
           }
          ],
          "histogram": null,
          "max": null,
          "min": null,
          "nan_count": 0,
          "unique_count": 9
         }
        },
        {
         "dtype": "float64",
         "name": "S_H",
         "stats": {
          "categories": null,
          "histogram": [
           {
            "bin_end": 3.8,
            "bin_start": 1,
            "count": 76
           },
           {
            "bin_end": 6.6,
            "bin_start": 3.8,
            "count": 38
           },
           {
            "bin_end": 9.399999999999999,
            "bin_start": 6.6,
            "count": 12
           },
           {
            "bin_end": 12.2,
            "bin_start": 9.399999999999999,
            "count": 4
           },
           {
            "bin_end": 15,
            "bin_start": 12.2,
            "count": 3
           },
           {
            "bin_end": 17.799999999999997,
            "bin_start": 15,
            "count": 0
           },
           {
            "bin_end": 20.599999999999998,
            "bin_start": 17.799999999999997,
            "count": 0
           },
           {
            "bin_end": 23.4,
            "bin_start": 20.599999999999998,
            "count": 0
           },
           {
            "bin_end": 26.2,
            "bin_start": 23.4,
            "count": 0
           },
           {
            "bin_end": 29,
            "bin_start": 26.2,
            "count": 1
           }
          ],
          "max": "29.0",
          "min": "1.0",
          "nan_count": 647,
          "unique_count": 13
         }
        },
        {
         "dtype": "float64",
         "name": "S_A",
         "stats": {
          "categories": null,
          "histogram": [
           {
            "bin_end": 2.7,
            "bin_start": 1,
            "count": 315
           },
           {
            "bin_end": 4.4,
            "bin_start": 2.7,
            "count": 266
           },
           {
            "bin_end": 6.1,
            "bin_start": 4.4,
            "count": 93
           },
           {
            "bin_end": 7.8,
            "bin_start": 6.1,
            "count": 23
           },
           {
            "bin_end": 9.5,
            "bin_start": 7.8,
            "count": 15
           },
           {
            "bin_end": 11.2,
            "bin_start": 9.5,
            "count": 21
           },
           {
            "bin_end": 12.9,
            "bin_start": 11.2,
            "count": 3
           },
           {
            "bin_end": 14.6,
            "bin_start": 12.9,
            "count": 7
           },
           {
            "bin_end": 16.299999999999997,
            "bin_start": 14.6,
            "count": 4
           },
           {
            "bin_end": 18,
            "bin_start": 16.299999999999997,
            "count": 4
           }
          ],
          "max": "18.0",
          "min": "1.0",
          "nan_count": 30,
          "unique_count": 18
         }
        },
        {
         "dtype": "object",
         "name": "A_H",
         "stats": {
          "categories": [
           {
            "count": 2,
            "name": "Define all variables"
           },
           {
            "count": 132,
            "name": "132 others"
           },
           {
            "count": 647,
            "name": "Missing"
           }
          ],
          "histogram": null,
          "max": null,
          "min": null,
          "nan_count": 647,
          "unique_count": 133
         }
        },
        {
         "dtype": "object",
         "name": "A_A",
         "stats": {
          "categories": [
           {
            "count": 1,
            "name": "When you write that $x$ can be written as $\\frac{a}{b}$ and $x+y$ can be written as $\\frac{c}{d}$, the reader might be confused about whether these fractions are supposed to be related. For clarity, you should use different variables in the two fractions. For example, you might write that $x = \\frac{a}{b}$ and $x+y=\\frac{c}{d}$. Also, when you write $y=(x+c)-x$, you probably meant to write $y=(x+y)-x$. I recommend carefully proofreading to make sure your equations are correct."
           },
           {
            "count": 750,
            "name": "750 others"
           },
           {
            "count": 30,
            "name": "Missing"
           }
          ],
          "histogram": null,
          "max": null,
          "min": null,
          "nan_count": 30,
          "unique_count": 751
         }
        },
        {
         "dtype": "object",
         "name": "A_2",
         "stats": {
          "categories": [
           {
            "count": 1,
            "name": "Your proof is mostly correct, but there are a few issues with clarity and notation that could be improved for better understanding:\n\n1. **Notation and Clarity**: When you write $y = (x+c) - x$, it seems like a typographical error. You should write $y = (x+y) - x$ to maintain consistency with your earlier statements.\n\n2. **Rational Representation**: You correctly represent $x$ and $x+y$ as rational numbers, but you should explicitly state that $x = \\frac{a}{b}$ and $x+y = \\frac{c}{d}$, where $a, b, c, d$ are integers and $b, d \\neq 0$. This makes it clear that you are using the definition of rational numbers.\n\n3. **Simplification Step**: When you simplify $y = \\frac{c}{d} - \\frac{a}{b}$ to $y = \\frac{cb - ad}{db}$, it would be helpful to explicitly state that this is a rational number because both the numerator and the denominator are integers, and the denominator is non-zero.\n\n4. **Conclusion**: Your conclusion is correct, but it could be more clearly stated. You should emphasize that the contradiction arises because you assumed $y$ was irrational, but derived that $y$ is rational, which contradicts the initial assumption.\n\nOverall, your proof is logically sound, but improving clarity and notation will make it easier for others to follow your reasoning."
           },
           {
            "count": 1,
            "name": "Your proof is mostly correct, but there are a few issues and areas for improvement:\n\n1. **Base Case**: You correctly verified the base case for $ n = 1 $. However, it's good practice to explicitly state that the base case is true, which you did, but it could be clearer. You might want to explicitly state that both sides of the equation are equal, confirming $ P(1) $.\n\n2. **Inductive Step**: You correctly assumed $ P(k) $ is true and aimed to prove $ P(k+1) $. However, there are some issues in the algebraic manipulation:\n\n   - When you wrote $ 5+10+15+20+\\ldots+5k+5(k+1) = \\frac{5(k+1)((k+1)+1)}{2} $, you should have started with the assumption $ 5+10+15+20+\\ldots+5k = \\frac{5k(k+1)}{2} $ and then added $ 5(k+1) $ to both sides.\n\n   - The step where you wrote $ = \\frac{5k(k+1)}{2} + 5k + 5 $ should be $ = \\frac{5k(k+1)}{2} + 5(k+1) $.\n\n   - The transition from $ \\frac{5k(k+1)}{2} + \\frac{10k+10}{2} $ to $ \\frac{5k^2 + 15k + 10}{2} $ is correct, but you should clarify that you combined the terms over a common denominator.\n\n3. **Factoring and Simplification**: Your factoring step $ \\frac{(5k+5)(k+2)}{2} $ is correct, but you should clarify how you arrived at this factorization. The final step to show it equals $ \\frac{5(k+1)((k+1)+1)}{2} $ is correct, but it would be clearer if you explicitly showed how the terms match.\n\n4. **Conclusion**: Your conclusion is mostly correct, but it would be clearer if you explicitly stated that by the principle of mathematical induction, the statement holds for all natural numbers $ n $.\n\nOverall, your proof is on the right track, but it would benefit from clearer explanations of the algebraic steps and a more explicit conclusion."
           },
           {
            "count": 779,
            "name": "779 others"
           }
          ],
          "histogram": null,
          "max": null,
          "min": null,
          "nan_count": 0,
          "unique_count": 781
         }
        },
        {
         "dtype": "object",
         "name": "Con_1",
         "stats": {
          "categories": [
           {
            "count": 134,
            "name": "No they say different things"
           },
           {
            "count": 79,
            "name": "Yes they say the same thing"
           },
           {
            "count": 568,
            "name": "Missing"
           }
          ],
          "histogram": null,
          "max": null,
          "min": null,
          "nan_count": 568,
          "unique_count": 2
         }
        },
        {
         "dtype": "object",
         "name": "Con_1_Comments",
         "stats": {
          "categories": [
           {
            "count": 16,
            "name": "STYLE"
           },
           {
            "count": 123,
            "name": "91 others"
           },
           {
            "count": 642,
            "name": "Missing"
           }
          ],
          "histogram": null,
          "max": null,
          "min": null,
          "nan_count": 642,
          "unique_count": 92
         }
        },
        {
         "dtype": "object",
         "name": "Con_2",
         "stats": {
          "categories": [
           {
            "count": 112,
            "name": "Yes they say the same thing"
           },
           {
            "count": 101,
            "name": "No they say different things"
           },
           {
            "count": 568,
            "name": "Missing"
           }
          ],
          "histogram": null,
          "max": null,
          "min": null,
          "nan_count": 568,
          "unique_count": 2
         }
        },
        {
         "dtype": "object",
         "name": "Con_2_Comments",
         "stats": {
          "categories": [
           {
            "count": 21,
            "name": "Plus AI also said a lot more"
           },
           {
            "count": 122,
            "name": "90 others"
           },
           {
            "count": 638,
            "name": "Missing"
           }
          ],
          "histogram": null,
          "max": null,
          "min": null,
          "nan_count": 638,
          "unique_count": 91
         }
        },
        {
         "dtype": "object",
         "name": "Cor",
         "stats": {
          "categories": [
           {
            "count": 167,
            "name": "Correct/mostly correct"
           },
           {
            "count": 46,
            "name": "2 others"
           },
           {
            "count": 568,
            "name": "Missing"
           }
          ],
          "histogram": null,
          "max": null,
          "min": null,
          "nan_count": 568,
          "unique_count": 3
         }
        },
        {
         "dtype": "object",
         "name": "Cor_Comments",
         "stats": {
          "categories": [
           {
            "count": 7,
            "name": "STYLE"
           },
           {
            "count": 57,
            "name": "51 others"
           },
           {
            "count": 717,
            "name": "Missing"
           }
          ],
          "histogram": null,
          "max": null,
          "min": null,
          "nan_count": 717,
          "unique_count": 52
         }
        },
        {
         "dtype": "int64",
         "name": "DWYD_1",
         "stats": {
          "categories": null,
          "histogram": [
           {
            "bin_end": 0.1,
            "bin_start": 0,
            "count": 768
           },
           {
            "bin_end": 0.2,
            "bin_start": 0.1,
            "count": 0
           },
           {
            "bin_end": 0.30000000000000004,
            "bin_start": 0.2,
            "count": 0
           },
           {
            "bin_end": 0.4,
            "bin_start": 0.30000000000000004,
            "count": 0
           },
           {
            "bin_end": 0.5,
            "bin_start": 0.4,
            "count": 0
           },
           {
            "bin_end": 0.6000000000000001,
            "bin_start": 0.5,
            "count": 0
           },
           {
            "bin_end": 0.7000000000000001,
            "bin_start": 0.6000000000000001,
            "count": 0
           },
           {
            "bin_end": 0.8,
            "bin_start": 0.7000000000000001,
            "count": 0
           },
           {
            "bin_end": 0.9,
            "bin_start": 0.8,
            "count": 0
           },
           {
            "bin_end": 1,
            "bin_start": 0.9,
            "count": 13
           }
          ],
          "max": "1",
          "min": "0",
          "nan_count": 0,
          "unique_count": 2
         }
        },
        {
         "dtype": "int64",
         "name": "DWYD_2",
         "stats": {
          "categories": null,
          "histogram": [
           {
            "bin_end": 0.1,
            "bin_start": 0,
            "count": 766
           },
           {
            "bin_end": 0.2,
            "bin_start": 0.1,
            "count": 0
           },
           {
            "bin_end": 0.30000000000000004,
            "bin_start": 0.2,
            "count": 0
           },
           {
            "bin_end": 0.4,
            "bin_start": 0.30000000000000004,
            "count": 0
           },
           {
            "bin_end": 0.5,
            "bin_start": 0.4,
            "count": 0
           },
           {
            "bin_end": 0.6000000000000001,
            "bin_start": 0.5,
            "count": 0
           },
           {
            "bin_end": 0.7000000000000001,
            "bin_start": 0.6000000000000001,
            "count": 0
           },
           {
            "bin_end": 0.8,
            "bin_start": 0.7000000000000001,
            "count": 0
           },
           {
            "bin_end": 0.9,
            "bin_start": 0.8,
            "count": 0
           },
           {
            "bin_end": 1,
            "bin_start": 0.9,
            "count": 15
           }
          ],
          "max": "1",
          "min": "0",
          "nan_count": 0,
          "unique_count": 2
         }
        },
        {
         "dtype": "int64",
         "name": "Right_1",
         "stats": {
          "categories": null,
          "histogram": [
           {
            "bin_end": 0.1,
            "bin_start": 0,
            "count": 770
           },
           {
            "bin_end": 0.2,
            "bin_start": 0.1,
            "count": 0
           },
           {
            "bin_end": 0.30000000000000004,
            "bin_start": 0.2,
            "count": 0
           },
           {
            "bin_end": 0.4,
            "bin_start": 0.30000000000000004,
            "count": 0
           },
           {
            "bin_end": 0.5,
            "bin_start": 0.4,
            "count": 0
           },
           {
            "bin_end": 0.6000000000000001,
            "bin_start": 0.5,
            "count": 0
           },
           {
            "bin_end": 0.7000000000000001,
            "bin_start": 0.6000000000000001,
            "count": 0
           },
           {
            "bin_end": 0.8,
            "bin_start": 0.7000000000000001,
            "count": 0
           },
           {
            "bin_end": 0.9,
            "bin_start": 0.8,
            "count": 0
           },
           {
            "bin_end": 1,
            "bin_start": 0.9,
            "count": 11
           }
          ],
          "max": "1",
          "min": "0",
          "nan_count": 0,
          "unique_count": 2
         }
        },
        {
         "dtype": "int64",
         "name": "Right_2",
         "stats": {
          "categories": null,
          "histogram": [
           {
            "bin_end": 0.1,
            "bin_start": 0,
            "count": 762
           },
           {
            "bin_end": 0.2,
            "bin_start": 0.1,
            "count": 0
           },
           {
            "bin_end": 0.30000000000000004,
            "bin_start": 0.2,
            "count": 0
           },
           {
            "bin_end": 0.4,
            "bin_start": 0.30000000000000004,
            "count": 0
           },
           {
            "bin_end": 0.5,
            "bin_start": 0.4,
            "count": 0
           },
           {
            "bin_end": 0.6000000000000001,
            "bin_start": 0.5,
            "count": 0
           },
           {
            "bin_end": 0.7000000000000001,
            "bin_start": 0.6000000000000001,
            "count": 0
           },
           {
            "bin_end": 0.8,
            "bin_start": 0.7000000000000001,
            "count": 0
           },
           {
            "bin_end": 0.9,
            "bin_start": 0.8,
            "count": 0
           },
           {
            "bin_end": 1,
            "bin_start": 0.9,
            "count": 19
           }
          ],
          "max": "1",
          "min": "0",
          "nan_count": 0,
          "unique_count": 2
         }
        },
        {
         "dtype": "int64",
         "name": "_deepnote_index_column"
        }
       ],
       "preview_row_count": 781,
       "row_count": 781,
       "rows": [
        {
         "A_2": "Your proof is mostly correct, but there are a few issues with clarity and notation that could be improved for better understanding:\n\n1. **Notation and Clarity**: When you write $y = (x+c) - x$, it seems like a typographical error. You should write $y = (x+y) - x$ to maintain consistency with your earlier statements.\n\n2. **Rational Representation**: You correctly represent $x$ and $x+y$ as rational numbers, but you should explicitly state that $x = \\frac{a}{b}$ and $x+y = \\frac{c}{d}$, where $a, b, c, d$ are integers and $b, d \\neq 0$. This makes it clear that you are using the definition of rational numbers.\n\n3. **Simplification Step**: When you simplify $y = \\frac{c}{d} - \\frac{a}{b}$ to $y = \\frac{cb - ad}{db}$, it would be helpful to explicitly state that this is a rational number because both the numerator and the denominator are integers, and the denominator is non-zero.\n\n4. **Conclusion**: Your conclusion is correct, but it could be more clearly stated. You should emphasize that…",
         "A_A": "When you write that $x$ can be written as $\\frac{a}{b}$ and $x+y$ can be written as $\\frac{c}{d}$, the reader might be confused about whether these fractions are supposed to be related. For clarity, you should use different variables in the two fractions. For example, you might write that $x = \\frac{a}{b}$ and $x+y=\\frac{c}{d}$. Also, when you write $y=(x+c)-x$, you probably meant to write $y=(x+y)-x$. I recommend carefully proofreading to make sure your equations are correct.",
         "A_H": "Then y will just be c. Did you mean to say (x+y)-x?",
         "Bytes": 759,
         "Con_1": "No they say different things",
         "Con_1_Comments": "DWYD (erroneous) but also found same mistake as human",
         "Con_2": "Yes they say the same thing",
         "Con_2_Comments": "AI also said more",
         "Cor": "Correct/mostly correct",
         "Cor_Comments": "AI also found some subtle imperfections after the first mistake the human wrote",
         "DWYD_1": 1,
         "DWYD_2": 0,
         "HasHumanGrade": 1,
         "InstitutionID": 5,
         "InstitutionType": "Masters",
         "M_A": 1,
         "M_H": 1,
         "ProofID": 753,
         "Right_1": 0,
         "Right_2": 0,
         "S_A": 4,
         "S_H": 4,
         "T_A": "Grammar/syntax",
         "T_H": "Algebra",
         "Topic": "real numbers",
         "_deepnote_index_column": 0
        },
        {
         "A_2": "Your proof is mostly correct, but there are a few issues and areas for improvement:\n\n1. **Base Case**: You correctly verified the base case for $ n = 1 $. However, it's good practice to explicitly state that the base case is true, which you did, but it could be clearer. You might want to explicitly state that both sides of the equation are equal, confirming $ P(1) $.\n\n2. **Inductive Step**: You correctly assumed $ P(k) $ is true and aimed to prove $ P(k+1) $. However, there are some issues in the algebraic manipulation:\n\n   - When you wrote $ 5+10+15+20+\\ldots+5k+5(k+1) = \\frac{5(k+1)((k+1)+1)}{2} $, you should have started with the assumption $ 5+10+15+20+\\ldots+5k = \\frac{5k(k+1)}{2} $ and then added $ 5(k+1) $ to both sides.\n\n   - The step where you wrote $ = \\frac{5k(k+1)}{2} + 5k + 5 $ should be $ = \\frac{5k(k+1)}{2} + 5(k+1) $.\n\n   - The transition from $ \\frac{5k(k+1)}{2} + \\frac{10k+10}{2} $ to $ \\frac{5k^2 + 15k + 10}{2} $ is correct, but you should clarify that you combined …",
         "A_A": "You jumped from the inductive hypothesis to an expression that is equal to what we want to prove, and the justification for this jump was not clear at all. You should have begun from the left side of the P(k+1) equation and manipulated it to get the right side. You need to use the inductive hypothesis here, which you didn't. You should have replaced the 5+10+...+5k portion with the expression (5k(k+1))/2.",
         "A_H": "An equation seems to have been accidentally omitted, possibly one line deleted by mistake.",
         "Bytes": 1031,
         "Con_1": "Yes they say the same thing",
         "Con_1_Comments": "nan",
         "Con_2": "Yes they say the same thing",
         "Con_2_Comments": "nan",
         "Cor": "Correct/mostly correct",
         "Cor_Comments": "nan",
         "DWYD_1": 0,
         "DWYD_2": 0,
         "HasHumanGrade": 1,
         "InstitutionID": 1,
         "InstitutionType": "Masters",
         "M_A": 1,
         "M_H": 1,
         "ProofID": 29,
         "Right_1": 0,
         "Right_2": 0,
         "S_A": 10,
         "S_H": 10,
         "T_A": "Justification",
         "T_H": "Missing",
         "Topic": "induction",
         "_deepnote_index_column": 1
        },
        {
         "A_2": "Your proof attempts to use contraposition, but there are some issues with the logic and structure. Let's go through it:\n\n1. **Understanding Contraposition**: The original statement is \"If $ a $ does not divide $ bc $, then $ a $ does not divide $ b $.\" The contrapositive of this statement is \"If $ a $ divides $ b $, then $ a $ divides $ bc $.\" This is what you need to prove.\n\n2. **Assumptions**: You correctly start by assuming $ a \\mid b $ (i.e., $ a $ divides $ b $) as part of proving the contrapositive. However, you also assume $ a \\mid bc $, which is not necessary for the contrapositive. Instead, you should assume $ a \\mid b $ and show that this implies $ a \\mid bc $.\n\n3. **Proof Structure**: You correctly state that if $ a \\mid b $, then there exists an integer $ k $ such that $ b = ak $. You then substitute this into $ bc $ to get $ bc = akc $.\n\n4. **Conclusion**: You correctly conclude that since $ bc = akc $, and $ akc $ is clearly divisible by $ a $ (since it is $ a \\times (kc…",
         "A_A": "When proving a statement by contraposition, you should negate the entire hypothesis and the entire conclusion. You should begin your proof by assuming that 'a divides b' (the negation of the conclusion) and you should conclude with 'a divides bc' (the negation of the hypothesis). You have incorrectly negated the statements.",
         "A_H": "We do not write a | bc = something.",
         "Bytes": 519,
         "Con_1": "No they say different things",
         "Con_1_Comments": "RIGHT",
         "Con_2": "No they say different things",
         "Con_2_Comments": "Human did not catch the first mistake.  AI did.",
         "Cor": "Correct/mostly correct",
         "Cor_Comments": "nan",
         "DWYD_1": 0,
         "DWYD_2": 0,
         "HasHumanGrade": 1,
         "InstitutionID": 5,
         "InstitutionType": "Masters",
         "M_A": 1,
         "M_H": 1,
         "ProofID": 756,
         "Right_1": 1,
         "Right_2": 1,
         "S_A": 1,
         "S_H": 5,
         "T_A": "Reframing",
         "T_H": "Grammar/syntax",
         "Topic": "modular arithmetic",
         "_deepnote_index_column": 2
        },
        {
         "A_2": "Your proof contains several issues and does not correctly apply the principle of mathematical induction. Here are the main points of feedback:\n\n1. **Base Case**: You correctly identify the base case as $ n = 1 $, but your explanation is unclear. You should show that $ 5^1 - 1 = 4 $, and since $ 4 \\mid 4 $, the base case holds.\n\n2. **Inductive Hypothesis**: You need to clearly state the inductive hypothesis. Assume that for some $ k \\geq 1 $, $ 4 \\mid (5^k - 1) $. This means there exists an integer $ m $ such that $ 5^k - 1 = 4m $.\n\n3. **Inductive Step**: You need to prove that $ 4 \\mid (5^{k+1} - 1) $ using the inductive hypothesis. Instead of calculating specific cases for $ k = 2, 3, \\ldots $, you should show that if $ 4 \\mid (5^k - 1) $, then $ 4 \\mid (5^{k+1} - 1) $. This involves algebraic manipulation using the inductive hypothesis.\n\n4. **Conclusion**: You should conclude that by the principle of mathematical induction, $ 4 \\mid (5^n - 1) $ for all nonnegative integers $ n $.\n\nY…",
         "A_A": "The base case should be when n=0, not n=1. When n=0, we have 5^0 - 1 = 1 - 1 = 0. And since 4 divides 0, the base case is true. Also, you seem to be dividing by 4 in the base case, but that's not necessary; what we need to see is that 5^n - 1 is divisible by 4. Additionally, in the inductive step, you should be starting by assuming 4 divides 5^k - 1. Then you need to use that fact, as well as algebra, to show 4 divides 5^(k+1) - 1.",
         "A_H": "Proof should start with \"proof\" and argument should be introduced with complete sentences",
         "Bytes": 471,
         "Con_1": "No they say different things",
         "Con_1_Comments": "Human has problems with student's formatting. AI doesn't.",
         "Con_2": "No they say different things",
         "Con_2_Comments": "Human has problems with student's formatting. AI doesn't.",
         "Cor": "Correct/mostly correct",
         "Cor_Comments": "nan",
         "DWYD_1": 0,
         "DWYD_2": 0,
         "HasHumanGrade": 1,
         "InstitutionID": 5,
         "InstitutionType": "Masters",
         "M_A": 1,
         "M_H": 1,
         "ProofID": 761,
         "Right_1": 0,
         "Right_2": 0,
         "S_A": 3,
         "S_H": 1,
         "T_A": "Algebra",
         "T_H": "Other",
         "Topic": "induction",
         "_deepnote_index_column": 3
        },
        {
         "A_2": "Your proof is mostly correct, but there are a few issues with notation and clarity that could be improved:\n\n1. **Notation for Even and Odd Integers**: In Case 1, you use $2m$ and $2n$ to denote even integers, but you should use different variables to represent the integers $m$ and $n$. For example, you could write $m = 2a$ and $n = 2b$ for some integers $a$ and $b$. This avoids confusion with the original $m$ and $n$.\n\n2. **Clarity in Case 2**: In Case 2, you correctly express odd integers as $m = 2a + 1$ and $n = 2b + 1$ for some integers $a$ and $b$. However, when you expand the product $(2a + 1)(2b + 1)$, you should clearly state that $mn = 2(2ab + a + b) + 1$ is odd because it is of the form $2k + 1$ for some integer $k$. This makes it clear why the product is odd.\n\n3. **Variable Consistency**: Ensure that you consistently use different variables for the integers in your cases to avoid confusion. For example, in Case 1, you could use $a$ and $b$ instead of $m$ and $n$ to represent…",
         "A_A": "Be careful not to reuse a variable when its meaning has already been established. In particular, in your Case 1, you introduced $m$ and $n$ to be integers with different meanings from the $m$ and $n$ in the statement of the theorem. It would be clearer to use new variables for the arbitrary integers that you use in the definition of even numbers. For example, you could say \"Assume $m$ and $n$ are two even integers such as $2k$ and $2j$ for some integers $k$ and $j$.\"  The same goes for Case 2.",
         "A_H": "You can't use the same variable to mean two different things in a proof.",
         "Bytes": 836,
         "Con_1": "Yes they say the same thing",
         "Con_1_Comments": "nan",
         "Con_2": "Yes they say the same thing",
         "Con_2_Comments": "nan",
         "Cor": "Correct/mostly correct",
         "Cor_Comments": "nan",
         "DWYD_1": 0,
         "DWYD_2": 0,
         "HasHumanGrade": 1,
         "InstitutionID": 5,
         "InstitutionType": "Masters",
         "M_A": 1,
         "M_H": 1,
         "ProofID": 748,
         "Right_1": 0,
         "Right_2": 0,
         "S_A": 5,
         "S_H": 2,
         "T_A": "Grammar/syntax",
         "T_H": "Variables",
         "Topic": "modular arithmetic",
         "_deepnote_index_column": 4
        },
        {
         "A_2": "Your proof contains a few errors and misunderstandings regarding the use of contraposition and the logic involved. Here are some points to consider:\n\n1. **Understanding Contraposition**: The contrapositive of the statement \"If $ a $ does not divide $ bc $, then $ a $ does not divide $ b $\" is \"If $ a $ divides $ b $, then $ a $ divides $ bc $.\" Your proof should aim to demonstrate this contrapositive statement.\n\n2. **Logical Structure**: You start by assuming $ a \\mid b $ and $ a \\mid bc $, which is not the correct assumption for proving the contrapositive. Instead, you should assume $ a \\mid b $ and then show that this implies $ a \\mid bc $.\n\n3. **Algebraic Manipulation**: You correctly express $ a \\mid b $ as $ b = ak $ for some integer $ k $. However, you should use this to show that $ bc = (ak)c = a(kc) $, which directly shows that $ a \\mid bc $.\n\n4. **Conclusion**: Your conclusion should be that if $ a \\mid b $, then indeed $ a \\mid bc $, which is the contrapositive of the origin…",
         "A_A": "You need to assume the *negation* of the conclusion, not the conclusion itself. So, you should start by assuming that a divides b. Also, you should not assume that a divides bc. You need to show that assuming that a divides b leads to a contradiction of some kind.",
         "A_H": "The expression written as a fraction with an \"= \" in the numerator is not correct.",
         "Bytes": 666,
         "Con_1": "No they say different things",
         "Con_1_Comments": "DWYD",
         "Con_2": "No they say different things",
         "Con_2_Comments": "RIGHT",
         "Cor": "Correct/mostly correct",
         "Cor_Comments": "nan",
         "DWYD_1": 1,
         "DWYD_2": 0,
         "HasHumanGrade": 1,
         "InstitutionID": 5,
         "InstitutionType": "Masters",
         "M_A": 1,
         "M_H": 1,
         "ProofID": 751,
         "Right_1": 0,
         "Right_2": 1,
         "S_A": 1,
         "S_H": 4,
         "T_A": "Reframing",
         "T_H": "Grammar/syntax",
         "Topic": "modular arithmetic",
         "_deepnote_index_column": 5
        },
        {
         "A_2": "Your proof has a few issues that need to be addressed:\n\n1. **Incorrect Assumption**: You start by assuming $A \\sim B$ and $B \\sim C$ are integers, which is not correct. The correct assumption should be that $A \\sim B$ and $B \\sim C$, meaning $A - B$ and $B - C$ are integers. The elements $A$, $B$, and $C$ themselves are real numbers, not necessarily integers.\n\n2. **Clarification of Integer Closure**: You mention the closure of integers under addition, but it's not clearly applied. You should explicitly state that since $A - B$ and $B - C$ are integers, their sum $(A - B) + (B - C)$ is also an integer due to the closure property.\n\n3. **Conclusion**: You correctly conclude that $A - C$ is an integer, but you should explicitly state that this implies $A \\sim C$ by the definition of the relation $\\sim$.\n\nOverall, your proof needs to be more precise in its assumptions and logical steps. Make sure to clearly state what is given and how you use properties of integers to reach the conclusion.",
         "A_A": "You should not state that A ~ B and B ~ C are integers, but rather that the *differences* A-B and B-C are integers. Also, note that A, B, and C are real numbers, not integers.",
         "A_H": "Make sure to understand about terminology closely",
         "Bytes": 691,
         "Con_1": "Yes they say the same thing",
         "Con_1_Comments": "nan",
         "Con_2": "Yes they say the same thing",
         "Con_2_Comments": "Plus AI says more as well.",
         "Cor": "Partly correct",
         "Cor_Comments": "First comment correct, other two comments incorrect in different ways.",
         "DWYD_1": 0,
         "DWYD_2": 0,
         "HasHumanGrade": 1,
         "InstitutionID": 1,
         "InstitutionType": "Masters",
         "M_A": 1,
         "M_H": 1,
         "ProofID": 43,
         "Right_1": 0,
         "Right_2": 0,
         "S_A": 1,
         "S_H": 1,
         "T_A": "Grammar/syntax",
         "T_H": "Grammar/syntax",
         "Topic": "relations",
         "_deepnote_index_column": 6
        },
        {
         "A_2": "Your proof is mostly correct, but there is a small mistake in the final expression. Let's go through it:\n\n1. You correctly start by assuming $ n $ is even, so $ n = 2k $ for some integer $ k $.\n\n2. You then consider $ (n+3)^2 = (2k+3)^2 $.\n\n3. You expand this to get $ 4k^2 + 12k + 9 $.\n\n4. You rewrite this as $ 2(2k^2 + 6k + 4) + 1 $.\n\nThe mistake is in the expression $ 2(2k^2 + 6k + 4) + 1 $. The correct expression should be $ 2(2k^2 + 6k + 4) + 1 = 4k^2 + 12k + 8 + 1 $, which simplifies to $ 4k^2 + 12k + 9 $. \n\nYour conclusion that $ (n+3)^2 $ is odd is correct because you have shown it can be expressed in the form $ 2m + 1 $ for some integer $ m $. However, the explanation about the Axiom of Closure is unnecessary here; it's enough to note that $ 2k^2 + 6k + 4 $ is an integer because it is a polynomial with integer coefficients evaluated at an integer $ k $.\n\nOverall, your proof is correct, but the explanation could be slightly more concise, and the reference to the Axiom of Closur…",
         "A_A": "You should not assume the existence of an m such that (n+3)^2 = 2m + 1. Instead, your goal should be to show that such an m exists, after having done the algebra. Start by expanding (n+3)^2, and work from there.",
         "A_H": "Don't declare that (n+3)^2=2m+1 is true until you've proven it.",
         "Bytes": 555,
         "Con_1": "Yes they say the same thing",
         "Con_1_Comments": "nan",
         "Con_2": "No they say different things",
         "Con_2_Comments": "nan",
         "Cor": "Wrong/mostly wrong",
         "Cor_Comments": "WRONG",
         "DWYD_1": 0,
         "DWYD_2": 0,
         "HasHumanGrade": 1,
         "InstitutionID": 2,
         "InstitutionType": "Masters",
         "M_A": 1,
         "M_H": 1,
         "ProofID": 44,
         "Right_1": 0,
         "Right_2": 0,
         "S_A": 3,
         "S_H": 5,
         "T_A": "Reframing",
         "T_H": "Variables",
         "Topic": "modular arithmetic",
         "_deepnote_index_column": 7
        },
        {
         "A_2": "Your proof is mostly correct, but there are a few issues and areas for improvement:\n\n1. **Typographical Error in Inductive Hypothesis:**\n   - In step ii), you wrote the inductive hypothesis as $5 + 10 + 15 + 20 \\ldots + 5k = \\frac{5h(k+1)}{2}$. This should be $\\frac{5k(k+1)}{2}$ instead of $\\frac{5h(k+1)}{2}$. It seems like a typographical error, but it's important to be precise.\n\n2. **Clarity in Inductive Step:**\n   - In step iii), when you transition from $\\frac{5k(k+1)}{2} + 5(k+1)$ to $(k+1)\\left[\\frac{5k}{2} + 5\\right]$, you should explicitly mention that you are factoring out $(k+1)$. While you do mention \"by factoring $(k+1)$,\" it might be clearer to show the intermediate step: $\\frac{5k(k+1)}{2} + \\frac{10(k+1)}{2}$.\n\n3. **Conclusion:**\n   - Your conclusion could be more explicit. After showing that $P(k+1)$ holds, you should clearly state that by the principle of mathematical induction, $P(n)$ is true for all natural numbers $n$.\n\n4. **Base Case Justification:**\n   - Your bas…",
         "A_A": "In the statement of P(k) you wrote \"5 h(k+1)\", but it should be \"5k(k+1)\". Remember to use the correct variable name. Also, the last line of the inductive step is correct, but it should have an equals sign in front of it, to show that it's the next step in the derivation.",
         "A_H": "Be careful with the variables. \"h\" has not been introduced anywhere earlier, and is not needed. I think you meant \"k\".",
         "Bytes": 1295,
         "Con_1": "Yes they say the same thing",
         "Con_1_Comments": "nan",
         "Con_2": "No they say different things",
         "Con_2_Comments": "unstructured wanted more detail",
         "Cor": "Correct/mostly correct",
         "Cor_Comments": "nan",
         "DWYD_1": 0,
         "DWYD_2": 0,
         "HasHumanGrade": 1,
         "InstitutionID": 1,
         "InstitutionType": "Masters",
         "M_A": 1,
         "M_H": 1,
         "ProofID": 10,
         "Right_1": 0,
         "Right_2": 0,
         "S_A": 6,
         "S_H": 4,
         "T_A": "Grammar/syntax",
         "T_H": "Variables",
         "Topic": "induction",
         "_deepnote_index_column": 8
        },
        {
         "A_2": "Your proof contains a logical error in the step where you conclude that either 5 divides 2 or 5 divides $a$. The statement \"if $5 \\mid 2a$, then $5 \\mid a$\" is not generally true for integers $a$. \n\nTo see why, consider a counterexample: let $a = 5$. Then $2a = 10$, and indeed $5 \\mid 10$. However, $5 \\mid 5$ is true, but if you consider $a = 3$, then $2a = 6$, and $5 \\nmid 6$, so the statement is vacuously true. \n\nThe error in your proof arises from the incorrect assumption that if $\\frac{2a}{5}$ is an integer, then either 5 divides 2 or 5 divides $a$. This is not a valid conclusion. The divisibility of $2a$ by 5 does not imply the divisibility of $a$ by 5 unless additional conditions are met (such as $a$ being a multiple of 5). \n\nIn summary, the proposition is false, and the proof incorrectly assumes a conclusion about divisibility that does not follow from the premises.",
         "A_A": "You can't simply divide by 5 to solve for n; that expression doesn't say that 5 divides 2a, it says it's equal to 2a divided by 5. Instead, you could try multiplying both sides by a number that eliminates the 2, then reason about divisibility. Also, you need to say what theorem or fact you're relying on to conclude that either 5 divides 2 or 5 divides a.",
         "A_H": "Always proofread, a fraction needs a fraction bar.",
         "Bytes": 529,
         "Con_1": "No they say different things",
         "Con_1_Comments": "AI is more thorough in the feedback clearly pointing where things are fishy",
         "Con_2": "No they say different things",
         "Con_2_Comments": "RIGHT",
         "Cor": "Correct/mostly correct",
         "Cor_Comments": "nan",
         "DWYD_1": 0,
         "DWYD_2": 0,
         "HasHumanGrade": 1,
         "InstitutionID": 4,
         "InstitutionType": "Four-year",
         "M_A": 1,
         "M_H": 1,
         "ProofID": 676,
         "Right_1": 0,
         "Right_2": 1,
         "S_A": 3,
         "S_H": 3,
         "T_A": "Algebra",
         "T_H": "Grammar/syntax",
         "Topic": "modular arithmetic",
         "_deepnote_index_column": 9
        }
       ],
       "type": "dataframe"
      },
      "text/html": [
       "<div>\n",
       "<style scoped>\n",
       "    .dataframe tbody tr th:only-of-type {\n",
       "        vertical-align: middle;\n",
       "    }\n",
       "\n",
       "    .dataframe tbody tr th {\n",
       "        vertical-align: top;\n",
       "    }\n",
       "\n",
       "    .dataframe thead th {\n",
       "        text-align: right;\n",
       "    }\n",
       "</style>\n",
       "<table border=\"1\" class=\"dataframe\">\n",
       "  <thead>\n",
       "    <tr style=\"text-align: right;\">\n",
       "      <th></th>\n",
       "      <th>ProofID</th>\n",
       "      <th>InstitutionID</th>\n",
       "      <th>InstitutionType</th>\n",
       "      <th>Topic</th>\n",
       "      <th>Bytes</th>\n",
       "      <th>HasHumanGrade</th>\n",
       "      <th>M_H</th>\n",
       "      <th>M_A</th>\n",
       "      <th>T_H</th>\n",
       "      <th>T_A</th>\n",
       "      <th>...</th>\n",
       "      <th>Con_1</th>\n",
       "      <th>Con_1_Comments</th>\n",
       "      <th>Con_2</th>\n",
       "      <th>Con_2_Comments</th>\n",
       "      <th>Cor</th>\n",
       "      <th>Cor_Comments</th>\n",
       "      <th>DWYD_1</th>\n",
       "      <th>DWYD_2</th>\n",
       "      <th>Right_1</th>\n",
       "      <th>Right_2</th>\n",
       "    </tr>\n",
       "  </thead>\n",
       "  <tbody>\n",
       "    <tr>\n",
       "      <th>0</th>\n",
       "      <td>753</td>\n",
       "      <td>5</td>\n",
       "      <td>Masters</td>\n",
       "      <td>real numbers</td>\n",
       "      <td>759</td>\n",
       "      <td>1</td>\n",
       "      <td>1</td>\n",
       "      <td>1</td>\n",
       "      <td>Algebra</td>\n",
       "      <td>Grammar/syntax</td>\n",
       "      <td>...</td>\n",
       "      <td>No they say different things</td>\n",
       "      <td>DWYD (erroneous) but also found same mistake a...</td>\n",
       "      <td>Yes they say the same thing</td>\n",
       "      <td>AI also said more</td>\n",
       "      <td>Correct/mostly correct</td>\n",
       "      <td>AI also found some subtle imperfections after ...</td>\n",
       "      <td>1</td>\n",
       "      <td>0</td>\n",
       "      <td>0</td>\n",
       "      <td>0</td>\n",
       "    </tr>\n",
       "    <tr>\n",
       "      <th>1</th>\n",
       "      <td>29</td>\n",
       "      <td>1</td>\n",
       "      <td>Masters</td>\n",
       "      <td>induction</td>\n",
       "      <td>1031</td>\n",
       "      <td>1</td>\n",
       "      <td>1</td>\n",
       "      <td>1</td>\n",
       "      <td>Missing</td>\n",
       "      <td>Justification</td>\n",
       "      <td>...</td>\n",
       "      <td>Yes they say the same thing</td>\n",
       "      <td>NaN</td>\n",
       "      <td>Yes they say the same thing</td>\n",
       "      <td>NaN</td>\n",
       "      <td>Correct/mostly correct</td>\n",
       "      <td>NaN</td>\n",
       "      <td>0</td>\n",
       "      <td>0</td>\n",
       "      <td>0</td>\n",
       "      <td>0</td>\n",
       "    </tr>\n",
       "    <tr>\n",
       "      <th>2</th>\n",
       "      <td>756</td>\n",
       "      <td>5</td>\n",
       "      <td>Masters</td>\n",
       "      <td>modular arithmetic</td>\n",
       "      <td>519</td>\n",
       "      <td>1</td>\n",
       "      <td>1</td>\n",
       "      <td>1</td>\n",
       "      <td>Grammar/syntax</td>\n",
       "      <td>Reframing</td>\n",
       "      <td>...</td>\n",
       "      <td>No they say different things</td>\n",
       "      <td>RIGHT</td>\n",
       "      <td>No they say different things</td>\n",
       "      <td>Human did not catch the first mistake.  AI did.</td>\n",
       "      <td>Correct/mostly correct</td>\n",
       "      <td>NaN</td>\n",
       "      <td>0</td>\n",
       "      <td>0</td>\n",
       "      <td>1</td>\n",
       "      <td>1</td>\n",
       "    </tr>\n",
       "    <tr>\n",
       "      <th>3</th>\n",
       "      <td>761</td>\n",
       "      <td>5</td>\n",
       "      <td>Masters</td>\n",
       "      <td>induction</td>\n",
       "      <td>471</td>\n",
       "      <td>1</td>\n",
       "      <td>1</td>\n",
       "      <td>1</td>\n",
       "      <td>Other</td>\n",
       "      <td>Algebra</td>\n",
       "      <td>...</td>\n",
       "      <td>No they say different things</td>\n",
       "      <td>Human has problems with student's formatting. ...</td>\n",
       "      <td>No they say different things</td>\n",
       "      <td>Human has problems with student's formatting. ...</td>\n",
       "      <td>Correct/mostly correct</td>\n",
       "      <td>NaN</td>\n",
       "      <td>0</td>\n",
       "      <td>0</td>\n",
       "      <td>0</td>\n",
       "      <td>0</td>\n",
       "    </tr>\n",
       "    <tr>\n",
       "      <th>4</th>\n",
       "      <td>748</td>\n",
       "      <td>5</td>\n",
       "      <td>Masters</td>\n",
       "      <td>modular arithmetic</td>\n",
       "      <td>836</td>\n",
       "      <td>1</td>\n",
       "      <td>1</td>\n",
       "      <td>1</td>\n",
       "      <td>Variables</td>\n",
       "      <td>Grammar/syntax</td>\n",
       "      <td>...</td>\n",
       "      <td>Yes they say the same thing</td>\n",
       "      <td>NaN</td>\n",
       "      <td>Yes they say the same thing</td>\n",
       "      <td>NaN</td>\n",
       "      <td>Correct/mostly correct</td>\n",
       "      <td>NaN</td>\n",
       "      <td>0</td>\n",
       "      <td>0</td>\n",
       "      <td>0</td>\n",
       "      <td>0</td>\n",
       "    </tr>\n",
       "    <tr>\n",
       "      <th>...</th>\n",
       "      <td>...</td>\n",
       "      <td>...</td>\n",
       "      <td>...</td>\n",
       "      <td>...</td>\n",
       "      <td>...</td>\n",
       "      <td>...</td>\n",
       "      <td>...</td>\n",
       "      <td>...</td>\n",
       "      <td>...</td>\n",
       "      <td>...</td>\n",
       "      <td>...</td>\n",
       "      <td>...</td>\n",
       "      <td>...</td>\n",
       "      <td>...</td>\n",
       "      <td>...</td>\n",
       "      <td>...</td>\n",
       "      <td>...</td>\n",
       "      <td>...</td>\n",
       "      <td>...</td>\n",
       "      <td>...</td>\n",
       "      <td>...</td>\n",
       "    </tr>\n",
       "    <tr>\n",
       "      <th>776</th>\n",
       "      <td>779</td>\n",
       "      <td>5</td>\n",
       "      <td>Masters</td>\n",
       "      <td>induction</td>\n",
       "      <td>979</td>\n",
       "      <td>0</td>\n",
       "      <td>0</td>\n",
       "      <td>1</td>\n",
       "      <td>NaN</td>\n",
       "      <td>Argument</td>\n",
       "      <td>...</td>\n",
       "      <td>NaN</td>\n",
       "      <td>NaN</td>\n",
       "      <td>NaN</td>\n",
       "      <td>NaN</td>\n",
       "      <td>NaN</td>\n",
       "      <td>NaN</td>\n",
       "      <td>0</td>\n",
       "      <td>0</td>\n",
       "      <td>0</td>\n",
       "      <td>0</td>\n",
       "    </tr>\n",
       "    <tr>\n",
       "      <th>777</th>\n",
       "      <td>780</td>\n",
       "      <td>5</td>\n",
       "      <td>Masters</td>\n",
       "      <td>induction</td>\n",
       "      <td>483</td>\n",
       "      <td>0</td>\n",
       "      <td>0</td>\n",
       "      <td>1</td>\n",
       "      <td>NaN</td>\n",
       "      <td>Structure</td>\n",
       "      <td>...</td>\n",
       "      <td>NaN</td>\n",
       "      <td>NaN</td>\n",
       "      <td>NaN</td>\n",
       "      <td>NaN</td>\n",
       "      <td>NaN</td>\n",
       "      <td>NaN</td>\n",
       "      <td>0</td>\n",
       "      <td>0</td>\n",
       "      <td>0</td>\n",
       "      <td>0</td>\n",
       "    </tr>\n",
       "    <tr>\n",
       "      <th>778</th>\n",
       "      <td>781</td>\n",
       "      <td>5</td>\n",
       "      <td>Masters</td>\n",
       "      <td>induction</td>\n",
       "      <td>316</td>\n",
       "      <td>0</td>\n",
       "      <td>0</td>\n",
       "      <td>1</td>\n",
       "      <td>NaN</td>\n",
       "      <td>Argument</td>\n",
       "      <td>...</td>\n",
       "      <td>NaN</td>\n",
       "      <td>NaN</td>\n",
       "      <td>NaN</td>\n",
       "      <td>NaN</td>\n",
       "      <td>NaN</td>\n",
       "      <td>NaN</td>\n",
       "      <td>0</td>\n",
       "      <td>0</td>\n",
       "      <td>0</td>\n",
       "      <td>0</td>\n",
       "    </tr>\n",
       "    <tr>\n",
       "      <th>779</th>\n",
       "      <td>782</td>\n",
       "      <td>5</td>\n",
       "      <td>Masters</td>\n",
       "      <td>induction</td>\n",
       "      <td>662</td>\n",
       "      <td>0</td>\n",
       "      <td>0</td>\n",
       "      <td>1</td>\n",
       "      <td>NaN</td>\n",
       "      <td>Algebra</td>\n",
       "      <td>...</td>\n",
       "      <td>NaN</td>\n",
       "      <td>NaN</td>\n",
       "      <td>NaN</td>\n",
       "      <td>NaN</td>\n",
       "      <td>NaN</td>\n",
       "      <td>NaN</td>\n",
       "      <td>0</td>\n",
       "      <td>0</td>\n",
       "      <td>0</td>\n",
       "      <td>0</td>\n",
       "    </tr>\n",
       "    <tr>\n",
       "      <th>780</th>\n",
       "      <td>783</td>\n",
       "      <td>5</td>\n",
       "      <td>Masters</td>\n",
       "      <td>induction</td>\n",
       "      <td>439</td>\n",
       "      <td>0</td>\n",
       "      <td>0</td>\n",
       "      <td>1</td>\n",
       "      <td>NaN</td>\n",
       "      <td>Justification</td>\n",
       "      <td>...</td>\n",
       "      <td>NaN</td>\n",
       "      <td>NaN</td>\n",
       "      <td>NaN</td>\n",
       "      <td>NaN</td>\n",
       "      <td>NaN</td>\n",
       "      <td>NaN</td>\n",
       "      <td>0</td>\n",
       "      <td>0</td>\n",
       "      <td>0</td>\n",
       "      <td>0</td>\n",
       "    </tr>\n",
       "  </tbody>\n",
       "</table>\n",
       "<p>781 rows × 25 columns</p>\n",
       "</div>"
      ],
      "text/plain": [
       "     ProofID  InstitutionID InstitutionType               Topic  Bytes  \\\n",
       "0        753              5         Masters        real numbers    759   \n",
       "1         29              1         Masters           induction   1031   \n",
       "2        756              5         Masters  modular arithmetic    519   \n",
       "3        761              5         Masters           induction    471   \n",
       "4        748              5         Masters  modular arithmetic    836   \n",
       "..       ...            ...             ...                 ...    ...   \n",
       "776      779              5         Masters           induction    979   \n",
       "777      780              5         Masters           induction    483   \n",
       "778      781              5         Masters           induction    316   \n",
       "779      782              5         Masters           induction    662   \n",
       "780      783              5         Masters           induction    439   \n",
       "\n",
       "     HasHumanGrade  M_H  M_A             T_H             T_A  ...  \\\n",
       "0                1    1    1         Algebra  Grammar/syntax  ...   \n",
       "1                1    1    1         Missing   Justification  ...   \n",
       "2                1    1    1  Grammar/syntax       Reframing  ...   \n",
       "3                1    1    1           Other         Algebra  ...   \n",
       "4                1    1    1       Variables  Grammar/syntax  ...   \n",
       "..             ...  ...  ...             ...             ...  ...   \n",
       "776              0    0    1             NaN        Argument  ...   \n",
       "777              0    0    1             NaN       Structure  ...   \n",
       "778              0    0    1             NaN        Argument  ...   \n",
       "779              0    0    1             NaN         Algebra  ...   \n",
       "780              0    0    1             NaN   Justification  ...   \n",
       "\n",
       "                            Con_1  \\\n",
       "0    No they say different things   \n",
       "1     Yes they say the same thing   \n",
       "2    No they say different things   \n",
       "3    No they say different things   \n",
       "4     Yes they say the same thing   \n",
       "..                            ...   \n",
       "776                           NaN   \n",
       "777                           NaN   \n",
       "778                           NaN   \n",
       "779                           NaN   \n",
       "780                           NaN   \n",
       "\n",
       "                                        Con_1_Comments  \\\n",
       "0    DWYD (erroneous) but also found same mistake a...   \n",
       "1                                                  NaN   \n",
       "2                                                RIGHT   \n",
       "3    Human has problems with student's formatting. ...   \n",
       "4                                                  NaN   \n",
       "..                                                 ...   \n",
       "776                                                NaN   \n",
       "777                                                NaN   \n",
       "778                                                NaN   \n",
       "779                                                NaN   \n",
       "780                                                NaN   \n",
       "\n",
       "                            Con_2  \\\n",
       "0     Yes they say the same thing   \n",
       "1     Yes they say the same thing   \n",
       "2    No they say different things   \n",
       "3    No they say different things   \n",
       "4     Yes they say the same thing   \n",
       "..                            ...   \n",
       "776                           NaN   \n",
       "777                           NaN   \n",
       "778                           NaN   \n",
       "779                           NaN   \n",
       "780                           NaN   \n",
       "\n",
       "                                        Con_2_Comments  \\\n",
       "0                                    AI also said more   \n",
       "1                                                  NaN   \n",
       "2      Human did not catch the first mistake.  AI did.   \n",
       "3    Human has problems with student's formatting. ...   \n",
       "4                                                  NaN   \n",
       "..                                                 ...   \n",
       "776                                                NaN   \n",
       "777                                                NaN   \n",
       "778                                                NaN   \n",
       "779                                                NaN   \n",
       "780                                                NaN   \n",
       "\n",
       "                        Cor  \\\n",
       "0    Correct/mostly correct   \n",
       "1    Correct/mostly correct   \n",
       "2    Correct/mostly correct   \n",
       "3    Correct/mostly correct   \n",
       "4    Correct/mostly correct   \n",
       "..                      ...   \n",
       "776                     NaN   \n",
       "777                     NaN   \n",
       "778                     NaN   \n",
       "779                     NaN   \n",
       "780                     NaN   \n",
       "\n",
       "                                          Cor_Comments DWYD_1 DWYD_2 Right_1  \\\n",
       "0    AI also found some subtle imperfections after ...      1      0       0   \n",
       "1                                                  NaN      0      0       0   \n",
       "2                                                  NaN      0      0       1   \n",
       "3                                                  NaN      0      0       0   \n",
       "4                                                  NaN      0      0       0   \n",
       "..                                                 ...    ...    ...     ...   \n",
       "776                                                NaN      0      0       0   \n",
       "777                                                NaN      0      0       0   \n",
       "778                                                NaN      0      0       0   \n",
       "779                                                NaN      0      0       0   \n",
       "780                                                NaN      0      0       0   \n",
       "\n",
       "    Right_2  \n",
       "0         0  \n",
       "1         0  \n",
       "2         1  \n",
       "3         0  \n",
       "4         0  \n",
       "..      ...  \n",
       "776       0  \n",
       "777       0  \n",
       "778       0  \n",
       "779       0  \n",
       "780       0  \n",
       "\n",
       "[781 rows x 25 columns]"
      ]
     },
     "execution_count": 2,
     "metadata": {},
     "output_type": "execute_result"
    }
   ],
   "source": [
    "# ------------------------------------------------------------------------------\n",
    "# 0) Import and clean\n",
    "# ------------------------------------------------------------------------------\n",
    "\n",
    "# Dataframe\n",
    "proof_dat = pd.read_csv(\"data-table.csv\")\n",
    "\n",
    "# Preview\n",
    "proof_dat"
   ]
  },
  {
   "cell_type": "code",
   "execution_count": 3,
   "metadata": {
    "cell_id": "905d594152ef43f0bfe2957df30e81d1",
    "deepnote_cell_type": "code",
    "execution_context_id": "3e5c51cf-c3c5-4dc9-b492-f691f1887d86",
    "execution_millis": 66,
    "execution_start": 1756498186818,
    "source_hash": "701f600f"
   },
   "outputs": [
    {
     "data": {
      "application/vnd.deepnote.dataframe.v3+json": {
       "column_count": 25,
       "columns": [
        {
         "dtype": "int64",
         "name": "ProofID",
         "stats": {
          "categories": null,
          "histogram": [
           {
            "bin_end": 79.3,
            "bin_start": 1,
            "count": 79
           },
           {
            "bin_end": 157.6,
            "bin_start": 79.3,
            "count": 77
           },
           {
            "bin_end": 235.89999999999998,
            "bin_start": 157.6,
            "count": 78
           },
           {
            "bin_end": 314.2,
            "bin_start": 235.89999999999998,
            "count": 79
           },
           {
            "bin_end": 392.5,
            "bin_start": 314.2,
            "count": 78
           },
           {
            "bin_end": 470.79999999999995,
            "bin_start": 392.5,
            "count": 77
           },
           {
            "bin_end": 549.1,
            "bin_start": 470.79999999999995,
            "count": 79
           },
           {
            "bin_end": 627.4,
            "bin_start": 549.1,
            "count": 78
           },
           {
            "bin_end": 705.6999999999999,
            "bin_start": 627.4,
            "count": 77
           },
           {
            "bin_end": 784,
            "bin_start": 705.6999999999999,
            "count": 79
           }
          ],
          "max": "784",
          "min": "1",
          "nan_count": 0,
          "unique_count": 781
         }
        },
        {
         "dtype": "int64",
         "name": "InstitutionID",
         "stats": {
          "categories": null,
          "histogram": [
           {
            "bin_end": 1.4,
            "bin_start": 1,
            "count": 43
           },
           {
            "bin_end": 1.8,
            "bin_start": 1.4,
            "count": 0
           },
           {
            "bin_end": 2.2,
            "bin_start": 1.8,
            "count": 60
           },
           {
            "bin_end": 2.6,
            "bin_start": 2.2,
            "count": 0
           },
           {
            "bin_end": 3,
            "bin_start": 2.6,
            "count": 0
           },
           {
            "bin_end": 3.4000000000000004,
            "bin_start": 3,
            "count": 527
           },
           {
            "bin_end": 3.8000000000000003,
            "bin_start": 3.4000000000000004,
            "count": 0
           },
           {
            "bin_end": 4.2,
            "bin_start": 3.8000000000000003,
            "count": 105
           },
           {
            "bin_end": 4.6,
            "bin_start": 4.2,
            "count": 0
           },
           {
            "bin_end": 5,
            "bin_start": 4.6,
            "count": 46
           }
          ],
          "max": "5",
          "min": "1",
          "nan_count": 0,
          "unique_count": 5
         }
        },
        {
         "dtype": "category",
         "name": "InstitutionType",
         "stats": {
          "categories": [
           {
            "count": 527,
            "name": "Doctoral"
           },
           {
            "count": 149,
            "name": "Masters"
           },
           {
            "count": 105,
            "name": "Four-year"
           }
          ],
          "histogram": null,
          "max": null,
          "min": null,
          "nan_count": 0,
          "unique_count": 3
         }
        },
        {
         "dtype": "category",
         "name": "Topic",
         "stats": {
          "categories": [
           {
            "count": 344,
            "name": "linear algebra"
           },
           {
            "count": 190,
            "name": "modular arithmetic"
           },
           {
            "count": 247,
            "name": "9 others"
           }
          ],
          "histogram": null,
          "max": null,
          "min": null,
          "nan_count": 0,
          "unique_count": 11
         }
        },
        {
         "dtype": "int64",
         "name": "Bytes",
         "stats": {
          "categories": null,
          "histogram": [
           {
            "bin_end": 576,
            "bin_start": 175,
            "count": 199
           },
           {
            "bin_end": 977,
            "bin_start": 576,
            "count": 305
           },
           {
            "bin_end": 1378,
            "bin_start": 977,
            "count": 182
           },
           {
            "bin_end": 1779,
            "bin_start": 1378,
            "count": 55
           },
           {
            "bin_end": 2180,
            "bin_start": 1779,
            "count": 26
           },
           {
            "bin_end": 2581,
            "bin_start": 2180,
            "count": 7
           },
           {
            "bin_end": 2982,
            "bin_start": 2581,
            "count": 5
           },
           {
            "bin_end": 3383,
            "bin_start": 2982,
            "count": 1
           },
           {
            "bin_end": 3784,
            "bin_start": 3383,
            "count": 0
           },
           {
            "bin_end": 4185,
            "bin_start": 3784,
            "count": 1
           }
          ],
          "max": "4185",
          "min": "175",
          "nan_count": 0,
          "unique_count": 593
         }
        },
        {
         "dtype": "bool",
         "name": "HasHumanGrade",
         "stats": {
          "categories": [
           {
            "count": 568,
            "name": "False"
           },
           {
            "count": 213,
            "name": "True"
           }
          ],
          "histogram": null,
          "max": null,
          "min": null,
          "nan_count": 0,
          "unique_count": 2
         }
        },
        {
         "dtype": "bool",
         "name": "M_H",
         "stats": {
          "categories": [
           {
            "count": 647,
            "name": "False"
           },
           {
            "count": 134,
            "name": "True"
           }
          ],
          "histogram": null,
          "max": null,
          "min": null,
          "nan_count": 0,
          "unique_count": 2
         }
        },
        {
         "dtype": "bool",
         "name": "M_A",
         "stats": {
          "categories": [
           {
            "count": 751,
            "name": "True"
           },
           {
            "count": 30,
            "name": "False"
           }
          ],
          "histogram": null,
          "max": null,
          "min": null,
          "nan_count": 0,
          "unique_count": 2
         }
        },
        {
         "dtype": "category",
         "name": "T_H",
         "stats": {
          "categories": [
           {
            "count": 79,
            "name": "No mistakes"
           },
           {
            "count": 134,
            "name": "9 others"
           },
           {
            "count": 568,
            "name": "Missing"
           }
          ],
          "histogram": null,
          "max": null,
          "min": null,
          "nan_count": 568,
          "unique_count": 10
         }
        },
        {
         "dtype": "category",
         "name": "T_A",
         "stats": {
          "categories": [
           {
            "count": 240,
            "name": "Grammar/syntax"
           },
           {
            "count": 200,
            "name": "Justification"
           },
           {
            "count": 341,
            "name": "7 others"
           }
          ],
          "histogram": null,
          "max": null,
          "min": null,
          "nan_count": 0,
          "unique_count": 9
         }
        },
        {
         "dtype": "float64",
         "name": "S_H",
         "stats": {
          "categories": null,
          "histogram": [
           {
            "bin_end": 3.8,
            "bin_start": 1,
            "count": 76
           },
           {
            "bin_end": 6.6,
            "bin_start": 3.8,
            "count": 38
           },
           {
            "bin_end": 9.399999999999999,
            "bin_start": 6.6,
            "count": 12
           },
           {
            "bin_end": 12.2,
            "bin_start": 9.399999999999999,
            "count": 4
           },
           {
            "bin_end": 15,
            "bin_start": 12.2,
            "count": 3
           },
           {
            "bin_end": 17.799999999999997,
            "bin_start": 15,
            "count": 0
           },
           {
            "bin_end": 20.599999999999998,
            "bin_start": 17.799999999999997,
            "count": 0
           },
           {
            "bin_end": 23.4,
            "bin_start": 20.599999999999998,
            "count": 0
           },
           {
            "bin_end": 26.2,
            "bin_start": 23.4,
            "count": 0
           },
           {
            "bin_end": 29,
            "bin_start": 26.2,
            "count": 1
           }
          ],
          "max": "29.0",
          "min": "1.0",
          "nan_count": 647,
          "unique_count": 13
         }
        },
        {
         "dtype": "float64",
         "name": "S_A",
         "stats": {
          "categories": null,
          "histogram": [
           {
            "bin_end": 2.7,
            "bin_start": 1,
            "count": 315
           },
           {
            "bin_end": 4.4,
            "bin_start": 2.7,
            "count": 266
           },
           {
            "bin_end": 6.1,
            "bin_start": 4.4,
            "count": 93
           },
           {
            "bin_end": 7.8,
            "bin_start": 6.1,
            "count": 23
           },
           {
            "bin_end": 9.5,
            "bin_start": 7.8,
            "count": 15
           },
           {
            "bin_end": 11.2,
            "bin_start": 9.5,
            "count": 21
           },
           {
            "bin_end": 12.9,
            "bin_start": 11.2,
            "count": 3
           },
           {
            "bin_end": 14.6,
            "bin_start": 12.9,
            "count": 7
           },
           {
            "bin_end": 16.299999999999997,
            "bin_start": 14.6,
            "count": 4
           },
           {
            "bin_end": 18,
            "bin_start": 16.299999999999997,
            "count": 4
           }
          ],
          "max": "18.0",
          "min": "1.0",
          "nan_count": 30,
          "unique_count": 18
         }
        },
        {
         "dtype": "object",
         "name": "A_H",
         "stats": {
          "categories": [
           {
            "count": 2,
            "name": "Define all variables"
           },
           {
            "count": 132,
            "name": "132 others"
           },
           {
            "count": 647,
            "name": "Missing"
           }
          ],
          "histogram": null,
          "max": null,
          "min": null,
          "nan_count": 647,
          "unique_count": 133
         }
        },
        {
         "dtype": "object",
         "name": "A_A",
         "stats": {
          "categories": [
           {
            "count": 1,
            "name": "When you write that $x$ can be written as $\\frac{a}{b}$ and $x+y$ can be written as $\\frac{c}{d}$, the reader might be confused about whether these fractions are supposed to be related. For clarity, you should use different variables in the two fractions. For example, you might write that $x = \\frac{a}{b}$ and $x+y=\\frac{c}{d}$. Also, when you write $y=(x+c)-x$, you probably meant to write $y=(x+y)-x$. I recommend carefully proofreading to make sure your equations are correct."
           },
           {
            "count": 750,
            "name": "750 others"
           },
           {
            "count": 30,
            "name": "Missing"
           }
          ],
          "histogram": null,
          "max": null,
          "min": null,
          "nan_count": 30,
          "unique_count": 751
         }
        },
        {
         "dtype": "object",
         "name": "A_2",
         "stats": {
          "categories": [
           {
            "count": 1,
            "name": "Your proof is mostly correct, but there are a few issues with clarity and notation that could be improved for better understanding:\n\n1. **Notation and Clarity**: When you write $y = (x+c) - x$, it seems like a typographical error. You should write $y = (x+y) - x$ to maintain consistency with your earlier statements.\n\n2. **Rational Representation**: You correctly represent $x$ and $x+y$ as rational numbers, but you should explicitly state that $x = \\frac{a}{b}$ and $x+y = \\frac{c}{d}$, where $a, b, c, d$ are integers and $b, d \\neq 0$. This makes it clear that you are using the definition of rational numbers.\n\n3. **Simplification Step**: When you simplify $y = \\frac{c}{d} - \\frac{a}{b}$ to $y = \\frac{cb - ad}{db}$, it would be helpful to explicitly state that this is a rational number because both the numerator and the denominator are integers, and the denominator is non-zero.\n\n4. **Conclusion**: Your conclusion is correct, but it could be more clearly stated. You should emphasize that the contradiction arises because you assumed $y$ was irrational, but derived that $y$ is rational, which contradicts the initial assumption.\n\nOverall, your proof is logically sound, but improving clarity and notation will make it easier for others to follow your reasoning."
           },
           {
            "count": 1,
            "name": "Your proof is mostly correct, but there are a few issues and areas for improvement:\n\n1. **Base Case**: You correctly verified the base case for $ n = 1 $. However, it's good practice to explicitly state that the base case is true, which you did, but it could be clearer. You might want to explicitly state that both sides of the equation are equal, confirming $ P(1) $.\n\n2. **Inductive Step**: You correctly assumed $ P(k) $ is true and aimed to prove $ P(k+1) $. However, there are some issues in the algebraic manipulation:\n\n   - When you wrote $ 5+10+15+20+\\ldots+5k+5(k+1) = \\frac{5(k+1)((k+1)+1)}{2} $, you should have started with the assumption $ 5+10+15+20+\\ldots+5k = \\frac{5k(k+1)}{2} $ and then added $ 5(k+1) $ to both sides.\n\n   - The step where you wrote $ = \\frac{5k(k+1)}{2} + 5k + 5 $ should be $ = \\frac{5k(k+1)}{2} + 5(k+1) $.\n\n   - The transition from $ \\frac{5k(k+1)}{2} + \\frac{10k+10}{2} $ to $ \\frac{5k^2 + 15k + 10}{2} $ is correct, but you should clarify that you combined the terms over a common denominator.\n\n3. **Factoring and Simplification**: Your factoring step $ \\frac{(5k+5)(k+2)}{2} $ is correct, but you should clarify how you arrived at this factorization. The final step to show it equals $ \\frac{5(k+1)((k+1)+1)}{2} $ is correct, but it would be clearer if you explicitly showed how the terms match.\n\n4. **Conclusion**: Your conclusion is mostly correct, but it would be clearer if you explicitly stated that by the principle of mathematical induction, the statement holds for all natural numbers $ n $.\n\nOverall, your proof is on the right track, but it would benefit from clearer explanations of the algebraic steps and a more explicit conclusion."
           },
           {
            "count": 779,
            "name": "779 others"
           }
          ],
          "histogram": null,
          "max": null,
          "min": null,
          "nan_count": 0,
          "unique_count": 781
         }
        },
        {
         "dtype": "category",
         "name": "Con_1",
         "stats": {
          "categories": [
           {
            "count": 134,
            "name": "No they say different things"
           },
           {
            "count": 79,
            "name": "Yes they say the same thing"
           },
           {
            "count": 568,
            "name": "Missing"
           }
          ],
          "histogram": null,
          "max": null,
          "min": null,
          "nan_count": 568,
          "unique_count": 2
         }
        },
        {
         "dtype": "object",
         "name": "Con_1_Comments",
         "stats": {
          "categories": [
           {
            "count": 16,
            "name": "STYLE"
           },
           {
            "count": 123,
            "name": "91 others"
           },
           {
            "count": 642,
            "name": "Missing"
           }
          ],
          "histogram": null,
          "max": null,
          "min": null,
          "nan_count": 642,
          "unique_count": 92
         }
        },
        {
         "dtype": "category",
         "name": "Con_2",
         "stats": {
          "categories": [
           {
            "count": 112,
            "name": "Yes they say the same thing"
           },
           {
            "count": 101,
            "name": "No they say different things"
           },
           {
            "count": 568,
            "name": "Missing"
           }
          ],
          "histogram": null,
          "max": null,
          "min": null,
          "nan_count": 568,
          "unique_count": 2
         }
        },
        {
         "dtype": "object",
         "name": "Con_2_Comments",
         "stats": {
          "categories": [
           {
            "count": 21,
            "name": "Plus AI also said a lot more"
           },
           {
            "count": 122,
            "name": "90 others"
           },
           {
            "count": 638,
            "name": "Missing"
           }
          ],
          "histogram": null,
          "max": null,
          "min": null,
          "nan_count": 638,
          "unique_count": 91
         }
        },
        {
         "dtype": "category",
         "name": "Cor",
         "stats": {
          "categories": [
           {
            "count": 167,
            "name": "Correct/mostly correct"
           },
           {
            "count": 46,
            "name": "2 others"
           },
           {
            "count": 568,
            "name": "Missing"
           }
          ],
          "histogram": null,
          "max": null,
          "min": null,
          "nan_count": 568,
          "unique_count": 3
         }
        },
        {
         "dtype": "object",
         "name": "Cor_Comments",
         "stats": {
          "categories": [
           {
            "count": 7,
            "name": "STYLE"
           },
           {
            "count": 57,
            "name": "51 others"
           },
           {
            "count": 717,
            "name": "Missing"
           }
          ],
          "histogram": null,
          "max": null,
          "min": null,
          "nan_count": 717,
          "unique_count": 52
         }
        },
        {
         "dtype": "bool",
         "name": "DWYD_1",
         "stats": {
          "categories": [
           {
            "count": 768,
            "name": "False"
           },
           {
            "count": 13,
            "name": "True"
           }
          ],
          "histogram": null,
          "max": null,
          "min": null,
          "nan_count": 0,
          "unique_count": 2
         }
        },
        {
         "dtype": "bool",
         "name": "DWYD_2",
         "stats": {
          "categories": [
           {
            "count": 766,
            "name": "False"
           },
           {
            "count": 15,
            "name": "True"
           }
          ],
          "histogram": null,
          "max": null,
          "min": null,
          "nan_count": 0,
          "unique_count": 2
         }
        },
        {
         "dtype": "bool",
         "name": "Right_1",
         "stats": {
          "categories": [
           {
            "count": 770,
            "name": "False"
           },
           {
            "count": 11,
            "name": "True"
           }
          ],
          "histogram": null,
          "max": null,
          "min": null,
          "nan_count": 0,
          "unique_count": 2
         }
        },
        {
         "dtype": "bool",
         "name": "Right_2",
         "stats": {
          "categories": [
           {
            "count": 762,
            "name": "False"
           },
           {
            "count": 19,
            "name": "True"
           }
          ],
          "histogram": null,
          "max": null,
          "min": null,
          "nan_count": 0,
          "unique_count": 2
         }
        },
        {
         "dtype": "int64",
         "name": "_deepnote_index_column"
        }
       ],
       "preview_row_count": 781,
       "row_count": 781,
       "rows": [
        {
         "A_2": "Your proof is mostly correct, but there are a few issues with clarity and notation that could be improved for better understanding:\n\n1. **Notation and Clarity**: When you write $y = (x+c) - x$, it seems like a typographical error. You should write $y = (x+y) - x$ to maintain consistency with your earlier statements.\n\n2. **Rational Representation**: You correctly represent $x$ and $x+y$ as rational numbers, but you should explicitly state that $x = \\frac{a}{b}$ and $x+y = \\frac{c}{d}$, where $a, b, c, d$ are integers and $b, d \\neq 0$. This makes it clear that you are using the definition of rational numbers.\n\n3. **Simplification Step**: When you simplify $y = \\frac{c}{d} - \\frac{a}{b}$ to $y = \\frac{cb - ad}{db}$, it would be helpful to explicitly state that this is a rational number because both the numerator and the denominator are integers, and the denominator is non-zero.\n\n4. **Conclusion**: Your conclusion is correct, but it could be more clearly stated. You should emphasize that…",
         "A_A": "When you write that $x$ can be written as $\\frac{a}{b}$ and $x+y$ can be written as $\\frac{c}{d}$, the reader might be confused about whether these fractions are supposed to be related. For clarity, you should use different variables in the two fractions. For example, you might write that $x = \\frac{a}{b}$ and $x+y=\\frac{c}{d}$. Also, when you write $y=(x+c)-x$, you probably meant to write $y=(x+y)-x$. I recommend carefully proofreading to make sure your equations are correct.",
         "A_H": "Then y will just be c. Did you mean to say (x+y)-x?",
         "Bytes": 759,
         "Con_1": "No they say different things",
         "Con_1_Comments": "DWYD (erroneous) but also found same mistake as human",
         "Con_2": "Yes they say the same thing",
         "Con_2_Comments": "AI also said more",
         "Cor": "Correct/mostly correct",
         "Cor_Comments": "AI also found some subtle imperfections after the first mistake the human wrote",
         "DWYD_1": "True",
         "DWYD_2": "False",
         "HasHumanGrade": "True",
         "InstitutionID": 5,
         "InstitutionType": "Masters",
         "M_A": "True",
         "M_H": "True",
         "ProofID": 753,
         "Right_1": "False",
         "Right_2": "False",
         "S_A": 4,
         "S_H": 4,
         "T_A": "Grammar/syntax",
         "T_H": "Algebra",
         "Topic": "real numbers",
         "_deepnote_index_column": 0
        },
        {
         "A_2": "Your proof is mostly correct, but there are a few issues and areas for improvement:\n\n1. **Base Case**: You correctly verified the base case for $ n = 1 $. However, it's good practice to explicitly state that the base case is true, which you did, but it could be clearer. You might want to explicitly state that both sides of the equation are equal, confirming $ P(1) $.\n\n2. **Inductive Step**: You correctly assumed $ P(k) $ is true and aimed to prove $ P(k+1) $. However, there are some issues in the algebraic manipulation:\n\n   - When you wrote $ 5+10+15+20+\\ldots+5k+5(k+1) = \\frac{5(k+1)((k+1)+1)}{2} $, you should have started with the assumption $ 5+10+15+20+\\ldots+5k = \\frac{5k(k+1)}{2} $ and then added $ 5(k+1) $ to both sides.\n\n   - The step where you wrote $ = \\frac{5k(k+1)}{2} + 5k + 5 $ should be $ = \\frac{5k(k+1)}{2} + 5(k+1) $.\n\n   - The transition from $ \\frac{5k(k+1)}{2} + \\frac{10k+10}{2} $ to $ \\frac{5k^2 + 15k + 10}{2} $ is correct, but you should clarify that you combined …",
         "A_A": "You jumped from the inductive hypothesis to an expression that is equal to what we want to prove, and the justification for this jump was not clear at all. You should have begun from the left side of the P(k+1) equation and manipulated it to get the right side. You need to use the inductive hypothesis here, which you didn't. You should have replaced the 5+10+...+5k portion with the expression (5k(k+1))/2.",
         "A_H": "An equation seems to have been accidentally omitted, possibly one line deleted by mistake.",
         "Bytes": 1031,
         "Con_1": "Yes they say the same thing",
         "Con_1_Comments": "nan",
         "Con_2": "Yes they say the same thing",
         "Con_2_Comments": "nan",
         "Cor": "Correct/mostly correct",
         "Cor_Comments": "nan",
         "DWYD_1": "False",
         "DWYD_2": "False",
         "HasHumanGrade": "True",
         "InstitutionID": 1,
         "InstitutionType": "Masters",
         "M_A": "True",
         "M_H": "True",
         "ProofID": 29,
         "Right_1": "False",
         "Right_2": "False",
         "S_A": 10,
         "S_H": 10,
         "T_A": "Justification",
         "T_H": "Missing",
         "Topic": "induction",
         "_deepnote_index_column": 1
        },
        {
         "A_2": "Your proof attempts to use contraposition, but there are some issues with the logic and structure. Let's go through it:\n\n1. **Understanding Contraposition**: The original statement is \"If $ a $ does not divide $ bc $, then $ a $ does not divide $ b $.\" The contrapositive of this statement is \"If $ a $ divides $ b $, then $ a $ divides $ bc $.\" This is what you need to prove.\n\n2. **Assumptions**: You correctly start by assuming $ a \\mid b $ (i.e., $ a $ divides $ b $) as part of proving the contrapositive. However, you also assume $ a \\mid bc $, which is not necessary for the contrapositive. Instead, you should assume $ a \\mid b $ and show that this implies $ a \\mid bc $.\n\n3. **Proof Structure**: You correctly state that if $ a \\mid b $, then there exists an integer $ k $ such that $ b = ak $. You then substitute this into $ bc $ to get $ bc = akc $.\n\n4. **Conclusion**: You correctly conclude that since $ bc = akc $, and $ akc $ is clearly divisible by $ a $ (since it is $ a \\times (kc…",
         "A_A": "When proving a statement by contraposition, you should negate the entire hypothesis and the entire conclusion. You should begin your proof by assuming that 'a divides b' (the negation of the conclusion) and you should conclude with 'a divides bc' (the negation of the hypothesis). You have incorrectly negated the statements.",
         "A_H": "We do not write a | bc = something.",
         "Bytes": 519,
         "Con_1": "No they say different things",
         "Con_1_Comments": "RIGHT",
         "Con_2": "No they say different things",
         "Con_2_Comments": "Human did not catch the first mistake.  AI did.",
         "Cor": "Correct/mostly correct",
         "Cor_Comments": "nan",
         "DWYD_1": "False",
         "DWYD_2": "False",
         "HasHumanGrade": "True",
         "InstitutionID": 5,
         "InstitutionType": "Masters",
         "M_A": "True",
         "M_H": "True",
         "ProofID": 756,
         "Right_1": "True",
         "Right_2": "True",
         "S_A": 1,
         "S_H": 5,
         "T_A": "Reframing",
         "T_H": "Grammar/syntax",
         "Topic": "modular arithmetic",
         "_deepnote_index_column": 2
        },
        {
         "A_2": "Your proof contains several issues and does not correctly apply the principle of mathematical induction. Here are the main points of feedback:\n\n1. **Base Case**: You correctly identify the base case as $ n = 1 $, but your explanation is unclear. You should show that $ 5^1 - 1 = 4 $, and since $ 4 \\mid 4 $, the base case holds.\n\n2. **Inductive Hypothesis**: You need to clearly state the inductive hypothesis. Assume that for some $ k \\geq 1 $, $ 4 \\mid (5^k - 1) $. This means there exists an integer $ m $ such that $ 5^k - 1 = 4m $.\n\n3. **Inductive Step**: You need to prove that $ 4 \\mid (5^{k+1} - 1) $ using the inductive hypothesis. Instead of calculating specific cases for $ k = 2, 3, \\ldots $, you should show that if $ 4 \\mid (5^k - 1) $, then $ 4 \\mid (5^{k+1} - 1) $. This involves algebraic manipulation using the inductive hypothesis.\n\n4. **Conclusion**: You should conclude that by the principle of mathematical induction, $ 4 \\mid (5^n - 1) $ for all nonnegative integers $ n $.\n\nY…",
         "A_A": "The base case should be when n=0, not n=1. When n=0, we have 5^0 - 1 = 1 - 1 = 0. And since 4 divides 0, the base case is true. Also, you seem to be dividing by 4 in the base case, but that's not necessary; what we need to see is that 5^n - 1 is divisible by 4. Additionally, in the inductive step, you should be starting by assuming 4 divides 5^k - 1. Then you need to use that fact, as well as algebra, to show 4 divides 5^(k+1) - 1.",
         "A_H": "Proof should start with \"proof\" and argument should be introduced with complete sentences",
         "Bytes": 471,
         "Con_1": "No they say different things",
         "Con_1_Comments": "Human has problems with student's formatting. AI doesn't.",
         "Con_2": "No they say different things",
         "Con_2_Comments": "Human has problems with student's formatting. AI doesn't.",
         "Cor": "Correct/mostly correct",
         "Cor_Comments": "nan",
         "DWYD_1": "False",
         "DWYD_2": "False",
         "HasHumanGrade": "True",
         "InstitutionID": 5,
         "InstitutionType": "Masters",
         "M_A": "True",
         "M_H": "True",
         "ProofID": 761,
         "Right_1": "False",
         "Right_2": "False",
         "S_A": 3,
         "S_H": 1,
         "T_A": "Algebra",
         "T_H": "Other",
         "Topic": "induction",
         "_deepnote_index_column": 3
        },
        {
         "A_2": "Your proof is mostly correct, but there are a few issues with notation and clarity that could be improved:\n\n1. **Notation for Even and Odd Integers**: In Case 1, you use $2m$ and $2n$ to denote even integers, but you should use different variables to represent the integers $m$ and $n$. For example, you could write $m = 2a$ and $n = 2b$ for some integers $a$ and $b$. This avoids confusion with the original $m$ and $n$.\n\n2. **Clarity in Case 2**: In Case 2, you correctly express odd integers as $m = 2a + 1$ and $n = 2b + 1$ for some integers $a$ and $b$. However, when you expand the product $(2a + 1)(2b + 1)$, you should clearly state that $mn = 2(2ab + a + b) + 1$ is odd because it is of the form $2k + 1$ for some integer $k$. This makes it clear why the product is odd.\n\n3. **Variable Consistency**: Ensure that you consistently use different variables for the integers in your cases to avoid confusion. For example, in Case 1, you could use $a$ and $b$ instead of $m$ and $n$ to represent…",
         "A_A": "Be careful not to reuse a variable when its meaning has already been established. In particular, in your Case 1, you introduced $m$ and $n$ to be integers with different meanings from the $m$ and $n$ in the statement of the theorem. It would be clearer to use new variables for the arbitrary integers that you use in the definition of even numbers. For example, you could say \"Assume $m$ and $n$ are two even integers such as $2k$ and $2j$ for some integers $k$ and $j$.\"  The same goes for Case 2.",
         "A_H": "You can't use the same variable to mean two different things in a proof.",
         "Bytes": 836,
         "Con_1": "Yes they say the same thing",
         "Con_1_Comments": "nan",
         "Con_2": "Yes they say the same thing",
         "Con_2_Comments": "nan",
         "Cor": "Correct/mostly correct",
         "Cor_Comments": "nan",
         "DWYD_1": "False",
         "DWYD_2": "False",
         "HasHumanGrade": "True",
         "InstitutionID": 5,
         "InstitutionType": "Masters",
         "M_A": "True",
         "M_H": "True",
         "ProofID": 748,
         "Right_1": "False",
         "Right_2": "False",
         "S_A": 5,
         "S_H": 2,
         "T_A": "Grammar/syntax",
         "T_H": "Variables",
         "Topic": "modular arithmetic",
         "_deepnote_index_column": 4
        },
        {
         "A_2": "Your proof contains a few errors and misunderstandings regarding the use of contraposition and the logic involved. Here are some points to consider:\n\n1. **Understanding Contraposition**: The contrapositive of the statement \"If $ a $ does not divide $ bc $, then $ a $ does not divide $ b $\" is \"If $ a $ divides $ b $, then $ a $ divides $ bc $.\" Your proof should aim to demonstrate this contrapositive statement.\n\n2. **Logical Structure**: You start by assuming $ a \\mid b $ and $ a \\mid bc $, which is not the correct assumption for proving the contrapositive. Instead, you should assume $ a \\mid b $ and then show that this implies $ a \\mid bc $.\n\n3. **Algebraic Manipulation**: You correctly express $ a \\mid b $ as $ b = ak $ for some integer $ k $. However, you should use this to show that $ bc = (ak)c = a(kc) $, which directly shows that $ a \\mid bc $.\n\n4. **Conclusion**: Your conclusion should be that if $ a \\mid b $, then indeed $ a \\mid bc $, which is the contrapositive of the origin…",
         "A_A": "You need to assume the *negation* of the conclusion, not the conclusion itself. So, you should start by assuming that a divides b. Also, you should not assume that a divides bc. You need to show that assuming that a divides b leads to a contradiction of some kind.",
         "A_H": "The expression written as a fraction with an \"= \" in the numerator is not correct.",
         "Bytes": 666,
         "Con_1": "No they say different things",
         "Con_1_Comments": "DWYD",
         "Con_2": "No they say different things",
         "Con_2_Comments": "RIGHT",
         "Cor": "Correct/mostly correct",
         "Cor_Comments": "nan",
         "DWYD_1": "True",
         "DWYD_2": "False",
         "HasHumanGrade": "True",
         "InstitutionID": 5,
         "InstitutionType": "Masters",
         "M_A": "True",
         "M_H": "True",
         "ProofID": 751,
         "Right_1": "False",
         "Right_2": "True",
         "S_A": 1,
         "S_H": 4,
         "T_A": "Reframing",
         "T_H": "Grammar/syntax",
         "Topic": "modular arithmetic",
         "_deepnote_index_column": 5
        },
        {
         "A_2": "Your proof has a few issues that need to be addressed:\n\n1. **Incorrect Assumption**: You start by assuming $A \\sim B$ and $B \\sim C$ are integers, which is not correct. The correct assumption should be that $A \\sim B$ and $B \\sim C$, meaning $A - B$ and $B - C$ are integers. The elements $A$, $B$, and $C$ themselves are real numbers, not necessarily integers.\n\n2. **Clarification of Integer Closure**: You mention the closure of integers under addition, but it's not clearly applied. You should explicitly state that since $A - B$ and $B - C$ are integers, their sum $(A - B) + (B - C)$ is also an integer due to the closure property.\n\n3. **Conclusion**: You correctly conclude that $A - C$ is an integer, but you should explicitly state that this implies $A \\sim C$ by the definition of the relation $\\sim$.\n\nOverall, your proof needs to be more precise in its assumptions and logical steps. Make sure to clearly state what is given and how you use properties of integers to reach the conclusion.",
         "A_A": "You should not state that A ~ B and B ~ C are integers, but rather that the *differences* A-B and B-C are integers. Also, note that A, B, and C are real numbers, not integers.",
         "A_H": "Make sure to understand about terminology closely",
         "Bytes": 691,
         "Con_1": "Yes they say the same thing",
         "Con_1_Comments": "nan",
         "Con_2": "Yes they say the same thing",
         "Con_2_Comments": "Plus AI says more as well.",
         "Cor": "Partly correct",
         "Cor_Comments": "First comment correct, other two comments incorrect in different ways.",
         "DWYD_1": "False",
         "DWYD_2": "False",
         "HasHumanGrade": "True",
         "InstitutionID": 1,
         "InstitutionType": "Masters",
         "M_A": "True",
         "M_H": "True",
         "ProofID": 43,
         "Right_1": "False",
         "Right_2": "False",
         "S_A": 1,
         "S_H": 1,
         "T_A": "Grammar/syntax",
         "T_H": "Grammar/syntax",
         "Topic": "relations",
         "_deepnote_index_column": 6
        },
        {
         "A_2": "Your proof is mostly correct, but there is a small mistake in the final expression. Let's go through it:\n\n1. You correctly start by assuming $ n $ is even, so $ n = 2k $ for some integer $ k $.\n\n2. You then consider $ (n+3)^2 = (2k+3)^2 $.\n\n3. You expand this to get $ 4k^2 + 12k + 9 $.\n\n4. You rewrite this as $ 2(2k^2 + 6k + 4) + 1 $.\n\nThe mistake is in the expression $ 2(2k^2 + 6k + 4) + 1 $. The correct expression should be $ 2(2k^2 + 6k + 4) + 1 = 4k^2 + 12k + 8 + 1 $, which simplifies to $ 4k^2 + 12k + 9 $. \n\nYour conclusion that $ (n+3)^2 $ is odd is correct because you have shown it can be expressed in the form $ 2m + 1 $ for some integer $ m $. However, the explanation about the Axiom of Closure is unnecessary here; it's enough to note that $ 2k^2 + 6k + 4 $ is an integer because it is a polynomial with integer coefficients evaluated at an integer $ k $.\n\nOverall, your proof is correct, but the explanation could be slightly more concise, and the reference to the Axiom of Closur…",
         "A_A": "You should not assume the existence of an m such that (n+3)^2 = 2m + 1. Instead, your goal should be to show that such an m exists, after having done the algebra. Start by expanding (n+3)^2, and work from there.",
         "A_H": "Don't declare that (n+3)^2=2m+1 is true until you've proven it.",
         "Bytes": 555,
         "Con_1": "Yes they say the same thing",
         "Con_1_Comments": "nan",
         "Con_2": "No they say different things",
         "Con_2_Comments": "nan",
         "Cor": "Wrong/mostly wrong",
         "Cor_Comments": "WRONG",
         "DWYD_1": "False",
         "DWYD_2": "False",
         "HasHumanGrade": "True",
         "InstitutionID": 2,
         "InstitutionType": "Masters",
         "M_A": "True",
         "M_H": "True",
         "ProofID": 44,
         "Right_1": "False",
         "Right_2": "False",
         "S_A": 3,
         "S_H": 5,
         "T_A": "Reframing",
         "T_H": "Variables",
         "Topic": "modular arithmetic",
         "_deepnote_index_column": 7
        },
        {
         "A_2": "Your proof is mostly correct, but there are a few issues and areas for improvement:\n\n1. **Typographical Error in Inductive Hypothesis:**\n   - In step ii), you wrote the inductive hypothesis as $5 + 10 + 15 + 20 \\ldots + 5k = \\frac{5h(k+1)}{2}$. This should be $\\frac{5k(k+1)}{2}$ instead of $\\frac{5h(k+1)}{2}$. It seems like a typographical error, but it's important to be precise.\n\n2. **Clarity in Inductive Step:**\n   - In step iii), when you transition from $\\frac{5k(k+1)}{2} + 5(k+1)$ to $(k+1)\\left[\\frac{5k}{2} + 5\\right]$, you should explicitly mention that you are factoring out $(k+1)$. While you do mention \"by factoring $(k+1)$,\" it might be clearer to show the intermediate step: $\\frac{5k(k+1)}{2} + \\frac{10(k+1)}{2}$.\n\n3. **Conclusion:**\n   - Your conclusion could be more explicit. After showing that $P(k+1)$ holds, you should clearly state that by the principle of mathematical induction, $P(n)$ is true for all natural numbers $n$.\n\n4. **Base Case Justification:**\n   - Your bas…",
         "A_A": "In the statement of P(k) you wrote \"5 h(k+1)\", but it should be \"5k(k+1)\". Remember to use the correct variable name. Also, the last line of the inductive step is correct, but it should have an equals sign in front of it, to show that it's the next step in the derivation.",
         "A_H": "Be careful with the variables. \"h\" has not been introduced anywhere earlier, and is not needed. I think you meant \"k\".",
         "Bytes": 1295,
         "Con_1": "Yes they say the same thing",
         "Con_1_Comments": "nan",
         "Con_2": "No they say different things",
         "Con_2_Comments": "unstructured wanted more detail",
         "Cor": "Correct/mostly correct",
         "Cor_Comments": "nan",
         "DWYD_1": "False",
         "DWYD_2": "False",
         "HasHumanGrade": "True",
         "InstitutionID": 1,
         "InstitutionType": "Masters",
         "M_A": "True",
         "M_H": "True",
         "ProofID": 10,
         "Right_1": "False",
         "Right_2": "False",
         "S_A": 6,
         "S_H": 4,
         "T_A": "Grammar/syntax",
         "T_H": "Variables",
         "Topic": "induction",
         "_deepnote_index_column": 8
        },
        {
         "A_2": "Your proof contains a logical error in the step where you conclude that either 5 divides 2 or 5 divides $a$. The statement \"if $5 \\mid 2a$, then $5 \\mid a$\" is not generally true for integers $a$. \n\nTo see why, consider a counterexample: let $a = 5$. Then $2a = 10$, and indeed $5 \\mid 10$. However, $5 \\mid 5$ is true, but if you consider $a = 3$, then $2a = 6$, and $5 \\nmid 6$, so the statement is vacuously true. \n\nThe error in your proof arises from the incorrect assumption that if $\\frac{2a}{5}$ is an integer, then either 5 divides 2 or 5 divides $a$. This is not a valid conclusion. The divisibility of $2a$ by 5 does not imply the divisibility of $a$ by 5 unless additional conditions are met (such as $a$ being a multiple of 5). \n\nIn summary, the proposition is false, and the proof incorrectly assumes a conclusion about divisibility that does not follow from the premises.",
         "A_A": "You can't simply divide by 5 to solve for n; that expression doesn't say that 5 divides 2a, it says it's equal to 2a divided by 5. Instead, you could try multiplying both sides by a number that eliminates the 2, then reason about divisibility. Also, you need to say what theorem or fact you're relying on to conclude that either 5 divides 2 or 5 divides a.",
         "A_H": "Always proofread, a fraction needs a fraction bar.",
         "Bytes": 529,
         "Con_1": "No they say different things",
         "Con_1_Comments": "AI is more thorough in the feedback clearly pointing where things are fishy",
         "Con_2": "No they say different things",
         "Con_2_Comments": "RIGHT",
         "Cor": "Correct/mostly correct",
         "Cor_Comments": "nan",
         "DWYD_1": "False",
         "DWYD_2": "False",
         "HasHumanGrade": "True",
         "InstitutionID": 4,
         "InstitutionType": "Four-year",
         "M_A": "True",
         "M_H": "True",
         "ProofID": 676,
         "Right_1": "False",
         "Right_2": "True",
         "S_A": 3,
         "S_H": 3,
         "T_A": "Algebra",
         "T_H": "Grammar/syntax",
         "Topic": "modular arithmetic",
         "_deepnote_index_column": 9
        }
       ],
       "type": "dataframe"
      },
      "text/html": [
       "<div>\n",
       "<style scoped>\n",
       "    .dataframe tbody tr th:only-of-type {\n",
       "        vertical-align: middle;\n",
       "    }\n",
       "\n",
       "    .dataframe tbody tr th {\n",
       "        vertical-align: top;\n",
       "    }\n",
       "\n",
       "    .dataframe thead th {\n",
       "        text-align: right;\n",
       "    }\n",
       "</style>\n",
       "<table border=\"1\" class=\"dataframe\">\n",
       "  <thead>\n",
       "    <tr style=\"text-align: right;\">\n",
       "      <th></th>\n",
       "      <th>ProofID</th>\n",
       "      <th>InstitutionID</th>\n",
       "      <th>InstitutionType</th>\n",
       "      <th>Topic</th>\n",
       "      <th>Bytes</th>\n",
       "      <th>HasHumanGrade</th>\n",
       "      <th>M_H</th>\n",
       "      <th>M_A</th>\n",
       "      <th>T_H</th>\n",
       "      <th>T_A</th>\n",
       "      <th>...</th>\n",
       "      <th>Con_1</th>\n",
       "      <th>Con_1_Comments</th>\n",
       "      <th>Con_2</th>\n",
       "      <th>Con_2_Comments</th>\n",
       "      <th>Cor</th>\n",
       "      <th>Cor_Comments</th>\n",
       "      <th>DWYD_1</th>\n",
       "      <th>DWYD_2</th>\n",
       "      <th>Right_1</th>\n",
       "      <th>Right_2</th>\n",
       "    </tr>\n",
       "  </thead>\n",
       "  <tbody>\n",
       "    <tr>\n",
       "      <th>0</th>\n",
       "      <td>753</td>\n",
       "      <td>5</td>\n",
       "      <td>Masters</td>\n",
       "      <td>real numbers</td>\n",
       "      <td>759</td>\n",
       "      <td>True</td>\n",
       "      <td>True</td>\n",
       "      <td>True</td>\n",
       "      <td>Algebra</td>\n",
       "      <td>Grammar/syntax</td>\n",
       "      <td>...</td>\n",
       "      <td>No they say different things</td>\n",
       "      <td>DWYD (erroneous) but also found same mistake a...</td>\n",
       "      <td>Yes they say the same thing</td>\n",
       "      <td>AI also said more</td>\n",
       "      <td>Correct/mostly correct</td>\n",
       "      <td>AI also found some subtle imperfections after ...</td>\n",
       "      <td>True</td>\n",
       "      <td>False</td>\n",
       "      <td>False</td>\n",
       "      <td>False</td>\n",
       "    </tr>\n",
       "    <tr>\n",
       "      <th>1</th>\n",
       "      <td>29</td>\n",
       "      <td>1</td>\n",
       "      <td>Masters</td>\n",
       "      <td>induction</td>\n",
       "      <td>1031</td>\n",
       "      <td>True</td>\n",
       "      <td>True</td>\n",
       "      <td>True</td>\n",
       "      <td>Missing</td>\n",
       "      <td>Justification</td>\n",
       "      <td>...</td>\n",
       "      <td>Yes they say the same thing</td>\n",
       "      <td>NaN</td>\n",
       "      <td>Yes they say the same thing</td>\n",
       "      <td>NaN</td>\n",
       "      <td>Correct/mostly correct</td>\n",
       "      <td>NaN</td>\n",
       "      <td>False</td>\n",
       "      <td>False</td>\n",
       "      <td>False</td>\n",
       "      <td>False</td>\n",
       "    </tr>\n",
       "    <tr>\n",
       "      <th>2</th>\n",
       "      <td>756</td>\n",
       "      <td>5</td>\n",
       "      <td>Masters</td>\n",
       "      <td>modular arithmetic</td>\n",
       "      <td>519</td>\n",
       "      <td>True</td>\n",
       "      <td>True</td>\n",
       "      <td>True</td>\n",
       "      <td>Grammar/syntax</td>\n",
       "      <td>Reframing</td>\n",
       "      <td>...</td>\n",
       "      <td>No they say different things</td>\n",
       "      <td>RIGHT</td>\n",
       "      <td>No they say different things</td>\n",
       "      <td>Human did not catch the first mistake.  AI did.</td>\n",
       "      <td>Correct/mostly correct</td>\n",
       "      <td>NaN</td>\n",
       "      <td>False</td>\n",
       "      <td>False</td>\n",
       "      <td>True</td>\n",
       "      <td>True</td>\n",
       "    </tr>\n",
       "    <tr>\n",
       "      <th>3</th>\n",
       "      <td>761</td>\n",
       "      <td>5</td>\n",
       "      <td>Masters</td>\n",
       "      <td>induction</td>\n",
       "      <td>471</td>\n",
       "      <td>True</td>\n",
       "      <td>True</td>\n",
       "      <td>True</td>\n",
       "      <td>Other</td>\n",
       "      <td>Algebra</td>\n",
       "      <td>...</td>\n",
       "      <td>No they say different things</td>\n",
       "      <td>Human has problems with student's formatting. ...</td>\n",
       "      <td>No they say different things</td>\n",
       "      <td>Human has problems with student's formatting. ...</td>\n",
       "      <td>Correct/mostly correct</td>\n",
       "      <td>NaN</td>\n",
       "      <td>False</td>\n",
       "      <td>False</td>\n",
       "      <td>False</td>\n",
       "      <td>False</td>\n",
       "    </tr>\n",
       "    <tr>\n",
       "      <th>4</th>\n",
       "      <td>748</td>\n",
       "      <td>5</td>\n",
       "      <td>Masters</td>\n",
       "      <td>modular arithmetic</td>\n",
       "      <td>836</td>\n",
       "      <td>True</td>\n",
       "      <td>True</td>\n",
       "      <td>True</td>\n",
       "      <td>Variables</td>\n",
       "      <td>Grammar/syntax</td>\n",
       "      <td>...</td>\n",
       "      <td>Yes they say the same thing</td>\n",
       "      <td>NaN</td>\n",
       "      <td>Yes they say the same thing</td>\n",
       "      <td>NaN</td>\n",
       "      <td>Correct/mostly correct</td>\n",
       "      <td>NaN</td>\n",
       "      <td>False</td>\n",
       "      <td>False</td>\n",
       "      <td>False</td>\n",
       "      <td>False</td>\n",
       "    </tr>\n",
       "    <tr>\n",
       "      <th>...</th>\n",
       "      <td>...</td>\n",
       "      <td>...</td>\n",
       "      <td>...</td>\n",
       "      <td>...</td>\n",
       "      <td>...</td>\n",
       "      <td>...</td>\n",
       "      <td>...</td>\n",
       "      <td>...</td>\n",
       "      <td>...</td>\n",
       "      <td>...</td>\n",
       "      <td>...</td>\n",
       "      <td>...</td>\n",
       "      <td>...</td>\n",
       "      <td>...</td>\n",
       "      <td>...</td>\n",
       "      <td>...</td>\n",
       "      <td>...</td>\n",
       "      <td>...</td>\n",
       "      <td>...</td>\n",
       "      <td>...</td>\n",
       "      <td>...</td>\n",
       "    </tr>\n",
       "    <tr>\n",
       "      <th>776</th>\n",
       "      <td>779</td>\n",
       "      <td>5</td>\n",
       "      <td>Masters</td>\n",
       "      <td>induction</td>\n",
       "      <td>979</td>\n",
       "      <td>False</td>\n",
       "      <td>False</td>\n",
       "      <td>True</td>\n",
       "      <td>NaN</td>\n",
       "      <td>Argument</td>\n",
       "      <td>...</td>\n",
       "      <td>NaN</td>\n",
       "      <td>NaN</td>\n",
       "      <td>NaN</td>\n",
       "      <td>NaN</td>\n",
       "      <td>NaN</td>\n",
       "      <td>NaN</td>\n",
       "      <td>False</td>\n",
       "      <td>False</td>\n",
       "      <td>False</td>\n",
       "      <td>False</td>\n",
       "    </tr>\n",
       "    <tr>\n",
       "      <th>777</th>\n",
       "      <td>780</td>\n",
       "      <td>5</td>\n",
       "      <td>Masters</td>\n",
       "      <td>induction</td>\n",
       "      <td>483</td>\n",
       "      <td>False</td>\n",
       "      <td>False</td>\n",
       "      <td>True</td>\n",
       "      <td>NaN</td>\n",
       "      <td>Structure</td>\n",
       "      <td>...</td>\n",
       "      <td>NaN</td>\n",
       "      <td>NaN</td>\n",
       "      <td>NaN</td>\n",
       "      <td>NaN</td>\n",
       "      <td>NaN</td>\n",
       "      <td>NaN</td>\n",
       "      <td>False</td>\n",
       "      <td>False</td>\n",
       "      <td>False</td>\n",
       "      <td>False</td>\n",
       "    </tr>\n",
       "    <tr>\n",
       "      <th>778</th>\n",
       "      <td>781</td>\n",
       "      <td>5</td>\n",
       "      <td>Masters</td>\n",
       "      <td>induction</td>\n",
       "      <td>316</td>\n",
       "      <td>False</td>\n",
       "      <td>False</td>\n",
       "      <td>True</td>\n",
       "      <td>NaN</td>\n",
       "      <td>Argument</td>\n",
       "      <td>...</td>\n",
       "      <td>NaN</td>\n",
       "      <td>NaN</td>\n",
       "      <td>NaN</td>\n",
       "      <td>NaN</td>\n",
       "      <td>NaN</td>\n",
       "      <td>NaN</td>\n",
       "      <td>False</td>\n",
       "      <td>False</td>\n",
       "      <td>False</td>\n",
       "      <td>False</td>\n",
       "    </tr>\n",
       "    <tr>\n",
       "      <th>779</th>\n",
       "      <td>782</td>\n",
       "      <td>5</td>\n",
       "      <td>Masters</td>\n",
       "      <td>induction</td>\n",
       "      <td>662</td>\n",
       "      <td>False</td>\n",
       "      <td>False</td>\n",
       "      <td>True</td>\n",
       "      <td>NaN</td>\n",
       "      <td>Algebra</td>\n",
       "      <td>...</td>\n",
       "      <td>NaN</td>\n",
       "      <td>NaN</td>\n",
       "      <td>NaN</td>\n",
       "      <td>NaN</td>\n",
       "      <td>NaN</td>\n",
       "      <td>NaN</td>\n",
       "      <td>False</td>\n",
       "      <td>False</td>\n",
       "      <td>False</td>\n",
       "      <td>False</td>\n",
       "    </tr>\n",
       "    <tr>\n",
       "      <th>780</th>\n",
       "      <td>783</td>\n",
       "      <td>5</td>\n",
       "      <td>Masters</td>\n",
       "      <td>induction</td>\n",
       "      <td>439</td>\n",
       "      <td>False</td>\n",
       "      <td>False</td>\n",
       "      <td>True</td>\n",
       "      <td>NaN</td>\n",
       "      <td>Justification</td>\n",
       "      <td>...</td>\n",
       "      <td>NaN</td>\n",
       "      <td>NaN</td>\n",
       "      <td>NaN</td>\n",
       "      <td>NaN</td>\n",
       "      <td>NaN</td>\n",
       "      <td>NaN</td>\n",
       "      <td>False</td>\n",
       "      <td>False</td>\n",
       "      <td>False</td>\n",
       "      <td>False</td>\n",
       "    </tr>\n",
       "  </tbody>\n",
       "</table>\n",
       "<p>781 rows × 25 columns</p>\n",
       "</div>"
      ],
      "text/plain": [
       "     ProofID  InstitutionID InstitutionType               Topic  Bytes  \\\n",
       "0        753              5         Masters        real numbers    759   \n",
       "1         29              1         Masters           induction   1031   \n",
       "2        756              5         Masters  modular arithmetic    519   \n",
       "3        761              5         Masters           induction    471   \n",
       "4        748              5         Masters  modular arithmetic    836   \n",
       "..       ...            ...             ...                 ...    ...   \n",
       "776      779              5         Masters           induction    979   \n",
       "777      780              5         Masters           induction    483   \n",
       "778      781              5         Masters           induction    316   \n",
       "779      782              5         Masters           induction    662   \n",
       "780      783              5         Masters           induction    439   \n",
       "\n",
       "     HasHumanGrade    M_H   M_A             T_H             T_A  ...  \\\n",
       "0             True   True  True         Algebra  Grammar/syntax  ...   \n",
       "1             True   True  True         Missing   Justification  ...   \n",
       "2             True   True  True  Grammar/syntax       Reframing  ...   \n",
       "3             True   True  True           Other         Algebra  ...   \n",
       "4             True   True  True       Variables  Grammar/syntax  ...   \n",
       "..             ...    ...   ...             ...             ...  ...   \n",
       "776          False  False  True             NaN        Argument  ...   \n",
       "777          False  False  True             NaN       Structure  ...   \n",
       "778          False  False  True             NaN        Argument  ...   \n",
       "779          False  False  True             NaN         Algebra  ...   \n",
       "780          False  False  True             NaN   Justification  ...   \n",
       "\n",
       "                            Con_1  \\\n",
       "0    No they say different things   \n",
       "1     Yes they say the same thing   \n",
       "2    No they say different things   \n",
       "3    No they say different things   \n",
       "4     Yes they say the same thing   \n",
       "..                            ...   \n",
       "776                           NaN   \n",
       "777                           NaN   \n",
       "778                           NaN   \n",
       "779                           NaN   \n",
       "780                           NaN   \n",
       "\n",
       "                                        Con_1_Comments  \\\n",
       "0    DWYD (erroneous) but also found same mistake a...   \n",
       "1                                                  NaN   \n",
       "2                                                RIGHT   \n",
       "3    Human has problems with student's formatting. ...   \n",
       "4                                                  NaN   \n",
       "..                                                 ...   \n",
       "776                                                NaN   \n",
       "777                                                NaN   \n",
       "778                                                NaN   \n",
       "779                                                NaN   \n",
       "780                                                NaN   \n",
       "\n",
       "                            Con_2  \\\n",
       "0     Yes they say the same thing   \n",
       "1     Yes they say the same thing   \n",
       "2    No they say different things   \n",
       "3    No they say different things   \n",
       "4     Yes they say the same thing   \n",
       "..                            ...   \n",
       "776                           NaN   \n",
       "777                           NaN   \n",
       "778                           NaN   \n",
       "779                           NaN   \n",
       "780                           NaN   \n",
       "\n",
       "                                        Con_2_Comments  \\\n",
       "0                                    AI also said more   \n",
       "1                                                  NaN   \n",
       "2      Human did not catch the first mistake.  AI did.   \n",
       "3    Human has problems with student's formatting. ...   \n",
       "4                                                  NaN   \n",
       "..                                                 ...   \n",
       "776                                                NaN   \n",
       "777                                                NaN   \n",
       "778                                                NaN   \n",
       "779                                                NaN   \n",
       "780                                                NaN   \n",
       "\n",
       "                        Cor  \\\n",
       "0    Correct/mostly correct   \n",
       "1    Correct/mostly correct   \n",
       "2    Correct/mostly correct   \n",
       "3    Correct/mostly correct   \n",
       "4    Correct/mostly correct   \n",
       "..                      ...   \n",
       "776                     NaN   \n",
       "777                     NaN   \n",
       "778                     NaN   \n",
       "779                     NaN   \n",
       "780                     NaN   \n",
       "\n",
       "                                          Cor_Comments DWYD_1 DWYD_2 Right_1  \\\n",
       "0    AI also found some subtle imperfections after ...   True  False   False   \n",
       "1                                                  NaN  False  False   False   \n",
       "2                                                  NaN  False  False    True   \n",
       "3                                                  NaN  False  False   False   \n",
       "4                                                  NaN  False  False   False   \n",
       "..                                                 ...    ...    ...     ...   \n",
       "776                                                NaN  False  False   False   \n",
       "777                                                NaN  False  False   False   \n",
       "778                                                NaN  False  False   False   \n",
       "779                                                NaN  False  False   False   \n",
       "780                                                NaN  False  False   False   \n",
       "\n",
       "    Right_2  \n",
       "0     False  \n",
       "1     False  \n",
       "2      True  \n",
       "3     False  \n",
       "4     False  \n",
       "..      ...  \n",
       "776   False  \n",
       "777   False  \n",
       "778   False  \n",
       "779   False  \n",
       "780   False  \n",
       "\n",
       "[781 rows x 25 columns]"
      ]
     },
     "execution_count": 3,
     "metadata": {},
     "output_type": "execute_result"
    }
   ],
   "source": [
    "# Mark categorical columns as such\n",
    "proof_dat[\"InstitutionType\"] = proof_dat[\"InstitutionType\"].astype(\"category\")\n",
    "proof_dat[\"Topic\"] = proof_dat[\"Topic\"].astype(\"category\")\n",
    "proof_dat[\"T_H\"]   = proof_dat[\"T_H\"].astype(\"category\")\n",
    "proof_dat[\"T_A\"]   = proof_dat[\"T_A\"].astype(\"category\")\n",
    "proof_dat[\"Con_1\"] = proof_dat[\"Con_1\"].astype(\"category\")\n",
    "proof_dat[\"Con_2\"] = proof_dat[\"Con_2\"].astype(\"category\")\n",
    "proof_dat[\"Cor\"] = pd.Categorical(\n",
    "    proof_dat[\"Cor\"],\n",
    "    categories=[\"Wrong/mostly wrong\", \"Partly correct\", \"Correct/mostly correct\"],\n",
    "    ordered=True\n",
    ")\n",
    "\n",
    "# Mark boolean columns as such\n",
    "proof_dat[\"M_H\"]     = proof_dat[\"M_H\"].astype(bool)\n",
    "proof_dat[\"HasHumanGrade\"]  = proof_dat[\"HasHumanGrade\"].astype(bool)\n",
    "proof_dat[\"M_A\"]     = proof_dat[\"M_A\"].astype(bool)\n",
    "proof_dat[\"DWYD_1\"]  = proof_dat[\"DWYD_1\"].astype(bool)\n",
    "proof_dat[\"Right_1\"] = proof_dat[\"Right_1\"].astype(bool)\n",
    "proof_dat[\"DWYD_2\"]  = proof_dat[\"DWYD_2\"].astype(bool)\n",
    "proof_dat[\"Right_2\"] = proof_dat[\"Right_2\"].astype(bool)\n",
    "\n",
    "# View results\n",
    "proof_dat"
   ]
  },
  {
   "cell_type": "markdown",
   "metadata": {
    "cell_id": "759c72b595c54fdda22093add40f5c91",
    "deepnote_cell_type": "text-cell-p",
    "formattedRanges": [
     {
      "fromCodePoint": 0,
      "marks": {
       "bold": true
      },
      "toCodePoint": 20,
      "type": "marks"
     }
    ]
   },
   "source": [
    "Hypothesis Testing. The function below was used to produce the hypothesis tests in the paper."
   ]
  },
  {
   "cell_type": "code",
   "execution_count": 4,
   "metadata": {
    "cell_id": "80e64d5be81244f5b47441fb762653e3",
    "deepnote_cell_type": "code",
    "execution_context_id": "3e5c51cf-c3c5-4dc9-b492-f691f1887d86",
    "execution_millis": 0,
    "execution_start": 1756498186938,
    "source_hash": "4e890570"
   },
   "outputs": [],
   "source": [
    "# ------------------------------------------------------------------------------\n",
    "# Hypothesis Testing\n",
    "# ------------------------------------------------------------------------------\n",
    "\n",
    "# The following function does a hypothesis test for whether population proportion 1 <=\n",
    "# population proportion 2, and gives an eight-line report of the essential facts.\n",
    "\n",
    "# The first two arguments can be any pandas Series of boolean values, which will be\n",
    "# treated as samples, and the sample sizes and proportions computed from those.\n",
    "# We use the below function to conduct each one of the hypothesis tests to follow.\n",
    "\n",
    "def hyp_test_pop1_leq_pop2 ( bool_series_1, bool_series_2, name1=\"sample 1\", name2=\"sample 2\", alpha=0.01 ):\n",
    "\n",
    "    # compute sample sizes, subset sizes, proportions, and differences and print for the user\n",
    "    samp_size_1 = len(bool_series_1)\n",
    "    samp_size_2 = len(bool_series_2)\n",
    "    subset_size_1 = bool_series_1.sum()\n",
    "    subset_size_2 = bool_series_2.sum()\n",
    "    samp_prop_1 = subset_size_1/samp_size_1\n",
    "    print( f'p1hat, {name1}: {subset_size_1} / {samp_size_1} ~= {subset_size_1/samp_size_1:.3f}')\n",
    "    samp_prop_2 = subset_size_2/samp_size_2\n",
    "    print( f'p2hat, {name2}: {subset_size_2} / {samp_size_2} ~= {subset_size_2/samp_size_2:.3f}')\n",
    "    diff = samp_prop_1 - samp_prop_2\n",
    "    print(f'diff in proportions (p1hat - p2hat): {diff:.3f}')\n",
    "\n",
    "    # confidence interval for differences in proportions\n",
    "    ci_low, ci_high = confint_proportions_2indep(\n",
    "        subset_size_1, samp_size_1, subset_size_2, samp_size_2,\n",
    "        method=\"wald\", compare=\"diff\", alpha=0.05)\n",
    "    print(f'95% CI for diff: ({ci_low:.3f}, {ci_high:.3f})')\n",
    "    width = ci_high - ci_low\n",
    "    print(f'95% CI width: {width:.3f}')\n",
    "    rel_width = (ci_high - ci_low) / abs(diff) \n",
    "    print(f'CI width relative to absolute diff: {rel_width:.2f}x the effect size')\n",
    "    \n",
    "    # check for significance of difference\n",
    "    if ci_low > 0 or ci_high < 0:\n",
    "        print(\"CI excludes 0 → significant difference\")\n",
    "    else:\n",
    "        print(\"CI includes 0 → difference may not be significant\")\n",
    "\n",
    "    # prepare values needed by stats.norm.cdf() to compute test statistic\n",
    "    p_bar = (subset_size_1+subset_size_2)/(samp_size_1+samp_size_2)\n",
    "    std_error = np.sqrt(p_bar*(1-p_bar)*(1/samp_size_1+1/samp_size_2))  # standard error\n",
    "    test_statistic = (samp_prop_1 - samp_prop_2)/std_error              # test statistic\n",
    "    p_value = stats.norm.cdf(test_statistic)\n",
    "\n",
    "    # report results of hypothesis test using the above test statistic\n",
    "    print( f'stat ~= {test_statistic:.3f}, p ~= {p_value:.3g}, {\"Reject\" if p_value < alpha else \"Fail to reject\"}' )\n",
    "    \n",
    "    # double check test result using statsmodels\n",
    "    check_stat, check_p = proportions_ztest(\n",
    "        [subset_size_1, subset_size_2],\n",
    "        [samp_size_1, samp_size_2],\n",
    "        alternative=\"smaller\"\n",
    "    )\n",
    "    assert np.isclose(test_statistic, check_stat)\n",
    "    assert np.isclose(p_value, check_p)\n",
    "\n",
    "    # ---- add separator line ----\n",
    "    print(\"-\" * 50)   # prints ----------------------------------------"
   ]
  },
  {
   "cell_type": "markdown",
   "metadata": {
    "cell_id": "dee3f512a4444832b41a4840b15b6e03",
    "deepnote_cell_type": "text-cell-p",
    "formattedRanges": [
     {
      "fromCodePoint": 0,
      "marks": {
       "bold": true
      },
      "toCodePoint": 3,
      "type": "marks"
     }
    ]
   },
   "source": [
    "5.1"
   ]
  },
  {
   "cell_type": "markdown",
   "metadata": {
    "cell_id": "a8117e3da91f4b0990adfff8acecd099",
    "deepnote_cell_type": "markdown",
    "id": "ZmKPdNz4pY6F"
   },
   "source": [
    "**Table 1.** Results of our data gathering efforts from institutions across the United States."
   ]
  },
  {
   "cell_type": "code",
   "execution_count": 5,
   "metadata": {
    "cell_id": "58255738880b4b75bfd0d1a0d2668af5",
    "deepnote_cell_type": "code",
    "execution_context_id": "3e5c51cf-c3c5-4dc9-b492-f691f1887d86",
    "execution_millis": 1238,
    "execution_start": 1756498186998,
    "id": "94wb_hXT-5jW",
    "source_hash": "1e8565d3"
   },
   "outputs": [
    {
     "data": {
      "application/vnd.deepnote.dataframe.v3+json": {
       "column_count": 2,
       "columns": [
        {
         "dtype": "object",
         "name": "InstitutionType",
         "stats": {
          "categories": [
           {
            "count": 1,
            "name": "Four-year"
           },
           {
            "count": 1,
            "name": "Two-year"
           },
           {
            "count": 3,
            "name": "3 others"
           }
          ],
          "histogram": null,
          "max": null,
          "min": null,
          "nan_count": 0,
          "unique_count": 5
         }
        },
        {
         "dtype": "int64",
         "name": "Number_in_US",
         "stats": {
          "categories": null,
          "histogram": [
           {
            "bin_end": 174.9,
            "bin_start": 35,
            "count": 1
           },
           {
            "bin_end": 314.8,
            "bin_start": 174.9,
            "count": 0
           },
           {
            "bin_end": 454.70000000000005,
            "bin_start": 314.8,
            "count": 0
           },
           {
            "bin_end": 594.6,
            "bin_start": 454.70000000000005,
            "count": 1
           },
           {
            "bin_end": 734.5,
            "bin_start": 594.6,
            "count": 1
           },
           {
            "bin_end": 874.4000000000001,
            "bin_start": 734.5,
            "count": 0
           },
           {
            "bin_end": 1014.3000000000001,
            "bin_start": 874.4000000000001,
            "count": 0
           },
           {
            "bin_end": 1154.2,
            "bin_start": 1014.3000000000001,
            "count": 0
           },
           {
            "bin_end": 1294.1000000000001,
            "bin_start": 1154.2,
            "count": 1
           },
           {
            "bin_end": 1434,
            "bin_start": 1294.1000000000001,
            "count": 1
           }
          ],
          "max": "1434",
          "min": "35",
          "nan_count": 0,
          "unique_count": 5
         }
        },
        {
         "dtype": "int64",
         "name": "_deepnote_index_column"
        }
       ],
       "preview_row_count": 5,
       "row_count": 5,
       "rows": [
        {
         "InstitutionType": "Four-year",
         "Number_in_US": 1434,
         "_deepnote_index_column": 1
        },
        {
         "InstitutionType": "Two-year",
         "Number_in_US": 1266,
         "_deepnote_index_column": 2
        },
        {
         "InstitutionType": "Masters",
         "Number_in_US": 658,
         "_deepnote_index_column": 3
        },
        {
         "InstitutionType": "Doctoral",
         "Number_in_US": 465,
         "_deepnote_index_column": 4
        },
        {
         "InstitutionType": "Tribal",
         "Number_in_US": 35,
         "_deepnote_index_column": 5
        }
       ],
       "type": "dataframe"
      },
      "text/html": [
       "<div>\n",
       "<style scoped>\n",
       "    .dataframe tbody tr th:only-of-type {\n",
       "        vertical-align: middle;\n",
       "    }\n",
       "\n",
       "    .dataframe tbody tr th {\n",
       "        vertical-align: top;\n",
       "    }\n",
       "\n",
       "    .dataframe thead th {\n",
       "        text-align: right;\n",
       "    }\n",
       "</style>\n",
       "<table border=\"1\" class=\"dataframe\">\n",
       "  <thead>\n",
       "    <tr style=\"text-align: right;\">\n",
       "      <th></th>\n",
       "      <th>InstitutionType</th>\n",
       "      <th>Number_in_US</th>\n",
       "    </tr>\n",
       "  </thead>\n",
       "  <tbody>\n",
       "    <tr>\n",
       "      <th>1</th>\n",
       "      <td>Four-year</td>\n",
       "      <td>1434</td>\n",
       "    </tr>\n",
       "    <tr>\n",
       "      <th>2</th>\n",
       "      <td>Two-year</td>\n",
       "      <td>1266</td>\n",
       "    </tr>\n",
       "    <tr>\n",
       "      <th>3</th>\n",
       "      <td>Masters</td>\n",
       "      <td>658</td>\n",
       "    </tr>\n",
       "    <tr>\n",
       "      <th>4</th>\n",
       "      <td>Doctoral</td>\n",
       "      <td>465</td>\n",
       "    </tr>\n",
       "    <tr>\n",
       "      <th>5</th>\n",
       "      <td>Tribal</td>\n",
       "      <td>35</td>\n",
       "    </tr>\n",
       "  </tbody>\n",
       "</table>\n",
       "</div>"
      ],
      "text/plain": [
       "  InstitutionType  Number_in_US\n",
       "1       Four-year          1434\n",
       "2        Two-year          1266\n",
       "3         Masters           658\n",
       "4        Doctoral           465\n",
       "5          Tribal            35"
      ]
     },
     "execution_count": 5,
     "metadata": {},
     "output_type": "execute_result"
    }
   ],
   "source": [
    "# ------------------------------------------------------------------------------\n",
    "# Table 1: Institutional Data\n",
    "# ------------------------------------------------------------------------------\n",
    "\n",
    "# US demographics\n",
    "ipeds_df = pd.read_csv(\n",
    "    'https://nces.ed.gov/ipeds/datacenter/data/HD2023.zip',\n",
    "    encoding='latin', compression='zip' )\n",
    "def simplify_c21_code ( code ):\n",
    "    if 1 <= code <= 13:\n",
    "        return 'Two-year'\n",
    "    if code == 14 or 21 <= code <= 32:\n",
    "        return 'Four-year'\n",
    "    if 18 <= code <= 20:\n",
    "        return 'Masters'\n",
    "    if 15 <= code <= 17:\n",
    "        return 'Doctoral'\n",
    "    if code == 33:\n",
    "        return 'Tribal'\n",
    "    return 'Other'\n",
    "ipeds_df['C21BASIC_SIMP'] = ipeds_df['C21BASIC'].apply(simplify_c21_code)\n",
    "us = ipeds_df['C21BASIC_SIMP'].value_counts()\n",
    "us = pd.DataFrame( {\n",
    "    \"InstitutionType\": us.index,\n",
    "    \"Number_in_US\": us.values\n",
    "}, index=range(len(us)) )\n",
    "us = us[us.InstitutionType != 'Other']\n",
    "us"
   ]
  },
  {
   "cell_type": "code",
   "execution_count": 6,
   "metadata": {
    "cell_id": "97a1fe07e9544bc9b971fad626c9ef06",
    "deepnote_cell_type": "code",
    "execution_context_id": "3e5c51cf-c3c5-4dc9-b492-f691f1887d86",
    "execution_millis": 0,
    "execution_start": 1756498188291,
    "source_hash": "ebd60f24"
   },
   "outputs": [
    {
     "data": {
      "application/vnd.deepnote.dataframe.v3+json": {
       "column_count": 2,
       "columns": [
        {
         "dtype": "object",
         "name": "InstitutionType",
         "stats": {
          "categories": [
           {
            "count": 1,
            "name": "Two-year"
           },
           {
            "count": 1,
            "name": "Four-year"
           },
           {
            "count": 3,
            "name": "3 others"
           }
          ],
          "histogram": null,
          "max": null,
          "min": null,
          "nan_count": 0,
          "unique_count": 5
         }
        },
        {
         "dtype": "int64",
         "name": "Number_contacted",
         "stats": {
          "categories": null,
          "histogram": [
           {
            "bin_end": 9.8,
            "bin_start": 7,
            "count": 1
           },
           {
            "bin_end": 12.6,
            "bin_start": 9.8,
            "count": 2
           },
           {
            "bin_end": 15.399999999999999,
            "bin_start": 12.6,
            "count": 0
           },
           {
            "bin_end": 18.2,
            "bin_start": 15.399999999999999,
            "count": 0
           },
           {
            "bin_end": 21,
            "bin_start": 18.2,
            "count": 0
           },
           {
            "bin_end": 23.799999999999997,
            "bin_start": 21,
            "count": 1
           },
           {
            "bin_end": 26.599999999999998,
            "bin_start": 23.799999999999997,
            "count": 0
           },
           {
            "bin_end": 29.4,
            "bin_start": 26.599999999999998,
            "count": 0
           },
           {
            "bin_end": 32.2,
            "bin_start": 29.4,
            "count": 0
           },
           {
            "bin_end": 35,
            "bin_start": 32.2,
            "count": 1
           }
          ],
          "max": "35",
          "min": "7",
          "nan_count": 0,
          "unique_count": 4
         }
        },
        {
         "dtype": "int64",
         "name": "_deepnote_index_column"
        }
       ],
       "preview_row_count": 5,
       "row_count": 5,
       "rows": [
        {
         "InstitutionType": "Two-year",
         "Number_contacted": 12,
         "_deepnote_index_column": 0
        },
        {
         "InstitutionType": "Four-year",
         "Number_contacted": 12,
         "_deepnote_index_column": 1
        },
        {
         "InstitutionType": "Masters",
         "Number_contacted": 21,
         "_deepnote_index_column": 2
        },
        {
         "InstitutionType": "Doctoral",
         "Number_contacted": 35,
         "_deepnote_index_column": 3
        },
        {
         "InstitutionType": "Tribal",
         "Number_contacted": 7,
         "_deepnote_index_column": 4
        }
       ],
       "type": "dataframe"
      },
      "text/html": [
       "<div>\n",
       "<style scoped>\n",
       "    .dataframe tbody tr th:only-of-type {\n",
       "        vertical-align: middle;\n",
       "    }\n",
       "\n",
       "    .dataframe tbody tr th {\n",
       "        vertical-align: top;\n",
       "    }\n",
       "\n",
       "    .dataframe thead th {\n",
       "        text-align: right;\n",
       "    }\n",
       "</style>\n",
       "<table border=\"1\" class=\"dataframe\">\n",
       "  <thead>\n",
       "    <tr style=\"text-align: right;\">\n",
       "      <th></th>\n",
       "      <th>InstitutionType</th>\n",
       "      <th>Number_contacted</th>\n",
       "    </tr>\n",
       "  </thead>\n",
       "  <tbody>\n",
       "    <tr>\n",
       "      <th>0</th>\n",
       "      <td>Two-year</td>\n",
       "      <td>12</td>\n",
       "    </tr>\n",
       "    <tr>\n",
       "      <th>1</th>\n",
       "      <td>Four-year</td>\n",
       "      <td>12</td>\n",
       "    </tr>\n",
       "    <tr>\n",
       "      <th>2</th>\n",
       "      <td>Masters</td>\n",
       "      <td>21</td>\n",
       "    </tr>\n",
       "    <tr>\n",
       "      <th>3</th>\n",
       "      <td>Doctoral</td>\n",
       "      <td>35</td>\n",
       "    </tr>\n",
       "    <tr>\n",
       "      <th>4</th>\n",
       "      <td>Tribal</td>\n",
       "      <td>7</td>\n",
       "    </tr>\n",
       "  </tbody>\n",
       "</table>\n",
       "</div>"
      ],
      "text/plain": [
       "  InstitutionType  Number_contacted\n",
       "0        Two-year                12\n",
       "1       Four-year                12\n",
       "2         Masters                21\n",
       "3        Doctoral                35\n",
       "4          Tribal                 7"
      ]
     },
     "execution_count": 6,
     "metadata": {},
     "output_type": "execute_result"
    }
   ],
   "source": [
    "# Schools contacted, numbers here from our actual email outreach efforts\n",
    "contact = pd.DataFrame({\n",
    "    \"InstitutionType\": [\"Two-year\", \"Four-year\", \"Masters\", \"Doctoral\", \"Tribal\"],\n",
    "    \"Number_contacted\": [12, 12, 21, 35, 7]\n",
    "})\n",
    "contact"
   ]
  },
  {
   "cell_type": "code",
   "execution_count": 7,
   "metadata": {
    "cell_id": "e8972d03f7564c7cbc97234d121dc4f5",
    "deepnote_cell_type": "code",
    "execution_context_id": "3e5c51cf-c3c5-4dc9-b492-f691f1887d86",
    "execution_millis": 2,
    "execution_start": 1756498188348,
    "source_hash": "8f9efe4d"
   },
   "outputs": [
    {
     "data": {
      "application/vnd.deepnote.dataframe.v3+json": {
       "column_count": 2,
       "columns": [
        {
         "dtype": "category",
         "name": "InstitutionType",
         "stats": {
          "categories": [
           {
            "count": 1,
            "name": "Doctoral"
           },
           {
            "count": 1,
            "name": "Four-year"
           },
           {
            "count": 1,
            "name": "Masters"
           }
          ],
          "histogram": null,
          "max": null,
          "min": null,
          "nan_count": 0,
          "unique_count": 3
         }
        },
        {
         "dtype": "int64",
         "name": "Number_contributing",
         "stats": {
          "categories": null,
          "histogram": [
           {
            "bin_end": 1.2,
            "bin_start": 1,
            "count": 2
           },
           {
            "bin_end": 1.4,
            "bin_start": 1.2,
            "count": 0
           },
           {
            "bin_end": 1.6,
            "bin_start": 1.4,
            "count": 0
           },
           {
            "bin_end": 1.8,
            "bin_start": 1.6,
            "count": 0
           },
           {
            "bin_end": 2,
            "bin_start": 1.8,
            "count": 0
           },
           {
            "bin_end": 2.2,
            "bin_start": 2,
            "count": 0
           },
           {
            "bin_end": 2.4000000000000004,
            "bin_start": 2.2,
            "count": 0
           },
           {
            "bin_end": 2.6,
            "bin_start": 2.4000000000000004,
            "count": 0
           },
           {
            "bin_end": 2.8,
            "bin_start": 2.6,
            "count": 0
           },
           {
            "bin_end": 3,
            "bin_start": 2.8,
            "count": 1
           }
          ],
          "max": "3",
          "min": "1",
          "nan_count": 0,
          "unique_count": 2
         }
        },
        {
         "dtype": "int64",
         "name": "_deepnote_index_column"
        }
       ],
       "preview_row_count": 3,
       "row_count": 3,
       "rows": [
        {
         "InstitutionType": "Doctoral",
         "Number_contributing": 1,
         "_deepnote_index_column": 0
        },
        {
         "InstitutionType": "Four-year",
         "Number_contributing": 1,
         "_deepnote_index_column": 1
        },
        {
         "InstitutionType": "Masters",
         "Number_contributing": 3,
         "_deepnote_index_column": 2
        }
       ],
       "type": "dataframe"
      },
      "text/html": [
       "<div>\n",
       "<style scoped>\n",
       "    .dataframe tbody tr th:only-of-type {\n",
       "        vertical-align: middle;\n",
       "    }\n",
       "\n",
       "    .dataframe tbody tr th {\n",
       "        vertical-align: top;\n",
       "    }\n",
       "\n",
       "    .dataframe thead th {\n",
       "        text-align: right;\n",
       "    }\n",
       "</style>\n",
       "<table border=\"1\" class=\"dataframe\">\n",
       "  <thead>\n",
       "    <tr style=\"text-align: right;\">\n",
       "      <th></th>\n",
       "      <th>InstitutionType</th>\n",
       "      <th>Number_contributing</th>\n",
       "    </tr>\n",
       "  </thead>\n",
       "  <tbody>\n",
       "    <tr>\n",
       "      <th>0</th>\n",
       "      <td>Doctoral</td>\n",
       "      <td>1</td>\n",
       "    </tr>\n",
       "    <tr>\n",
       "      <th>1</th>\n",
       "      <td>Four-year</td>\n",
       "      <td>1</td>\n",
       "    </tr>\n",
       "    <tr>\n",
       "      <th>2</th>\n",
       "      <td>Masters</td>\n",
       "      <td>3</td>\n",
       "    </tr>\n",
       "  </tbody>\n",
       "</table>\n",
       "</div>"
      ],
      "text/plain": [
       "  InstitutionType  Number_contributing\n",
       "0        Doctoral                    1\n",
       "1       Four-year                    1\n",
       "2         Masters                    3"
      ]
     },
     "execution_count": 7,
     "metadata": {},
     "output_type": "execute_result"
    }
   ],
   "source": [
    "# Compute number of contributions from each type of institution, using our proofs data file\n",
    "contrib = (\n",
    "    proof_dat.groupby(\n",
    "        \"InstitutionType\",\n",
    "        as_index=False,\n",
    "        observed=False # keep unobserved categories\n",
    "    ).agg(\n",
    "        Number_contributing=(\"InstitutionID\", \"nunique\")\n",
    "    )\n",
    ")\n",
    "contrib"
   ]
  },
  {
   "cell_type": "code",
   "execution_count": 8,
   "metadata": {
    "cell_id": "e8bc96f037e54cfeaced0c3fc5a70d9d",
    "deepnote_cell_type": "code",
    "execution_context_id": "3e5c51cf-c3c5-4dc9-b492-f691f1887d86",
    "execution_millis": 0,
    "execution_start": 1756498188408,
    "source_hash": "6c4e88ed"
   },
   "outputs": [
    {
     "data": {
      "application/vnd.deepnote.dataframe.v3+json": {
       "column_count": 4,
       "columns": [
        {
         "dtype": "category",
         "name": "InstitutionType",
         "stats": {
          "categories": [
           {
            "count": 1,
            "name": "Two-year"
           },
           {
            "count": 1,
            "name": "Four-year"
           },
           {
            "count": 3,
            "name": "3 others"
           }
          ],
          "histogram": null,
          "max": null,
          "min": null,
          "nan_count": 0,
          "unique_count": 5
         }
        },
        {
         "dtype": "int64",
         "name": "Number_in_US",
         "stats": {
          "categories": null,
          "histogram": [
           {
            "bin_end": 174.9,
            "bin_start": 35,
            "count": 1
           },
           {
            "bin_end": 314.8,
            "bin_start": 174.9,
            "count": 0
           },
           {
            "bin_end": 454.70000000000005,
            "bin_start": 314.8,
            "count": 0
           },
           {
            "bin_end": 594.6,
            "bin_start": 454.70000000000005,
            "count": 1
           },
           {
            "bin_end": 734.5,
            "bin_start": 594.6,
            "count": 1
           },
           {
            "bin_end": 874.4000000000001,
            "bin_start": 734.5,
            "count": 0
           },
           {
            "bin_end": 1014.3000000000001,
            "bin_start": 874.4000000000001,
            "count": 0
           },
           {
            "bin_end": 1154.2,
            "bin_start": 1014.3000000000001,
            "count": 0
           },
           {
            "bin_end": 1294.1000000000001,
            "bin_start": 1154.2,
            "count": 1
           },
           {
            "bin_end": 1434,
            "bin_start": 1294.1000000000001,
            "count": 1
           }
          ],
          "max": "1434",
          "min": "35",
          "nan_count": 0,
          "unique_count": 5
         }
        },
        {
         "dtype": "int64",
         "name": "Number_contacted",
         "stats": {
          "categories": null,
          "histogram": [
           {
            "bin_end": 9.8,
            "bin_start": 7,
            "count": 1
           },
           {
            "bin_end": 12.6,
            "bin_start": 9.8,
            "count": 2
           },
           {
            "bin_end": 15.399999999999999,
            "bin_start": 12.6,
            "count": 0
           },
           {
            "bin_end": 18.2,
            "bin_start": 15.399999999999999,
            "count": 0
           },
           {
            "bin_end": 21,
            "bin_start": 18.2,
            "count": 0
           },
           {
            "bin_end": 23.799999999999997,
            "bin_start": 21,
            "count": 1
           },
           {
            "bin_end": 26.599999999999998,
            "bin_start": 23.799999999999997,
            "count": 0
           },
           {
            "bin_end": 29.4,
            "bin_start": 26.599999999999998,
            "count": 0
           },
           {
            "bin_end": 32.2,
            "bin_start": 29.4,
            "count": 0
           },
           {
            "bin_end": 35,
            "bin_start": 32.2,
            "count": 1
           }
          ],
          "max": "35",
          "min": "7",
          "nan_count": 0,
          "unique_count": 4
         }
        },
        {
         "dtype": "int64",
         "name": "Number_contributing",
         "stats": {
          "categories": null,
          "histogram": [
           {
            "bin_end": 0.3,
            "bin_start": 0,
            "count": 2
           },
           {
            "bin_end": 0.6,
            "bin_start": 0.3,
            "count": 0
           },
           {
            "bin_end": 0.8999999999999999,
            "bin_start": 0.6,
            "count": 0
           },
           {
            "bin_end": 1.2,
            "bin_start": 0.8999999999999999,
            "count": 2
           },
           {
            "bin_end": 1.5,
            "bin_start": 1.2,
            "count": 0
           },
           {
            "bin_end": 1.7999999999999998,
            "bin_start": 1.5,
            "count": 0
           },
           {
            "bin_end": 2.1,
            "bin_start": 1.7999999999999998,
            "count": 0
           },
           {
            "bin_end": 2.4,
            "bin_start": 2.1,
            "count": 0
           },
           {
            "bin_end": 2.6999999999999997,
            "bin_start": 2.4,
            "count": 0
           },
           {
            "bin_end": 3,
            "bin_start": 2.6999999999999997,
            "count": 1
           }
          ],
          "max": "3",
          "min": "0",
          "nan_count": 0,
          "unique_count": 3
         }
        },
        {
         "dtype": "int64",
         "name": "_deepnote_index_column"
        }
       ],
       "preview_row_count": 5,
       "row_count": 5,
       "rows": [
        {
         "InstitutionType": "Two-year",
         "Number_contacted": 12,
         "Number_contributing": 0,
         "Number_in_US": 1266,
         "_deepnote_index_column": 0
        },
        {
         "InstitutionType": "Four-year",
         "Number_contacted": 12,
         "Number_contributing": 1,
         "Number_in_US": 1434,
         "_deepnote_index_column": 1
        },
        {
         "InstitutionType": "Masters",
         "Number_contacted": 21,
         "Number_contributing": 3,
         "Number_in_US": 658,
         "_deepnote_index_column": 2
        },
        {
         "InstitutionType": "Doctoral",
         "Number_contacted": 35,
         "Number_contributing": 1,
         "Number_in_US": 465,
         "_deepnote_index_column": 3
        },
        {
         "InstitutionType": "Tribal",
         "Number_contacted": 7,
         "Number_contributing": 0,
         "Number_in_US": 35,
         "_deepnote_index_column": 4
        }
       ],
       "type": "dataframe"
      },
      "text/html": [
       "<div>\n",
       "<style scoped>\n",
       "    .dataframe tbody tr th:only-of-type {\n",
       "        vertical-align: middle;\n",
       "    }\n",
       "\n",
       "    .dataframe tbody tr th {\n",
       "        vertical-align: top;\n",
       "    }\n",
       "\n",
       "    .dataframe thead th {\n",
       "        text-align: right;\n",
       "    }\n",
       "</style>\n",
       "<table border=\"1\" class=\"dataframe\">\n",
       "  <thead>\n",
       "    <tr style=\"text-align: right;\">\n",
       "      <th></th>\n",
       "      <th>InstitutionType</th>\n",
       "      <th>Number_in_US</th>\n",
       "      <th>Number_contacted</th>\n",
       "      <th>Number_contributing</th>\n",
       "    </tr>\n",
       "  </thead>\n",
       "  <tbody>\n",
       "    <tr>\n",
       "      <th>0</th>\n",
       "      <td>Two-year</td>\n",
       "      <td>1266</td>\n",
       "      <td>12</td>\n",
       "      <td>0</td>\n",
       "    </tr>\n",
       "    <tr>\n",
       "      <th>1</th>\n",
       "      <td>Four-year</td>\n",
       "      <td>1434</td>\n",
       "      <td>12</td>\n",
       "      <td>1</td>\n",
       "    </tr>\n",
       "    <tr>\n",
       "      <th>2</th>\n",
       "      <td>Masters</td>\n",
       "      <td>658</td>\n",
       "      <td>21</td>\n",
       "      <td>3</td>\n",
       "    </tr>\n",
       "    <tr>\n",
       "      <th>3</th>\n",
       "      <td>Doctoral</td>\n",
       "      <td>465</td>\n",
       "      <td>35</td>\n",
       "      <td>1</td>\n",
       "    </tr>\n",
       "    <tr>\n",
       "      <th>4</th>\n",
       "      <td>Tribal</td>\n",
       "      <td>35</td>\n",
       "      <td>7</td>\n",
       "      <td>0</td>\n",
       "    </tr>\n",
       "  </tbody>\n",
       "</table>\n",
       "</div>"
      ],
      "text/plain": [
       "  InstitutionType  Number_in_US  Number_contacted  Number_contributing\n",
       "0        Two-year          1266                12                    0\n",
       "1       Four-year          1434                12                    1\n",
       "2         Masters           658                21                    3\n",
       "3        Doctoral           465                35                    1\n",
       "4          Tribal            35                 7                    0"
      ]
     },
     "execution_count": 8,
     "metadata": {},
     "output_type": "execute_result"
    }
   ],
   "source": [
    "# Merge dataframes\n",
    "m = pd.merge(us, contact, on=\"InstitutionType\", how=\"outer\")\n",
    "m = pd.merge(m, contrib, on=\"InstitutionType\", how=\"outer\")\n",
    "m = m.sort_values(\"InstitutionType\").reset_index(drop=True)\n",
    "\n",
    "# Set order\n",
    "m[\"InstitutionType\"] = pd.Categorical(\n",
    "    m[\"InstitutionType\"],\n",
    "    categories=[\"Two-year\", \"Four-year\", \"Masters\", \"Doctoral\", \"Tribal\"],\n",
    "    ordered=True\n",
    ")\n",
    "m = m.sort_values(\"InstitutionType\").reset_index(drop=True)\n",
    "\n",
    "# Add zeros for unobserved institution types\n",
    "m['Number_contributing'] = m['Number_contributing'].fillna(0).astype(int)\n",
    "\n",
    "# View results\n",
    "m"
   ]
  },
  {
   "cell_type": "code",
   "execution_count": 9,
   "metadata": {
    "cell_id": "6a2aa0d877754c4e95a412d0ab8ae6c0",
    "deepnote_cell_type": "code",
    "execution_context_id": "3e5c51cf-c3c5-4dc9-b492-f691f1887d86",
    "execution_millis": 1,
    "execution_start": 1756498188468,
    "source_hash": "dc10d88e"
   },
   "outputs": [
    {
     "data": {
      "application/vnd.deepnote.dataframe.v3+json": {
       "column_count": 7,
       "columns": [
        {
         "dtype": "object",
         "name": "Institution type",
         "stats": {
          "categories": [
           {
            "count": 1,
            "name": "Two-year"
           },
           {
            "count": 1,
            "name": "Four-year"
           },
           {
            "count": 4,
            "name": "4 others"
           }
          ],
          "histogram": null,
          "max": null,
          "min": null,
          "nan_count": 0,
          "unique_count": 6
         }
        },
        {
         "dtype": "int64",
         "name": "Number in U.S.",
         "stats": {
          "categories": null,
          "histogram": [
           {
            "bin_end": 417.3,
            "bin_start": 35,
            "count": 1
           },
           {
            "bin_end": 799.6,
            "bin_start": 417.3,
            "count": 2
           },
           {
            "bin_end": 1181.9,
            "bin_start": 799.6,
            "count": 0
           },
           {
            "bin_end": 1564.2,
            "bin_start": 1181.9,
            "count": 2
           },
           {
            "bin_end": 1946.5,
            "bin_start": 1564.2,
            "count": 0
           },
           {
            "bin_end": 2328.8,
            "bin_start": 1946.5,
            "count": 0
           },
           {
            "bin_end": 2711.1,
            "bin_start": 2328.8,
            "count": 0
           },
           {
            "bin_end": 3093.4,
            "bin_start": 2711.1,
            "count": 0
           },
           {
            "bin_end": 3475.7000000000003,
            "bin_start": 3093.4,
            "count": 0
           },
           {
            "bin_end": 3858,
            "bin_start": 3475.7000000000003,
            "count": 1
           }
          ],
          "max": "3858",
          "min": "35",
          "nan_count": 0,
          "unique_count": 6
         }
        },
        {
         "dtype": "object",
         "name": "Percent of Total",
         "stats": {
          "categories": [
           {
            "count": 1,
            "name": "32.8%"
           },
           {
            "count": 1,
            "name": "37.2%"
           },
           {
            "count": 4,
            "name": "4 others"
           }
          ],
          "histogram": null,
          "max": null,
          "min": null,
          "nan_count": 0,
          "unique_count": 6
         }
        },
        {
         "dtype": "int64",
         "name": "Number contacted",
         "stats": {
          "categories": null,
          "histogram": [
           {
            "bin_end": 15,
            "bin_start": 7,
            "count": 3
           },
           {
            "bin_end": 23,
            "bin_start": 15,
            "count": 1
           },
           {
            "bin_end": 31,
            "bin_start": 23,
            "count": 0
           },
           {
            "bin_end": 39,
            "bin_start": 31,
            "count": 1
           },
           {
            "bin_end": 47,
            "bin_start": 39,
            "count": 0
           },
           {
            "bin_end": 55,
            "bin_start": 47,
            "count": 0
           },
           {
            "bin_end": 63,
            "bin_start": 55,
            "count": 0
           },
           {
            "bin_end": 71,
            "bin_start": 63,
            "count": 0
           },
           {
            "bin_end": 79,
            "bin_start": 71,
            "count": 0
           },
           {
            "bin_end": 87,
            "bin_start": 79,
            "count": 1
           }
          ],
          "max": "87",
          "min": "7",
          "nan_count": 0,
          "unique_count": 5
         }
        },
        {
         "dtype": "object",
         "name": "Percent of Total.1",
         "stats": {
          "categories": [
           {
            "count": 2,
            "name": "13.8%"
           },
           {
            "count": 1,
            "name": "24.1%"
           },
           {
            "count": 3,
            "name": "3 others"
           }
          ],
          "histogram": null,
          "max": null,
          "min": null,
          "nan_count": 0,
          "unique_count": 5
         }
        },
        {
         "dtype": "int64",
         "name": "Number contributing",
         "stats": {
          "categories": null,
          "histogram": [
           {
            "bin_end": 0.5,
            "bin_start": 0,
            "count": 2
           },
           {
            "bin_end": 1,
            "bin_start": 0.5,
            "count": 0
           },
           {
            "bin_end": 1.5,
            "bin_start": 1,
            "count": 2
           },
           {
            "bin_end": 2,
            "bin_start": 1.5,
            "count": 0
           },
           {
            "bin_end": 2.5,
            "bin_start": 2,
            "count": 0
           },
           {
            "bin_end": 3,
            "bin_start": 2.5,
            "count": 0
           },
           {
            "bin_end": 3.5,
            "bin_start": 3,
            "count": 1
           },
           {
            "bin_end": 4,
            "bin_start": 3.5,
            "count": 0
           },
           {
            "bin_end": 4.5,
            "bin_start": 4,
            "count": 0
           },
           {
            "bin_end": 5,
            "bin_start": 4.5,
            "count": 1
           }
          ],
          "max": "5",
          "min": "0",
          "nan_count": 0,
          "unique_count": 4
         }
        },
        {
         "dtype": "object",
         "name": "Percent of Total.2",
         "stats": {
          "categories": [
           {
            "count": 2,
            "name": "0%"
           },
           {
            "count": 2,
            "name": "20%"
           },
           {
            "count": 2,
            "name": "2 others"
           }
          ],
          "histogram": null,
          "max": null,
          "min": null,
          "nan_count": 0,
          "unique_count": 4
         }
        },
        {
         "dtype": "int64",
         "name": "_deepnote_index_column"
        }
       ],
       "preview_row_count": 6,
       "row_count": 6,
       "rows": [
        {
         "Institution type": "Two-year",
         "Number contacted": 12,
         "Number contributing": 0,
         "Number in U.S.": 1266,
         "Percent of Total": "32.8%",
         "Percent of Total.1": "13.8%",
         "Percent of Total.2": "0%",
         "_deepnote_index_column": 0
        },
        {
         "Institution type": "Four-year",
         "Number contacted": 12,
         "Number contributing": 1,
         "Number in U.S.": 1434,
         "Percent of Total": "37.2%",
         "Percent of Total.1": "13.8%",
         "Percent of Total.2": "20%",
         "_deepnote_index_column": 1
        },
        {
         "Institution type": "Masters",
         "Number contacted": 21,
         "Number contributing": 3,
         "Number in U.S.": 658,
         "Percent of Total": "17.1%",
         "Percent of Total.1": "24.1%",
         "Percent of Total.2": "60%",
         "_deepnote_index_column": 2
        },
        {
         "Institution type": "Doctoral",
         "Number contacted": 35,
         "Number contributing": 1,
         "Number in U.S.": 465,
         "Percent of Total": "12.1%",
         "Percent of Total.1": "40.2%",
         "Percent of Total.2": "20%",
         "_deepnote_index_column": 3
        },
        {
         "Institution type": "Tribal",
         "Number contacted": 7,
         "Number contributing": 0,
         "Number in U.S.": 35,
         "Percent of Total": "0.9%",
         "Percent of Total.1": "8.0%",
         "Percent of Total.2": "0%",
         "_deepnote_index_column": 4
        },
        {
         "Institution type": "Total",
         "Number contacted": 87,
         "Number contributing": 5,
         "Number in U.S.": 3858,
         "Percent of Total": "100.0%",
         "Percent of Total.1": "100.0%",
         "Percent of Total.2": "100%",
         "_deepnote_index_column": 5
        }
       ],
       "type": "dataframe"
      },
      "text/html": [
       "<div>\n",
       "<style scoped>\n",
       "    .dataframe tbody tr th:only-of-type {\n",
       "        vertical-align: middle;\n",
       "    }\n",
       "\n",
       "    .dataframe tbody tr th {\n",
       "        vertical-align: top;\n",
       "    }\n",
       "\n",
       "    .dataframe thead th {\n",
       "        text-align: right;\n",
       "    }\n",
       "</style>\n",
       "<table border=\"1\" class=\"dataframe\">\n",
       "  <thead>\n",
       "    <tr style=\"text-align: right;\">\n",
       "      <th></th>\n",
       "      <th>Institution type</th>\n",
       "      <th>Number in U.S.</th>\n",
       "      <th>Percent of Total</th>\n",
       "      <th>Number contacted</th>\n",
       "      <th>Percent of Total</th>\n",
       "      <th>Number contributing</th>\n",
       "      <th>Percent of Total</th>\n",
       "    </tr>\n",
       "  </thead>\n",
       "  <tbody>\n",
       "    <tr>\n",
       "      <th>0</th>\n",
       "      <td>Two-year</td>\n",
       "      <td>1266</td>\n",
       "      <td>32.8%</td>\n",
       "      <td>12</td>\n",
       "      <td>13.8%</td>\n",
       "      <td>0</td>\n",
       "      <td>0%</td>\n",
       "    </tr>\n",
       "    <tr>\n",
       "      <th>1</th>\n",
       "      <td>Four-year</td>\n",
       "      <td>1434</td>\n",
       "      <td>37.2%</td>\n",
       "      <td>12</td>\n",
       "      <td>13.8%</td>\n",
       "      <td>1</td>\n",
       "      <td>20%</td>\n",
       "    </tr>\n",
       "    <tr>\n",
       "      <th>2</th>\n",
       "      <td>Masters</td>\n",
       "      <td>658</td>\n",
       "      <td>17.1%</td>\n",
       "      <td>21</td>\n",
       "      <td>24.1%</td>\n",
       "      <td>3</td>\n",
       "      <td>60%</td>\n",
       "    </tr>\n",
       "    <tr>\n",
       "      <th>3</th>\n",
       "      <td>Doctoral</td>\n",
       "      <td>465</td>\n",
       "      <td>12.1%</td>\n",
       "      <td>35</td>\n",
       "      <td>40.2%</td>\n",
       "      <td>1</td>\n",
       "      <td>20%</td>\n",
       "    </tr>\n",
       "    <tr>\n",
       "      <th>4</th>\n",
       "      <td>Tribal</td>\n",
       "      <td>35</td>\n",
       "      <td>0.9%</td>\n",
       "      <td>7</td>\n",
       "      <td>8.0%</td>\n",
       "      <td>0</td>\n",
       "      <td>0%</td>\n",
       "    </tr>\n",
       "    <tr>\n",
       "      <th>5</th>\n",
       "      <td>Total</td>\n",
       "      <td>3858</td>\n",
       "      <td>100.0%</td>\n",
       "      <td>87</td>\n",
       "      <td>100.0%</td>\n",
       "      <td>5</td>\n",
       "      <td>100%</td>\n",
       "    </tr>\n",
       "  </tbody>\n",
       "</table>\n",
       "</div>"
      ],
      "text/plain": [
       "  Institution type  Number in U.S. Percent of Total  Number contacted  \\\n",
       "0         Two-year            1266            32.8%                12   \n",
       "1        Four-year            1434            37.2%                12   \n",
       "2          Masters             658            17.1%                21   \n",
       "3         Doctoral             465            12.1%                35   \n",
       "4           Tribal              35             0.9%                 7   \n",
       "5            Total            3858           100.0%                87   \n",
       "\n",
       "  Percent of Total  Number contributing Percent of Total  \n",
       "0            13.8%                    0               0%  \n",
       "1            13.8%                    1              20%  \n",
       "2            24.1%                    3              60%  \n",
       "3            40.2%                    1              20%  \n",
       "4             8.0%                    0               0%  \n",
       "5           100.0%                    5             100%  "
      ]
     },
     "execution_count": 9,
     "metadata": {},
     "output_type": "execute_result"
    }
   ],
   "source": [
    "# Add columns for percentages\n",
    "m[\"Pct_US\"] = (100 * m[\"Number_in_US\"] / m[\"Number_in_US\"].sum()).map(\"{:.1f}%\".format)\n",
    "m[\"Pct_contact\"] = (100 * m[\"Number_contacted\"] / m[\"Number_contacted\"].sum()).map(\"{:.1f}%\".format)\n",
    "m[\"Pct_contrib\"] = (100 * m[\"Number_contributing\"] / m[\"Number_contributing\"].sum()).map(\"{:.0f}%\".format)\n",
    "\n",
    "# Add \"Total\" row at bottom\n",
    "total = pd.DataFrame([{\n",
    "    \"InstitutionType\": \"Total\",\n",
    "    \"Number_in_US\": m[\"Number_in_US\"].sum(),\n",
    "    \"Number_contacted\": m[\"Number_contacted\"].sum(),\n",
    "    \"Number_contributing\": m[\"Number_contributing\"].sum(),\n",
    "    \"Pct_US\": \"100.0%\", \"Pct_contact\": \"100.0%\", \"Pct_contrib\": \"100%\"\n",
    "}])\n",
    "\n",
    "tab_1 = pd.concat([m, total], axis=0, ignore_index=True)\n",
    "\n",
    "# reorder columns\n",
    "tab_1 = tab_1[[\n",
    "    \"InstitutionType\",\"Number_in_US\",\"Pct_US\",\n",
    "    \"Number_contacted\",\"Pct_contact\",\n",
    "    \"Number_contributing\",\"Pct_contrib\"\n",
    "]]\n",
    "\n",
    "# rename columns\n",
    "tab_1 = tab_1.rename(columns={\n",
    "    \"InstitutionType\": \"Institution type\",\n",
    "    \"Number_in_US\": \"Number in U.S.\",\n",
    "    \"Pct_US\": \"Percent of Total\",\n",
    "    \"Number_contacted\": \"Number contacted\",\n",
    "    \"Pct_contact\": \"Percent of Total\",\n",
    "    \"Number_contributing\": \"Number contributing\",\n",
    "    \"Pct_contrib\": \"Percent of Total\"\n",
    "})\n",
    "tab_1"
   ]
  },
  {
   "cell_type": "code",
   "execution_count": 10,
   "metadata": {
    "cell_id": "2ca40967027b4d89a915efec82993562",
    "deepnote_cell_type": "code",
    "execution_context_id": "3e5c51cf-c3c5-4dc9-b492-f691f1887d86",
    "execution_millis": 23,
    "execution_start": 1756498188518,
    "source_hash": "69b7cc8a"
   },
   "outputs": [
    {
     "name": "stdout",
     "output_type": "stream",
     "text": [
      "\\begin{tabular}{lrlrlrl}\n",
      "\\toprule\n",
      "Institution type & Number in U.S. & Percent of Total & Number contacted & Percent of Total & Number contributing & Percent of Total \\\\\n",
      "\\midrule\n",
      "Two-year & 1266 & 32.8% & 12 & 13.8% & 0 & 0% \\\\\n",
      "Four-year & 1434 & 37.2% & 12 & 13.8% & 1 & 20% \\\\\n",
      "Masters & 658 & 17.1% & 21 & 24.1% & 3 & 60% \\\\\n",
      "Doctoral & 465 & 12.1% & 35 & 40.2% & 1 & 20% \\\\\n",
      "Tribal & 35 & 0.9% & 7 & 8.0% & 0 & 0% \\\\\n",
      "Total & 3858 & 100.0% & 87 & 100.0% & 5 & 100% \\\\\n",
      "\\bottomrule\n",
      "\\end{tabular}\n",
      "\n"
     ]
    }
   ],
   "source": [
    "print(tab_1.to_latex(index=False))"
   ]
  },
  {
   "cell_type": "markdown",
   "metadata": {
    "cell_id": "1e64ea331ad84af2be583d56bcbbce45",
    "deepnote_cell_type": "text-cell-p",
    "formattedRanges": [
     {
      "fromCodePoint": 0,
      "marks": {
       "bold": true
      },
      "toCodePoint": 3,
      "type": "marks"
     }
    ]
   },
   "source": [
    "5.3"
   ]
  },
  {
   "cell_type": "markdown",
   "metadata": {
    "cell_id": "7e0854f101dd4158b5fd8c424fce66ad",
    "deepnote_cell_type": "markdown",
    "id": "UEoih8y-qByP"
   },
   "source": [
    "**Table 2.** Each student proof was classified into one topic from the list below."
   ]
  },
  {
   "cell_type": "code",
   "execution_count": 11,
   "metadata": {
    "cell_id": "1b1d4d7ef47747288aedf76a910315e0",
    "deepnote_cell_type": "code",
    "deepnote_table_loading": false,
    "deepnote_table_state": {
     "cellFormattingRules": [],
     "columnDisplayNames": [],
     "columnOrder": [
      "Topic",
      "No. proofs",
      "Description"
     ],
     "conditionalFilters": [],
     "filters": [],
     "hiddenColumnIds": [],
     "pageIndex": 0,
     "pageSize": 25,
     "sortBy": [],
     "wrappedTextColumnIds": []
    },
    "execution_context_id": "3e5c51cf-c3c5-4dc9-b492-f691f1887d86",
    "execution_millis": 1,
    "execution_start": 1756498188598,
    "id": "Gz2myLfPp5N2",
    "source_hash": "1a0e5a8d"
   },
   "outputs": [
    {
     "data": {
      "application/vnd.deepnote.dataframe.v3+json": {
       "column_count": 3,
       "columns": [
        {
         "dtype": "category",
         "name": "Topic",
         "stats": {
          "categories": [
           {
            "count": 1,
            "name": "linear algebra"
           },
           {
            "count": 1,
            "name": "modular arithmetic"
           },
           {
            "count": 9,
            "name": "9 others"
           }
          ],
          "histogram": null,
          "max": null,
          "min": null,
          "nan_count": 0,
          "unique_count": 11
         }
        },
        {
         "dtype": "int64",
         "name": "No. proofs",
         "stats": {
          "categories": null,
          "histogram": [
           {
            "bin_end": 36.2,
            "bin_start": 2,
            "count": 6
           },
           {
            "bin_end": 70.4,
            "bin_start": 36.2,
            "count": 2
           },
           {
            "bin_end": 104.60000000000001,
            "bin_start": 70.4,
            "count": 1
           },
           {
            "bin_end": 138.8,
            "bin_start": 104.60000000000001,
            "count": 0
           },
           {
            "bin_end": 173,
            "bin_start": 138.8,
            "count": 0
           },
           {
            "bin_end": 207.20000000000002,
            "bin_start": 173,
            "count": 1
           },
           {
            "bin_end": 241.40000000000003,
            "bin_start": 207.20000000000002,
            "count": 0
           },
           {
            "bin_end": 275.6,
            "bin_start": 241.40000000000003,
            "count": 0
           },
           {
            "bin_end": 309.8,
            "bin_start": 275.6,
            "count": 0
           },
           {
            "bin_end": 344,
            "bin_start": 309.8,
            "count": 1
           }
          ],
          "max": "344",
          "min": "2",
          "nan_count": 0,
          "unique_count": 10
         }
        },
        {
         "dtype": "int64",
         "name": "No. graded",
         "stats": {
          "categories": null,
          "histogram": [
           {
            "bin_end": 10,
            "bin_start": 0,
            "count": 6
           },
           {
            "bin_end": 20,
            "bin_start": 10,
            "count": 2
           },
           {
            "bin_end": 30,
            "bin_start": 20,
            "count": 1
           },
           {
            "bin_end": 40,
            "bin_start": 30,
            "count": 0
           },
           {
            "bin_end": 50,
            "bin_start": 40,
            "count": 1
           },
           {
            "bin_end": 60,
            "bin_start": 50,
            "count": 0
           },
           {
            "bin_end": 70,
            "bin_start": 60,
            "count": 0
           },
           {
            "bin_end": 80,
            "bin_start": 70,
            "count": 0
           },
           {
            "bin_end": 90,
            "bin_start": 80,
            "count": 0
           },
           {
            "bin_end": 100,
            "bin_start": 90,
            "count": 1
           }
          ],
          "max": "100",
          "min": "0",
          "nan_count": 0,
          "unique_count": 10
         }
        },
        {
         "dtype": "int64",
         "name": "_deepnote_index_column"
        }
       ],
       "preview_row_count": 11,
       "row_count": 11,
       "rows": [
        {
         "No. graded": 100,
         "No. proofs": 344,
         "Topic": "linear algebra",
         "_deepnote_index_column": 0
        },
        {
         "No. graded": 42,
         "No. proofs": 190,
         "Topic": "modular arithmetic",
         "_deepnote_index_column": 1
        },
        {
         "No. graded": 25,
         "No. proofs": 77,
         "Topic": "set theory",
         "_deepnote_index_column": 2
        },
        {
         "No. graded": 19,
         "No. proofs": 69,
         "Topic": "induction",
         "_deepnote_index_column": 3
        },
        {
         "No. graded": 12,
         "No. proofs": 41,
         "Topic": "real numbers",
         "_deepnote_index_column": 4
        },
        {
         "No. graded": 6,
         "No. proofs": 17,
         "Topic": "combinatorics",
         "_deepnote_index_column": 5
        },
        {
         "No. graded": 1,
         "No. proofs": 17,
         "Topic": "gcd",
         "_deepnote_index_column": 6
        },
        {
         "No. graded": 3,
         "No. proofs": 11,
         "Topic": "relations",
         "_deepnote_index_column": 7
        },
        {
         "No. graded": 4,
         "No. proofs": 9,
         "Topic": "functions",
         "_deepnote_index_column": 8
        },
        {
         "No. graded": 0,
         "No. proofs": 4,
         "Topic": "rational numbers",
         "_deepnote_index_column": 9
        },
        {
         "No. graded": 1,
         "No. proofs": 2,
         "Topic": "Gaussian integers",
         "_deepnote_index_column": 10
        }
       ],
       "type": "dataframe"
      },
      "text/html": [
       "<div>\n",
       "<style scoped>\n",
       "    .dataframe tbody tr th:only-of-type {\n",
       "        vertical-align: middle;\n",
       "    }\n",
       "\n",
       "    .dataframe tbody tr th {\n",
       "        vertical-align: top;\n",
       "    }\n",
       "\n",
       "    .dataframe thead th {\n",
       "        text-align: right;\n",
       "    }\n",
       "</style>\n",
       "<table border=\"1\" class=\"dataframe\">\n",
       "  <thead>\n",
       "    <tr style=\"text-align: right;\">\n",
       "      <th></th>\n",
       "      <th>Topic</th>\n",
       "      <th>No. proofs</th>\n",
       "      <th>No. graded</th>\n",
       "    </tr>\n",
       "  </thead>\n",
       "  <tbody>\n",
       "    <tr>\n",
       "      <th>0</th>\n",
       "      <td>linear algebra</td>\n",
       "      <td>344</td>\n",
       "      <td>100</td>\n",
       "    </tr>\n",
       "    <tr>\n",
       "      <th>1</th>\n",
       "      <td>modular arithmetic</td>\n",
       "      <td>190</td>\n",
       "      <td>42</td>\n",
       "    </tr>\n",
       "    <tr>\n",
       "      <th>2</th>\n",
       "      <td>set theory</td>\n",
       "      <td>77</td>\n",
       "      <td>25</td>\n",
       "    </tr>\n",
       "    <tr>\n",
       "      <th>3</th>\n",
       "      <td>induction</td>\n",
       "      <td>69</td>\n",
       "      <td>19</td>\n",
       "    </tr>\n",
       "    <tr>\n",
       "      <th>4</th>\n",
       "      <td>real numbers</td>\n",
       "      <td>41</td>\n",
       "      <td>12</td>\n",
       "    </tr>\n",
       "    <tr>\n",
       "      <th>5</th>\n",
       "      <td>combinatorics</td>\n",
       "      <td>17</td>\n",
       "      <td>6</td>\n",
       "    </tr>\n",
       "    <tr>\n",
       "      <th>6</th>\n",
       "      <td>gcd</td>\n",
       "      <td>17</td>\n",
       "      <td>1</td>\n",
       "    </tr>\n",
       "    <tr>\n",
       "      <th>7</th>\n",
       "      <td>relations</td>\n",
       "      <td>11</td>\n",
       "      <td>3</td>\n",
       "    </tr>\n",
       "    <tr>\n",
       "      <th>8</th>\n",
       "      <td>functions</td>\n",
       "      <td>9</td>\n",
       "      <td>4</td>\n",
       "    </tr>\n",
       "    <tr>\n",
       "      <th>9</th>\n",
       "      <td>rational numbers</td>\n",
       "      <td>4</td>\n",
       "      <td>0</td>\n",
       "    </tr>\n",
       "    <tr>\n",
       "      <th>10</th>\n",
       "      <td>Gaussian integers</td>\n",
       "      <td>2</td>\n",
       "      <td>1</td>\n",
       "    </tr>\n",
       "  </tbody>\n",
       "</table>\n",
       "</div>"
      ],
      "text/plain": [
       "                 Topic  No. proofs  No. graded\n",
       "0       linear algebra         344         100\n",
       "1   modular arithmetic         190          42\n",
       "2           set theory          77          25\n",
       "3            induction          69          19\n",
       "4         real numbers          41          12\n",
       "5        combinatorics          17           6\n",
       "6                  gcd          17           1\n",
       "7            relations          11           3\n",
       "8            functions           9           4\n",
       "9     rational numbers           4           0\n",
       "10   Gaussian integers           2           1"
      ]
     },
     "execution_count": 11,
     "metadata": {},
     "output_type": "execute_result"
    }
   ],
   "source": [
    "# ------------------------------------------------------------------------------\n",
    "# Table 2: Mathematical topics\n",
    "# ------------------------------------------------------------------------------\n",
    "\n",
    "# Topics\n",
    "descriptions = {\n",
    "    \"linear algebra\": \"matrices, vectors, determinants, vector spaces, spans, null spaces, etc\",\n",
    "    \"modular arithmetic\": \"modular arithmetic and divisibility, grouped because proofs involving one of these topics often involve the other\",\n",
    "    \"set theory\": \"statements whose primary operators are set equality, subset, intersection, etc., even if the defining properties of the sets falls into another topic (e.g., rational numbers)\",\n",
    "    \"induction\": \"proofs by mathematical induction, even if the statement to be proven falls into one of the other topics (e.g., divisibility)\",\n",
    "    \"real numbers\": \"proofs that rely on properties or axioms of the real numbers, such as the Archimedian property, algebraic rules, or decimal expansions\",\n",
    "    \"combinatorics\": \"identities about factorials, combinations, and permutations\",\n",
    "    \"gcd\": \"equalities or inequalities primarily involving the gcd function\",\n",
    "    \"relations\": \"statements about relations, such as whether they are reflexive, symmetric, transitive, linear, total, etc.\",\n",
    "    \"functions\": \"function properties such as injective, surjective, or total\",\n",
    "    \"rational numbers\": \"statements that are primarily about rational numbers and/or proofs that rely on the definition of rational numbers\",\n",
    "    \"Gaussian integers\": \"statements about ordered pairs of integers\",\n",
    "    \"Total\": \"\"\n",
    "}\n",
    "\n",
    "# Proof count per topic\n",
    "topics_dat = (\n",
    "    proof_dat\n",
    "    .groupby(\"Topic\",observed=True)                     # by topic\n",
    "    .agg(\n",
    "        **{\n",
    "            \"No. proofs\": (\"ProofID\", \"count\"),\n",
    "            \"No. graded\": (\"HasHumanGrade\", \"sum\")\n",
    "        }\n",
    "    )\n",
    "    .reset_index()                                       # convert to df\n",
    "    .sort_values(\"No. proofs\", ascending=False)          # sort\n",
    "    .reset_index(drop=True)                              # fix index (optional)\n",
    ")\n",
    "\n",
    "topics_dat"
   ]
  },
  {
   "cell_type": "code",
   "execution_count": 12,
   "metadata": {
    "cell_id": "fa24cd402b314717834af82f680ffa10",
    "deepnote_cell_type": "code",
    "execution_context_id": "3e5c51cf-c3c5-4dc9-b492-f691f1887d86",
    "execution_millis": 0,
    "execution_start": 1756498188649,
    "source_hash": "319b5891"
   },
   "outputs": [
    {
     "data": {
      "application/vnd.deepnote.dataframe.v3+json": {
       "column_count": 4,
       "columns": [
        {
         "dtype": "object",
         "name": "Topic",
         "stats": {
          "categories": [
           {
            "count": 1,
            "name": "linear algebra"
           },
           {
            "count": 1,
            "name": "modular arithmetic"
           },
           {
            "count": 10,
            "name": "10 others"
           }
          ],
          "histogram": null,
          "max": null,
          "min": null,
          "nan_count": 0,
          "unique_count": 12
         }
        },
        {
         "dtype": "int64",
         "name": "No. proofs",
         "stats": {
          "categories": null,
          "histogram": [
           {
            "bin_end": 79.9,
            "bin_start": 2,
            "count": 9
           },
           {
            "bin_end": 157.8,
            "bin_start": 79.9,
            "count": 0
           },
           {
            "bin_end": 235.70000000000002,
            "bin_start": 157.8,
            "count": 1
           },
           {
            "bin_end": 313.6,
            "bin_start": 235.70000000000002,
            "count": 0
           },
           {
            "bin_end": 391.5,
            "bin_start": 313.6,
            "count": 1
           },
           {
            "bin_end": 469.40000000000003,
            "bin_start": 391.5,
            "count": 0
           },
           {
            "bin_end": 547.3000000000001,
            "bin_start": 469.40000000000003,
            "count": 0
           },
           {
            "bin_end": 625.2,
            "bin_start": 547.3000000000001,
            "count": 0
           },
           {
            "bin_end": 703.1,
            "bin_start": 625.2,
            "count": 0
           },
           {
            "bin_end": 781,
            "bin_start": 703.1,
            "count": 1
           }
          ],
          "max": "781",
          "min": "2",
          "nan_count": 0,
          "unique_count": 11
         }
        },
        {
         "dtype": "int64",
         "name": "No. graded",
         "stats": {
          "categories": null,
          "histogram": [
           {
            "bin_end": 21.3,
            "bin_start": 0,
            "count": 8
           },
           {
            "bin_end": 42.6,
            "bin_start": 21.3,
            "count": 2
           },
           {
            "bin_end": 63.900000000000006,
            "bin_start": 42.6,
            "count": 0
           },
           {
            "bin_end": 85.2,
            "bin_start": 63.900000000000006,
            "count": 0
           },
           {
            "bin_end": 106.5,
            "bin_start": 85.2,
            "count": 1
           },
           {
            "bin_end": 127.80000000000001,
            "bin_start": 106.5,
            "count": 0
           },
           {
            "bin_end": 149.1,
            "bin_start": 127.80000000000001,
            "count": 0
           },
           {
            "bin_end": 170.4,
            "bin_start": 149.1,
            "count": 0
           },
           {
            "bin_end": 191.70000000000002,
            "bin_start": 170.4,
            "count": 0
           },
           {
            "bin_end": 213,
            "bin_start": 191.70000000000002,
            "count": 1
           }
          ],
          "max": "213",
          "min": "0",
          "nan_count": 0,
          "unique_count": 11
         }
        },
        {
         "dtype": "object",
         "name": "Description",
         "stats": {
          "categories": [
           {
            "count": 1,
            "name": "matrices, vectors, determinants, vector spaces, spans, null spaces, etc"
           },
           {
            "count": 1,
            "name": "modular arithmetic and divisibility, grouped because proofs involving one of these topics often involve the other"
           },
           {
            "count": 10,
            "name": "10 others"
           }
          ],
          "histogram": null,
          "max": null,
          "min": null,
          "nan_count": 0,
          "unique_count": 12
         }
        },
        {
         "dtype": "int64",
         "name": "_deepnote_index_column"
        }
       ],
       "preview_row_count": 12,
       "row_count": 12,
       "rows": [
        {
         "Description": "matrices, vectors, determinants, vector spaces, spans, null spaces, etc",
         "No. graded": 100,
         "No. proofs": 344,
         "Topic": "linear algebra",
         "_deepnote_index_column": 0
        },
        {
         "Description": "modular arithmetic and divisibility, grouped because proofs involving one of these topics often involve the other",
         "No. graded": 42,
         "No. proofs": 190,
         "Topic": "modular arithmetic",
         "_deepnote_index_column": 1
        },
        {
         "Description": "statements whose primary operators are set equality, subset, intersection, etc., even if the defining properties of the sets falls into another topic (e.g., rational numbers)",
         "No. graded": 25,
         "No. proofs": 77,
         "Topic": "set theory",
         "_deepnote_index_column": 2
        },
        {
         "Description": "proofs by mathematical induction, even if the statement to be proven falls into one of the other topics (e.g., divisibility)",
         "No. graded": 19,
         "No. proofs": 69,
         "Topic": "induction",
         "_deepnote_index_column": 3
        },
        {
         "Description": "proofs that rely on properties or axioms of the real numbers, such as the Archimedian property, algebraic rules, or decimal expansions",
         "No. graded": 12,
         "No. proofs": 41,
         "Topic": "real numbers",
         "_deepnote_index_column": 4
        },
        {
         "Description": "identities about factorials, combinations, and permutations",
         "No. graded": 6,
         "No. proofs": 17,
         "Topic": "combinatorics",
         "_deepnote_index_column": 5
        },
        {
         "Description": "equalities or inequalities primarily involving the gcd function",
         "No. graded": 1,
         "No. proofs": 17,
         "Topic": "gcd",
         "_deepnote_index_column": 6
        },
        {
         "Description": "statements about relations, such as whether they are reflexive, symmetric, transitive, linear, total, etc.",
         "No. graded": 3,
         "No. proofs": 11,
         "Topic": "relations",
         "_deepnote_index_column": 7
        },
        {
         "Description": "function properties such as injective, surjective, or total",
         "No. graded": 4,
         "No. proofs": 9,
         "Topic": "functions",
         "_deepnote_index_column": 8
        },
        {
         "Description": "statements that are primarily about rational numbers and/or proofs that rely on the definition of rational numbers",
         "No. graded": 0,
         "No. proofs": 4,
         "Topic": "rational numbers",
         "_deepnote_index_column": 9
        },
        {
         "Description": "statements about ordered pairs of integers",
         "No. graded": 1,
         "No. proofs": 2,
         "Topic": "Gaussian integers",
         "_deepnote_index_column": 10
        },
        {
         "Description": "",
         "No. graded": 213,
         "No. proofs": 781,
         "Topic": "Total",
         "_deepnote_index_column": 0
        }
       ],
       "type": "dataframe"
      },
      "text/html": [
       "<div>\n",
       "<style scoped>\n",
       "    .dataframe tbody tr th:only-of-type {\n",
       "        vertical-align: middle;\n",
       "    }\n",
       "\n",
       "    .dataframe tbody tr th {\n",
       "        vertical-align: top;\n",
       "    }\n",
       "\n",
       "    .dataframe thead th {\n",
       "        text-align: right;\n",
       "    }\n",
       "</style>\n",
       "<table border=\"1\" class=\"dataframe\">\n",
       "  <thead>\n",
       "    <tr style=\"text-align: right;\">\n",
       "      <th></th>\n",
       "      <th>Topic</th>\n",
       "      <th>No. proofs</th>\n",
       "      <th>No. graded</th>\n",
       "      <th>Description</th>\n",
       "    </tr>\n",
       "  </thead>\n",
       "  <tbody>\n",
       "    <tr>\n",
       "      <th>0</th>\n",
       "      <td>linear algebra</td>\n",
       "      <td>344</td>\n",
       "      <td>100</td>\n",
       "      <td>matrices, vectors, determinants, vector spaces...</td>\n",
       "    </tr>\n",
       "    <tr>\n",
       "      <th>1</th>\n",
       "      <td>modular arithmetic</td>\n",
       "      <td>190</td>\n",
       "      <td>42</td>\n",
       "      <td>modular arithmetic and divisibility, grouped b...</td>\n",
       "    </tr>\n",
       "    <tr>\n",
       "      <th>2</th>\n",
       "      <td>set theory</td>\n",
       "      <td>77</td>\n",
       "      <td>25</td>\n",
       "      <td>statements whose primary operators are set equ...</td>\n",
       "    </tr>\n",
       "    <tr>\n",
       "      <th>3</th>\n",
       "      <td>induction</td>\n",
       "      <td>69</td>\n",
       "      <td>19</td>\n",
       "      <td>proofs by mathematical induction, even if the ...</td>\n",
       "    </tr>\n",
       "    <tr>\n",
       "      <th>4</th>\n",
       "      <td>real numbers</td>\n",
       "      <td>41</td>\n",
       "      <td>12</td>\n",
       "      <td>proofs that rely on properties or axioms of th...</td>\n",
       "    </tr>\n",
       "    <tr>\n",
       "      <th>5</th>\n",
       "      <td>combinatorics</td>\n",
       "      <td>17</td>\n",
       "      <td>6</td>\n",
       "      <td>identities about factorials, combinations, and...</td>\n",
       "    </tr>\n",
       "    <tr>\n",
       "      <th>6</th>\n",
       "      <td>gcd</td>\n",
       "      <td>17</td>\n",
       "      <td>1</td>\n",
       "      <td>equalities or inequalities primarily involving...</td>\n",
       "    </tr>\n",
       "    <tr>\n",
       "      <th>7</th>\n",
       "      <td>relations</td>\n",
       "      <td>11</td>\n",
       "      <td>3</td>\n",
       "      <td>statements about relations, such as whether th...</td>\n",
       "    </tr>\n",
       "    <tr>\n",
       "      <th>8</th>\n",
       "      <td>functions</td>\n",
       "      <td>9</td>\n",
       "      <td>4</td>\n",
       "      <td>function properties such as injective, surject...</td>\n",
       "    </tr>\n",
       "    <tr>\n",
       "      <th>9</th>\n",
       "      <td>rational numbers</td>\n",
       "      <td>4</td>\n",
       "      <td>0</td>\n",
       "      <td>statements that are primarily about rational n...</td>\n",
       "    </tr>\n",
       "    <tr>\n",
       "      <th>10</th>\n",
       "      <td>Gaussian integers</td>\n",
       "      <td>2</td>\n",
       "      <td>1</td>\n",
       "      <td>statements about ordered pairs of integers</td>\n",
       "    </tr>\n",
       "    <tr>\n",
       "      <th>0</th>\n",
       "      <td>Total</td>\n",
       "      <td>781</td>\n",
       "      <td>213</td>\n",
       "      <td></td>\n",
       "    </tr>\n",
       "  </tbody>\n",
       "</table>\n",
       "</div>"
      ],
      "text/plain": [
       "                 Topic  No. proofs  No. graded  \\\n",
       "0       linear algebra         344         100   \n",
       "1   modular arithmetic         190          42   \n",
       "2           set theory          77          25   \n",
       "3            induction          69          19   \n",
       "4         real numbers          41          12   \n",
       "5        combinatorics          17           6   \n",
       "6                  gcd          17           1   \n",
       "7            relations          11           3   \n",
       "8            functions           9           4   \n",
       "9     rational numbers           4           0   \n",
       "10   Gaussian integers           2           1   \n",
       "0                Total         781         213   \n",
       "\n",
       "                                          Description  \n",
       "0   matrices, vectors, determinants, vector spaces...  \n",
       "1   modular arithmetic and divisibility, grouped b...  \n",
       "2   statements whose primary operators are set equ...  \n",
       "3   proofs by mathematical induction, even if the ...  \n",
       "4   proofs that rely on properties or axioms of th...  \n",
       "5   identities about factorials, combinations, and...  \n",
       "6   equalities or inequalities primarily involving...  \n",
       "7   statements about relations, such as whether th...  \n",
       "8   function properties such as injective, surject...  \n",
       "9   statements that are primarily about rational n...  \n",
       "10         statements about ordered pairs of integers  \n",
       "0                                                      "
      ]
     },
     "execution_count": 12,
     "metadata": {},
     "output_type": "execute_result"
    }
   ],
   "source": [
    "# Add a totals row to the above table\n",
    "totals_row = pd.DataFrame({\n",
    "    \"Topic\": [\"Total\"],\n",
    "    \"No. proofs\": [topics_dat[\"No. proofs\"].sum()],\n",
    "    \"No. graded\": [topics_dat[\"No. graded\"].sum()]\n",
    "})\n",
    "topics_dat = pd.concat([topics_dat, totals_row], axis=0)\n",
    "\n",
    "# Add descriptions column\n",
    "topics_dat[\"Description\"] = topics_dat[\"Topic\"].map(descriptions)\n",
    "tab_2 = topics_dat[[\"Topic\", \"No. proofs\", \"No. graded\",\"Description\"]]\n",
    "tab_2"
   ]
  },
  {
   "cell_type": "code",
   "execution_count": 13,
   "metadata": {
    "cell_id": "948cf39a53f14b0f95602a300d09fb59",
    "deepnote_cell_type": "code",
    "execution_context_id": "3e5c51cf-c3c5-4dc9-b492-f691f1887d86",
    "execution_millis": 1,
    "execution_start": 1756498188728,
    "source_hash": "fb504700"
   },
   "outputs": [
    {
     "name": "stdout",
     "output_type": "stream",
     "text": [
      "\\begin{tabular}{lrrl}\n",
      "\\toprule\n",
      "Topic & No. proofs & No. graded & Description \\\\\n",
      "\\midrule\n",
      "linear algebra & 344 & 100 & matrices, vectors, determinants, vector spaces, spans, null spaces, etc \\\\\n",
      "modular arithmetic & 190 & 42 & modular arithmetic and divisibility, grouped because proofs involving one of these topics often involve the other \\\\\n",
      "set theory & 77 & 25 & statements whose primary operators are set equality, subset, intersection, etc., even if the defining properties of the sets falls into another topic (e.g., rational numbers) \\\\\n",
      "induction & 69 & 19 & proofs by mathematical induction, even if the statement to be proven falls into one of the other topics (e.g., divisibility) \\\\\n",
      "real numbers & 41 & 12 & proofs that rely on properties or axioms of the real numbers, such as the Archimedian property, algebraic rules, or decimal expansions \\\\\n",
      "combinatorics & 17 & 6 & identities about factorials, combinations, and permutations \\\\\n",
      "gcd & 17 & 1 & equalities or inequalities primarily involving the gcd function \\\\\n",
      "relations & 11 & 3 & statements about relations, such as whether they are reflexive, symmetric, transitive, linear, total, etc. \\\\\n",
      "functions & 9 & 4 & function properties such as injective, surjective, or total \\\\\n",
      "rational numbers & 4 & 0 & statements that are primarily about rational numbers and/or proofs that rely on the definition of rational numbers \\\\\n",
      "Gaussian integers & 2 & 1 & statements about ordered pairs of integers \\\\\n",
      "Total & 781 & 213 &  \\\\\n",
      "\\bottomrule\n",
      "\\end{tabular}\n",
      "\n"
     ]
    }
   ],
   "source": [
    "print(tab_2.to_latex(index=False))"
   ]
  },
  {
   "cell_type": "markdown",
   "metadata": {
    "cell_id": "64507eb370ad416ca5409e376a5e0be0",
    "deepnote_cell_type": "text-cell-p",
    "formattedRanges": [
     {
      "fromCodePoint": 0,
      "marks": {
       "bold": true
      },
      "toCodePoint": 3,
      "type": "marks"
     }
    ]
   },
   "source": [
    "5.6"
   ]
  },
  {
   "cell_type": "markdown",
   "metadata": {
    "cell_id": "a81370addbc940e1b5d35dd4f2963704",
    "deepnote_cell_type": "markdown",
    "id": "iw_U83I7fu7V"
   },
   "source": [
    "**Figure 3.** The units on both axes are “sentence number,” beginning at sentence 1. The only proofs included were identified as containing errors by both human and AI graders. The dashed red line is the y = x line."
   ]
  },
  {
   "cell_type": "code",
   "execution_count": 14,
   "metadata": {
    "cell_id": "37a5c6b2c0df47fdb487afcf7ab5dd8e",
    "colab": {
     "base_uri": "https://localhost:8080/",
     "height": 0
    },
    "deepnote_cell_type": "code",
    "execution_context_id": "3e5c51cf-c3c5-4dc9-b492-f691f1887d86",
    "execution_millis": 958,
    "execution_start": 1756498188788,
    "id": "ce17w6f9U5ay",
    "outputId": "f784fab2-fdab-4ec5-b10f-849d88885791",
    "source_hash": "f30c211d"
   },
   "outputs": [
    {
     "name": "stdout",
     "output_type": "stream",
     "text": [
      "Pearson r = 0.451, pval = 4.47e-08\n"
     ]
    },
    {
     "data": {
      "image/png": "[encoded data removed]",
      "text/plain": [
       "<Figure size 640x480 with 1 Axes>"
      ]
     },
     "metadata": {
      "image/png": {
       "height": 455,
       "width": 562
      }
     },
     "output_type": "display_data"
    }
   ],
   "source": [
    "# ------------------------------------------------------------------------------\n",
    "# Figure 3: Human vs. AI-assessed location of first mistake in proof\n",
    "# ------------------------------------------------------------------------------\n",
    "\n",
    "# we will operate on a copy of the dataframe to compute the Pearson correlation\n",
    "tmp_cor = proof_dat.copy()\n",
    "\n",
    "# get sentences indices of all proofs where both human and AI marked a mistake\n",
    "human_sent_indices_cor = tmp_cor.loc[tmp_cor[\"M_H\"] & tmp_cor[\"M_A\"],\"S_H\"]\n",
    "ai_sent_indices_cor = tmp_cor.loc[tmp_cor[\"M_H\"] & tmp_cor[\"M_A\"],\"S_A\"]\n",
    "\n",
    "# find sentence index correlations\n",
    "pearson=stats.pearsonr(human_sent_indices_cor,ai_sent_indices_cor)\n",
    "r,pval= stats.pearsonr(human_sent_indices_cor,ai_sent_indices_cor)\n",
    "print(f\"Pearson r = {r:.3f}, pval = {pval:.3g}\")\n",
    "\n",
    "# we will operate on a new copy of the dataframe to make the plot\n",
    "tmp_plot = proof_dat.copy()\n",
    "# exclude an outlier for the plot\n",
    "tmp_plot = tmp_plot.loc[tmp_plot[\"S_H\"] != 29]\n",
    "\n",
    "# get sentences indices of all proofs where both human and AI marked a mistake\n",
    "human_sent_indices_plot= tmp_plot.loc[tmp_plot[\"M_H\"] & tmp_plot[\"M_A\"],\"S_H\"]\n",
    "ai_sent_indices_plot = tmp_plot.loc[tmp_plot[\"M_H\"] & tmp_plot[\"M_A\"],\"S_A\"]\n",
    "\n",
    "# Make correlation matrix into a data frame\n",
    "sent_ind_df = pd.DataFrame({\n",
    "    \"Human\": human_sent_indices_plot,\n",
    "    \"AI\": ai_sent_indices_plot\n",
    "})\n",
    "\n",
    "# create scatter plot showing pairs of sentence indices for each proof\n",
    "sns.scatterplot(data=sent_ind_df, x=\"Human\", y=\"AI\", s=60, alpha=0.35)\n",
    "\n",
    "# Add identity line (y = x)\n",
    "lims = [\n",
    "    min(sent_ind_df[\"Human\"].min(), sent_ind_df[\"AI\"].min())-1,\n",
    "    max(sent_ind_df[\"Human\"].max(), sent_ind_df[\"AI\"].max()) + 2.5,\n",
    "]\n",
    "plt.plot(lims, lims, linestyle=\"--\", color=\"red\", linewidth=2)\n",
    "\n",
    "# Add correlation coefficient to plot\n",
    "plt.text(\n",
    "    0.75, 0.62,\n",
    "    rf\"$\\it{{r}} \\approx {r:.3f}$\",\n",
    "    transform=plt.gca().transAxes,\n",
    "    fontsize=12\n",
    ")\n",
    "\n",
    "# Add labels and formatting to plot\n",
    "plt.xlabel(\"Human expert\")\n",
    "plt.ylabel(\"Gemini 2.0-flash\")\n",
    "plt.title(\"Human- vs. AI-assessed location of first mistake in proof\")\n",
    "plt.grid(False)\n",
    "\n",
    "# save and show plot\n",
    "plt.savefig( 'sentence-index-scatterplot-gemini-2.0-flash.pdf', bbox_inches='tight' )\n",
    "plt.show()"
   ]
  },
  {
   "cell_type": "markdown",
   "metadata": {
    "cell_id": "c96aeb3551b14f929b185fe32b779146",
    "deepnote_cell_type": "markdown",
    "id": "yr4yPZIZfvTz"
   },
   "source": [
    "**Figure 4.** The headings are abbreviations of the categories from Table 3, plus “No mistakes.” Each cell represents the number of proofs assessed by the human experts and AI in a unique combination of mistake types according to its row and column headings. The red areas show how frequently humans and AI agree a proof contains each mistake type."
   ]
  },
  {
   "cell_type": "code",
   "execution_count": 15,
   "metadata": {
    "cell_id": "bd8bd79eff594e2c9c9528deabacc67f",
    "colab": {
     "base_uri": "https://localhost:8080/",
     "height": 0
    },
    "deepnote_cell_type": "code",
    "execution_context_id": "3e5c51cf-c3c5-4dc9-b492-f691f1887d86",
    "execution_millis": 1179,
    "execution_start": 1756498189818,
    "id": "k6oGjE4hU8OF",
    "outputId": "521c9eca-0df6-4b09-bcdd-a91e2fce1300",
    "source_hash": "54477dde"
   },
   "outputs": [
    {
     "data": {
      "image/png": "[encoded data removed]",
      "text/plain": [
       "<Figure size 900x800 with 2 Axes>"
      ]
     },
     "metadata": {
      "image/png": {
       "height": 804,
       "width": 854
      }
     },
     "output_type": "display_data"
    }
   ],
   "source": [
    "# ------------------------------------------------------------------------------\n",
    "# Figure 4: Contingency table of mistake types\n",
    "# ------------------------------------------------------------------------------\n",
    "\n",
    "# Create abbreviated names for all mistake types, plus \"no mistake\" category\n",
    "mistake_types = [\n",
    "    \"Argument\",\"Structure\",\"Grammar/syntax\",\"Reframing\",\n",
    "    \"Algebra\",\"Variables\",\"Justification\",\"Missing\",\"Other\",\"No mistakes\"\n",
    "]\n",
    "\n",
    "# Create contingency table\n",
    "conting_table = pd.crosstab(\n",
    "    pd.Categorical(proof_dat[\"T_H\"], categories=mistake_types, ordered=True),\n",
    "    pd.Categorical(proof_dat[\"T_A\"], categories=mistake_types, ordered=True)\n",
    ").reindex(index=mistake_types, columns=mistake_types, fill_value=0)\n",
    "\n",
    "# Improve the row and column headings of the heatmap\n",
    "# using mistake numbers from Table 3 of the paper\n",
    "conting_table.columns = conting_table.index = [\n",
    "    f\"{i}. {mistake_types[i-1]}\" for i in range(1, 10)\n",
    "] + [\"No mistakes\"]\n",
    "\n",
    "# set up the plot formatting\n",
    "plt.figure(figsize=(9, 8))\n",
    "ax = sns.heatmap(\n",
    "    conting_table,\n",
    "    annot=True, fmt=\"d\",\n",
    "    cmap=sns.light_palette(\"#0b5ea8\", as_cmap=True),\n",
    "    cbar_kws={\"label\": \"Count\"},\n",
    "    linewidths=.5, linecolor=\"white\"\n",
    ")\n",
    "\n",
    "# create title/axes\n",
    "ax.set_title(\"Contingency table of mistake types\", pad=14)\n",
    "ax.set_xlabel(\"Gemini 2.0-flash\")\n",
    "ax.set_ylabel(\"Human experts\")\n",
    "plt.xticks(rotation=45, ha=\"right\")\n",
    "plt.yticks(rotation=0)\n",
    "\n",
    "# add red diagonal box around the diagonal cells\n",
    "TABLE_SIZE = 10\n",
    "MARGIN = 0.05\n",
    "def linebit (x1,y1,x2,y2):\n",
    "    x1 = min(max(x1,MARGIN),TABLE_SIZE-MARGIN)\n",
    "    x2 = min(max(x2,MARGIN),TABLE_SIZE-MARGIN)\n",
    "    y1 = min(max(y1,MARGIN),TABLE_SIZE-MARGIN)\n",
    "    y2 = min(max(y2,MARGIN),TABLE_SIZE-MARGIN)\n",
    "    plt.plot( [x1,x2],[y1,y2], color='red', linestyle='--', alpha=0.25 )\n",
    "def linebits (*args):\n",
    "    for i in range(0,len(args),2):\n",
    "        if i + 4 <= len(args):\n",
    "            linebit(args[i],args[i+1],args[i+2],args[i+3])\n",
    "linebits( 0,0, 0,0.5, 9.5,10, 10,10, 10,9.5, 0.5,0, 0,0 )\n",
    "\n",
    "# save and show the plot\n",
    "plt.savefig( 'contingency-table-gemini-2.0-flash.pdf', bbox_inches='tight' )\n",
    "plt.show()"
   ]
  },
  {
   "cell_type": "markdown",
   "metadata": {
    "cell_id": "c1b911229d3445a6bfdeed627c34bf90",
    "deepnote_cell_type": "text-cell-p",
    "formattedRanges": [
     {
      "fromCodePoint": 0,
      "marks": {
       "bold": true
      },
      "toCodePoint": 9,
      "type": "marks"
     }
    ]
   },
   "source": [
    "Footnote:  What percentage of assessed proofs were marked as having the AI feedback correct and the human feedback incorrect?"
   ]
  },
  {
   "cell_type": "code",
   "execution_count": 16,
   "metadata": {
    "cell_id": "d739b36674254f088fbbc6d29a0d114c",
    "deepnote_cell_type": "code",
    "execution_context_id": "3e5c51cf-c3c5-4dc9-b492-f691f1887d86",
    "execution_millis": 0,
    "execution_start": 1756498191048,
    "source_hash": "c2d4f392"
   },
   "outputs": [],
   "source": [
    "# Select the subset of the proofs that were graded by both humans and AI\n",
    "grade_dat = proof_dat[proof_dat[\"HasHumanGrade\"]]"
   ]
  },
  {
   "cell_type": "code",
   "execution_count": 17,
   "metadata": {
    "cell_id": "d9b85e0f185d4cb8b92a4b9d362f28ed",
    "deepnote_cell_type": "code",
    "execution_context_id": "3e5c51cf-c3c5-4dc9-b492-f691f1887d86",
    "execution_millis": 0,
    "execution_start": 1756498191108,
    "source_hash": "f1e6c6d0"
   },
   "outputs": [
    {
     "data": {
      "text/plain": [
       "Right_1\n",
       "False    202\n",
       "True      11\n",
       "Name: count, dtype: int64"
      ]
     },
     "execution_count": 17,
     "metadata": {},
     "output_type": "execute_result"
    }
   ],
   "source": [
    "# Embedded use case\n",
    "euc_human_errors = grade_dat['Right_1'].value_counts()\n",
    "euc_human_errors"
   ]
  },
  {
   "cell_type": "code",
   "execution_count": 18,
   "metadata": {
    "cell_id": "a7173b63020b49b3932fa50ad15144f0",
    "deepnote_cell_type": "code",
    "execution_context_id": "3e5c51cf-c3c5-4dc9-b492-f691f1887d86",
    "execution_millis": 0,
    "execution_start": 1756498191161,
    "source_hash": "4ffd3790"
   },
   "outputs": [
    {
     "data": {
      "text/plain": [
       "0.051643192488262914"
      ]
     },
     "execution_count": 18,
     "metadata": {},
     "output_type": "execute_result"
    }
   ],
   "source": [
    "euc_human_errors[True] / euc_human_errors.sum()"
   ]
  },
  {
   "cell_type": "code",
   "execution_count": 19,
   "metadata": {
    "cell_id": "e4571b803b0d406ead288bb661a1c867",
    "deepnote_cell_type": "code",
    "execution_context_id": "3e5c51cf-c3c5-4dc9-b492-f691f1887d86",
    "execution_millis": 0,
    "execution_start": 1756498191228,
    "source_hash": "b1afd29b"
   },
   "outputs": [
    {
     "data": {
      "text/plain": [
       "Right_2\n",
       "False    194\n",
       "True      19\n",
       "Name: count, dtype: int64"
      ]
     },
     "execution_count": 19,
     "metadata": {},
     "output_type": "execute_result"
    }
   ],
   "source": [
    "# Student use case\n",
    "suc_human_errors = grade_dat['Right_2'].value_counts()\n",
    "suc_human_errors"
   ]
  },
  {
   "cell_type": "code",
   "execution_count": 20,
   "metadata": {
    "cell_id": "0e21a48c175a4a7b9aa5cbf410789201",
    "deepnote_cell_type": "code",
    "execution_context_id": "3e5c51cf-c3c5-4dc9-b492-f691f1887d86",
    "execution_millis": 0,
    "execution_start": 1756498191289,
    "source_hash": "12238d5b"
   },
   "outputs": [
    {
     "data": {
      "text/plain": [
       "0.0892018779342723"
      ]
     },
     "execution_count": 20,
     "metadata": {},
     "output_type": "execute_result"
    }
   ],
   "source": [
    "suc_human_errors[True] / suc_human_errors.sum()"
   ]
  },
  {
   "cell_type": "markdown",
   "metadata": {
    "cell_id": "7c846378a94147499d660bb596f22b89",
    "deepnote_cell_type": "text-cell-p",
    "formattedRanges": [
     {
      "fromCodePoint": 0,
      "marks": {
       "bold": true
      },
      "toCodePoint": 3,
      "type": "marks"
     }
    ]
   },
   "source": [
    "5.7"
   ]
  },
  {
   "cell_type": "code",
   "execution_count": 21,
   "metadata": {
    "cell_id": "323db5871a1b437fb625f80b06d4282f",
    "deepnote_cell_type": "code",
    "execution_context_id": "3e5c51cf-c3c5-4dc9-b492-f691f1887d86",
    "execution_millis": 1,
    "execution_start": 1756498191339,
    "source_hash": "5310acf7"
   },
   "outputs": [
    {
     "name": "stdout",
     "output_type": "stream",
     "text": [
      "p1hat, human grader mistake-finding rate: 134 / 213 ~= 0.629\n",
      "p2hat, AI grader mistake-finding rate: 206 / 213 ~= 0.967\n",
      "diff in proportions (p1hat - p2hat): -0.338\n",
      "95% CI for diff: (-0.407, -0.269)\n",
      "95% CI width: 0.138\n",
      "CI width relative to absolute diff: 0.41x the effect size\n",
      "CI excludes 0 → significant difference\n",
      "stat ~= -8.691, p ~= 1.8e-18, Reject\n",
      "--------------------------------------------------\n"
     ]
    }
   ],
   "source": [
    "# ------------------------------------------------------------------------------\n",
    "# Hypothesis Testing 1\n",
    "# ------------------------------------------------------------------------------\n",
    "\n",
    "# Is overall human grader mistake-finding rate less than the same for AI in the EUC?\n",
    "hyp_test_pop1_leq_pop2( grade_dat['M_H'], grade_dat['M_A'],\n",
    "    name1=\"human grader mistake-finding rate\", \n",
    "    name2=\"AI grader mistake-finding rate\" )"
   ]
  },
  {
   "cell_type": "markdown",
   "metadata": {
    "cell_id": "46133787e72444f2b6879fc67ebbbdde",
    "deepnote_cell_type": "text-cell-p",
    "formattedRanges": [
     {
      "fromCodePoint": 0,
      "marks": {
       "bold": true
      },
      "toCodePoint": 3,
      "type": "marks"
     }
    ]
   },
   "source": [
    "6.1"
   ]
  },
  {
   "cell_type": "code",
   "execution_count": 22,
   "metadata": {
    "cell_id": "9fdbb99179674665b742050c4f1a394c",
    "deepnote_cell_type": "code",
    "execution_context_id": "3e5c51cf-c3c5-4dc9-b492-f691f1887d86",
    "execution_millis": 1,
    "execution_start": 1756498191388,
    "source_hash": "4de040be"
   },
   "outputs": [
    {
     "name": "stdout",
     "output_type": "stream",
     "text": [
      "p1hat, EUC Consistent%: 79 / 213 ~= 0.371\n",
      "p2hat, SUC Consistent%: 112 / 213 ~= 0.526\n",
      "diff in proportions (p1hat - p2hat): -0.155\n",
      "95% CI for diff: (-0.248, -0.062)\n",
      "95% CI width: 0.187\n",
      "CI width relative to absolute diff: 1.20x the effect size\n",
      "CI excludes 0 → significant difference\n",
      "stat ~= -3.215, p ~= 0.000652, Reject\n",
      "--------------------------------------------------\n"
     ]
    }
   ],
   "source": [
    "# ------------------------------------------------------------------------------\n",
    "# Hypothesis Testing 2\n",
    "# ------------------------------------------------------------------------------\n",
    "\n",
    "# Is Consistent% less for EUC than SUC?\n",
    "hyp_test_pop1_leq_pop2(\n",
    "    grade_dat['Con_1'].str.startswith( 'Yes' ),\n",
    "    grade_dat['Con_2'].str.startswith( 'Yes' ),\n",
    "    name1=\"EUC Consistent%\", \n",
    "    name2=\"SUC Consistent%\"\n",
    ")"
   ]
  },
  {
   "cell_type": "markdown",
   "metadata": {
    "cell_id": "288c2475bb314124bdba1b9473a00f9e",
    "deepnote_cell_type": "markdown",
    "id": "EKx3AxqprltV"
   },
   "source": [
    "**Table 6.** Summary of assessments made by human volunteers about the consistency of human-given feedback and AI-given feedback"
   ]
  },
  {
   "cell_type": "code",
   "execution_count": 23,
   "metadata": {
    "cell_id": "281116223aac47eb83f7f1421d87c68b",
    "deepnote_cell_type": "code",
    "execution_context_id": "3e5c51cf-c3c5-4dc9-b492-f691f1887d86",
    "execution_millis": 0,
    "execution_start": 1756498191452,
    "id": "DzEruoLhQWp8",
    "source_hash": "bebb74ee"
   },
   "outputs": [
    {
     "data": {
      "application/vnd.deepnote.dataframe.v3+json": {
       "column_count": 3,
       "columns": [
        {
         "dtype": "object",
         "name": "Consistency with human expert",
         "stats": {
          "categories": [
           {
            "count": 1,
            "name": "Yes they say the same thing"
           },
           {
            "count": 1,
            "name": "No they say different things"
           },
           {
            "count": 1,
            "name": "Total"
           }
          ],
          "histogram": null,
          "max": null,
          "min": null,
          "nan_count": 0,
          "unique_count": 3
         }
        },
        {
         "dtype": "int64",
         "name": "Count",
         "stats": {
          "categories": null,
          "histogram": [
           {
            "bin_end": 92.4,
            "bin_start": 79,
            "count": 1
           },
           {
            "bin_end": 105.8,
            "bin_start": 92.4,
            "count": 0
           },
           {
            "bin_end": 119.2,
            "bin_start": 105.8,
            "count": 0
           },
           {
            "bin_end": 132.6,
            "bin_start": 119.2,
            "count": 0
           },
           {
            "bin_end": 146,
            "bin_start": 132.6,
            "count": 1
           },
           {
            "bin_end": 159.4,
            "bin_start": 146,
            "count": 0
           },
           {
            "bin_end": 172.8,
            "bin_start": 159.4,
            "count": 0
           },
           {
            "bin_end": 186.2,
            "bin_start": 172.8,
            "count": 0
           },
           {
            "bin_end": 199.60000000000002,
            "bin_start": 186.2,
            "count": 0
           },
           {
            "bin_end": 213,
            "bin_start": 199.60000000000002,
            "count": 1
           }
          ],
          "max": "213",
          "min": "79",
          "nan_count": 0,
          "unique_count": 3
         }
        },
        {
         "dtype": "object",
         "name": "Percent",
         "stats": {
          "categories": [
           {
            "count": 1,
            "name": "37.1%"
           },
           {
            "count": 1,
            "name": "62.9%"
           },
           {
            "count": 1,
            "name": "100.0%"
           }
          ],
          "histogram": null,
          "max": null,
          "min": null,
          "nan_count": 0,
          "unique_count": 3
         }
        },
        {
         "dtype": "int64",
         "name": "_deepnote_index_column"
        }
       ],
       "preview_row_count": 3,
       "row_count": 3,
       "rows": [
        {
         "Consistency with human expert": "Yes they say the same thing",
         "Count": 79,
         "Percent": "37.1%",
         "_deepnote_index_column": 0
        },
        {
         "Consistency with human expert": "No they say different things",
         "Count": 134,
         "Percent": "62.9%",
         "_deepnote_index_column": 1
        },
        {
         "Consistency with human expert": "Total",
         "Count": 213,
         "Percent": "100.0%",
         "_deepnote_index_column": 2
        }
       ],
       "type": "dataframe"
      },
      "text/html": [
       "<div>\n",
       "<style scoped>\n",
       "    .dataframe tbody tr th:only-of-type {\n",
       "        vertical-align: middle;\n",
       "    }\n",
       "\n",
       "    .dataframe tbody tr th {\n",
       "        vertical-align: top;\n",
       "    }\n",
       "\n",
       "    .dataframe thead th {\n",
       "        text-align: right;\n",
       "    }\n",
       "</style>\n",
       "<table border=\"1\" class=\"dataframe\">\n",
       "  <thead>\n",
       "    <tr style=\"text-align: right;\">\n",
       "      <th></th>\n",
       "      <th>Consistency with human expert</th>\n",
       "      <th>Count</th>\n",
       "      <th>Percent</th>\n",
       "    </tr>\n",
       "  </thead>\n",
       "  <tbody>\n",
       "    <tr>\n",
       "      <th>0</th>\n",
       "      <td>Yes they say the same thing</td>\n",
       "      <td>79</td>\n",
       "      <td>37.1%</td>\n",
       "    </tr>\n",
       "    <tr>\n",
       "      <th>1</th>\n",
       "      <td>No they say different things</td>\n",
       "      <td>134</td>\n",
       "      <td>62.9%</td>\n",
       "    </tr>\n",
       "    <tr>\n",
       "      <th>2</th>\n",
       "      <td>Total</td>\n",
       "      <td>213</td>\n",
       "      <td>100.0%</td>\n",
       "    </tr>\n",
       "  </tbody>\n",
       "</table>\n",
       "</div>"
      ],
      "text/plain": [
       "  Consistency with human expert  Count Percent\n",
       "0   Yes they say the same thing     79   37.1%\n",
       "1  No they say different things    134   62.9%\n",
       "2                         Total    213  100.0%"
      ]
     },
     "execution_count": 23,
     "metadata": {},
     "output_type": "execute_result"
    }
   ],
   "source": [
    "# ------------------------------------------------------------------------------\n",
    "# Table 6: Use Case Consistency Comparisons\n",
    "# ------------------------------------------------------------------------------\n",
    "\n",
    "# create a function that creates a table of the frequencies\n",
    "# (both counts and percentages) of rows categorized by a selected\n",
    "# categorical column\n",
    "def counts_and_percents (df, col, newname, order):\n",
    "    result = (\n",
    "        df\n",
    "        .groupby(col, observed=True)\n",
    "        .size()                            # aggregate by count\n",
    "        .reset_index(name=\"Count\")         # convert to DataFrame\n",
    "        .rename(columns={col: newname})\n",
    "    )\n",
    "    # add percent column\n",
    "    total = result[\"Count\"].sum()\n",
    "    result[\"Percent\"] = (\n",
    "        100 * result[\"Count\"] / total\n",
    "    ).map(\"{:.1f}%\".format)\n",
    "    # add totals row\n",
    "    result = pd.concat(\n",
    "        [result, pd.DataFrame(dict([\n",
    "            [newname, [\"Total\"]],\n",
    "            [\"Count\", [total]],\n",
    "            [\"Percent\", [\"100.0%\"]]\n",
    "        ]))],\n",
    "        ignore_index=True\n",
    "    )\n",
    "    # set order\n",
    "    result = result.set_index(newname).reindex(order).reset_index()\n",
    "    return result\n",
    "\n",
    "# define consistency constants\n",
    "con_name = 'Consistency with human expert'\n",
    "con_order = [\n",
    "    \"Yes they say the same thing\",\n",
    "    \"No they say different things\",\n",
    "    \"Total\"\n",
    "]\n",
    "\n",
    "# summarize embedded use case\n",
    "euc_con = counts_and_percents(grade_dat, \"Con_1\", con_name, con_order)\n",
    "euc_con"
   ]
  },
  {
   "cell_type": "code",
   "execution_count": 24,
   "metadata": {
    "cell_id": "99ac1fbbd8054d3b99157206c169a46e",
    "deepnote_cell_type": "code",
    "execution_context_id": "3e5c51cf-c3c5-4dc9-b492-f691f1887d86",
    "execution_millis": 0,
    "execution_start": 1756498191502,
    "source_hash": "b91a58b6"
   },
   "outputs": [
    {
     "data": {
      "application/vnd.deepnote.dataframe.v3+json": {
       "column_count": 3,
       "columns": [
        {
         "dtype": "object",
         "name": "Consistency with human expert",
         "stats": {
          "categories": [
           {
            "count": 1,
            "name": "Yes they say the same thing"
           },
           {
            "count": 1,
            "name": "No they say different things"
           },
           {
            "count": 1,
            "name": "Total"
           }
          ],
          "histogram": null,
          "max": null,
          "min": null,
          "nan_count": 0,
          "unique_count": 3
         }
        },
        {
         "dtype": "int64",
         "name": "Count",
         "stats": {
          "categories": null,
          "histogram": [
           {
            "bin_end": 112.2,
            "bin_start": 101,
            "count": 2
           },
           {
            "bin_end": 123.4,
            "bin_start": 112.2,
            "count": 0
           },
           {
            "bin_end": 134.6,
            "bin_start": 123.4,
            "count": 0
           },
           {
            "bin_end": 145.8,
            "bin_start": 134.6,
            "count": 0
           },
           {
            "bin_end": 157,
            "bin_start": 145.8,
            "count": 0
           },
           {
            "bin_end": 168.2,
            "bin_start": 157,
            "count": 0
           },
           {
            "bin_end": 179.39999999999998,
            "bin_start": 168.2,
            "count": 0
           },
           {
            "bin_end": 190.6,
            "bin_start": 179.39999999999998,
            "count": 0
           },
           {
            "bin_end": 201.8,
            "bin_start": 190.6,
            "count": 0
           },
           {
            "bin_end": 213,
            "bin_start": 201.8,
            "count": 1
           }
          ],
          "max": "213",
          "min": "101",
          "nan_count": 0,
          "unique_count": 3
         }
        },
        {
         "dtype": "object",
         "name": "Percent",
         "stats": {
          "categories": [
           {
            "count": 1,
            "name": "52.6%"
           },
           {
            "count": 1,
            "name": "47.4%"
           },
           {
            "count": 1,
            "name": "100.0%"
           }
          ],
          "histogram": null,
          "max": null,
          "min": null,
          "nan_count": 0,
          "unique_count": 3
         }
        },
        {
         "dtype": "int64",
         "name": "_deepnote_index_column"
        }
       ],
       "preview_row_count": 3,
       "row_count": 3,
       "rows": [
        {
         "Consistency with human expert": "Yes they say the same thing",
         "Count": 112,
         "Percent": "52.6%",
         "_deepnote_index_column": 0
        },
        {
         "Consistency with human expert": "No they say different things",
         "Count": 101,
         "Percent": "47.4%",
         "_deepnote_index_column": 1
        },
        {
         "Consistency with human expert": "Total",
         "Count": 213,
         "Percent": "100.0%",
         "_deepnote_index_column": 2
        }
       ],
       "type": "dataframe"
      },
      "text/html": [
       "<div>\n",
       "<style scoped>\n",
       "    .dataframe tbody tr th:only-of-type {\n",
       "        vertical-align: middle;\n",
       "    }\n",
       "\n",
       "    .dataframe tbody tr th {\n",
       "        vertical-align: top;\n",
       "    }\n",
       "\n",
       "    .dataframe thead th {\n",
       "        text-align: right;\n",
       "    }\n",
       "</style>\n",
       "<table border=\"1\" class=\"dataframe\">\n",
       "  <thead>\n",
       "    <tr style=\"text-align: right;\">\n",
       "      <th></th>\n",
       "      <th>Consistency with human expert</th>\n",
       "      <th>Count</th>\n",
       "      <th>Percent</th>\n",
       "    </tr>\n",
       "  </thead>\n",
       "  <tbody>\n",
       "    <tr>\n",
       "      <th>0</th>\n",
       "      <td>Yes they say the same thing</td>\n",
       "      <td>112</td>\n",
       "      <td>52.6%</td>\n",
       "    </tr>\n",
       "    <tr>\n",
       "      <th>1</th>\n",
       "      <td>No they say different things</td>\n",
       "      <td>101</td>\n",
       "      <td>47.4%</td>\n",
       "    </tr>\n",
       "    <tr>\n",
       "      <th>2</th>\n",
       "      <td>Total</td>\n",
       "      <td>213</td>\n",
       "      <td>100.0%</td>\n",
       "    </tr>\n",
       "  </tbody>\n",
       "</table>\n",
       "</div>"
      ],
      "text/plain": [
       "  Consistency with human expert  Count Percent\n",
       "0   Yes they say the same thing    112   52.6%\n",
       "1  No they say different things    101   47.4%\n",
       "2                         Total    213  100.0%"
      ]
     },
     "execution_count": 24,
     "metadata": {},
     "output_type": "execute_result"
    }
   ],
   "source": [
    "# summarize student use case\n",
    "suc_con = counts_and_percents(grade_dat, \"Con_2\", con_name, con_order)\n",
    "suc_con"
   ]
  },
  {
   "cell_type": "code",
   "execution_count": 25,
   "metadata": {
    "cell_id": "db908d19f78c4cfc897e893594648924",
    "deepnote_cell_type": "code",
    "execution_context_id": "3e5c51cf-c3c5-4dc9-b492-f691f1887d86",
    "execution_millis": 0,
    "execution_start": 1756498191559,
    "source_hash": "467ddaf8"
   },
   "outputs": [
    {
     "data": {
      "application/vnd.deepnote.dataframe.v3+json": {
       "column_count": 5,
       "columns": [
        {
         "dtype": "object",
         "name": " Consistency with human expert",
         "stats": {
          "categories": [
           {
            "count": 1,
            "name": "Yes they say the same thing"
           },
           {
            "count": 1,
            "name": "No they say different things"
           },
           {
            "count": 1,
            "name": "Total"
           }
          ],
          "histogram": null,
          "max": null,
          "min": null,
          "nan_count": 0,
          "unique_count": 3
         }
        },
        {
         "dtype": "int64",
         "name": "Embedded Use Case Count",
         "stats": {
          "categories": null,
          "histogram": [
           {
            "bin_end": 92.4,
            "bin_start": 79,
            "count": 1
           },
           {
            "bin_end": 105.8,
            "bin_start": 92.4,
            "count": 0
           },
           {
            "bin_end": 119.2,
            "bin_start": 105.8,
            "count": 0
           },
           {
            "bin_end": 132.6,
            "bin_start": 119.2,
            "count": 0
           },
           {
            "bin_end": 146,
            "bin_start": 132.6,
            "count": 1
           },
           {
            "bin_end": 159.4,
            "bin_start": 146,
            "count": 0
           },
           {
            "bin_end": 172.8,
            "bin_start": 159.4,
            "count": 0
           },
           {
            "bin_end": 186.2,
            "bin_start": 172.8,
            "count": 0
           },
           {
            "bin_end": 199.60000000000002,
            "bin_start": 186.2,
            "count": 0
           },
           {
            "bin_end": 213,
            "bin_start": 199.60000000000002,
            "count": 1
           }
          ],
          "max": "213",
          "min": "79",
          "nan_count": 0,
          "unique_count": 3
         }
        },
        {
         "dtype": "object",
         "name": "Embedded Use Case Percent",
         "stats": {
          "categories": [
           {
            "count": 1,
            "name": "37.1%"
           },
           {
            "count": 1,
            "name": "62.9%"
           },
           {
            "count": 1,
            "name": "100.0%"
           }
          ],
          "histogram": null,
          "max": null,
          "min": null,
          "nan_count": 0,
          "unique_count": 3
         }
        },
        {
         "dtype": "int64",
         "name": "Student Use Case Count",
         "stats": {
          "categories": null,
          "histogram": [
           {
            "bin_end": 112.2,
            "bin_start": 101,
            "count": 2
           },
           {
            "bin_end": 123.4,
            "bin_start": 112.2,
            "count": 0
           },
           {
            "bin_end": 134.6,
            "bin_start": 123.4,
            "count": 0
           },
           {
            "bin_end": 145.8,
            "bin_start": 134.6,
            "count": 0
           },
           {
            "bin_end": 157,
            "bin_start": 145.8,
            "count": 0
           },
           {
            "bin_end": 168.2,
            "bin_start": 157,
            "count": 0
           },
           {
            "bin_end": 179.39999999999998,
            "bin_start": 168.2,
            "count": 0
           },
           {
            "bin_end": 190.6,
            "bin_start": 179.39999999999998,
            "count": 0
           },
           {
            "bin_end": 201.8,
            "bin_start": 190.6,
            "count": 0
           },
           {
            "bin_end": 213,
            "bin_start": 201.8,
            "count": 1
           }
          ],
          "max": "213",
          "min": "101",
          "nan_count": 0,
          "unique_count": 3
         }
        },
        {
         "dtype": "object",
         "name": "Student Use Case Percent",
         "stats": {
          "categories": [
           {
            "count": 1,
            "name": "52.6%"
           },
           {
            "count": 1,
            "name": "47.4%"
           },
           {
            "count": 1,
            "name": "100.0%"
           }
          ],
          "histogram": null,
          "max": null,
          "min": null,
          "nan_count": 0,
          "unique_count": 3
         }
        },
        {
         "dtype": "int64",
         "name": "_deepnote_index_column"
        }
       ],
       "preview_row_count": 3,
       "row_count": 3,
       "rows": [
        {
         " Consistency with human expert": "Yes they say the same thing",
         "Embedded Use Case Count": 79,
         "Embedded Use Case Percent": "37.1%",
         "Student Use Case Count": 112,
         "Student Use Case Percent": "52.6%",
         "_deepnote_index_column": 0
        },
        {
         " Consistency with human expert": "No they say different things",
         "Embedded Use Case Count": 134,
         "Embedded Use Case Percent": "62.9%",
         "Student Use Case Count": 101,
         "Student Use Case Percent": "47.4%",
         "_deepnote_index_column": 1
        },
        {
         " Consistency with human expert": "Total",
         "Embedded Use Case Count": 213,
         "Embedded Use Case Percent": "100.0%",
         "Student Use Case Count": 213,
         "Student Use Case Percent": "100.0%",
         "_deepnote_index_column": 2
        }
       ],
       "type": "dataframe"
      },
      "text/html": [
       "<div>\n",
       "<style scoped>\n",
       "    .dataframe tbody tr th:only-of-type {\n",
       "        vertical-align: middle;\n",
       "    }\n",
       "\n",
       "    .dataframe tbody tr th {\n",
       "        vertical-align: top;\n",
       "    }\n",
       "\n",
       "    .dataframe thead tr th {\n",
       "        text-align: left;\n",
       "    }\n",
       "</style>\n",
       "<table border=\"1\" class=\"dataframe\">\n",
       "  <thead>\n",
       "    <tr>\n",
       "      <th></th>\n",
       "      <th></th>\n",
       "      <th colspan=\"2\" halign=\"left\">Embedded Use Case</th>\n",
       "      <th colspan=\"2\" halign=\"left\">Student Use Case</th>\n",
       "    </tr>\n",
       "    <tr>\n",
       "      <th></th>\n",
       "      <th>Consistency with human expert</th>\n",
       "      <th>Count</th>\n",
       "      <th>Percent</th>\n",
       "      <th>Count</th>\n",
       "      <th>Percent</th>\n",
       "    </tr>\n",
       "  </thead>\n",
       "  <tbody>\n",
       "    <tr>\n",
       "      <th>0</th>\n",
       "      <td>Yes they say the same thing</td>\n",
       "      <td>79</td>\n",
       "      <td>37.1%</td>\n",
       "      <td>112</td>\n",
       "      <td>52.6%</td>\n",
       "    </tr>\n",
       "    <tr>\n",
       "      <th>1</th>\n",
       "      <td>No they say different things</td>\n",
       "      <td>134</td>\n",
       "      <td>62.9%</td>\n",
       "      <td>101</td>\n",
       "      <td>47.4%</td>\n",
       "    </tr>\n",
       "    <tr>\n",
       "      <th>2</th>\n",
       "      <td>Total</td>\n",
       "      <td>213</td>\n",
       "      <td>100.0%</td>\n",
       "      <td>213</td>\n",
       "      <td>100.0%</td>\n",
       "    </tr>\n",
       "  </tbody>\n",
       "</table>\n",
       "</div>"
      ],
      "text/plain": [
       "                                Embedded Use Case         Student Use Case  \\\n",
       "  Consistency with human expert             Count Percent            Count   \n",
       "0   Yes they say the same thing                79   37.1%              112   \n",
       "1  No they say different things               134   62.9%              101   \n",
       "2                         Total               213  100.0%              213   \n",
       "\n",
       "           \n",
       "  Percent  \n",
       "0   52.6%  \n",
       "1   47.4%  \n",
       "2  100.0%  "
      ]
     },
     "execution_count": 25,
     "metadata": {},
     "output_type": "execute_result"
    }
   ],
   "source": [
    "# side-by-side merge of the above two cases on the leftmost descriptor column\n",
    "tab_6 = euc_con.merge(suc_con, on=con_name, how=\"inner\", suffixes=(\"_Embedded\",\"_Student\"))\n",
    "\n",
    "# MultiIndex headers: (group, subheader)\n",
    "tab_6.columns = pd.MultiIndex.from_tuples([\n",
    "    (\"\", \"Consistency with human expert\"),\n",
    "    (\"Embedded Use Case\", \"Count\"),\n",
    "    (\"Embedded Use Case\", \"Percent\"),\n",
    "    (\"Student Use Case\", \"Count\"),\n",
    "    (\"Student Use Case\", \"Percent\"),\n",
    "])\n",
    "\n",
    "# View results\n",
    "tab_6"
   ]
  },
  {
   "cell_type": "code",
   "execution_count": 26,
   "metadata": {
    "cell_id": "fef6bbde498d4cd7a9a982c55785a935",
    "colab": {
     "base_uri": "https://localhost:8080/",
     "height": 0
    },
    "deepnote_cell_type": "code",
    "execution_context_id": "3e5c51cf-c3c5-4dc9-b492-f691f1887d86",
    "execution_millis": 0,
    "execution_start": 1756498191608,
    "id": "vXuW-5VDUA67",
    "outputId": "5f23dfdf-bc99-4705-a29f-3cb1e5023072",
    "source_hash": "c88864d1"
   },
   "outputs": [
    {
     "name": "stdout",
     "output_type": "stream",
     "text": [
      "\\begin{tabular}{lrlrl}\n",
      "\\toprule\n",
      " & \\multicolumn{2}{r}{Embedded Use Case} & \\multicolumn{2}{r}{Student Use Case} \\\\\n",
      "Consistency with human expert & Count & Percent & Count & Percent \\\\\n",
      "\\midrule\n",
      "Yes they say the same thing & 79 & 37.1% & 112 & 52.6% \\\\\n",
      "No they say different things & 134 & 62.9% & 101 & 47.4% \\\\\n",
      "Total & 213 & 100.0% & 213 & 100.0% \\\\\n",
      "\\bottomrule\n",
      "\\end{tabular}\n",
      "\n"
     ]
    }
   ],
   "source": [
    "print(tab_6.to_latex(index=False))"
   ]
  },
  {
   "cell_type": "markdown",
   "metadata": {
    "cell_id": "e1052c845da84470a99bfda212d212b4",
    "deepnote_cell_type": "markdown",
    "id": "GXh1dmWSrpuQ"
   },
   "source": [
    "**Table 7.** Summary of assessments made by human volunteers about the correctness of AI-given feedback"
   ]
  },
  {
   "cell_type": "code",
   "execution_count": 27,
   "metadata": {
    "cell_id": "71a13e9039474a528bc10af4f2122026",
    "deepnote_cell_type": "code",
    "execution_context_id": "3e5c51cf-c3c5-4dc9-b492-f691f1887d86",
    "execution_millis": 0,
    "execution_start": 1756498191664,
    "id": "2JeyAUa7sFA0",
    "source_hash": "7269f3a4"
   },
   "outputs": [
    {
     "data": {
      "application/vnd.deepnote.dataframe.v3+json": {
       "column_count": 2,
       "columns": [
        {
         "dtype": "category",
         "name": "Correctness of AI feedback",
         "stats": {
          "categories": [
           {
            "count": 1,
            "name": "Correct/mostly correct"
           },
           {
            "count": 1,
            "name": "Partly correct"
           },
           {
            "count": 1,
            "name": "Wrong/mostly wrong"
           }
          ],
          "histogram": null,
          "max": null,
          "min": null,
          "nan_count": 0,
          "unique_count": 3
         }
        },
        {
         "dtype": "int64",
         "name": "Count",
         "stats": {
          "categories": null,
          "histogram": [
           {
            "bin_end": 26.6,
            "bin_start": 11,
            "count": 1
           },
           {
            "bin_end": 42.2,
            "bin_start": 26.6,
            "count": 1
           },
           {
            "bin_end": 57.8,
            "bin_start": 42.2,
            "count": 0
           },
           {
            "bin_end": 73.4,
            "bin_start": 57.8,
            "count": 0
           },
           {
            "bin_end": 89,
            "bin_start": 73.4,
            "count": 0
           },
           {
            "bin_end": 104.6,
            "bin_start": 89,
            "count": 0
           },
           {
            "bin_end": 120.2,
            "bin_start": 104.6,
            "count": 0
           },
           {
            "bin_end": 135.8,
            "bin_start": 120.2,
            "count": 0
           },
           {
            "bin_end": 151.4,
            "bin_start": 135.8,
            "count": 0
           },
           {
            "bin_end": 167,
            "bin_start": 151.4,
            "count": 1
           }
          ],
          "max": "167",
          "min": "11",
          "nan_count": 0,
          "unique_count": 3
         }
        },
        {
         "dtype": "int64",
         "name": "_deepnote_index_column"
        }
       ],
       "preview_row_count": 3,
       "row_count": 3,
       "rows": [
        {
         "Correctness of AI feedback": "Correct/mostly correct",
         "Count": 167,
         "_deepnote_index_column": 2
        },
        {
         "Correctness of AI feedback": "Partly correct",
         "Count": 35,
         "_deepnote_index_column": 1
        },
        {
         "Correctness of AI feedback": "Wrong/mostly wrong",
         "Count": 11,
         "_deepnote_index_column": 0
        }
       ],
       "type": "dataframe"
      },
      "text/html": [
       "<div>\n",
       "<style scoped>\n",
       "    .dataframe tbody tr th:only-of-type {\n",
       "        vertical-align: middle;\n",
       "    }\n",
       "\n",
       "    .dataframe tbody tr th {\n",
       "        vertical-align: top;\n",
       "    }\n",
       "\n",
       "    .dataframe thead th {\n",
       "        text-align: right;\n",
       "    }\n",
       "</style>\n",
       "<table border=\"1\" class=\"dataframe\">\n",
       "  <thead>\n",
       "    <tr style=\"text-align: right;\">\n",
       "      <th></th>\n",
       "      <th>Correctness of AI feedback</th>\n",
       "      <th>Count</th>\n",
       "    </tr>\n",
       "  </thead>\n",
       "  <tbody>\n",
       "    <tr>\n",
       "      <th>2</th>\n",
       "      <td>Correct/mostly correct</td>\n",
       "      <td>167</td>\n",
       "    </tr>\n",
       "    <tr>\n",
       "      <th>1</th>\n",
       "      <td>Partly correct</td>\n",
       "      <td>35</td>\n",
       "    </tr>\n",
       "    <tr>\n",
       "      <th>0</th>\n",
       "      <td>Wrong/mostly wrong</td>\n",
       "      <td>11</td>\n",
       "    </tr>\n",
       "  </tbody>\n",
       "</table>\n",
       "</div>"
      ],
      "text/plain": [
       "  Correctness of AI feedback  Count\n",
       "2     Correct/mostly correct    167\n",
       "1             Partly correct     35\n",
       "0         Wrong/mostly wrong     11"
      ]
     },
     "execution_count": 27,
     "metadata": {},
     "output_type": "execute_result"
    }
   ],
   "source": [
    "# ------------------------------------------------------------------------------\n",
    "# Table 7: Student Use Case AI Accuracy\n",
    "# ------------------------------------------------------------------------------\n",
    "\n",
    "# Graded subset, focus on student use case\n",
    "cor_name = 'Correctness of AI feedback'\n",
    "tab_7 = (\n",
    "    grade_dat\n",
    "    .groupby(\"Cor\", observed=True)          # group by correctness level\n",
    "    .size()                                 # aggregate by count\n",
    "    .reset_index(name=\"Count\")              # convert to DataFrame\n",
    "    .rename(columns={\"Cor\": cor_name})      # rename column\n",
    "    .sort_values(\"Count\", ascending=False)  # sort by count\n",
    ")\n",
    "tab_7"
   ]
  },
  {
   "cell_type": "code",
   "execution_count": 28,
   "metadata": {
    "cell_id": "389811f1c5f9456bbe7ef3b9e5f1037d",
    "deepnote_cell_type": "code",
    "execution_context_id": "3e5c51cf-c3c5-4dc9-b492-f691f1887d86",
    "execution_millis": 1,
    "execution_start": 1756498191738,
    "source_hash": "9e03da5b"
   },
   "outputs": [
    {
     "data": {
      "application/vnd.deepnote.dataframe.v3+json": {
       "column_count": 3,
       "columns": [
        {
         "dtype": "object",
         "name": " Correctness of AI feedback",
         "stats": {
          "categories": [
           {
            "count": 1,
            "name": "Correct/mostly correct"
           },
           {
            "count": 1,
            "name": "Partly correct"
           },
           {
            "count": 2,
            "name": "2 others"
           }
          ],
          "histogram": null,
          "max": null,
          "min": null,
          "nan_count": 0,
          "unique_count": 4
         }
        },
        {
         "dtype": "int64",
         "name": "Student Use Case Count",
         "stats": {
          "categories": null,
          "histogram": [
           {
            "bin_end": 31.2,
            "bin_start": 11,
            "count": 1
           },
           {
            "bin_end": 51.4,
            "bin_start": 31.2,
            "count": 1
           },
           {
            "bin_end": 71.6,
            "bin_start": 51.4,
            "count": 0
           },
           {
            "bin_end": 91.8,
            "bin_start": 71.6,
            "count": 0
           },
           {
            "bin_end": 112,
            "bin_start": 91.8,
            "count": 0
           },
           {
            "bin_end": 132.2,
            "bin_start": 112,
            "count": 0
           },
           {
            "bin_end": 152.4,
            "bin_start": 132.2,
            "count": 0
           },
           {
            "bin_end": 172.6,
            "bin_start": 152.4,
            "count": 1
           },
           {
            "bin_end": 192.79999999999998,
            "bin_start": 172.6,
            "count": 0
           },
           {
            "bin_end": 213,
            "bin_start": 192.79999999999998,
            "count": 1
           }
          ],
          "max": "213",
          "min": "11",
          "nan_count": 0,
          "unique_count": 4
         }
        },
        {
         "dtype": "object",
         "name": "Student Use Case Percent",
         "stats": {
          "categories": [
           {
            "count": 1,
            "name": "78.4%"
           },
           {
            "count": 1,
            "name": "16.4%"
           },
           {
            "count": 2,
            "name": "2 others"
           }
          ],
          "histogram": null,
          "max": null,
          "min": null,
          "nan_count": 0,
          "unique_count": 4
         }
        },
        {
         "dtype": "int64",
         "name": "_deepnote_index_column"
        }
       ],
       "preview_row_count": 4,
       "row_count": 4,
       "rows": [
        {
         " Correctness of AI feedback": "Correct/mostly correct",
         "Student Use Case Count": 167,
         "Student Use Case Percent": "78.4%",
         "_deepnote_index_column": 0
        },
        {
         " Correctness of AI feedback": "Partly correct",
         "Student Use Case Count": 35,
         "Student Use Case Percent": "16.4%",
         "_deepnote_index_column": 1
        },
        {
         " Correctness of AI feedback": "Wrong/mostly wrong",
         "Student Use Case Count": 11,
         "Student Use Case Percent": "5.2%",
         "_deepnote_index_column": 2
        },
        {
         " Correctness of AI feedback": "Total",
         "Student Use Case Count": 213,
         "Student Use Case Percent": "100.0%",
         "_deepnote_index_column": 3
        }
       ],
       "type": "dataframe"
      },
      "text/html": [
       "<div>\n",
       "<style scoped>\n",
       "    .dataframe tbody tr th:only-of-type {\n",
       "        vertical-align: middle;\n",
       "    }\n",
       "\n",
       "    .dataframe tbody tr th {\n",
       "        vertical-align: top;\n",
       "    }\n",
       "\n",
       "    .dataframe thead tr th {\n",
       "        text-align: left;\n",
       "    }\n",
       "</style>\n",
       "<table border=\"1\" class=\"dataframe\">\n",
       "  <thead>\n",
       "    <tr>\n",
       "      <th></th>\n",
       "      <th></th>\n",
       "      <th colspan=\"2\" halign=\"left\">Student Use Case</th>\n",
       "    </tr>\n",
       "    <tr>\n",
       "      <th></th>\n",
       "      <th>Correctness of AI feedback</th>\n",
       "      <th>Count</th>\n",
       "      <th>Percent</th>\n",
       "    </tr>\n",
       "  </thead>\n",
       "  <tbody>\n",
       "    <tr>\n",
       "      <th>0</th>\n",
       "      <td>Correct/mostly correct</td>\n",
       "      <td>167</td>\n",
       "      <td>78.4%</td>\n",
       "    </tr>\n",
       "    <tr>\n",
       "      <th>1</th>\n",
       "      <td>Partly correct</td>\n",
       "      <td>35</td>\n",
       "      <td>16.4%</td>\n",
       "    </tr>\n",
       "    <tr>\n",
       "      <th>2</th>\n",
       "      <td>Wrong/mostly wrong</td>\n",
       "      <td>11</td>\n",
       "      <td>5.2%</td>\n",
       "    </tr>\n",
       "    <tr>\n",
       "      <th>3</th>\n",
       "      <td>Total</td>\n",
       "      <td>213</td>\n",
       "      <td>100.0%</td>\n",
       "    </tr>\n",
       "  </tbody>\n",
       "</table>\n",
       "</div>"
      ],
      "text/plain": [
       "                             Student Use Case        \n",
       "  Correctness of AI feedback            Count Percent\n",
       "0     Correct/mostly correct              167   78.4%\n",
       "1             Partly correct               35   16.4%\n",
       "2         Wrong/mostly wrong               11    5.2%\n",
       "3                      Total              213  100.0%"
      ]
     },
     "execution_count": 28,
     "metadata": {},
     "output_type": "execute_result"
    }
   ],
   "source": [
    "# Add percentages column\n",
    "total_cor = tab_7[\"Count\"].sum()\n",
    "tab_7[\"Percent\"] = (\n",
    "    100 * tab_7[\"Count\"] / total_cor\n",
    ").map(\"{:.1f}%\".format)\n",
    "\n",
    "# Add totals row\n",
    "total_row_cor = pd.DataFrame({\n",
    "    cor_name: [\"Total\"],\n",
    "    \"Count\": [total_cor],\n",
    "    \"Percent\": [\"100.0%\"]\n",
    "})\n",
    "tab_7 = pd.concat(\n",
    "    [tab_7, total_row_cor],\n",
    "    axis=0,\n",
    "    ignore_index=True,\n",
    "    join=\"outer\"\n",
    ")\n",
    "\n",
    "# Use multi-index for header to specify use case\n",
    "tab_7.columns = pd.MultiIndex.from_tuples([\n",
    "    (\"\", cor_name),\n",
    "    (\"Student Use Case\", \"Count\"),\n",
    "    (\"Student Use Case\", \"Percent\")\n",
    "])\n",
    "\n",
    "tab_7"
   ]
  },
  {
   "cell_type": "code",
   "execution_count": 29,
   "metadata": {
    "cell_id": "ef8d2fcb82fb4d6285d5dc132f40e23d",
    "colab": {
     "base_uri": "https://localhost:8080/",
     "height": 0
    },
    "deepnote_cell_type": "code",
    "execution_context_id": "3e5c51cf-c3c5-4dc9-b492-f691f1887d86",
    "execution_millis": 0,
    "execution_start": 1756498191798,
    "id": "v__-9TyeUHeM",
    "outputId": "3ad97883-d483-4b7c-815f-cbb1ee757947",
    "source_hash": "29a4a853"
   },
   "outputs": [
    {
     "name": "stdout",
     "output_type": "stream",
     "text": [
      "\\begin{tabular}{lrl}\n",
      "\\toprule\n",
      " & \\multicolumn{2}{r}{Student Use Case} \\\\\n",
      "Correctness of AI feedback & Count & Percent \\\\\n",
      "\\midrule\n",
      "Correct/mostly correct & 167 & 78.4% \\\\\n",
      "Partly correct & 35 & 16.4% \\\\\n",
      "Wrong/mostly wrong & 11 & 5.2% \\\\\n",
      "Total & 213 & 100.0% \\\\\n",
      "\\bottomrule\n",
      "\\end{tabular}\n",
      "\n"
     ]
    }
   ],
   "source": [
    "print(tab_7.to_latex(index=False))"
   ]
  },
  {
   "cell_type": "markdown",
   "metadata": {
    "cell_id": "89332b88ff0d435680e127d306e6e6d5",
    "deepnote_cell_type": "text-cell-p",
    "formattedRanges": [
     {
      "fromCodePoint": 0,
      "marks": {
       "bold": true
      },
      "toCodePoint": 5,
      "type": "marks"
     }
    ]
   },
   "source": [
    "6.2.1"
   ]
  },
  {
   "cell_type": "markdown",
   "metadata": {
    "cell_id": "a25f4c8ea38d426fbf33a01bd966f85c",
    "deepnote_cell_type": "markdown",
    "id": "GUq3phRorvx0"
   },
   "source": [
    "**Table 8.** Summary of assessments made by human volunteers about the consistency of human-given feedback and AI-given feedback, broken down by mathematical topic of the proof being graded. Only the three most common mathematical topics are included here.\n",
    "\n"
   ]
  },
  {
   "cell_type": "code",
   "execution_count": 30,
   "metadata": {
    "cell_id": "600670ad2c4240cfa6715ee96ffb677f",
    "collapsed": true,
    "deepnote_cell_type": "code",
    "execution_context_id": "3e5c51cf-c3c5-4dc9-b492-f691f1887d86",
    "execution_millis": 1,
    "execution_start": 1756498191868,
    "id": "Dg1g0Kd45Jgi",
    "source_hash": "b90ec206"
   },
   "outputs": [
    {
     "data": {
      "application/vnd.deepnote.dataframe.v3+json": {
       "column_count": 5,
       "columns": [
        {
         "dtype": "object",
         "name": " Consistency with human expert",
         "stats": {
          "categories": [
           {
            "count": 3,
            "name": "Yes they say the same thing"
           },
           {
            "count": 3,
            "name": "No they say different things"
           },
           {
            "count": 6,
            "name": "4 others"
           }
          ],
          "histogram": null,
          "max": null,
          "min": null,
          "nan_count": 0,
          "unique_count": 6
         }
        },
        {
         "dtype": "object",
         "name": "Embedded Use Case Count",
         "stats": {
          "categories": [
           {
            "count": 3,
            "name": ""
           },
           {
            "count": 1,
            "name": "27"
           },
           {
            "count": 8,
            "name": "8 others"
           }
          ],
          "histogram": null,
          "max": null,
          "min": null,
          "nan_count": 0,
          "unique_count": 10
         }
        },
        {
         "dtype": "object",
         "name": "Embedded Use Case Percent",
         "stats": {
          "categories": [
           {
            "count": 3,
            "name": ""
           },
           {
            "count": 3,
            "name": "100.0%"
           },
           {
            "count": 6,
            "name": "6 others"
           }
          ],
          "histogram": null,
          "max": null,
          "min": null,
          "nan_count": 0,
          "unique_count": 8
         }
        },
        {
         "dtype": "object",
         "name": "Student Use Case Count",
         "stats": {
          "categories": [
           {
            "count": 3,
            "name": ""
           },
           {
            "count": 1,
            "name": "41"
           },
           {
            "count": 8,
            "name": "8 others"
           }
          ],
          "histogram": null,
          "max": null,
          "min": null,
          "nan_count": 0,
          "unique_count": 10
         }
        },
        {
         "dtype": "object",
         "name": "Student Use Case Percent",
         "stats": {
          "categories": [
           {
            "count": 3,
            "name": ""
           },
           {
            "count": 3,
            "name": "100.0%"
           },
           {
            "count": 6,
            "name": "6 others"
           }
          ],
          "histogram": null,
          "max": null,
          "min": null,
          "nan_count": 0,
          "unique_count": 8
         }
        },
        {
         "dtype": "int64",
         "name": "_deepnote_index_column"
        }
       ],
       "preview_row_count": 12,
       "row_count": 12,
       "rows": [
        {
         " Consistency with human expert": "Topic: linear algebra",
         "Embedded Use Case Count": "",
         "Embedded Use Case Percent": "",
         "Student Use Case Count": "",
         "Student Use Case Percent": "",
         "_deepnote_index_column": 0
        },
        {
         " Consistency with human expert": "Yes they say the same thing",
         "Embedded Use Case Count": "27",
         "Embedded Use Case Percent": "27.0%",
         "Student Use Case Count": "41",
         "Student Use Case Percent": "41.0%",
         "_deepnote_index_column": 1
        },
        {
         " Consistency with human expert": "No they say different things",
         "Embedded Use Case Count": "73",
         "Embedded Use Case Percent": "73.0%",
         "Student Use Case Count": "59",
         "Student Use Case Percent": "59.0%",
         "_deepnote_index_column": 2
        },
        {
         " Consistency with human expert": "Total",
         "Embedded Use Case Count": "100",
         "Embedded Use Case Percent": "100.0%",
         "Student Use Case Count": "100",
         "Student Use Case Percent": "100.0%",
         "_deepnote_index_column": 3
        },
        {
         " Consistency with human expert": "Topic: modular arithmetic",
         "Embedded Use Case Count": "",
         "Embedded Use Case Percent": "",
         "Student Use Case Count": "",
         "Student Use Case Percent": "",
         "_deepnote_index_column": 4
        },
        {
         " Consistency with human expert": "Yes they say the same thing",
         "Embedded Use Case Count": "22",
         "Embedded Use Case Percent": "52.4%",
         "Student Use Case Count": "28",
         "Student Use Case Percent": "66.7%",
         "_deepnote_index_column": 5
        },
        {
         " Consistency with human expert": "No they say different things",
         "Embedded Use Case Count": "20",
         "Embedded Use Case Percent": "47.6%",
         "Student Use Case Count": "14",
         "Student Use Case Percent": "33.3%",
         "_deepnote_index_column": 6
        },
        {
         " Consistency with human expert": "Total",
         "Embedded Use Case Count": "42",
         "Embedded Use Case Percent": "100.0%",
         "Student Use Case Count": "42",
         "Student Use Case Percent": "100.0%",
         "_deepnote_index_column": 7
        },
        {
         " Consistency with human expert": "Topic: set theory",
         "Embedded Use Case Count": "",
         "Embedded Use Case Percent": "",
         "Student Use Case Count": "",
         "Student Use Case Percent": "",
         "_deepnote_index_column": 8
        },
        {
         " Consistency with human expert": "Yes they say the same thing",
         "Embedded Use Case Count": "13",
         "Embedded Use Case Percent": "52.0%",
         "Student Use Case Count": "19",
         "Student Use Case Percent": "76.0%",
         "_deepnote_index_column": 9
        },
        {
         " Consistency with human expert": "No they say different things",
         "Embedded Use Case Count": "12",
         "Embedded Use Case Percent": "48.0%",
         "Student Use Case Count": "6",
         "Student Use Case Percent": "24.0%",
         "_deepnote_index_column": 10
        },
        {
         " Consistency with human expert": "Total",
         "Embedded Use Case Count": "25",
         "Embedded Use Case Percent": "100.0%",
         "Student Use Case Count": "25",
         "Student Use Case Percent": "100.0%",
         "_deepnote_index_column": 11
        }
       ],
       "type": "dataframe"
      },
      "text/html": [
       "<div>\n",
       "<style scoped>\n",
       "    .dataframe tbody tr th:only-of-type {\n",
       "        vertical-align: middle;\n",
       "    }\n",
       "\n",
       "    .dataframe tbody tr th {\n",
       "        vertical-align: top;\n",
       "    }\n",
       "\n",
       "    .dataframe thead tr th {\n",
       "        text-align: left;\n",
       "    }\n",
       "</style>\n",
       "<table border=\"1\" class=\"dataframe\">\n",
       "  <thead>\n",
       "    <tr>\n",
       "      <th></th>\n",
       "      <th></th>\n",
       "      <th colspan=\"2\" halign=\"left\">Embedded Use Case</th>\n",
       "      <th colspan=\"2\" halign=\"left\">Student Use Case</th>\n",
       "    </tr>\n",
       "    <tr>\n",
       "      <th></th>\n",
       "      <th>Consistency with human expert</th>\n",
       "      <th>Count</th>\n",
       "      <th>Percent</th>\n",
       "      <th>Count</th>\n",
       "      <th>Percent</th>\n",
       "    </tr>\n",
       "  </thead>\n",
       "  <tbody>\n",
       "    <tr>\n",
       "      <th>0</th>\n",
       "      <td>Topic: linear algebra</td>\n",
       "      <td></td>\n",
       "      <td></td>\n",
       "      <td></td>\n",
       "      <td></td>\n",
       "    </tr>\n",
       "    <tr>\n",
       "      <th>1</th>\n",
       "      <td>Yes they say the same thing</td>\n",
       "      <td>27</td>\n",
       "      <td>27.0%</td>\n",
       "      <td>41</td>\n",
       "      <td>41.0%</td>\n",
       "    </tr>\n",
       "    <tr>\n",
       "      <th>2</th>\n",
       "      <td>No they say different things</td>\n",
       "      <td>73</td>\n",
       "      <td>73.0%</td>\n",
       "      <td>59</td>\n",
       "      <td>59.0%</td>\n",
       "    </tr>\n",
       "    <tr>\n",
       "      <th>3</th>\n",
       "      <td>Total</td>\n",
       "      <td>100</td>\n",
       "      <td>100.0%</td>\n",
       "      <td>100</td>\n",
       "      <td>100.0%</td>\n",
       "    </tr>\n",
       "    <tr>\n",
       "      <th>4</th>\n",
       "      <td>Topic: modular arithmetic</td>\n",
       "      <td></td>\n",
       "      <td></td>\n",
       "      <td></td>\n",
       "      <td></td>\n",
       "    </tr>\n",
       "    <tr>\n",
       "      <th>5</th>\n",
       "      <td>Yes they say the same thing</td>\n",
       "      <td>22</td>\n",
       "      <td>52.4%</td>\n",
       "      <td>28</td>\n",
       "      <td>66.7%</td>\n",
       "    </tr>\n",
       "    <tr>\n",
       "      <th>6</th>\n",
       "      <td>No they say different things</td>\n",
       "      <td>20</td>\n",
       "      <td>47.6%</td>\n",
       "      <td>14</td>\n",
       "      <td>33.3%</td>\n",
       "    </tr>\n",
       "    <tr>\n",
       "      <th>7</th>\n",
       "      <td>Total</td>\n",
       "      <td>42</td>\n",
       "      <td>100.0%</td>\n",
       "      <td>42</td>\n",
       "      <td>100.0%</td>\n",
       "    </tr>\n",
       "    <tr>\n",
       "      <th>8</th>\n",
       "      <td>Topic: set theory</td>\n",
       "      <td></td>\n",
       "      <td></td>\n",
       "      <td></td>\n",
       "      <td></td>\n",
       "    </tr>\n",
       "    <tr>\n",
       "      <th>9</th>\n",
       "      <td>Yes they say the same thing</td>\n",
       "      <td>13</td>\n",
       "      <td>52.0%</td>\n",
       "      <td>19</td>\n",
       "      <td>76.0%</td>\n",
       "    </tr>\n",
       "    <tr>\n",
       "      <th>10</th>\n",
       "      <td>No they say different things</td>\n",
       "      <td>12</td>\n",
       "      <td>48.0%</td>\n",
       "      <td>6</td>\n",
       "      <td>24.0%</td>\n",
       "    </tr>\n",
       "    <tr>\n",
       "      <th>11</th>\n",
       "      <td>Total</td>\n",
       "      <td>25</td>\n",
       "      <td>100.0%</td>\n",
       "      <td>25</td>\n",
       "      <td>100.0%</td>\n",
       "    </tr>\n",
       "  </tbody>\n",
       "</table>\n",
       "</div>"
      ],
      "text/plain": [
       "                                 Embedded Use Case         Student Use Case  \\\n",
       "   Consistency with human expert             Count Percent            Count   \n",
       "0          Topic: linear algebra                                              \n",
       "1    Yes they say the same thing                27   27.0%               41   \n",
       "2   No they say different things                73   73.0%               59   \n",
       "3                          Total               100  100.0%              100   \n",
       "4      Topic: modular arithmetic                                              \n",
       "5    Yes they say the same thing                22   52.4%               28   \n",
       "6   No they say different things                20   47.6%               14   \n",
       "7                          Total                42  100.0%               42   \n",
       "8              Topic: set theory                                              \n",
       "9    Yes they say the same thing                13   52.0%               19   \n",
       "10  No they say different things                12   48.0%                6   \n",
       "11                         Total                25  100.0%               25   \n",
       "\n",
       "            \n",
       "   Percent  \n",
       "0           \n",
       "1    41.0%  \n",
       "2    59.0%  \n",
       "3   100.0%  \n",
       "4           \n",
       "5    66.7%  \n",
       "6    33.3%  \n",
       "7   100.0%  \n",
       "8           \n",
       "9    76.0%  \n",
       "10   24.0%  \n",
       "11  100.0%  "
      ]
     },
     "execution_count": 30,
     "metadata": {},
     "output_type": "execute_result"
    }
   ],
   "source": [
    "# ------------------------------------------------------------------------------\n",
    "# Table 8: Use Case Consistency Comparisons by Common Topics\n",
    "# ------------------------------------------------------------------------------\n",
    "\n",
    "# we will build a table with three different topics in it\n",
    "topics = [\"linear algebra\", \"modular arithmetic\", \"set theory\"]\n",
    "\n",
    "# we use this loop to create an array of the table parts,\n",
    "# then concatenate them together below\n",
    "blocks = []\n",
    "for topic in topics:\n",
    "    # select rows for the topic in question\n",
    "    sub = grade_dat.loc[grade_dat[\"Topic\"] == topic]\n",
    "\n",
    "    # summarize consistency for each use case\n",
    "    # (uses a function defined above for Table 7)\n",
    "    euc_con = counts_and_percents(sub, \"Con_1\", con_name, con_order)\n",
    "    suc_con = counts_and_percents(sub, \"Con_2\", con_name, con_order)\n",
    "\n",
    "    # side-by-side merge on the leftmost descriptor column\n",
    "    merged = euc_con.merge(suc_con, on=con_name, how=\"inner\",\n",
    "        suffixes=(\"_Embedded\",\"_Student\"))\n",
    "\n",
    "    # MultiIndex headers: (group, subheader)\n",
    "    merged.columns = pd.MultiIndex.from_tuples([\n",
    "        (\"\", \"Consistency with human expert\"),\n",
    "        (\"Embedded Use Case\", \"Count\"),\n",
    "        (\"Embedded Use Case\", \"Percent\"),\n",
    "        (\"Student Use Case\", \"Count\"),\n",
    "        (\"Student Use Case\", \"Percent\"),\n",
    "    ])\n",
    "\n",
    "    # insert a single-row topic header\n",
    "    header_row = pd.DataFrame(\n",
    "        [[f\"Topic: {topic}\", \"\", \"\", \"\", \"\"]],\n",
    "        columns=merged.columns\n",
    "    )\n",
    "\n",
    "    # add the work we just did to the blocks list\n",
    "    blocks.append(header_row)\n",
    "    blocks.append(merged)\n",
    "\n",
    "# concatenate all topic sections into the final table\n",
    "tab_8 = pd.concat(blocks, ignore_index=True)\n",
    "tab_8"
   ]
  },
  {
   "cell_type": "code",
   "execution_count": 31,
   "metadata": {
    "cell_id": "7fa66642b9d546b0866ba58d94c94fd8",
    "colab": {
     "base_uri": "https://localhost:8080/",
     "height": 0
    },
    "deepnote_cell_type": "code",
    "execution_context_id": "3e5c51cf-c3c5-4dc9-b492-f691f1887d86",
    "execution_millis": 1,
    "execution_start": 1756498191928,
    "id": "6YnIKtBJUMBn",
    "outputId": "e5035496-5e0b-4ca0-c169-70afe6f61ce5",
    "source_hash": "6e4b7dbf"
   },
   "outputs": [
    {
     "name": "stdout",
     "output_type": "stream",
     "text": [
      "\\begin{tabular}{lllll}\n",
      "\\toprule\n",
      " & \\multicolumn{2}{r}{Embedded Use Case} & \\multicolumn{2}{r}{Student Use Case} \\\\\n",
      "Consistency with human expert & Count & Percent & Count & Percent \\\\\n",
      "\\midrule\n",
      "Topic: linear algebra &  &  &  &  \\\\\n",
      "Yes they say the same thing & 27 & 27.0% & 41 & 41.0% \\\\\n",
      "No they say different things & 73 & 73.0% & 59 & 59.0% \\\\\n",
      "Total & 100 & 100.0% & 100 & 100.0% \\\\\n",
      "Topic: modular arithmetic &  &  &  &  \\\\\n",
      "Yes they say the same thing & 22 & 52.4% & 28 & 66.7% \\\\\n",
      "No they say different things & 20 & 47.6% & 14 & 33.3% \\\\\n",
      "Total & 42 & 100.0% & 42 & 100.0% \\\\\n",
      "Topic: set theory &  &  &  &  \\\\\n",
      "Yes they say the same thing & 13 & 52.0% & 19 & 76.0% \\\\\n",
      "No they say different things & 12 & 48.0% & 6 & 24.0% \\\\\n",
      "Total & 25 & 100.0% & 25 & 100.0% \\\\\n",
      "\\bottomrule\n",
      "\\end{tabular}\n",
      "\n"
     ]
    }
   ],
   "source": [
    "print(tab_8.to_latex(index=False))"
   ]
  },
  {
   "cell_type": "code",
   "execution_count": 32,
   "metadata": {
    "cell_id": "b92db17c587a43c1812cd08df75e54ef",
    "deepnote_cell_type": "code",
    "execution_context_id": "3e5c51cf-c3c5-4dc9-b492-f691f1887d86",
    "execution_millis": 0,
    "execution_start": 1756498191998,
    "source_hash": "503ada54"
   },
   "outputs": [
    {
     "name": "stdout",
     "output_type": "stream",
     "text": [
      "p1hat, EUC linear algebra Consistent%: 27 / 100 ~= 0.270\n",
      "p2hat, EUC modular arithmetic Consistent%: 22 / 42 ~= 0.524\n",
      "diff in proportions (p1hat - p2hat): -0.254\n",
      "95% CI for diff: (-0.428, -0.079)\n",
      "95% CI width: 0.349\n",
      "CI width relative to absolute diff: 1.37x the effect size\n",
      "CI excludes 0 → significant difference\n",
      "stat ~= -2.904, p ~= 0.00184, Reject\n",
      "--------------------------------------------------\n",
      "p1hat, EUC linear algebra Consistent%: 27 / 100 ~= 0.270\n",
      "p2hat, EUC set theory Consistent%: 13 / 25 ~= 0.520\n",
      "diff in proportions (p1hat - p2hat): -0.250\n",
      "95% CI for diff: (-0.464, -0.036)\n",
      "95% CI width: 0.429\n",
      "CI width relative to absolute diff: 1.71x the effect size\n",
      "CI excludes 0 → significant difference\n",
      "stat ~= -2.397, p ~= 0.00827, Reject\n",
      "--------------------------------------------------\n",
      "p1hat, SUC linear algebra Consistent%: 41 / 100 ~= 0.410\n",
      "p2hat, SUC modular arithmetic Consistent%: 28 / 42 ~= 0.667\n",
      "diff in proportions (p1hat - p2hat): -0.257\n",
      "95% CI for diff: (-0.429, -0.085)\n",
      "95% CI width: 0.344\n",
      "CI width relative to absolute diff: 1.34x the effect size\n",
      "CI excludes 0 → significant difference\n",
      "stat ~= -2.793, p ~= 0.00261, Reject\n",
      "--------------------------------------------------\n",
      "p1hat, SUC linear algebra Consistent%: 41 / 100 ~= 0.410\n",
      "p2hat, SUC set theory Consistent%: 19 / 25 ~= 0.760\n",
      "diff in proportions (p1hat - p2hat): -0.350\n",
      "95% CI for diff: (-0.543, -0.157)\n",
      "95% CI width: 0.386\n",
      "CI width relative to absolute diff: 1.10x the effect size\n",
      "CI excludes 0 → significant difference\n",
      "stat ~= -3.133, p ~= 0.000865, Reject\n",
      "--------------------------------------------------\n"
     ]
    }
   ],
   "source": [
    "# ------------------------------------------------------------------------------\n",
    "# Hypothesis Testing 3\n",
    "# ------------------------------------------------------------------------------\n",
    "\n",
    "# Is EUC linear algebra Consistent% <= same for modular arithmetic?\n",
    "hyp_test_pop1_leq_pop2(\n",
    "    grade_dat[grade_dat['Topic']=='linear algebra']['Con_1'].str.startswith( 'Yes' ),\n",
    "    grade_dat[grade_dat['Topic']=='modular arithmetic']['Con_1'].str.startswith( 'Yes' ),\n",
    "    name1=\"EUC linear algebra Consistent%\", \n",
    "    name2=\"EUC modular arithmetic Consistent%\" \n",
    ")\n",
    "\n",
    "# Is EUC linear algebra Consistent% <= same for set theory?\n",
    "hyp_test_pop1_leq_pop2(\n",
    "    grade_dat[grade_dat['Topic']=='linear algebra']['Con_1'].str.startswith( 'Yes' ),\n",
    "    grade_dat[grade_dat['Topic']=='set theory']['Con_1'].str.startswith( 'Yes' ),\n",
    "    name1=\"EUC linear algebra Consistent%\", \n",
    "    name2=\"EUC set theory Consistent%\"\n",
    ")\n",
    "\n",
    "# Is SUC linear algebra Consistent% <= same for modular arithmetic?\n",
    "hyp_test_pop1_leq_pop2(\n",
    "    grade_dat[grade_dat['Topic']=='linear algebra']['Con_2'].str.startswith( 'Yes' ),\n",
    "    grade_dat[grade_dat['Topic']=='modular arithmetic']['Con_2'].str.startswith( 'Yes' ),\n",
    "    name1=\"SUC linear algebra Consistent%\", \n",
    "    name2=\"SUC modular arithmetic Consistent%\"\n",
    ")\n",
    "\n",
    "# Is SUC linear algebra Consistent% <= same for set theory?\n",
    "hyp_test_pop1_leq_pop2(\n",
    "    grade_dat[grade_dat['Topic']=='linear algebra']['Con_2'].str.startswith( 'Yes' ),\n",
    "    grade_dat[grade_dat['Topic']=='set theory']['Con_2'].str.startswith( 'Yes' ),\n",
    "    name1=\"SUC linear algebra Consistent%\", \n",
    "    name2=\"SUC set theory Consistent%\"\n",
    ")"
   ]
  },
  {
   "cell_type": "markdown",
   "metadata": {
    "cell_id": "770b98e3f1a84f59a5c74b744f7e7907",
    "deepnote_cell_type": "markdown",
    "id": "RLSgERDXr0wc"
   },
   "source": [
    "**Table 9.** Summary of assessments made by human volunteers about the correctness of AI-given feedback, broken down by mathematical topic of the proof being graded. Only the three most common mathematical topics are included here."
   ]
  },
  {
   "cell_type": "code",
   "execution_count": 33,
   "metadata": {
    "cell_id": "562fa2cc19c744c68a662f58cc05657b",
    "deepnote_cell_type": "code",
    "execution_context_id": "3e5c51cf-c3c5-4dc9-b492-f691f1887d86",
    "execution_millis": 1,
    "execution_start": 1756498192058,
    "id": "MctO8lL3WzsS",
    "source_hash": "b80cb6e8"
   },
   "outputs": [
    {
     "data": {
      "application/vnd.deepnote.dataframe.v3+json": {
       "column_count": 3,
       "columns": [
        {
         "dtype": "object",
         "name": " Correctness of AI feedback",
         "stats": {
          "categories": [
           {
            "count": 3,
            "name": "Correct/mostly correct"
           },
           {
            "count": 3,
            "name": "Partly correct"
           },
           {
            "count": 9,
            "name": "5 others"
           }
          ],
          "histogram": null,
          "max": null,
          "min": null,
          "nan_count": 0,
          "unique_count": 7
         }
        },
        {
         "dtype": "object",
         "name": "Student Use Case Count",
         "stats": {
          "categories": [
           {
            "count": 3,
            "name": ""
           },
           {
            "count": 2,
            "name": "4"
           },
           {
            "count": 10,
            "name": "10 others"
           }
          ],
          "histogram": null,
          "max": null,
          "min": null,
          "nan_count": 0,
          "unique_count": 12
         }
        },
        {
         "dtype": "object",
         "name": "Student Use Case Percent",
         "stats": {
          "categories": [
           {
            "count": 3,
            "name": ""
           },
           {
            "count": 3,
            "name": "100.0%"
           },
           {
            "count": 9,
            "name": "8 others"
           }
          ],
          "histogram": null,
          "max": null,
          "min": null,
          "nan_count": 0,
          "unique_count": 10
         }
        },
        {
         "dtype": "int64",
         "name": "_deepnote_index_column"
        }
       ],
       "preview_row_count": 15,
       "row_count": 15,
       "rows": [
        {
         " Correctness of AI feedback": "Topic: linear algebra",
         "Student Use Case Count": "",
         "Student Use Case Percent": "",
         "_deepnote_index_column": 0
        },
        {
         " Correctness of AI feedback": "Correct/mostly correct",
         "Student Use Case Count": "79",
         "Student Use Case Percent": "79.0%",
         "_deepnote_index_column": 1
        },
        {
         " Correctness of AI feedback": "Partly correct",
         "Student Use Case Count": "16",
         "Student Use Case Percent": "16.0%",
         "_deepnote_index_column": 2
        },
        {
         " Correctness of AI feedback": "Wrong/mostly wrong",
         "Student Use Case Count": "5",
         "Student Use Case Percent": "5.0%",
         "_deepnote_index_column": 3
        },
        {
         " Correctness of AI feedback": "Total",
         "Student Use Case Count": "100",
         "Student Use Case Percent": "100.0%",
         "_deepnote_index_column": 4
        },
        {
         " Correctness of AI feedback": "Topic: modular arithmetic",
         "Student Use Case Count": "",
         "Student Use Case Percent": "",
         "_deepnote_index_column": 5
        },
        {
         " Correctness of AI feedback": "Correct/mostly correct",
         "Student Use Case Count": "35",
         "Student Use Case Percent": "83.3%",
         "_deepnote_index_column": 6
        },
        {
         " Correctness of AI feedback": "Partly correct",
         "Student Use Case Count": "4",
         "Student Use Case Percent": "9.5%",
         "_deepnote_index_column": 7
        },
        {
         " Correctness of AI feedback": "Wrong/mostly wrong",
         "Student Use Case Count": "3",
         "Student Use Case Percent": "7.1%",
         "_deepnote_index_column": 8
        },
        {
         " Correctness of AI feedback": "Total",
         "Student Use Case Count": "42",
         "Student Use Case Percent": "100.0%",
         "_deepnote_index_column": 9
        },
        {
         " Correctness of AI feedback": "Topic: set theory",
         "Student Use Case Count": "",
         "Student Use Case Percent": "",
         "_deepnote_index_column": 10
        },
        {
         " Correctness of AI feedback": "Correct/mostly correct",
         "Student Use Case Count": "21",
         "Student Use Case Percent": "84.0%",
         "_deepnote_index_column": 11
        },
        {
         " Correctness of AI feedback": "Partly correct",
         "Student Use Case Count": "4",
         "Student Use Case Percent": "16.0%",
         "_deepnote_index_column": 12
        },
        {
         " Correctness of AI feedback": "Wrong/mostly wrong",
         "Student Use Case Count": "0",
         "Student Use Case Percent": "0.0%",
         "_deepnote_index_column": 13
        },
        {
         " Correctness of AI feedback": "Total",
         "Student Use Case Count": "25",
         "Student Use Case Percent": "100.0%",
         "_deepnote_index_column": 14
        }
       ],
       "type": "dataframe"
      },
      "text/html": [
       "<div>\n",
       "<style scoped>\n",
       "    .dataframe tbody tr th:only-of-type {\n",
       "        vertical-align: middle;\n",
       "    }\n",
       "\n",
       "    .dataframe tbody tr th {\n",
       "        vertical-align: top;\n",
       "    }\n",
       "\n",
       "    .dataframe thead tr th {\n",
       "        text-align: left;\n",
       "    }\n",
       "</style>\n",
       "<table border=\"1\" class=\"dataframe\">\n",
       "  <thead>\n",
       "    <tr>\n",
       "      <th></th>\n",
       "      <th></th>\n",
       "      <th colspan=\"2\" halign=\"left\">Student Use Case</th>\n",
       "    </tr>\n",
       "    <tr>\n",
       "      <th></th>\n",
       "      <th>Correctness of AI feedback</th>\n",
       "      <th>Count</th>\n",
       "      <th>Percent</th>\n",
       "    </tr>\n",
       "  </thead>\n",
       "  <tbody>\n",
       "    <tr>\n",
       "      <th>0</th>\n",
       "      <td>Topic: linear algebra</td>\n",
       "      <td></td>\n",
       "      <td></td>\n",
       "    </tr>\n",
       "    <tr>\n",
       "      <th>1</th>\n",
       "      <td>Correct/mostly correct</td>\n",
       "      <td>79</td>\n",
       "      <td>79.0%</td>\n",
       "    </tr>\n",
       "    <tr>\n",
       "      <th>2</th>\n",
       "      <td>Partly correct</td>\n",
       "      <td>16</td>\n",
       "      <td>16.0%</td>\n",
       "    </tr>\n",
       "    <tr>\n",
       "      <th>3</th>\n",
       "      <td>Wrong/mostly wrong</td>\n",
       "      <td>5</td>\n",
       "      <td>5.0%</td>\n",
       "    </tr>\n",
       "    <tr>\n",
       "      <th>4</th>\n",
       "      <td>Total</td>\n",
       "      <td>100</td>\n",
       "      <td>100.0%</td>\n",
       "    </tr>\n",
       "    <tr>\n",
       "      <th>5</th>\n",
       "      <td>Topic: modular arithmetic</td>\n",
       "      <td></td>\n",
       "      <td></td>\n",
       "    </tr>\n",
       "    <tr>\n",
       "      <th>6</th>\n",
       "      <td>Correct/mostly correct</td>\n",
       "      <td>35</td>\n",
       "      <td>83.3%</td>\n",
       "    </tr>\n",
       "    <tr>\n",
       "      <th>7</th>\n",
       "      <td>Partly correct</td>\n",
       "      <td>4</td>\n",
       "      <td>9.5%</td>\n",
       "    </tr>\n",
       "    <tr>\n",
       "      <th>8</th>\n",
       "      <td>Wrong/mostly wrong</td>\n",
       "      <td>3</td>\n",
       "      <td>7.1%</td>\n",
       "    </tr>\n",
       "    <tr>\n",
       "      <th>9</th>\n",
       "      <td>Total</td>\n",
       "      <td>42</td>\n",
       "      <td>100.0%</td>\n",
       "    </tr>\n",
       "    <tr>\n",
       "      <th>10</th>\n",
       "      <td>Topic: set theory</td>\n",
       "      <td></td>\n",
       "      <td></td>\n",
       "    </tr>\n",
       "    <tr>\n",
       "      <th>11</th>\n",
       "      <td>Correct/mostly correct</td>\n",
       "      <td>21</td>\n",
       "      <td>84.0%</td>\n",
       "    </tr>\n",
       "    <tr>\n",
       "      <th>12</th>\n",
       "      <td>Partly correct</td>\n",
       "      <td>4</td>\n",
       "      <td>16.0%</td>\n",
       "    </tr>\n",
       "    <tr>\n",
       "      <th>13</th>\n",
       "      <td>Wrong/mostly wrong</td>\n",
       "      <td>0</td>\n",
       "      <td>0.0%</td>\n",
       "    </tr>\n",
       "    <tr>\n",
       "      <th>14</th>\n",
       "      <td>Total</td>\n",
       "      <td>25</td>\n",
       "      <td>100.0%</td>\n",
       "    </tr>\n",
       "  </tbody>\n",
       "</table>\n",
       "</div>"
      ],
      "text/plain": [
       "                              Student Use Case        \n",
       "   Correctness of AI feedback            Count Percent\n",
       "0       Topic: linear algebra                         \n",
       "1      Correct/mostly correct               79   79.0%\n",
       "2              Partly correct               16   16.0%\n",
       "3          Wrong/mostly wrong                5    5.0%\n",
       "4                       Total              100  100.0%\n",
       "5   Topic: modular arithmetic                         \n",
       "6      Correct/mostly correct               35   83.3%\n",
       "7              Partly correct                4    9.5%\n",
       "8          Wrong/mostly wrong                3    7.1%\n",
       "9                       Total               42  100.0%\n",
       "10          Topic: set theory                         \n",
       "11     Correct/mostly correct               21   84.0%\n",
       "12             Partly correct                4   16.0%\n",
       "13         Wrong/mostly wrong                0    0.0%\n",
       "14                      Total               25  100.0%"
      ]
     },
     "execution_count": 33,
     "metadata": {},
     "output_type": "execute_result"
    }
   ],
   "source": [
    "# ------------------------------------------------------------------------------\n",
    "# Table 9: Student Use Case AI Accuracy by Common Topics\n",
    "# ------------------------------------------------------------------------------\n",
    "\n",
    "# we will build a table with three different topics in it\n",
    "topics = [\"linear algebra\", \"modular arithmetic\", \"set theory\"]\n",
    "\n",
    "# each topic will be sorted internally by the following ordering\n",
    "cor_order = [\n",
    "    \"Correct/mostly correct\",\n",
    "    \"Partly correct\",\n",
    "    \"Wrong/mostly wrong\",\n",
    "    \"Total\"\n",
    "]\n",
    "\n",
    "# we use this loop to create an array of the table parts,\n",
    "# then concatenate them together below\n",
    "blocks = []\n",
    "for topic in topics:\n",
    "    # select rows for the topic in question\n",
    "    sub = grade_dat.loc[grade_dat[\"Topic\"] == topic]\n",
    "\n",
    "    # summarize consistency for each use case\n",
    "    # (uses a function defined above for Table 7)\n",
    "    c = counts_and_percents(sub, \"Cor\", cor_name, cor_order)\n",
    "\n",
    "    # replace missing with zeros\n",
    "    c[\"Count\"] = c[\"Count\"].fillna(0).astype(int)\n",
    "    c[\"Percent\"] = c[\"Percent\"].fillna(\"0.0%\")\n",
    "\n",
    "    # add multi-index headers\n",
    "    c.columns = pd.MultiIndex.from_tuples([\n",
    "        (\"\", \"Correctness of AI feedback\"),\n",
    "        (\"Student Use Case\", \"Count\"),\n",
    "        (\"Student Use Case\", \"Percent\"),\n",
    "    ])\n",
    "\n",
    "    # insert a single-row topic header\n",
    "    header_row = pd.DataFrame(\n",
    "        [[f\"Topic: {topic}\", \"\", \"\"]],\n",
    "        columns=c.columns\n",
    "    )\n",
    "\n",
    "    # add the work we just did to the blocks list\n",
    "    blocks.append(header_row)\n",
    "    blocks.append(c)\n",
    "\n",
    "# concatenate all topic sections into the final table\n",
    "tab_9 = pd.concat(blocks, ignore_index=True)\n",
    "tab_9"
   ]
  },
  {
   "cell_type": "code",
   "execution_count": 34,
   "metadata": {
    "cell_id": "dfca5b08e484411ba521845fb5300755",
    "colab": {
     "base_uri": "https://localhost:8080/",
     "height": 0
    },
    "deepnote_cell_type": "code",
    "execution_context_id": "3e5c51cf-c3c5-4dc9-b492-f691f1887d86",
    "execution_millis": 0,
    "execution_start": 1756498192118,
    "id": "8ZLkkn8EaLbb",
    "outputId": "1e2a08e1-fe70-4c37-8256-88cac0b76cc7",
    "source_hash": "4082a55a"
   },
   "outputs": [
    {
     "name": "stdout",
     "output_type": "stream",
     "text": [
      "\\begin{tabular}{lll}\n",
      "\\toprule\n",
      " & \\multicolumn{2}{r}{Student Use Case} \\\\\n",
      "Correctness of AI feedback & Count & Percent \\\\\n",
      "\\midrule\n",
      "Topic: linear algebra &  &  \\\\\n",
      "Correct/mostly correct & 79 & 79.0% \\\\\n",
      "Partly correct & 16 & 16.0% \\\\\n",
      "Wrong/mostly wrong & 5 & 5.0% \\\\\n",
      "Total & 100 & 100.0% \\\\\n",
      "Topic: modular arithmetic &  &  \\\\\n",
      "Correct/mostly correct & 35 & 83.3% \\\\\n",
      "Partly correct & 4 & 9.5% \\\\\n",
      "Wrong/mostly wrong & 3 & 7.1% \\\\\n",
      "Total & 42 & 100.0% \\\\\n",
      "Topic: set theory &  &  \\\\\n",
      "Correct/mostly correct & 21 & 84.0% \\\\\n",
      "Partly correct & 4 & 16.0% \\\\\n",
      "Wrong/mostly wrong & 0 & 0.0% \\\\\n",
      "Total & 25 & 100.0% \\\\\n",
      "\\bottomrule\n",
      "\\end{tabular}\n",
      "\n"
     ]
    }
   ],
   "source": [
    "print(tab_9.to_latex(index=False))"
   ]
  },
  {
   "cell_type": "markdown",
   "metadata": {
    "cell_id": "98b50836017447c3b693210e955bc93e",
    "deepnote_cell_type": "text-cell-p",
    "formattedRanges": [
     {
      "fromCodePoint": 0,
      "marks": {
       "bold": true
      },
      "toCodePoint": 5,
      "type": "marks"
     }
    ]
   },
   "source": [
    "6.2.2"
   ]
  },
  {
   "cell_type": "markdown",
   "metadata": {
    "cell_id": "43c6c6b31d0841cb9eb0b220b501d6bf",
    "deepnote_cell_type": "markdown",
    "id": "VdyyJ3qrr42E"
   },
   "source": [
    "**Table 10.** Summary of assessments made by human volunteers about the consistency of human-given feedback and AI-given feedback, broken down by type of mistake, as assessed by a human expert. Only the three most common mistake types are included here."
   ]
  },
  {
   "cell_type": "code",
   "execution_count": 35,
   "metadata": {
    "cell_id": "5c1f6401cd1a4bc9807ad4ec1ad90b5f",
    "deepnote_cell_type": "code",
    "deepnote_table_loading": false,
    "deepnote_table_state": {
     "cellFormattingRules": [],
     "columnDisplayNames": [],
     "columnOrder": [
      " Consistency with human expert",
      "Embedded Use Case Count",
      "Embedded Use Case Percent",
      "Student Use Case Count",
      "Student Use Case Percent"
     ],
     "conditionalFilters": [],
     "filters": [],
     "hiddenColumnIds": [],
     "pageIndex": 0,
     "pageSize": 25,
     "sortBy": [],
     "wrappedTextColumnIds": []
    },
    "execution_context_id": "3e5c51cf-c3c5-4dc9-b492-f691f1887d86",
    "execution_millis": 28,
    "execution_start": 1756498192168,
    "id": "0nG5QBIbsHMU",
    "source_hash": "7846dc20"
   },
   "outputs": [
    {
     "data": {
      "application/vnd.deepnote.dataframe.v3+json": {
       "column_count": 5,
       "columns": [
        {
         "dtype": "object",
         "name": " Consistency with human expert",
         "stats": {
          "categories": [
           {
            "count": 3,
            "name": "Yes they say the same thing"
           },
           {
            "count": 3,
            "name": "No they say different things"
           },
           {
            "count": 6,
            "name": "4 others"
           }
          ],
          "histogram": null,
          "max": null,
          "min": null,
          "nan_count": 0,
          "unique_count": 6
         }
        },
        {
         "dtype": "object",
         "name": "Embedded Use Case Count",
         "stats": {
          "categories": [
           {
            "count": 3,
            "name": ""
           },
           {
            "count": 2,
            "name": "14"
           },
           {
            "count": 7,
            "name": "7 others"
           }
          ],
          "histogram": null,
          "max": null,
          "min": null,
          "nan_count": 0,
          "unique_count": 9
         }
        },
        {
         "dtype": "object",
         "name": "Embedded Use Case Percent",
         "stats": {
          "categories": [
           {
            "count": 3,
            "name": ""
           },
           {
            "count": 3,
            "name": "100.0%"
           },
           {
            "count": 6,
            "name": "6 others"
           }
          ],
          "histogram": null,
          "max": null,
          "min": null,
          "nan_count": 0,
          "unique_count": 8
         }
        },
        {
         "dtype": "object",
         "name": "Student Use Case Count",
         "stats": {
          "categories": [
           {
            "count": 3,
            "name": ""
           },
           {
            "count": 1,
            "name": "12"
           },
           {
            "count": 8,
            "name": "8 others"
           }
          ],
          "histogram": null,
          "max": null,
          "min": null,
          "nan_count": 0,
          "unique_count": 10
         }
        },
        {
         "dtype": "object",
         "name": "Student Use Case Percent",
         "stats": {
          "categories": [
           {
            "count": 3,
            "name": ""
           },
           {
            "count": 3,
            "name": "100.0%"
           },
           {
            "count": 6,
            "name": "6 others"
           }
          ],
          "histogram": null,
          "max": null,
          "min": null,
          "nan_count": 0,
          "unique_count": 8
         }
        },
        {
         "dtype": "int64",
         "name": "_deepnote_index_column"
        }
       ],
       "preview_row_count": 12,
       "row_count": 12,
       "rows": [
        {
         " Consistency with human expert": "Mistake type: Grammar/syntax",
         "Embedded Use Case Count": "",
         "Embedded Use Case Percent": "",
         "Student Use Case Count": "",
         "Student Use Case Percent": "",
         "_deepnote_index_column": 0
        },
        {
         " Consistency with human expert": "Yes they say the same thing",
         "Embedded Use Case Count": "12",
         "Embedded Use Case Percent": "38.7%",
         "Student Use Case Count": "12",
         "Student Use Case Percent": "38.7%",
         "_deepnote_index_column": 1
        },
        {
         " Consistency with human expert": "No they say different things",
         "Embedded Use Case Count": "19",
         "Embedded Use Case Percent": "61.3%",
         "Student Use Case Count": "19",
         "Student Use Case Percent": "61.3%",
         "_deepnote_index_column": 2
        },
        {
         " Consistency with human expert": "Total",
         "Embedded Use Case Count": "31",
         "Embedded Use Case Percent": "100.0%",
         "Student Use Case Count": "31",
         "Student Use Case Percent": "100.0%",
         "_deepnote_index_column": 3
        },
        {
         " Consistency with human expert": "Mistake type: Reframing",
         "Embedded Use Case Count": "",
         "Embedded Use Case Percent": "",
         "Student Use Case Count": "",
         "Student Use Case Percent": "",
         "_deepnote_index_column": 4
        },
        {
         " Consistency with human expert": "Yes they say the same thing",
         "Embedded Use Case Count": "14",
         "Embedded Use Case Percent": "60.9%",
         "Student Use Case Count": "15",
         "Student Use Case Percent": "65.2%",
         "_deepnote_index_column": 5
        },
        {
         " Consistency with human expert": "No they say different things",
         "Embedded Use Case Count": "9",
         "Embedded Use Case Percent": "39.1%",
         "Student Use Case Count": "8",
         "Student Use Case Percent": "34.8%",
         "_deepnote_index_column": 6
        },
        {
         " Consistency with human expert": "Total",
         "Embedded Use Case Count": "23",
         "Embedded Use Case Percent": "100.0%",
         "Student Use Case Count": "23",
         "Student Use Case Percent": "100.0%",
         "_deepnote_index_column": 7
        },
        {
         " Consistency with human expert": "Mistake type: No mistakes",
         "Embedded Use Case Count": "",
         "Embedded Use Case Percent": "",
         "Student Use Case Count": "",
         "Student Use Case Percent": "",
         "_deepnote_index_column": 8
        },
        {
         " Consistency with human expert": "Yes they say the same thing",
         "Embedded Use Case Count": "14",
         "Embedded Use Case Percent": "17.7%",
         "Student Use Case Count": "39",
         "Student Use Case Percent": "49.4%",
         "_deepnote_index_column": 9
        },
        {
         " Consistency with human expert": "No they say different things",
         "Embedded Use Case Count": "65",
         "Embedded Use Case Percent": "82.3%",
         "Student Use Case Count": "40",
         "Student Use Case Percent": "50.6%",
         "_deepnote_index_column": 10
        },
        {
         " Consistency with human expert": "Total",
         "Embedded Use Case Count": "79",
         "Embedded Use Case Percent": "100.0%",
         "Student Use Case Count": "79",
         "Student Use Case Percent": "100.0%",
         "_deepnote_index_column": 11
        }
       ],
       "type": "dataframe"
      },
      "text/html": [
       "<div>\n",
       "<style scoped>\n",
       "    .dataframe tbody tr th:only-of-type {\n",
       "        vertical-align: middle;\n",
       "    }\n",
       "\n",
       "    .dataframe tbody tr th {\n",
       "        vertical-align: top;\n",
       "    }\n",
       "\n",
       "    .dataframe thead tr th {\n",
       "        text-align: left;\n",
       "    }\n",
       "</style>\n",
       "<table border=\"1\" class=\"dataframe\">\n",
       "  <thead>\n",
       "    <tr>\n",
       "      <th></th>\n",
       "      <th></th>\n",
       "      <th colspan=\"2\" halign=\"left\">Embedded Use Case</th>\n",
       "      <th colspan=\"2\" halign=\"left\">Student Use Case</th>\n",
       "    </tr>\n",
       "    <tr>\n",
       "      <th></th>\n",
       "      <th>Consistency with human expert</th>\n",
       "      <th>Count</th>\n",
       "      <th>Percent</th>\n",
       "      <th>Count</th>\n",
       "      <th>Percent</th>\n",
       "    </tr>\n",
       "  </thead>\n",
       "  <tbody>\n",
       "    <tr>\n",
       "      <th>0</th>\n",
       "      <td>Mistake type: Grammar/syntax</td>\n",
       "      <td></td>\n",
       "      <td></td>\n",
       "      <td></td>\n",
       "      <td></td>\n",
       "    </tr>\n",
       "    <tr>\n",
       "      <th>1</th>\n",
       "      <td>Yes they say the same thing</td>\n",
       "      <td>12</td>\n",
       "      <td>38.7%</td>\n",
       "      <td>12</td>\n",
       "      <td>38.7%</td>\n",
       "    </tr>\n",
       "    <tr>\n",
       "      <th>2</th>\n",
       "      <td>No they say different things</td>\n",
       "      <td>19</td>\n",
       "      <td>61.3%</td>\n",
       "      <td>19</td>\n",
       "      <td>61.3%</td>\n",
       "    </tr>\n",
       "    <tr>\n",
       "      <th>3</th>\n",
       "      <td>Total</td>\n",
       "      <td>31</td>\n",
       "      <td>100.0%</td>\n",
       "      <td>31</td>\n",
       "      <td>100.0%</td>\n",
       "    </tr>\n",
       "    <tr>\n",
       "      <th>4</th>\n",
       "      <td>Mistake type: Reframing</td>\n",
       "      <td></td>\n",
       "      <td></td>\n",
       "      <td></td>\n",
       "      <td></td>\n",
       "    </tr>\n",
       "    <tr>\n",
       "      <th>5</th>\n",
       "      <td>Yes they say the same thing</td>\n",
       "      <td>14</td>\n",
       "      <td>60.9%</td>\n",
       "      <td>15</td>\n",
       "      <td>65.2%</td>\n",
       "    </tr>\n",
       "    <tr>\n",
       "      <th>6</th>\n",
       "      <td>No they say different things</td>\n",
       "      <td>9</td>\n",
       "      <td>39.1%</td>\n",
       "      <td>8</td>\n",
       "      <td>34.8%</td>\n",
       "    </tr>\n",
       "    <tr>\n",
       "      <th>7</th>\n",
       "      <td>Total</td>\n",
       "      <td>23</td>\n",
       "      <td>100.0%</td>\n",
       "      <td>23</td>\n",
       "      <td>100.0%</td>\n",
       "    </tr>\n",
       "    <tr>\n",
       "      <th>8</th>\n",
       "      <td>Mistake type: No mistakes</td>\n",
       "      <td></td>\n",
       "      <td></td>\n",
       "      <td></td>\n",
       "      <td></td>\n",
       "    </tr>\n",
       "    <tr>\n",
       "      <th>9</th>\n",
       "      <td>Yes they say the same thing</td>\n",
       "      <td>14</td>\n",
       "      <td>17.7%</td>\n",
       "      <td>39</td>\n",
       "      <td>49.4%</td>\n",
       "    </tr>\n",
       "    <tr>\n",
       "      <th>10</th>\n",
       "      <td>No they say different things</td>\n",
       "      <td>65</td>\n",
       "      <td>82.3%</td>\n",
       "      <td>40</td>\n",
       "      <td>50.6%</td>\n",
       "    </tr>\n",
       "    <tr>\n",
       "      <th>11</th>\n",
       "      <td>Total</td>\n",
       "      <td>79</td>\n",
       "      <td>100.0%</td>\n",
       "      <td>79</td>\n",
       "      <td>100.0%</td>\n",
       "    </tr>\n",
       "  </tbody>\n",
       "</table>\n",
       "</div>"
      ],
      "text/plain": [
       "                                 Embedded Use Case         Student Use Case  \\\n",
       "   Consistency with human expert             Count Percent            Count   \n",
       "0   Mistake type: Grammar/syntax                                              \n",
       "1    Yes they say the same thing                12   38.7%               12   \n",
       "2   No they say different things                19   61.3%               19   \n",
       "3                          Total                31  100.0%               31   \n",
       "4        Mistake type: Reframing                                              \n",
       "5    Yes they say the same thing                14   60.9%               15   \n",
       "6   No they say different things                 9   39.1%                8   \n",
       "7                          Total                23  100.0%               23   \n",
       "8      Mistake type: No mistakes                                              \n",
       "9    Yes they say the same thing                14   17.7%               39   \n",
       "10  No they say different things                65   82.3%               40   \n",
       "11                         Total                79  100.0%               79   \n",
       "\n",
       "            \n",
       "   Percent  \n",
       "0           \n",
       "1    38.7%  \n",
       "2    61.3%  \n",
       "3   100.0%  \n",
       "4           \n",
       "5    65.2%  \n",
       "6    34.8%  \n",
       "7   100.0%  \n",
       "8           \n",
       "9    49.4%  \n",
       "10   50.6%  \n",
       "11  100.0%  "
      ]
     },
     "execution_count": 35,
     "metadata": {},
     "output_type": "execute_result"
    }
   ],
   "source": [
    "# ------------------------------------------------------------------------------\n",
    "# Table 10: Use Case Consistency Comparisons by Common Mistake Types\n",
    "# -------------------------------------------------------------------------------\n",
    "\n",
    "# we will build a table with three different mistake types in it\n",
    "mistake_subset = [ \"Grammar/syntax\", \"Reframing\", \"No mistakes\" ]\n",
    "\n",
    "# we use this loop to create an array of the table parts,\n",
    "# then concatenate them together below\n",
    "blocks = []\n",
    "for mistake_type in mistake_subset:\n",
    "    # select rows for the mistake type in question\n",
    "    # (according to the human grader)\n",
    "    sub = grade_dat.loc[grade_dat[\"T_H\"] == mistake_type]\n",
    "\n",
    "    # summarize consistency for each use case\n",
    "    # (uses a function defined above for Table 7)\n",
    "    euc_con = counts_and_percents(sub, \"Con_1\", con_name, con_order)\n",
    "    suc_con = counts_and_percents(sub, \"Con_2\", con_name, con_order)\n",
    "\n",
    "    # side-by-side merge on the leftmost descriptor column\n",
    "    merged = euc_con.merge(suc_con, on=con_name, how=\"inner\",\n",
    "        suffixes=(\"_Embedded\",\"_Student\"))\n",
    "\n",
    "    # Add MultiIndex headers: (group, subheader)\n",
    "    merged.columns = pd.MultiIndex.from_tuples([\n",
    "        (\"\", con_name),\n",
    "        (\"Embedded Use Case\", \"Count\"),\n",
    "        (\"Embedded Use Case\", \"Percent\"),\n",
    "        (\"Student Use Case\", \"Count\"),\n",
    "        (\"Student Use Case\", \"Percent\"),\n",
    "    ])\n",
    "\n",
    "    # insert a single-row topic header\n",
    "    header_row = pd.DataFrame(\n",
    "        [[f\"Mistake type: {mistake_type}\", \"\", \"\", \"\", \"\"]],\n",
    "        columns=merged.columns\n",
    "    )\n",
    "\n",
    "    # add the work we just did to the blocks list\n",
    "    blocks.append(header_row)\n",
    "    blocks.append(merged)\n",
    "\n",
    "# concatenate all topic sections into the final table\n",
    "tab_10 = pd.concat(blocks, ignore_index=True)\n",
    "tab_10"
   ]
  },
  {
   "cell_type": "code",
   "execution_count": 36,
   "metadata": {
    "cell_id": "0f1e59f4c7454b8ea29ace7ea0604f81",
    "colab": {
     "base_uri": "https://localhost:8080/",
     "height": 0
    },
    "deepnote_cell_type": "code",
    "execution_context_id": "3e5c51cf-c3c5-4dc9-b492-f691f1887d86",
    "execution_millis": 1,
    "execution_start": 1756498192248,
    "id": "HaqMUCUJchdS",
    "outputId": "3cf00a6c-eabc-4d79-d125-41ca16be74ac",
    "source_hash": "46deea99"
   },
   "outputs": [
    {
     "name": "stdout",
     "output_type": "stream",
     "text": [
      "\\begin{tabular}{lllll}\n",
      "\\toprule\n",
      " & \\multicolumn{2}{r}{Embedded Use Case} & \\multicolumn{2}{r}{Student Use Case} \\\\\n",
      "Consistency with human expert & Count & Percent & Count & Percent \\\\\n",
      "\\midrule\n",
      "Mistake type: Grammar/syntax &  &  &  &  \\\\\n",
      "Yes they say the same thing & 12 & 38.7% & 12 & 38.7% \\\\\n",
      "No they say different things & 19 & 61.3% & 19 & 61.3% \\\\\n",
      "Total & 31 & 100.0% & 31 & 100.0% \\\\\n",
      "Mistake type: Reframing &  &  &  &  \\\\\n",
      "Yes they say the same thing & 14 & 60.9% & 15 & 65.2% \\\\\n",
      "No they say different things & 9 & 39.1% & 8 & 34.8% \\\\\n",
      "Total & 23 & 100.0% & 23 & 100.0% \\\\\n",
      "Mistake type: No mistakes &  &  &  &  \\\\\n",
      "Yes they say the same thing & 14 & 17.7% & 39 & 49.4% \\\\\n",
      "No they say different things & 65 & 82.3% & 40 & 50.6% \\\\\n",
      "Total & 79 & 100.0% & 79 & 100.0% \\\\\n",
      "\\bottomrule\n",
      "\\end{tabular}\n",
      "\n"
     ]
    }
   ],
   "source": [
    "print(tab_10.to_latex(index=False))"
   ]
  },
  {
   "cell_type": "markdown",
   "metadata": {
    "cell_id": "62f8f6486fda4f2a9615f012011c997c",
    "deepnote_cell_type": "text-cell-p",
    "formattedRanges": [
     {
      "fromCodePoint": 0,
      "marks": {
       "bold": true
      },
      "toCodePoint": 8,
      "type": "marks"
     }
    ]
   },
   "source": [
    "Table 0. Summary of assessments made by human volunteers about the correctness of AI-given feedback, broken down by type of mistake, as assessed by a human expert. Only the three most common mistake types are included here. "
   ]
  },
  {
   "cell_type": "code",
   "execution_count": 37,
   "metadata": {
    "cell_id": "315a046ca65e443d8fd6dc2fb7937dc0",
    "deepnote_cell_type": "code",
    "deepnote_table_loading": false,
    "deepnote_table_state": {
     "cellFormattingRules": [],
     "columnDisplayNames": [],
     "columnOrder": [
      " Correctness of AI feedback",
      "Student Use Case Count",
      "Student Use Case Percent"
     ],
     "conditionalFilters": [],
     "filters": [],
     "hiddenColumnIds": [],
     "pageIndex": 0,
     "pageSize": 25,
     "sortBy": [],
     "wrappedTextColumnIds": []
    },
    "execution_context_id": "3e5c51cf-c3c5-4dc9-b492-f691f1887d86",
    "execution_millis": 0,
    "execution_start": 1756498192329,
    "source_hash": "d779a02a"
   },
   "outputs": [
    {
     "data": {
      "application/vnd.deepnote.dataframe.v3+json": {
       "column_count": 3,
       "columns": [
        {
         "dtype": "object",
         "name": " Correctness of AI feedback",
         "stats": {
          "categories": [
           {
            "count": 3,
            "name": "Correct/mostly correct"
           },
           {
            "count": 3,
            "name": "Partly correct"
           },
           {
            "count": 9,
            "name": "5 others"
           }
          ],
          "histogram": null,
          "max": null,
          "min": null,
          "nan_count": 0,
          "unique_count": 7
         }
        },
        {
         "dtype": "object",
         "name": "Student Use Case Count",
         "stats": {
          "categories": [
           {
            "count": 3,
            "name": ""
           },
           {
            "count": 2,
            "name": "4"
           },
           {
            "count": 10,
            "name": "10 others"
           }
          ],
          "histogram": null,
          "max": null,
          "min": null,
          "nan_count": 0,
          "unique_count": 12
         }
        },
        {
         "dtype": "object",
         "name": "Student Use Case Percent",
         "stats": {
          "categories": [
           {
            "count": 3,
            "name": ""
           },
           {
            "count": 3,
            "name": "100.0%"
           },
           {
            "count": 9,
            "name": "9 others"
           }
          ],
          "histogram": null,
          "max": null,
          "min": null,
          "nan_count": 0,
          "unique_count": 11
         }
        },
        {
         "dtype": "int64",
         "name": "_deepnote_index_column"
        }
       ],
       "preview_row_count": 15,
       "row_count": 15,
       "rows": [
        {
         " Correctness of AI feedback": "Mistake Type: Grammar/syntax",
         "Student Use Case Count": "",
         "Student Use Case Percent": "",
         "_deepnote_index_column": 0
        },
        {
         " Correctness of AI feedback": "Correct/mostly correct",
         "Student Use Case Count": "25",
         "Student Use Case Percent": "80.6%",
         "_deepnote_index_column": 1
        },
        {
         " Correctness of AI feedback": "Partly correct",
         "Student Use Case Count": "6",
         "Student Use Case Percent": "19.4%",
         "_deepnote_index_column": 2
        },
        {
         " Correctness of AI feedback": "Wrong/mostly wrong",
         "Student Use Case Count": "0",
         "Student Use Case Percent": "0.0%",
         "_deepnote_index_column": 3
        },
        {
         " Correctness of AI feedback": "Total",
         "Student Use Case Count": "31",
         "Student Use Case Percent": "100.0%",
         "_deepnote_index_column": 4
        },
        {
         " Correctness of AI feedback": "Mistake Type: Reframing",
         "Student Use Case Count": "",
         "Student Use Case Percent": "",
         "_deepnote_index_column": 5
        },
        {
         " Correctness of AI feedback": "Correct/mostly correct",
         "Student Use Case Count": "18",
         "Student Use Case Percent": "78.3%",
         "_deepnote_index_column": 6
        },
        {
         " Correctness of AI feedback": "Partly correct",
         "Student Use Case Count": "4",
         "Student Use Case Percent": "17.4%",
         "_deepnote_index_column": 7
        },
        {
         " Correctness of AI feedback": "Wrong/mostly wrong",
         "Student Use Case Count": "1",
         "Student Use Case Percent": "4.3%",
         "_deepnote_index_column": 8
        },
        {
         " Correctness of AI feedback": "Total",
         "Student Use Case Count": "23",
         "Student Use Case Percent": "100.0%",
         "_deepnote_index_column": 9
        },
        {
         " Correctness of AI feedback": "Mistake Type: No mistakes",
         "Student Use Case Count": "",
         "Student Use Case Percent": "",
         "_deepnote_index_column": 10
        },
        {
         " Correctness of AI feedback": "Correct/mostly correct",
         "Student Use Case Count": "61",
         "Student Use Case Percent": "77.2%",
         "_deepnote_index_column": 11
        },
        {
         " Correctness of AI feedback": "Partly correct",
         "Student Use Case Count": "14",
         "Student Use Case Percent": "17.7%",
         "_deepnote_index_column": 12
        },
        {
         " Correctness of AI feedback": "Wrong/mostly wrong",
         "Student Use Case Count": "4",
         "Student Use Case Percent": "5.1%",
         "_deepnote_index_column": 13
        },
        {
         " Correctness of AI feedback": "Total",
         "Student Use Case Count": "79",
         "Student Use Case Percent": "100.0%",
         "_deepnote_index_column": 14
        }
       ],
       "type": "dataframe"
      },
      "text/html": [
       "<div>\n",
       "<style scoped>\n",
       "    .dataframe tbody tr th:only-of-type {\n",
       "        vertical-align: middle;\n",
       "    }\n",
       "\n",
       "    .dataframe tbody tr th {\n",
       "        vertical-align: top;\n",
       "    }\n",
       "\n",
       "    .dataframe thead tr th {\n",
       "        text-align: left;\n",
       "    }\n",
       "</style>\n",
       "<table border=\"1\" class=\"dataframe\">\n",
       "  <thead>\n",
       "    <tr>\n",
       "      <th></th>\n",
       "      <th></th>\n",
       "      <th colspan=\"2\" halign=\"left\">Student Use Case</th>\n",
       "    </tr>\n",
       "    <tr>\n",
       "      <th></th>\n",
       "      <th>Correctness of AI feedback</th>\n",
       "      <th>Count</th>\n",
       "      <th>Percent</th>\n",
       "    </tr>\n",
       "  </thead>\n",
       "  <tbody>\n",
       "    <tr>\n",
       "      <th>0</th>\n",
       "      <td>Mistake Type: Grammar/syntax</td>\n",
       "      <td></td>\n",
       "      <td></td>\n",
       "    </tr>\n",
       "    <tr>\n",
       "      <th>1</th>\n",
       "      <td>Correct/mostly correct</td>\n",
       "      <td>25</td>\n",
       "      <td>80.6%</td>\n",
       "    </tr>\n",
       "    <tr>\n",
       "      <th>2</th>\n",
       "      <td>Partly correct</td>\n",
       "      <td>6</td>\n",
       "      <td>19.4%</td>\n",
       "    </tr>\n",
       "    <tr>\n",
       "      <th>3</th>\n",
       "      <td>Wrong/mostly wrong</td>\n",
       "      <td>0</td>\n",
       "      <td>0.0%</td>\n",
       "    </tr>\n",
       "    <tr>\n",
       "      <th>4</th>\n",
       "      <td>Total</td>\n",
       "      <td>31</td>\n",
       "      <td>100.0%</td>\n",
       "    </tr>\n",
       "    <tr>\n",
       "      <th>5</th>\n",
       "      <td>Mistake Type: Reframing</td>\n",
       "      <td></td>\n",
       "      <td></td>\n",
       "    </tr>\n",
       "    <tr>\n",
       "      <th>6</th>\n",
       "      <td>Correct/mostly correct</td>\n",
       "      <td>18</td>\n",
       "      <td>78.3%</td>\n",
       "    </tr>\n",
       "    <tr>\n",
       "      <th>7</th>\n",
       "      <td>Partly correct</td>\n",
       "      <td>4</td>\n",
       "      <td>17.4%</td>\n",
       "    </tr>\n",
       "    <tr>\n",
       "      <th>8</th>\n",
       "      <td>Wrong/mostly wrong</td>\n",
       "      <td>1</td>\n",
       "      <td>4.3%</td>\n",
       "    </tr>\n",
       "    <tr>\n",
       "      <th>9</th>\n",
       "      <td>Total</td>\n",
       "      <td>23</td>\n",
       "      <td>100.0%</td>\n",
       "    </tr>\n",
       "    <tr>\n",
       "      <th>10</th>\n",
       "      <td>Mistake Type: No mistakes</td>\n",
       "      <td></td>\n",
       "      <td></td>\n",
       "    </tr>\n",
       "    <tr>\n",
       "      <th>11</th>\n",
       "      <td>Correct/mostly correct</td>\n",
       "      <td>61</td>\n",
       "      <td>77.2%</td>\n",
       "    </tr>\n",
       "    <tr>\n",
       "      <th>12</th>\n",
       "      <td>Partly correct</td>\n",
       "      <td>14</td>\n",
       "      <td>17.7%</td>\n",
       "    </tr>\n",
       "    <tr>\n",
       "      <th>13</th>\n",
       "      <td>Wrong/mostly wrong</td>\n",
       "      <td>4</td>\n",
       "      <td>5.1%</td>\n",
       "    </tr>\n",
       "    <tr>\n",
       "      <th>14</th>\n",
       "      <td>Total</td>\n",
       "      <td>79</td>\n",
       "      <td>100.0%</td>\n",
       "    </tr>\n",
       "  </tbody>\n",
       "</table>\n",
       "</div>"
      ],
      "text/plain": [
       "                                 Student Use Case        \n",
       "      Correctness of AI feedback            Count Percent\n",
       "0   Mistake Type: Grammar/syntax                         \n",
       "1         Correct/mostly correct               25   80.6%\n",
       "2                 Partly correct                6   19.4%\n",
       "3             Wrong/mostly wrong                0    0.0%\n",
       "4                          Total               31  100.0%\n",
       "5        Mistake Type: Reframing                         \n",
       "6         Correct/mostly correct               18   78.3%\n",
       "7                 Partly correct                4   17.4%\n",
       "8             Wrong/mostly wrong                1    4.3%\n",
       "9                          Total               23  100.0%\n",
       "10     Mistake Type: No mistakes                         \n",
       "11        Correct/mostly correct               61   77.2%\n",
       "12                Partly correct               14   17.7%\n",
       "13            Wrong/mostly wrong                4    5.1%\n",
       "14                         Total               79  100.0%"
      ]
     },
     "execution_count": 37,
     "metadata": {},
     "output_type": "execute_result"
    }
   ],
   "source": [
    "# ------------------------------------------------------------------------------\n",
    "# Table 0 (not used in paper): Student Use Case AI Accuracy by Top Mistake Types\n",
    "# ------------------------------------------------------------------------------\n",
    "\n",
    "# we will use cor_order again from Table 9:\n",
    "\n",
    "cor_order = [\n",
    "    \"Correct/mostly correct\",\n",
    "    \"Partly correct\",\n",
    "    \"Wrong/mostly wrong\",\n",
    "    \"Total\"\n",
    "]\n",
    "\n",
    "# we use this loop to create an array of the table parts,\n",
    "# then concatenate them together below\n",
    "blocks = []\n",
    "for mistake_type in mistake_subset:\n",
    "    # select rows for the mistake type in question\n",
    "    sub = grade_dat.loc[grade_dat[\"T_H\"] == mistake_type]\n",
    "\n",
    "    # summarize consistency for each use case\n",
    "    # (uses the function defined for Table 7 again)\n",
    "    c = counts_and_percents(sub, \"Cor\", cor_name, cor_order)\n",
    "\n",
    "    # replace missing with zeros\n",
    "    c[\"Count\"] = c[\"Count\"].fillna(0).astype(int)\n",
    "    c[\"Percent\"] = c[\"Percent\"].fillna(\"0.0%\")\n",
    "\n",
    "    # add multi-index headers\n",
    "    c.columns = pd.MultiIndex.from_tuples([\n",
    "        (\"\", \"Correctness of AI feedback\"),\n",
    "        (\"Student Use Case\", \"Count\"),\n",
    "        (\"Student Use Case\", \"Percent\"),\n",
    "    ])\n",
    "\n",
    "    # insert a single-row topic header\n",
    "    header_row = pd.DataFrame(\n",
    "        [[f\"Mistake Type: {mistake_type}\", \"\", \"\"]],\n",
    "        columns=c.columns\n",
    "    )\n",
    "\n",
    "    # add the work we just did to the blocks list\n",
    "    blocks.append(header_row)\n",
    "    blocks.append(c)\n",
    "\n",
    "# concatenate all mistake type sections into the final table\n",
    "tab_0 = pd.concat(blocks, ignore_index=True)\n",
    "tab_0\n"
   ]
  },
  {
   "cell_type": "code",
   "execution_count": 38,
   "metadata": {
    "cell_id": "b5252e59147b46cf8ef7be8e7bf55c90",
    "deepnote_cell_type": "code",
    "execution_context_id": "3e5c51cf-c3c5-4dc9-b492-f691f1887d86",
    "execution_millis": 0,
    "execution_start": 1756498192390,
    "source_hash": "43f048d"
   },
   "outputs": [
    {
     "name": "stdout",
     "output_type": "stream",
     "text": [
      "p1hat, EUC Grammar/syntax Consistent%: 12 / 31 ~= 0.387\n",
      "p2hat, EUC Reframing Consistent%: 14 / 23 ~= 0.609\n",
      "diff in proportions (p1hat - p2hat): -0.222\n",
      "95% CI for diff: (-0.485, 0.041)\n",
      "95% CI width: 0.526\n",
      "CI width relative to absolute diff: 2.37x the effect size\n",
      "CI includes 0 → difference may not be significant\n",
      "stat ~= -1.612, p ~= 0.0535, Fail to reject\n",
      "--------------------------------------------------\n"
     ]
    }
   ],
   "source": [
    "# ------------------------------------------------------------------------------\n",
    "# Hypothesis Testing 4\n",
    "# ------------------------------------------------------------------------------\n",
    "\n",
    "#Is EUC Grammar/syntax mistake Consistent% <= same for reframing?\n",
    "hyp_test_pop1_leq_pop2(\n",
    "    grade_dat[grade_dat['T_H']=='Grammar/syntax']['Con_1'].str.startswith( 'Yes' ),\n",
    "    grade_dat[grade_dat['T_H']=='Reframing']['Con_1'].str.startswith( 'Yes' ),\n",
    "    name1=\"EUC Grammar/syntax Consistent%\", \n",
    "    name2=\"EUC Reframing Consistent%\"\n",
    ")"
   ]
  },
  {
   "cell_type": "markdown",
   "metadata": {
    "cell_id": "3fd376fd3f714a2893c02753b3d2c255",
    "deepnote_cell_type": "markdown",
    "id": "QZwMGTk-fvqE"
   },
   "source": [
    "**Figure 6.** Distribution of mistake types by grader. The category labels on the x axis are abbreviations of the categories from Table 3 (see paper for table)."
   ]
  },
  {
   "cell_type": "code",
   "execution_count": 39,
   "metadata": {
    "cell_id": "d3dcc0eb098e47778b3b688bbeb536b1",
    "colab": {
     "base_uri": "https://localhost:8080/",
     "height": 0
    },
    "deepnote_cell_type": "code",
    "execution_context_id": "3e5c51cf-c3c5-4dc9-b492-f691f1887d86",
    "execution_millis": 750,
    "execution_start": 1756498192445,
    "id": "d4mRiHpwVAnU",
    "outputId": "0d47d19c-158a-4a48-8aa3-9f800265c7a3",
    "source_hash": "4ffb171b"
   },
   "outputs": [
    {
     "data": {
      "image/png": "[encoded data removed]",
      "text/plain": [
       "<Figure size 900x600 with 1 Axes>"
      ]
     },
     "metadata": {
      "image/png": {
       "height": 590,
       "width": 889
      }
     },
     "output_type": "display_data"
    }
   ],
   "source": [
    "# ------------------------------------------------------------------------------\n",
    "# Figure 6: Distribution of mistake types by grader\n",
    "# ------------------------------------------------------------------------------\n",
    "\n",
    "# compute bar heights for graph using already-built contingency table\n",
    "human_counts = conting_table.sum(axis=1).to_numpy()  # row sums\n",
    "ai_counts    = conting_table.sum(axis=0).to_numpy()  # column sums\n",
    "\n",
    "# put data in data frame so we can use seaborn more easily below\n",
    "df = pd.DataFrame({\n",
    "    \"Category\":  np.tile(conting_table.columns, 2),\n",
    "    \"Grader\":    np.repeat(\n",
    "        [\"Human experts\", \"Gemini 2.0-flash\"],\n",
    "        repeats=len(mistake_types)\n",
    "    ),\n",
    "    \"Frequency\": np.concatenate([human_counts, ai_counts])\n",
    "})\n",
    "\n",
    "# set up plot size and color\n",
    "fig, ax = plt.subplots(figsize=(9, 6))\n",
    "\n",
    "# ask seaborn to plot the data\n",
    "sns.barplot(\n",
    "    data=df,\n",
    "    x=\"Category\", y=\"Frequency\", hue=\"Grader\",\n",
    "    dodge=True, edgecolor=\"black\", ax=ax,\n",
    "    palette={\"Human experts\": \"#377EB8\", \"Gemini 2.0-flash\": \"#FF7F00\"}\n",
    ")\n",
    "\n",
    "# format axes and titles\n",
    "ax.set_title(\"Distribution of mistake types by grader\", pad=12)\n",
    "ax.set_xlabel(\"\")\n",
    "ax.set_ylabel(\"Frequency\")\n",
    "ax.set_ylim(0, 80)\n",
    "ax.set_yticks(np.arange(0, 81, 10))\n",
    "ax.tick_params(axis=\"x\", rotation=90)\n",
    "ax.grid(False)\n",
    "\n",
    "# save and show plot\n",
    "plt.savefig( 'mistake-type-distribution.pdf', bbox_inches='tight' )\n",
    "plt.tight_layout()\n",
    "plt.show()"
   ]
  },
  {
   "cell_type": "markdown",
   "metadata": {
    "cell_id": "3f7ac94cd1c242fb91e1415f6a2838de",
    "deepnote_cell_type": "markdown",
    "id": "GI8xzM6XfwJa"
   },
   "source": [
    "**Figure 7.** Distributions of proof size, with consistency and inconsistency categories given by the AI responses in the embedded use case."
   ]
  },
  {
   "cell_type": "code",
   "execution_count": 40,
   "metadata": {
    "cell_id": "1c2754c5a5e94d158b247e5e04a17b7e",
    "colab": {
     "base_uri": "https://localhost:8080/",
     "height": 0
    },
    "deepnote_cell_type": "code",
    "execution_context_id": "3e5c51cf-c3c5-4dc9-b492-f691f1887d86",
    "execution_millis": 8,
    "execution_start": 1756498193250,
    "id": "xVi9BzhmVC-p",
    "outputId": "eab06788-778e-4538-8639-f962e226dceb",
    "source_hash": "45d1cd88"
   },
   "outputs": [
    {
     "data": {
      "application/vnd.deepnote.dataframe.v3+json": {
       "column_count": 25,
       "columns": [
        {
         "dtype": "int64",
         "name": "ProofID",
         "stats": {
          "categories": null,
          "histogram": [
           {
            "bin_end": 96.3,
            "bin_start": 52,
            "count": 1
           },
           {
            "bin_end": 140.6,
            "bin_start": 96.3,
            "count": 0
           },
           {
            "bin_end": 184.89999999999998,
            "bin_start": 140.6,
            "count": 0
           },
           {
            "bin_end": 229.2,
            "bin_start": 184.89999999999998,
            "count": 0
           },
           {
            "bin_end": 273.5,
            "bin_start": 229.2,
            "count": 0
           },
           {
            "bin_end": 317.79999999999995,
            "bin_start": 273.5,
            "count": 0
           },
           {
            "bin_end": 362.09999999999997,
            "bin_start": 317.79999999999995,
            "count": 0
           },
           {
            "bin_end": 406.4,
            "bin_start": 362.09999999999997,
            "count": 0
           },
           {
            "bin_end": 450.7,
            "bin_start": 406.4,
            "count": 0
           },
           {
            "bin_end": 495,
            "bin_start": 450.7,
            "count": 1
           }
          ],
          "max": "495",
          "min": "52",
          "nan_count": 0,
          "unique_count": 2
         }
        },
        {
         "dtype": "int64",
         "name": "InstitutionID",
         "stats": {
          "categories": null,
          "histogram": [
           {
            "bin_end": 2.1,
            "bin_start": 2,
            "count": 1
           },
           {
            "bin_end": 2.2,
            "bin_start": 2.1,
            "count": 0
           },
           {
            "bin_end": 2.3,
            "bin_start": 2.2,
            "count": 0
           },
           {
            "bin_end": 2.4,
            "bin_start": 2.3,
            "count": 0
           },
           {
            "bin_end": 2.5,
            "bin_start": 2.4,
            "count": 0
           },
           {
            "bin_end": 2.6,
            "bin_start": 2.5,
            "count": 0
           },
           {
            "bin_end": 2.7,
            "bin_start": 2.6,
            "count": 0
           },
           {
            "bin_end": 2.8,
            "bin_start": 2.7,
            "count": 0
           },
           {
            "bin_end": 2.9,
            "bin_start": 2.8,
            "count": 0
           },
           {
            "bin_end": 3,
            "bin_start": 2.9,
            "count": 1
           }
          ],
          "max": "3",
          "min": "2",
          "nan_count": 0,
          "unique_count": 2
         }
        },
        {
         "dtype": "category",
         "name": "InstitutionType",
         "stats": {
          "categories": [
           {
            "count": 1,
            "name": "Masters"
           },
           {
            "count": 1,
            "name": "Doctoral"
           }
          ],
          "histogram": null,
          "max": null,
          "min": null,
          "nan_count": 0,
          "unique_count": 2
         }
        },
        {
         "dtype": "category",
         "name": "Topic",
         "stats": {
          "categories": [
           {
            "count": 1,
            "name": "Gaussian integers"
           },
           {
            "count": 1,
            "name": "linear algebra"
           }
          ],
          "histogram": null,
          "max": null,
          "min": null,
          "nan_count": 0,
          "unique_count": 2
         }
        },
        {
         "dtype": "int64",
         "name": "Bytes",
         "stats": {
          "categories": null,
          "histogram": [
           {
            "bin_end": 3032.1,
            "bin_start": 2904,
            "count": 1
           },
           {
            "bin_end": 3160.2,
            "bin_start": 3032.1,
            "count": 0
           },
           {
            "bin_end": 3288.3,
            "bin_start": 3160.2,
            "count": 0
           },
           {
            "bin_end": 3416.4,
            "bin_start": 3288.3,
            "count": 0
           },
           {
            "bin_end": 3544.5,
            "bin_start": 3416.4,
            "count": 0
           },
           {
            "bin_end": 3672.6,
            "bin_start": 3544.5,
            "count": 0
           },
           {
            "bin_end": 3800.7,
            "bin_start": 3672.6,
            "count": 0
           },
           {
            "bin_end": 3928.8,
            "bin_start": 3800.7,
            "count": 0
           },
           {
            "bin_end": 4056.8999999999996,
            "bin_start": 3928.8,
            "count": 0
           },
           {
            "bin_end": 4185,
            "bin_start": 4056.8999999999996,
            "count": 1
           }
          ],
          "max": "4185",
          "min": "2904",
          "nan_count": 0,
          "unique_count": 2
         }
        },
        {
         "dtype": "bool",
         "name": "HasHumanGrade",
         "stats": {
          "categories": [
           {
            "count": 2,
            "name": "True"
           }
          ],
          "histogram": null,
          "max": null,
          "min": null,
          "nan_count": 0,
          "unique_count": 1
         }
        },
        {
         "dtype": "bool",
         "name": "M_H",
         "stats": {
          "categories": [
           {
            "count": 1,
            "name": "True"
           },
           {
            "count": 1,
            "name": "False"
           }
          ],
          "histogram": null,
          "max": null,
          "min": null,
          "nan_count": 0,
          "unique_count": 2
         }
        },
        {
         "dtype": "bool",
         "name": "M_A",
         "stats": {
          "categories": [
           {
            "count": 2,
            "name": "True"
           }
          ],
          "histogram": null,
          "max": null,
          "min": null,
          "nan_count": 0,
          "unique_count": 1
         }
        },
        {
         "dtype": "category",
         "name": "T_H",
         "stats": {
          "categories": [
           {
            "count": 1,
            "name": "Reframing"
           },
           {
            "count": 1,
            "name": "No mistakes"
           }
          ],
          "histogram": null,
          "max": null,
          "min": null,
          "nan_count": 0,
          "unique_count": 2
         }
        },
        {
         "dtype": "category",
         "name": "T_A",
         "stats": {
          "categories": [
           {
            "count": 1,
            "name": "Reframing"
           },
           {
            "count": 1,
            "name": "Justification"
           }
          ],
          "histogram": null,
          "max": null,
          "min": null,
          "nan_count": 0,
          "unique_count": 2
         }
        },
        {
         "dtype": "float64",
         "name": "S_H",
         "stats": {
          "categories": null,
          "histogram": [
           {
            "bin_end": 28.6,
            "bin_start": 28.5,
            "count": 0
           },
           {
            "bin_end": 28.7,
            "bin_start": 28.6,
            "count": 0
           },
           {
            "bin_end": 28.8,
            "bin_start": 28.7,
            "count": 0
           },
           {
            "bin_end": 28.9,
            "bin_start": 28.8,
            "count": 0
           },
           {
            "bin_end": 29,
            "bin_start": 28.9,
            "count": 0
           },
           {
            "bin_end": 29.1,
            "bin_start": 29,
            "count": 1
           },
           {
            "bin_end": 29.2,
            "bin_start": 29.1,
            "count": 0
           },
           {
            "bin_end": 29.3,
            "bin_start": 29.2,
            "count": 0
           },
           {
            "bin_end": 29.4,
            "bin_start": 29.3,
            "count": 0
           },
           {
            "bin_end": 29.5,
            "bin_start": 29.4,
            "count": 0
           }
          ],
          "max": "29.0",
          "min": "29.0",
          "nan_count": 1,
          "unique_count": 1
         }
        },
        {
         "dtype": "float64",
         "name": "S_A",
         "stats": {
          "categories": null,
          "histogram": [
           {
            "bin_end": 1.3,
            "bin_start": 1,
            "count": 1
           },
           {
            "bin_end": 1.6,
            "bin_start": 1.3,
            "count": 0
           },
           {
            "bin_end": 1.9,
            "bin_start": 1.6,
            "count": 0
           },
           {
            "bin_end": 2.2,
            "bin_start": 1.9,
            "count": 0
           },
           {
            "bin_end": 2.5,
            "bin_start": 2.2,
            "count": 0
           },
           {
            "bin_end": 2.8,
            "bin_start": 2.5,
            "count": 0
           },
           {
            "bin_end": 3.1,
            "bin_start": 2.8,
            "count": 0
           },
           {
            "bin_end": 3.4,
            "bin_start": 3.1,
            "count": 0
           },
           {
            "bin_end": 3.6999999999999997,
            "bin_start": 3.4,
            "count": 0
           },
           {
            "bin_end": 4,
            "bin_start": 3.6999999999999997,
            "count": 1
           }
          ],
          "max": "4.0",
          "min": "1.0",
          "nan_count": 0,
          "unique_count": 2
         }
        },
        {
         "dtype": "object",
         "name": "A_H",
         "stats": {
          "categories": [
           {
            "count": 1,
            "name": "When performing a proof by contradiction, the contradiction has to relate to the proposition or be something that is impossible"
           },
           {
            "count": 1,
            "name": "Missing"
           }
          ],
          "histogram": null,
          "max": null,
          "min": null,
          "nan_count": 1,
          "unique_count": 1
         }
        },
        {
         "dtype": "object",
         "name": "A_A",
         "stats": {
          "categories": [
           {
            "count": 1,
            "name": "The student has negated the theorem to be proven incorrectly. The negation of 'there is no pair of positive integers (x,y) that satisfy the equation' is 'there exists a pair of positive integers (x,y) that satisfies the equation'. The student wrote the negation as  'there exists a pair of integers (x,y) that satisfies the equation' but has neglected to specify that those integers must be positive. Note that the first sentence of the proof should say 'we must first negate the statement' and not 'fully negate' since the student then neglects to do so."
           },
           {
            "count": 1,
            "name": "You need to justify why you can assume that either a!=0 or c!=0. You should cite a theorem or definition."
           }
          ],
          "histogram": null,
          "max": null,
          "min": null,
          "nan_count": 0,
          "unique_count": 2
         }
        },
        {
         "dtype": "object",
         "name": "A_2",
         "stats": {
          "categories": [
           {
            "count": 1,
            "name": "Your proof attempts to use contradiction to show that there are no positive integer solutions to the equation $x^2 - y^2 = 1$. However, there are several issues with your proof:\n\n1. **Negation of the Statement**: The negation of \"there is no pair of positive integers $(x, y)$ that satisfy the equation $x^2 - y^2 = 1$\" is \"there exists a pair of positive integers $(x, y)$ that satisfy the equation $x^2 - y^2 = 1$.\" You correctly stated this, but your proof does not effectively use this negation to derive a contradiction.\n\n2. **Case Analysis**: You attempt to consider different cases based on the parity (odd or even) of $x$ and $y$. However, your case analysis is not exhaustive or correctly applied. For example, you assume specific forms for $x$ and $y$ without justification, and your calculations contain errors.\n\n3. **Algebraic Errors**: There are algebraic errors in your calculations. For instance, when you substitute $x = 2k + 1$ and $y = 2k$, your simplification of $(2k+1)^2 - (2k)^2$ is incorrect. The correct simplification should be:\n   $$\n   (2k+1)^2 - (2k)^2 = (4k^2 + 4k + 1) - 4k^2 = 4k + 1\n   $$\n   This does not lead to a contradiction as you claimed.\n\n4. **Misinterpretation of Contradiction**: You claim contradictions where there are none. For example, you conclude $k = 0$ is a contradiction because \"zero is neither positive nor negative,\" but $k$ being zero is not inherently contradictory in the context of your proof.\n\n5. **Logical Flaws**: The proof lacks a clear logical structure. You need to show that assuming the existence of a solution leads to a logical contradiction, but your proof does not achieve this.\n\nTo correctly prove the statement by contradiction, you should assume there exist positive integers $x$ and $y$ such that $x^2 - y^2 = 1$, and then show that this assumption leads to a contradiction. A more straightforward approach is to recognize that $x^2 - y^2 = (x-y)(x+y) = 1$ implies $x-y = 1$ and $x+y = 1$, which is impossible for positive integers $x$ and $y$."
           },
           {
            "count": 1,
            "name": "Your proof is mostly correct, but there are a few points that could be clarified or corrected:\n\n1. **Row Operations and Notation**: When you perform row operations, it's important to clearly indicate which operations are being performed. For example, when you multiply a row by a scalar or subtract one row from another, it should be explicitly stated. In your proof, you describe the operations in words, but it would be clearer if you used standard notation for row operations, such as $ R_2 \\leftarrow R_2 - \\frac{c}{a} R_1 $ for the first scenario.\n\n2. **Consistency in Scenarios**: In the second scenario, you mention $ a = 0 $ and $ c \\neq 0 $. However, in your row operations, you still use $ a $ in the calculations. Since $ a = 0 $, the operations should reflect that, and you should not multiply by $ a $ or use it in calculations. Instead, you should directly use the fact that $ c \\neq 0 $ to perform the row operations.\n\n3. **Determinant and Unique Solution**: The condition $ ad - bc \\neq 0 $ is crucial because it is the determinant of the coefficient matrix of the system. When the determinant is non-zero, the matrix is invertible, which guarantees a unique solution. While your proof shows the row reduction process, it would be beneficial to explicitly connect the non-zero determinant to the existence of a unique solution.\n\n4. **Clarity and Structure**: The proof could benefit from a clearer structure, with each step of the row reduction process clearly labeled and explained. This would help in understanding the logical flow and ensuring that each step is justified.\n\nOverall, your proof correctly demonstrates that the system has a unique solution when $ ad - bc \\neq 0 $, but it could be improved by addressing these points for clarity and precision."
           }
          ],
          "histogram": null,
          "max": null,
          "min": null,
          "nan_count": 0,
          "unique_count": 2
         }
        },
        {
         "dtype": "category",
         "name": "Con_1",
         "stats": {
          "categories": [
           {
            "count": 2,
            "name": "No they say different things"
           }
          ],
          "histogram": null,
          "max": null,
          "min": null,
          "nan_count": 0,
          "unique_count": 1
         }
        },
        {
         "dtype": "object",
         "name": "Con_1_Comments",
         "stats": {
          "categories": [
           {
            "count": 1,
            "name": "AI criticized sentence 1 but its criticism is WRONG.  Human criticized sentence 29, missing several errors in the proof itself."
           },
           {
            "count": 1,
            "name": "DWYD"
           }
          ],
          "histogram": null,
          "max": null,
          "min": null,
          "nan_count": 0,
          "unique_count": 2
         }
        },
        {
         "dtype": "category",
         "name": "Con_2",
         "stats": {
          "categories": [
           {
            "count": 2,
            "name": "No they say different things"
           }
          ],
          "histogram": null,
          "max": null,
          "min": null,
          "nan_count": 0,
          "unique_count": 1
         }
        },
        {
         "dtype": "object",
         "name": "Con_2_Comments",
         "stats": {
          "categories": [
           {
            "count": 1,
            "name": "AI said what Human said plus more.  Some of the \"more\" was correct and some was incorrect."
           },
           {
            "count": 1,
            "name": "STYLE, plus AI wants the student to use concepts maybe not yet covered, such as the invertibility of 2x2 iff determinant is zero."
           }
          ],
          "histogram": null,
          "max": null,
          "min": null,
          "nan_count": 0,
          "unique_count": 2
         }
        },
        {
         "dtype": "category",
         "name": "Cor",
         "stats": {
          "categories": [
           {
            "count": 1,
            "name": "Partly correct"
           },
           {
            "count": 1,
            "name": "Correct/mostly correct"
           }
          ],
          "histogram": null,
          "max": null,
          "min": null,
          "nan_count": 0,
          "unique_count": 2
         }
        },
        {
         "dtype": "object",
         "name": "Cor_Comments",
         "stats": {
          "categories": [
           {
            "count": 1,
            "name": "AI said what Human said plus more.  Some of the \"more\" was correct and some was incorrect."
           },
           {
            "count": 1,
            "name": "Missing"
           }
          ],
          "histogram": null,
          "max": null,
          "min": null,
          "nan_count": 1,
          "unique_count": 1
         }
        },
        {
         "dtype": "bool",
         "name": "DWYD_1",
         "stats": {
          "categories": [
           {
            "count": 1,
            "name": "False"
           },
           {
            "count": 1,
            "name": "True"
           }
          ],
          "histogram": null,
          "max": null,
          "min": null,
          "nan_count": 0,
          "unique_count": 2
         }
        },
        {
         "dtype": "bool",
         "name": "DWYD_2",
         "stats": {
          "categories": [
           {
            "count": 2,
            "name": "False"
           }
          ],
          "histogram": null,
          "max": null,
          "min": null,
          "nan_count": 0,
          "unique_count": 1
         }
        },
        {
         "dtype": "bool",
         "name": "Right_1",
         "stats": {
          "categories": [
           {
            "count": 2,
            "name": "False"
           }
          ],
          "histogram": null,
          "max": null,
          "min": null,
          "nan_count": 0,
          "unique_count": 1
         }
        },
        {
         "dtype": "bool",
         "name": "Right_2",
         "stats": {
          "categories": [
           {
            "count": 2,
            "name": "False"
           }
          ],
          "histogram": null,
          "max": null,
          "min": null,
          "nan_count": 0,
          "unique_count": 1
         }
        },
        {
         "dtype": "int64",
         "name": "_deepnote_index_column"
        }
       ],
       "preview_row_count": 2,
       "row_count": 2,
       "rows": [
        {
         "A_2": "Your proof attempts to use contradiction to show that there are no positive integer solutions to the equation $x^2 - y^2 = 1$. However, there are several issues with your proof:\n\n1. **Negation of the Statement**: The negation of \"there is no pair of positive integers $(x, y)$ that satisfy the equation $x^2 - y^2 = 1$\" is \"there exists a pair of positive integers $(x, y)$ that satisfy the equation $x^2 - y^2 = 1$.\" You correctly stated this, but your proof does not effectively use this negation to derive a contradiction.\n\n2. **Case Analysis**: You attempt to consider different cases based on the parity (odd or even) of $x$ and $y$. However, your case analysis is not exhaustive or correctly applied. For example, you assume specific forms for $x$ and $y$ without justification, and your calculations contain errors.\n\n3. **Algebraic Errors**: There are algebraic errors in your calculations. For instance, when you substitute $x = 2k + 1$ and $y = 2k$, your simplification of $(2k+1)^2 - (2k)^…",
         "A_A": "The student has negated the theorem to be proven incorrectly. The negation of 'there is no pair of positive integers (x,y) that satisfy the equation' is 'there exists a pair of positive integers (x,y) that satisfies the equation'. The student wrote the negation as  'there exists a pair of integers (x,y) that satisfies the equation' but has neglected to specify that those integers must be positive. Note that the first sentence of the proof should say 'we must first negate the statement' and not 'fully negate' since the student then neglects to do so.",
         "A_H": "When performing a proof by contradiction, the contradiction has to relate to the proposition or be something that is impossible",
         "Bytes": 4185,
         "Con_1": "No they say different things",
         "Con_1_Comments": "AI criticized sentence 1 but its criticism is WRONG.  Human criticized sentence 29, missing several errors in the proof itself.",
         "Con_2": "No they say different things",
         "Con_2_Comments": "AI said what Human said plus more.  Some of the \"more\" was correct and some was incorrect.",
         "Cor": "Partly correct",
         "Cor_Comments": "AI said what Human said plus more.  Some of the \"more\" was correct and some was incorrect.",
         "DWYD_1": "False",
         "DWYD_2": "False",
         "HasHumanGrade": "True",
         "InstitutionID": 2,
         "InstitutionType": "Masters",
         "M_A": "True",
         "M_H": "True",
         "ProofID": 52,
         "Right_1": "False",
         "Right_2": "False",
         "S_A": 1,
         "S_H": 29,
         "T_A": "Reframing",
         "T_H": "Reframing",
         "Topic": "Gaussian integers",
         "_deepnote_index_column": 40
        },
        {
         "A_2": "Your proof is mostly correct, but there are a few points that could be clarified or corrected:\n\n1. **Row Operations and Notation**: When you perform row operations, it's important to clearly indicate which operations are being performed. For example, when you multiply a row by a scalar or subtract one row from another, it should be explicitly stated. In your proof, you describe the operations in words, but it would be clearer if you used standard notation for row operations, such as $ R_2 \\leftarrow R_2 - \\frac{c}{a} R_1 $ for the first scenario.\n\n2. **Consistency in Scenarios**: In the second scenario, you mention $ a = 0 $ and $ c \\neq 0 $. However, in your row operations, you still use $ a $ in the calculations. Since $ a = 0 $, the operations should reflect that, and you should not multiply by $ a $ or use it in calculations. Instead, you should directly use the fact that $ c \\neq 0 $ to perform the row operations.\n\n3. **Determinant and Unique Solution**: The condition $ ad - bc \\…",
         "A_A": "You need to justify why you can assume that either a!=0 or c!=0. You should cite a theorem or definition.",
         "A_H": "nan",
         "Bytes": 2904,
         "Con_1": "No they say different things",
         "Con_1_Comments": "DWYD",
         "Con_2": "No they say different things",
         "Con_2_Comments": "STYLE, plus AI wants the student to use concepts maybe not yet covered, such as the invertibility of 2x2 iff determinant is zero.",
         "Cor": "Correct/mostly correct",
         "Cor_Comments": "nan",
         "DWYD_1": "True",
         "DWYD_2": "False",
         "HasHumanGrade": "True",
         "InstitutionID": 3,
         "InstitutionType": "Doctoral",
         "M_A": "True",
         "M_H": "False",
         "ProofID": 495,
         "Right_1": "False",
         "Right_2": "False",
         "S_A": 4,
         "S_H": "nan",
         "T_A": "Justification",
         "T_H": "No mistakes",
         "Topic": "linear algebra",
         "_deepnote_index_column": 480
        }
       ],
       "type": "dataframe"
      },
      "text/html": [
       "<div>\n",
       "<style scoped>\n",
       "    .dataframe tbody tr th:only-of-type {\n",
       "        vertical-align: middle;\n",
       "    }\n",
       "\n",
       "    .dataframe tbody tr th {\n",
       "        vertical-align: top;\n",
       "    }\n",
       "\n",
       "    .dataframe thead th {\n",
       "        text-align: right;\n",
       "    }\n",
       "</style>\n",
       "<table border=\"1\" class=\"dataframe\">\n",
       "  <thead>\n",
       "    <tr style=\"text-align: right;\">\n",
       "      <th></th>\n",
       "      <th>ProofID</th>\n",
       "      <th>InstitutionID</th>\n",
       "      <th>InstitutionType</th>\n",
       "      <th>Topic</th>\n",
       "      <th>Bytes</th>\n",
       "      <th>HasHumanGrade</th>\n",
       "      <th>M_H</th>\n",
       "      <th>M_A</th>\n",
       "      <th>T_H</th>\n",
       "      <th>T_A</th>\n",
       "      <th>...</th>\n",
       "      <th>Con_1</th>\n",
       "      <th>Con_1_Comments</th>\n",
       "      <th>Con_2</th>\n",
       "      <th>Con_2_Comments</th>\n",
       "      <th>Cor</th>\n",
       "      <th>Cor_Comments</th>\n",
       "      <th>DWYD_1</th>\n",
       "      <th>DWYD_2</th>\n",
       "      <th>Right_1</th>\n",
       "      <th>Right_2</th>\n",
       "    </tr>\n",
       "  </thead>\n",
       "  <tbody>\n",
       "    <tr>\n",
       "      <th>40</th>\n",
       "      <td>52</td>\n",
       "      <td>2</td>\n",
       "      <td>Masters</td>\n",
       "      <td>Gaussian integers</td>\n",
       "      <td>4185</td>\n",
       "      <td>True</td>\n",
       "      <td>True</td>\n",
       "      <td>True</td>\n",
       "      <td>Reframing</td>\n",
       "      <td>Reframing</td>\n",
       "      <td>...</td>\n",
       "      <td>No they say different things</td>\n",
       "      <td>AI criticized sentence 1 but its criticism is ...</td>\n",
       "      <td>No they say different things</td>\n",
       "      <td>AI said what Human said plus more.  Some of th...</td>\n",
       "      <td>Partly correct</td>\n",
       "      <td>AI said what Human said plus more.  Some of th...</td>\n",
       "      <td>False</td>\n",
       "      <td>False</td>\n",
       "      <td>False</td>\n",
       "      <td>False</td>\n",
       "    </tr>\n",
       "    <tr>\n",
       "      <th>480</th>\n",
       "      <td>495</td>\n",
       "      <td>3</td>\n",
       "      <td>Doctoral</td>\n",
       "      <td>linear algebra</td>\n",
       "      <td>2904</td>\n",
       "      <td>True</td>\n",
       "      <td>False</td>\n",
       "      <td>True</td>\n",
       "      <td>No mistakes</td>\n",
       "      <td>Justification</td>\n",
       "      <td>...</td>\n",
       "      <td>No they say different things</td>\n",
       "      <td>DWYD</td>\n",
       "      <td>No they say different things</td>\n",
       "      <td>STYLE, plus AI wants the student to use concep...</td>\n",
       "      <td>Correct/mostly correct</td>\n",
       "      <td>NaN</td>\n",
       "      <td>True</td>\n",
       "      <td>False</td>\n",
       "      <td>False</td>\n",
       "      <td>False</td>\n",
       "    </tr>\n",
       "  </tbody>\n",
       "</table>\n",
       "<p>2 rows × 25 columns</p>\n",
       "</div>"
      ],
      "text/plain": [
       "     ProofID  InstitutionID InstitutionType              Topic  Bytes  \\\n",
       "40        52              2         Masters  Gaussian integers   4185   \n",
       "480      495              3        Doctoral     linear algebra   2904   \n",
       "\n",
       "     HasHumanGrade    M_H   M_A          T_H            T_A  ...  \\\n",
       "40            True   True  True    Reframing      Reframing  ...   \n",
       "480           True  False  True  No mistakes  Justification  ...   \n",
       "\n",
       "                            Con_1  \\\n",
       "40   No they say different things   \n",
       "480  No they say different things   \n",
       "\n",
       "                                        Con_1_Comments  \\\n",
       "40   AI criticized sentence 1 but its criticism is ...   \n",
       "480                                               DWYD   \n",
       "\n",
       "                            Con_2  \\\n",
       "40   No they say different things   \n",
       "480  No they say different things   \n",
       "\n",
       "                                        Con_2_Comments  \\\n",
       "40   AI said what Human said plus more.  Some of th...   \n",
       "480  STYLE, plus AI wants the student to use concep...   \n",
       "\n",
       "                        Cor  \\\n",
       "40           Partly correct   \n",
       "480  Correct/mostly correct   \n",
       "\n",
       "                                          Cor_Comments DWYD_1 DWYD_2 Right_1  \\\n",
       "40   AI said what Human said plus more.  Some of th...  False  False   False   \n",
       "480                                                NaN   True  False   False   \n",
       "\n",
       "    Right_2  \n",
       "40    False  \n",
       "480   False  \n",
       "\n",
       "[2 rows x 25 columns]"
      ]
     },
     "execution_count": 40,
     "metadata": {},
     "output_type": "execute_result"
    }
   ],
   "source": [
    "# ------------------------------------------------------------------------------\n",
    "# Figure 7: Distributions of proof size, embedded use case\n",
    "# ------------------------------------------------------------------------------\n",
    "\n",
    "# define bins and labels for them\n",
    "bin_min = 0\n",
    "bin_max = 2400 \n",
    "num_bins = 12\n",
    "bin_size = (bin_max - bin_min) / num_bins # this way the bin edges are nice round numbers\n",
    "breaks = np.round(np.arange(bin_min, bin_min + bin_size*num_bins + 1, bin_size), 0).astype(int)\n",
    "bin_labs = [f\"{a}-{b}\" for a, b in zip(breaks[:-1], breaks[1:])]\n",
    "\n",
    "# How many proofs were excluded?\n",
    "grade_dat[(grade_dat['Bytes'] < bin_min) | (grade_dat['Bytes'] > bin_max)]"
   ]
  },
  {
   "cell_type": "code",
   "execution_count": 41,
   "metadata": {
    "cell_id": "270e4c2c1d014631a32e32e5fa64e718",
    "deepnote_cell_type": "code",
    "execution_context_id": "3e5c51cf-c3c5-4dc9-b492-f691f1887d86",
    "execution_millis": 1,
    "execution_start": 1756498193318,
    "source_hash": "f435ce86"
   },
   "outputs": [
    {
     "data": {
      "application/vnd.deepnote.dataframe.v3+json": {
       "column_count": 3,
       "columns": [
        {
         "dtype": "category",
         "name": "status",
         "stats": {
          "categories": [
           {
            "count": 11,
            "name": "Inconsistent"
           },
           {
            "count": 8,
            "name": "Consistent"
           }
          ],
          "histogram": null,
          "max": null,
          "min": null,
          "nan_count": 0,
          "unique_count": 2
         }
        },
        {
         "dtype": "category",
         "name": "bin",
         "stats": {
          "categories": [
           {
            "count": 2,
            "name": "200-400"
           },
           {
            "count": 2,
            "name": "400-600"
           },
           {
            "count": 15,
            "name": "9 others"
           }
          ],
          "histogram": null,
          "max": null,
          "min": null,
          "nan_count": 0,
          "unique_count": 11
         }
        },
        {
         "dtype": "int64",
         "name": "count",
         "stats": {
          "categories": null,
          "histogram": [
           {
            "bin_end": 4.2,
            "bin_start": 1,
            "count": 7
           },
           {
            "bin_end": 7.4,
            "bin_start": 4.2,
            "count": 2
           },
           {
            "bin_end": 10.600000000000001,
            "bin_start": 7.4,
            "count": 1
           },
           {
            "bin_end": 13.8,
            "bin_start": 10.600000000000001,
            "count": 2
           },
           {
            "bin_end": 17,
            "bin_start": 13.8,
            "count": 1
           },
           {
            "bin_end": 20.200000000000003,
            "bin_start": 17,
            "count": 3
           },
           {
            "bin_end": 23.400000000000002,
            "bin_start": 20.200000000000003,
            "count": 1
           },
           {
            "bin_end": 26.6,
            "bin_start": 23.400000000000002,
            "count": 1
           },
           {
            "bin_end": 29.8,
            "bin_start": 26.6,
            "count": 0
           },
           {
            "bin_end": 33,
            "bin_start": 29.8,
            "count": 1
           }
          ],
          "max": "33",
          "min": "1",
          "nan_count": 0,
          "unique_count": 14
         }
        },
        {
         "dtype": "int64",
         "name": "_deepnote_index_column"
        }
       ],
       "preview_row_count": 19,
       "row_count": 19,
       "rows": [
        {
         "_deepnote_index_column": 0,
         "bin": "200-400",
         "count": 3,
         "status": "Inconsistent"
        },
        {
         "_deepnote_index_column": 1,
         "bin": "400-600",
         "count": 22,
         "status": "Inconsistent"
        },
        {
         "_deepnote_index_column": 2,
         "bin": "600-800",
         "count": 26,
         "status": "Inconsistent"
        },
        {
         "_deepnote_index_column": 3,
         "bin": "800-1000",
         "count": 33,
         "status": "Inconsistent"
        },
        {
         "_deepnote_index_column": 4,
         "bin": "1000-1200",
         "count": 16,
         "status": "Inconsistent"
        },
        {
         "_deepnote_index_column": 5,
         "bin": "1200-1400",
         "count": 11,
         "status": "Inconsistent"
        },
        {
         "_deepnote_index_column": 6,
         "bin": "1400-1600",
         "count": 10,
         "status": "Inconsistent"
        },
        {
         "_deepnote_index_column": 7,
         "bin": "1600-1800",
         "count": 4,
         "status": "Inconsistent"
        },
        {
         "_deepnote_index_column": 8,
         "bin": "1800-2000",
         "count": 4,
         "status": "Inconsistent"
        },
        {
         "_deepnote_index_column": 9,
         "bin": "2000-2200",
         "count": 1,
         "status": "Inconsistent"
        },
        {
         "_deepnote_index_column": 10,
         "bin": "2200-2400",
         "count": 2,
         "status": "Inconsistent"
        },
        {
         "_deepnote_index_column": 11,
         "bin": "200-400",
         "count": 5,
         "status": "Consistent"
        },
        {
         "_deepnote_index_column": 12,
         "bin": "400-600",
         "count": 19,
         "status": "Consistent"
        },
        {
         "_deepnote_index_column": 13,
         "bin": "600-800",
         "count": 17,
         "status": "Consistent"
        },
        {
         "_deepnote_index_column": 14,
         "bin": "800-1000",
         "count": 18,
         "status": "Consistent"
        },
        {
         "_deepnote_index_column": 15,
         "bin": "1000-1200",
         "count": 11,
         "status": "Consistent"
        },
        {
         "_deepnote_index_column": 16,
         "bin": "1200-1400",
         "count": 5,
         "status": "Consistent"
        },
        {
         "_deepnote_index_column": 17,
         "bin": "1400-1600",
         "count": 1,
         "status": "Consistent"
        },
        {
         "_deepnote_index_column": 18,
         "bin": "1600-1800",
         "count": 3,
         "status": "Consistent"
        }
       ],
       "type": "dataframe"
      },
      "text/html": [
       "<div>\n",
       "<style scoped>\n",
       "    .dataframe tbody tr th:only-of-type {\n",
       "        vertical-align: middle;\n",
       "    }\n",
       "\n",
       "    .dataframe tbody tr th {\n",
       "        vertical-align: top;\n",
       "    }\n",
       "\n",
       "    .dataframe thead th {\n",
       "        text-align: right;\n",
       "    }\n",
       "</style>\n",
       "<table border=\"1\" class=\"dataframe\">\n",
       "  <thead>\n",
       "    <tr style=\"text-align: right;\">\n",
       "      <th></th>\n",
       "      <th>status</th>\n",
       "      <th>bin</th>\n",
       "      <th>count</th>\n",
       "    </tr>\n",
       "  </thead>\n",
       "  <tbody>\n",
       "    <tr>\n",
       "      <th>0</th>\n",
       "      <td>Inconsistent</td>\n",
       "      <td>200-400</td>\n",
       "      <td>3</td>\n",
       "    </tr>\n",
       "    <tr>\n",
       "      <th>1</th>\n",
       "      <td>Inconsistent</td>\n",
       "      <td>400-600</td>\n",
       "      <td>22</td>\n",
       "    </tr>\n",
       "    <tr>\n",
       "      <th>2</th>\n",
       "      <td>Inconsistent</td>\n",
       "      <td>600-800</td>\n",
       "      <td>26</td>\n",
       "    </tr>\n",
       "    <tr>\n",
       "      <th>3</th>\n",
       "      <td>Inconsistent</td>\n",
       "      <td>800-1000</td>\n",
       "      <td>33</td>\n",
       "    </tr>\n",
       "    <tr>\n",
       "      <th>4</th>\n",
       "      <td>Inconsistent</td>\n",
       "      <td>1000-1200</td>\n",
       "      <td>16</td>\n",
       "    </tr>\n",
       "    <tr>\n",
       "      <th>5</th>\n",
       "      <td>Inconsistent</td>\n",
       "      <td>1200-1400</td>\n",
       "      <td>11</td>\n",
       "    </tr>\n",
       "    <tr>\n",
       "      <th>6</th>\n",
       "      <td>Inconsistent</td>\n",
       "      <td>1400-1600</td>\n",
       "      <td>10</td>\n",
       "    </tr>\n",
       "    <tr>\n",
       "      <th>7</th>\n",
       "      <td>Inconsistent</td>\n",
       "      <td>1600-1800</td>\n",
       "      <td>4</td>\n",
       "    </tr>\n",
       "    <tr>\n",
       "      <th>8</th>\n",
       "      <td>Inconsistent</td>\n",
       "      <td>1800-2000</td>\n",
       "      <td>4</td>\n",
       "    </tr>\n",
       "    <tr>\n",
       "      <th>9</th>\n",
       "      <td>Inconsistent</td>\n",
       "      <td>2000-2200</td>\n",
       "      <td>1</td>\n",
       "    </tr>\n",
       "    <tr>\n",
       "      <th>10</th>\n",
       "      <td>Inconsistent</td>\n",
       "      <td>2200-2400</td>\n",
       "      <td>2</td>\n",
       "    </tr>\n",
       "    <tr>\n",
       "      <th>11</th>\n",
       "      <td>Consistent</td>\n",
       "      <td>200-400</td>\n",
       "      <td>5</td>\n",
       "    </tr>\n",
       "    <tr>\n",
       "      <th>12</th>\n",
       "      <td>Consistent</td>\n",
       "      <td>400-600</td>\n",
       "      <td>19</td>\n",
       "    </tr>\n",
       "    <tr>\n",
       "      <th>13</th>\n",
       "      <td>Consistent</td>\n",
       "      <td>600-800</td>\n",
       "      <td>17</td>\n",
       "    </tr>\n",
       "    <tr>\n",
       "      <th>14</th>\n",
       "      <td>Consistent</td>\n",
       "      <td>800-1000</td>\n",
       "      <td>18</td>\n",
       "    </tr>\n",
       "    <tr>\n",
       "      <th>15</th>\n",
       "      <td>Consistent</td>\n",
       "      <td>1000-1200</td>\n",
       "      <td>11</td>\n",
       "    </tr>\n",
       "    <tr>\n",
       "      <th>16</th>\n",
       "      <td>Consistent</td>\n",
       "      <td>1200-1400</td>\n",
       "      <td>5</td>\n",
       "    </tr>\n",
       "    <tr>\n",
       "      <th>17</th>\n",
       "      <td>Consistent</td>\n",
       "      <td>1400-1600</td>\n",
       "      <td>1</td>\n",
       "    </tr>\n",
       "    <tr>\n",
       "      <th>18</th>\n",
       "      <td>Consistent</td>\n",
       "      <td>1600-1800</td>\n",
       "      <td>3</td>\n",
       "    </tr>\n",
       "  </tbody>\n",
       "</table>\n",
       "</div>"
      ],
      "text/plain": [
       "          status        bin  count\n",
       "0   Inconsistent    200-400      3\n",
       "1   Inconsistent    400-600     22\n",
       "2   Inconsistent    600-800     26\n",
       "3   Inconsistent   800-1000     33\n",
       "4   Inconsistent  1000-1200     16\n",
       "5   Inconsistent  1200-1400     11\n",
       "6   Inconsistent  1400-1600     10\n",
       "7   Inconsistent  1600-1800      4\n",
       "8   Inconsistent  1800-2000      4\n",
       "9   Inconsistent  2000-2200      1\n",
       "10  Inconsistent  2200-2400      2\n",
       "11    Consistent    200-400      5\n",
       "12    Consistent    400-600     19\n",
       "13    Consistent    600-800     17\n",
       "14    Consistent   800-1000     18\n",
       "15    Consistent  1000-1200     11\n",
       "16    Consistent  1200-1400      5\n",
       "17    Consistent  1400-1600      1\n",
       "18    Consistent  1600-1800      3"
      ]
     },
     "execution_count": 41,
     "metadata": {},
     "output_type": "execute_result"
    }
   ],
   "source": [
    "# we will operate on a copy of the dataframe\n",
    "tmp = grade_dat.copy()\n",
    "\n",
    "# this renaming will make the graph more concise and readable\n",
    "status_map = {\n",
    "    \"Yes they say the same thing\": \"Consistent\",\n",
    "    \"No they say different things\": \"Inconsistent\",\n",
    "}\n",
    "tmp['status'] = tmp[\"Con_1\"].map(status_map)\n",
    "\n",
    "# add a \"bin\" column that organizes each proof into bins by length of proof\n",
    "tmp['bin'] = pd.cut(\n",
    "    tmp[\"Bytes\"],\n",
    "    bins=breaks, right=True, include_lowest=True, labels=bin_labs\n",
    ")\n",
    "\n",
    "# sort data into bins, but separately for each consistency assessment\n",
    "tmp = (\n",
    "    tmp\n",
    "    .groupby([\"status\", \"bin\"], observed=True)   # group by proof length and consistency\n",
    "    .size()                                      # aggregate by count\n",
    "    .reset_index(name=\"count\")                   # make clearer name for new column\n",
    ")\n",
    "tmp"
   ]
  },
  {
   "cell_type": "code",
   "execution_count": 42,
   "metadata": {
    "cell_id": "0988661521b54267ab87cec330c11bd3",
    "deepnote_cell_type": "code",
    "execution_context_id": "3e5c51cf-c3c5-4dc9-b492-f691f1887d86",
    "execution_millis": 0,
    "execution_start": 1756498193379,
    "source_hash": "2f65fa08"
   },
   "outputs": [
    {
     "data": {
      "application/vnd.deepnote.dataframe.v3+json": {
       "column_count": 4,
       "columns": [
        {
         "dtype": "category",
         "name": "status",
         "stats": {
          "categories": [
           {
            "count": 11,
            "name": "Inconsistent"
           },
           {
            "count": 8,
            "name": "Consistent"
           }
          ],
          "histogram": null,
          "max": null,
          "min": null,
          "nan_count": 0,
          "unique_count": 2
         }
        },
        {
         "dtype": "category",
         "name": "bin",
         "stats": {
          "categories": [
           {
            "count": 2,
            "name": "200-400"
           },
           {
            "count": 2,
            "name": "400-600"
           },
           {
            "count": 15,
            "name": "9 others"
           }
          ],
          "histogram": null,
          "max": null,
          "min": null,
          "nan_count": 0,
          "unique_count": 11
         }
        },
        {
         "dtype": "int64",
         "name": "count",
         "stats": {
          "categories": null,
          "histogram": [
           {
            "bin_end": 4.2,
            "bin_start": 1,
            "count": 7
           },
           {
            "bin_end": 7.4,
            "bin_start": 4.2,
            "count": 2
           },
           {
            "bin_end": 10.600000000000001,
            "bin_start": 7.4,
            "count": 1
           },
           {
            "bin_end": 13.8,
            "bin_start": 10.600000000000001,
            "count": 2
           },
           {
            "bin_end": 17,
            "bin_start": 13.8,
            "count": 1
           },
           {
            "bin_end": 20.200000000000003,
            "bin_start": 17,
            "count": 3
           },
           {
            "bin_end": 23.400000000000002,
            "bin_start": 20.200000000000003,
            "count": 1
           },
           {
            "bin_end": 26.6,
            "bin_start": 23.400000000000002,
            "count": 1
           },
           {
            "bin_end": 29.8,
            "bin_start": 26.6,
            "count": 0
           },
           {
            "bin_end": 33,
            "bin_start": 29.8,
            "count": 1
           }
          ],
          "max": "33",
          "min": "1",
          "nan_count": 0,
          "unique_count": 14
         }
        },
        {
         "dtype": "float64",
         "name": "pct",
         "stats": {
          "categories": null,
          "histogram": [
           {
            "bin_end": 0.031818181818181815,
            "bin_start": 0.007575757575757576,
            "count": 6
           },
           {
            "bin_end": 0.05606060606060606,
            "bin_start": 0.031818181818181815,
            "count": 1
           },
           {
            "bin_end": 0.08030303030303029,
            "bin_start": 0.05606060606060606,
            "count": 3
           },
           {
            "bin_end": 0.10454545454545455,
            "bin_start": 0.08030303030303029,
            "count": 1
           },
           {
            "bin_end": 0.12878787878787878,
            "bin_start": 0.10454545454545455,
            "count": 1
           },
           {
            "bin_end": 0.15303030303030302,
            "bin_start": 0.12878787878787878,
            "count": 1
           },
           {
            "bin_end": 0.17727272727272728,
            "bin_start": 0.15303030303030302,
            "count": 1
           },
           {
            "bin_end": 0.2015151515151515,
            "bin_start": 0.17727272727272728,
            "count": 1
           },
           {
            "bin_end": 0.22575757575757574,
            "bin_start": 0.2015151515151515,
            "count": 1
           },
           {
            "bin_end": 0.25,
            "bin_start": 0.22575757575757574,
            "count": 3
           }
          ],
          "max": "0.25",
          "min": "0.007575757575757576",
          "nan_count": 0,
          "unique_count": 17
         }
        },
        {
         "dtype": "int64",
         "name": "_deepnote_index_column"
        }
       ],
       "preview_row_count": 19,
       "row_count": 19,
       "rows": [
        {
         "_deepnote_index_column": 0,
         "bin": "200-400",
         "count": 3,
         "pct": 0.022727272727272728,
         "status": "Inconsistent"
        },
        {
         "_deepnote_index_column": 1,
         "bin": "400-600",
         "count": 22,
         "pct": 0.16666666666666666,
         "status": "Inconsistent"
        },
        {
         "_deepnote_index_column": 2,
         "bin": "600-800",
         "count": 26,
         "pct": 0.19696969696969696,
         "status": "Inconsistent"
        },
        {
         "_deepnote_index_column": 3,
         "bin": "800-1000",
         "count": 33,
         "pct": 0.25,
         "status": "Inconsistent"
        },
        {
         "_deepnote_index_column": 4,
         "bin": "1000-1200",
         "count": 16,
         "pct": 0.12121212121212122,
         "status": "Inconsistent"
        },
        {
         "_deepnote_index_column": 5,
         "bin": "1200-1400",
         "count": 11,
         "pct": 0.08333333333333333,
         "status": "Inconsistent"
        },
        {
         "_deepnote_index_column": 6,
         "bin": "1400-1600",
         "count": 10,
         "pct": 0.07575757575757576,
         "status": "Inconsistent"
        },
        {
         "_deepnote_index_column": 7,
         "bin": "1600-1800",
         "count": 4,
         "pct": 0.030303030303030304,
         "status": "Inconsistent"
        },
        {
         "_deepnote_index_column": 8,
         "bin": "1800-2000",
         "count": 4,
         "pct": 0.030303030303030304,
         "status": "Inconsistent"
        },
        {
         "_deepnote_index_column": 9,
         "bin": "2000-2200",
         "count": 1,
         "pct": 0.007575757575757576,
         "status": "Inconsistent"
        },
        {
         "_deepnote_index_column": 10,
         "bin": "2200-2400",
         "count": 2,
         "pct": 0.015151515151515152,
         "status": "Inconsistent"
        },
        {
         "_deepnote_index_column": 11,
         "bin": "200-400",
         "count": 5,
         "pct": 0.06329113924050633,
         "status": "Consistent"
        },
        {
         "_deepnote_index_column": 12,
         "bin": "400-600",
         "count": 19,
         "pct": 0.24050632911392406,
         "status": "Consistent"
        },
        {
         "_deepnote_index_column": 13,
         "bin": "600-800",
         "count": 17,
         "pct": 0.21518987341772153,
         "status": "Consistent"
        },
        {
         "_deepnote_index_column": 14,
         "bin": "800-1000",
         "count": 18,
         "pct": 0.22784810126582278,
         "status": "Consistent"
        },
        {
         "_deepnote_index_column": 15,
         "bin": "1000-1200",
         "count": 11,
         "pct": 0.13924050632911392,
         "status": "Consistent"
        },
        {
         "_deepnote_index_column": 16,
         "bin": "1200-1400",
         "count": 5,
         "pct": 0.06329113924050633,
         "status": "Consistent"
        },
        {
         "_deepnote_index_column": 17,
         "bin": "1400-1600",
         "count": 1,
         "pct": 0.012658227848101266,
         "status": "Consistent"
        },
        {
         "_deepnote_index_column": 18,
         "bin": "1600-1800",
         "count": 3,
         "pct": 0.0379746835443038,
         "status": "Consistent"
        }
       ],
       "type": "dataframe"
      },
      "text/html": [
       "<div>\n",
       "<style scoped>\n",
       "    .dataframe tbody tr th:only-of-type {\n",
       "        vertical-align: middle;\n",
       "    }\n",
       "\n",
       "    .dataframe tbody tr th {\n",
       "        vertical-align: top;\n",
       "    }\n",
       "\n",
       "    .dataframe thead th {\n",
       "        text-align: right;\n",
       "    }\n",
       "</style>\n",
       "<table border=\"1\" class=\"dataframe\">\n",
       "  <thead>\n",
       "    <tr style=\"text-align: right;\">\n",
       "      <th></th>\n",
       "      <th>status</th>\n",
       "      <th>bin</th>\n",
       "      <th>count</th>\n",
       "      <th>pct</th>\n",
       "    </tr>\n",
       "  </thead>\n",
       "  <tbody>\n",
       "    <tr>\n",
       "      <th>0</th>\n",
       "      <td>Inconsistent</td>\n",
       "      <td>200-400</td>\n",
       "      <td>3</td>\n",
       "      <td>0.022727</td>\n",
       "    </tr>\n",
       "    <tr>\n",
       "      <th>1</th>\n",
       "      <td>Inconsistent</td>\n",
       "      <td>400-600</td>\n",
       "      <td>22</td>\n",
       "      <td>0.166667</td>\n",
       "    </tr>\n",
       "    <tr>\n",
       "      <th>2</th>\n",
       "      <td>Inconsistent</td>\n",
       "      <td>600-800</td>\n",
       "      <td>26</td>\n",
       "      <td>0.196970</td>\n",
       "    </tr>\n",
       "    <tr>\n",
       "      <th>3</th>\n",
       "      <td>Inconsistent</td>\n",
       "      <td>800-1000</td>\n",
       "      <td>33</td>\n",
       "      <td>0.250000</td>\n",
       "    </tr>\n",
       "    <tr>\n",
       "      <th>4</th>\n",
       "      <td>Inconsistent</td>\n",
       "      <td>1000-1200</td>\n",
       "      <td>16</td>\n",
       "      <td>0.121212</td>\n",
       "    </tr>\n",
       "    <tr>\n",
       "      <th>5</th>\n",
       "      <td>Inconsistent</td>\n",
       "      <td>1200-1400</td>\n",
       "      <td>11</td>\n",
       "      <td>0.083333</td>\n",
       "    </tr>\n",
       "    <tr>\n",
       "      <th>6</th>\n",
       "      <td>Inconsistent</td>\n",
       "      <td>1400-1600</td>\n",
       "      <td>10</td>\n",
       "      <td>0.075758</td>\n",
       "    </tr>\n",
       "    <tr>\n",
       "      <th>7</th>\n",
       "      <td>Inconsistent</td>\n",
       "      <td>1600-1800</td>\n",
       "      <td>4</td>\n",
       "      <td>0.030303</td>\n",
       "    </tr>\n",
       "    <tr>\n",
       "      <th>8</th>\n",
       "      <td>Inconsistent</td>\n",
       "      <td>1800-2000</td>\n",
       "      <td>4</td>\n",
       "      <td>0.030303</td>\n",
       "    </tr>\n",
       "    <tr>\n",
       "      <th>9</th>\n",
       "      <td>Inconsistent</td>\n",
       "      <td>2000-2200</td>\n",
       "      <td>1</td>\n",
       "      <td>0.007576</td>\n",
       "    </tr>\n",
       "    <tr>\n",
       "      <th>10</th>\n",
       "      <td>Inconsistent</td>\n",
       "      <td>2200-2400</td>\n",
       "      <td>2</td>\n",
       "      <td>0.015152</td>\n",
       "    </tr>\n",
       "    <tr>\n",
       "      <th>11</th>\n",
       "      <td>Consistent</td>\n",
       "      <td>200-400</td>\n",
       "      <td>5</td>\n",
       "      <td>0.063291</td>\n",
       "    </tr>\n",
       "    <tr>\n",
       "      <th>12</th>\n",
       "      <td>Consistent</td>\n",
       "      <td>400-600</td>\n",
       "      <td>19</td>\n",
       "      <td>0.240506</td>\n",
       "    </tr>\n",
       "    <tr>\n",
       "      <th>13</th>\n",
       "      <td>Consistent</td>\n",
       "      <td>600-800</td>\n",
       "      <td>17</td>\n",
       "      <td>0.215190</td>\n",
       "    </tr>\n",
       "    <tr>\n",
       "      <th>14</th>\n",
       "      <td>Consistent</td>\n",
       "      <td>800-1000</td>\n",
       "      <td>18</td>\n",
       "      <td>0.227848</td>\n",
       "    </tr>\n",
       "    <tr>\n",
       "      <th>15</th>\n",
       "      <td>Consistent</td>\n",
       "      <td>1000-1200</td>\n",
       "      <td>11</td>\n",
       "      <td>0.139241</td>\n",
       "    </tr>\n",
       "    <tr>\n",
       "      <th>16</th>\n",
       "      <td>Consistent</td>\n",
       "      <td>1200-1400</td>\n",
       "      <td>5</td>\n",
       "      <td>0.063291</td>\n",
       "    </tr>\n",
       "    <tr>\n",
       "      <th>17</th>\n",
       "      <td>Consistent</td>\n",
       "      <td>1400-1600</td>\n",
       "      <td>1</td>\n",
       "      <td>0.012658</td>\n",
       "    </tr>\n",
       "    <tr>\n",
       "      <th>18</th>\n",
       "      <td>Consistent</td>\n",
       "      <td>1600-1800</td>\n",
       "      <td>3</td>\n",
       "      <td>0.037975</td>\n",
       "    </tr>\n",
       "  </tbody>\n",
       "</table>\n",
       "</div>"
      ],
      "text/plain": [
       "          status        bin  count       pct\n",
       "0   Inconsistent    200-400      3  0.022727\n",
       "1   Inconsistent    400-600     22  0.166667\n",
       "2   Inconsistent    600-800     26  0.196970\n",
       "3   Inconsistent   800-1000     33  0.250000\n",
       "4   Inconsistent  1000-1200     16  0.121212\n",
       "5   Inconsistent  1200-1400     11  0.083333\n",
       "6   Inconsistent  1400-1600     10  0.075758\n",
       "7   Inconsistent  1600-1800      4  0.030303\n",
       "8   Inconsistent  1800-2000      4  0.030303\n",
       "9   Inconsistent  2000-2200      1  0.007576\n",
       "10  Inconsistent  2200-2400      2  0.015152\n",
       "11    Consistent    200-400      5  0.063291\n",
       "12    Consistent    400-600     19  0.240506\n",
       "13    Consistent    600-800     17  0.215190\n",
       "14    Consistent   800-1000     18  0.227848\n",
       "15    Consistent  1000-1200     11  0.139241\n",
       "16    Consistent  1200-1400      5  0.063291\n",
       "17    Consistent  1400-1600      1  0.012658\n",
       "18    Consistent  1600-1800      3  0.037975"
      ]
     },
     "execution_count": 42,
     "metadata": {},
     "output_type": "execute_result"
    }
   ],
   "source": [
    "# order the bins by size, not alphabetically\n",
    "tmp[\"bin\"] = pd.Categorical(tmp[\"bin\"], categories=bin_labs, ordered=True)\n",
    "\n",
    "# compute the percent within each status\n",
    "tmp[\"pct\"] = (\n",
    "    tmp\n",
    "    .groupby(\"status\", observed=True)[\"count\"]\n",
    "    .transform(lambda s: s / s.sum())\n",
    ")\n",
    "tmp"
   ]
  },
  {
   "cell_type": "code",
   "execution_count": 43,
   "metadata": {
    "cell_id": "8573d8c12f2a43618702cb15f8772728",
    "deepnote_cell_type": "code",
    "execution_context_id": "3e5c51cf-c3c5-4dc9-b492-f691f1887d86",
    "execution_millis": 834,
    "execution_start": 1756498193429,
    "source_hash": "cea4bc8d"
   },
   "outputs": [
    {
     "data": {
      "image/png": "[encoded data removed]",
      "text/plain": [
       "<Figure size 1100x600 with 1 Axes>"
      ]
     },
     "metadata": {
      "image/png": {
       "height": 590,
       "width": 1089
      }
     },
     "output_type": "display_data"
    }
   ],
   "source": [
    "# ask seaborn to create a plot of these two distributions\n",
    "fig, ax = plt.subplots(figsize=(11, 6))\n",
    "sns.barplot(\n",
    "    data=tmp,\n",
    "    x=\"bin\", y=\"pct\", hue=\"status\",\n",
    "    dodge=True, edgecolor=\"black\", width=0.75,\n",
    "    palette={\"Inconsistent\": \"#FF7F00\",\"Consistent\": \"#377EB8\"},\n",
    "    ax=ax,\n",
    ")\n",
    "\n",
    "# format y axis as a percent, and zoomed comparably to next plot, below\n",
    "ax.set_ylim(0, 0.3)\n",
    "ax.yaxis.set_major_formatter(PercentFormatter(xmax=1, decimals=0))\n",
    "\n",
    "# add labels/titles\n",
    "ax.set_title(\"Distributions of Proof Size, Embedded Use Case\", pad=12)\n",
    "ax.set_xlabel(\"Proof length in bytes (proportional to the number of characters in Markdown)\")\n",
    "ax.set_ylabel(\"Percentage of proofs in each category\")\n",
    "\n",
    "# rotate x axis labels by 45 degrees\n",
    "ax.tick_params(axis=\"x\", rotation=45)\n",
    "\n",
    "# don't use the word \"status\" in the legend\n",
    "ax.legend(title=\"Categories\", ncol=1, loc=\"upper right\")\n",
    "\n",
    "# save and show plot\n",
    "plt.savefig( 'EUC con by size.pdf', bbox_inches='tight' )\n",
    "plt.tight_layout()\n",
    "plt.show()"
   ]
  },
  {
   "cell_type": "markdown",
   "metadata": {
    "cell_id": "3d12f24c98a7434b8a7c732457a0e1e8",
    "deepnote_cell_type": "markdown",
    "id": "ImqN2ZE9fwei"
   },
   "source": [
    "**Figure 8.** The same for the student use case. In each distribution, the percentages (y axis) were computed within each category."
   ]
  },
  {
   "cell_type": "code",
   "execution_count": 44,
   "metadata": {
    "cell_id": "3e43c912f8644b09b0210749b6e34a62",
    "colab": {
     "base_uri": "https://localhost:8080/",
     "height": 0
    },
    "deepnote_cell_type": "code",
    "execution_context_id": "3e5c51cf-c3c5-4dc9-b492-f691f1887d86",
    "execution_millis": 0,
    "execution_start": 1756498194318,
    "id": "gaf6fmpqVD0f",
    "outputId": "94eabfd0-24d7-4553-da4e-3cbd483eac0c",
    "source_hash": "1980112f"
   },
   "outputs": [
    {
     "data": {
      "application/vnd.deepnote.dataframe.v3+json": {
       "column_count": 3,
       "columns": [
        {
         "dtype": "category",
         "name": "status",
         "stats": {
          "categories": [
           {
            "count": 11,
            "name": "Inconsistent"
           },
           {
            "count": 10,
            "name": "Consistent"
           }
          ],
          "histogram": null,
          "max": null,
          "min": null,
          "nan_count": 0,
          "unique_count": 2
         }
        },
        {
         "dtype": "category",
         "name": "bin",
         "stats": {
          "categories": [
           {
            "count": 2,
            "name": "200-400"
           },
           {
            "count": 2,
            "name": "400-600"
           },
           {
            "count": 17,
            "name": "9 others"
           }
          ],
          "histogram": null,
          "max": null,
          "min": null,
          "nan_count": 0,
          "unique_count": 11
         }
        },
        {
         "dtype": "int64",
         "name": "count",
         "stats": {
          "categories": null,
          "histogram": [
           {
            "bin_end": 3.7,
            "bin_start": 1,
            "count": 7
           },
           {
            "bin_end": 6.4,
            "bin_start": 3.7,
            "count": 5
           },
           {
            "bin_end": 9.100000000000001,
            "bin_start": 6.4,
            "count": 0
           },
           {
            "bin_end": 11.8,
            "bin_start": 9.100000000000001,
            "count": 1
           },
           {
            "bin_end": 14.5,
            "bin_start": 11.8,
            "count": 2
           },
           {
            "bin_end": 17.200000000000003,
            "bin_start": 14.5,
            "count": 1
           },
           {
            "bin_end": 19.900000000000002,
            "bin_start": 17.200000000000003,
            "count": 0
           },
           {
            "bin_end": 22.6,
            "bin_start": 19.900000000000002,
            "count": 1
           },
           {
            "bin_end": 25.3,
            "bin_start": 22.6,
            "count": 3
           },
           {
            "bin_end": 28,
            "bin_start": 25.3,
            "count": 1
           }
          ],
          "max": "28",
          "min": "1",
          "nan_count": 0,
          "unique_count": 14
         }
        },
        {
         "dtype": "int64",
         "name": "_deepnote_index_column"
        }
       ],
       "preview_row_count": 21,
       "row_count": 21,
       "rows": [
        {
         "_deepnote_index_column": 0,
         "bin": "200-400",
         "count": 3,
         "status": "Inconsistent"
        },
        {
         "_deepnote_index_column": 1,
         "bin": "400-600",
         "count": 16,
         "status": "Inconsistent"
        },
        {
         "_deepnote_index_column": 2,
         "bin": "600-800",
         "count": 20,
         "status": "Inconsistent"
        },
        {
         "_deepnote_index_column": 3,
         "bin": "800-1000",
         "count": 23,
         "status": "Inconsistent"
        },
        {
         "_deepnote_index_column": 4,
         "bin": "1000-1200",
         "count": 14,
         "status": "Inconsistent"
        },
        {
         "_deepnote_index_column": 5,
         "bin": "1200-1400",
         "count": 10,
         "status": "Inconsistent"
        },
        {
         "_deepnote_index_column": 6,
         "bin": "1400-1600",
         "count": 6,
         "status": "Inconsistent"
        },
        {
         "_deepnote_index_column": 7,
         "bin": "1600-1800",
         "count": 3,
         "status": "Inconsistent"
        },
        {
         "_deepnote_index_column": 8,
         "bin": "1800-2000",
         "count": 2,
         "status": "Inconsistent"
        },
        {
         "_deepnote_index_column": 9,
         "bin": "2000-2200",
         "count": 1,
         "status": "Inconsistent"
        },
        {
         "_deepnote_index_column": 10,
         "bin": "2200-2400",
         "count": 1,
         "status": "Inconsistent"
        },
        {
         "_deepnote_index_column": 11,
         "bin": "200-400",
         "count": 5,
         "status": "Consistent"
        },
        {
         "_deepnote_index_column": 12,
         "bin": "400-600",
         "count": 25,
         "status": "Consistent"
        },
        {
         "_deepnote_index_column": 13,
         "bin": "600-800",
         "count": 23,
         "status": "Consistent"
        },
        {
         "_deepnote_index_column": 14,
         "bin": "800-1000",
         "count": 28,
         "status": "Consistent"
        },
        {
         "_deepnote_index_column": 15,
         "bin": "1000-1200",
         "count": 13,
         "status": "Consistent"
        },
        {
         "_deepnote_index_column": 16,
         "bin": "1200-1400",
         "count": 6,
         "status": "Consistent"
        },
        {
         "_deepnote_index_column": 17,
         "bin": "1400-1600",
         "count": 5,
         "status": "Consistent"
        },
        {
         "_deepnote_index_column": 18,
         "bin": "1600-1800",
         "count": 4,
         "status": "Consistent"
        },
        {
         "_deepnote_index_column": 19,
         "bin": "1800-2000",
         "count": 2,
         "status": "Consistent"
        },
        {
         "_deepnote_index_column": 20,
         "bin": "2200-2400",
         "count": 1,
         "status": "Consistent"
        }
       ],
       "type": "dataframe"
      },
      "text/html": [
       "<div>\n",
       "<style scoped>\n",
       "    .dataframe tbody tr th:only-of-type {\n",
       "        vertical-align: middle;\n",
       "    }\n",
       "\n",
       "    .dataframe tbody tr th {\n",
       "        vertical-align: top;\n",
       "    }\n",
       "\n",
       "    .dataframe thead th {\n",
       "        text-align: right;\n",
       "    }\n",
       "</style>\n",
       "<table border=\"1\" class=\"dataframe\">\n",
       "  <thead>\n",
       "    <tr style=\"text-align: right;\">\n",
       "      <th></th>\n",
       "      <th>status</th>\n",
       "      <th>bin</th>\n",
       "      <th>count</th>\n",
       "    </tr>\n",
       "  </thead>\n",
       "  <tbody>\n",
       "    <tr>\n",
       "      <th>0</th>\n",
       "      <td>Inconsistent</td>\n",
       "      <td>200-400</td>\n",
       "      <td>3</td>\n",
       "    </tr>\n",
       "    <tr>\n",
       "      <th>1</th>\n",
       "      <td>Inconsistent</td>\n",
       "      <td>400-600</td>\n",
       "      <td>16</td>\n",
       "    </tr>\n",
       "    <tr>\n",
       "      <th>2</th>\n",
       "      <td>Inconsistent</td>\n",
       "      <td>600-800</td>\n",
       "      <td>20</td>\n",
       "    </tr>\n",
       "    <tr>\n",
       "      <th>3</th>\n",
       "      <td>Inconsistent</td>\n",
       "      <td>800-1000</td>\n",
       "      <td>23</td>\n",
       "    </tr>\n",
       "    <tr>\n",
       "      <th>4</th>\n",
       "      <td>Inconsistent</td>\n",
       "      <td>1000-1200</td>\n",
       "      <td>14</td>\n",
       "    </tr>\n",
       "    <tr>\n",
       "      <th>5</th>\n",
       "      <td>Inconsistent</td>\n",
       "      <td>1200-1400</td>\n",
       "      <td>10</td>\n",
       "    </tr>\n",
       "    <tr>\n",
       "      <th>6</th>\n",
       "      <td>Inconsistent</td>\n",
       "      <td>1400-1600</td>\n",
       "      <td>6</td>\n",
       "    </tr>\n",
       "    <tr>\n",
       "      <th>7</th>\n",
       "      <td>Inconsistent</td>\n",
       "      <td>1600-1800</td>\n",
       "      <td>3</td>\n",
       "    </tr>\n",
       "    <tr>\n",
       "      <th>8</th>\n",
       "      <td>Inconsistent</td>\n",
       "      <td>1800-2000</td>\n",
       "      <td>2</td>\n",
       "    </tr>\n",
       "    <tr>\n",
       "      <th>9</th>\n",
       "      <td>Inconsistent</td>\n",
       "      <td>2000-2200</td>\n",
       "      <td>1</td>\n",
       "    </tr>\n",
       "    <tr>\n",
       "      <th>10</th>\n",
       "      <td>Inconsistent</td>\n",
       "      <td>2200-2400</td>\n",
       "      <td>1</td>\n",
       "    </tr>\n",
       "    <tr>\n",
       "      <th>11</th>\n",
       "      <td>Consistent</td>\n",
       "      <td>200-400</td>\n",
       "      <td>5</td>\n",
       "    </tr>\n",
       "    <tr>\n",
       "      <th>12</th>\n",
       "      <td>Consistent</td>\n",
       "      <td>400-600</td>\n",
       "      <td>25</td>\n",
       "    </tr>\n",
       "    <tr>\n",
       "      <th>13</th>\n",
       "      <td>Consistent</td>\n",
       "      <td>600-800</td>\n",
       "      <td>23</td>\n",
       "    </tr>\n",
       "    <tr>\n",
       "      <th>14</th>\n",
       "      <td>Consistent</td>\n",
       "      <td>800-1000</td>\n",
       "      <td>28</td>\n",
       "    </tr>\n",
       "    <tr>\n",
       "      <th>15</th>\n",
       "      <td>Consistent</td>\n",
       "      <td>1000-1200</td>\n",
       "      <td>13</td>\n",
       "    </tr>\n",
       "    <tr>\n",
       "      <th>16</th>\n",
       "      <td>Consistent</td>\n",
       "      <td>1200-1400</td>\n",
       "      <td>6</td>\n",
       "    </tr>\n",
       "    <tr>\n",
       "      <th>17</th>\n",
       "      <td>Consistent</td>\n",
       "      <td>1400-1600</td>\n",
       "      <td>5</td>\n",
       "    </tr>\n",
       "    <tr>\n",
       "      <th>18</th>\n",
       "      <td>Consistent</td>\n",
       "      <td>1600-1800</td>\n",
       "      <td>4</td>\n",
       "    </tr>\n",
       "    <tr>\n",
       "      <th>19</th>\n",
       "      <td>Consistent</td>\n",
       "      <td>1800-2000</td>\n",
       "      <td>2</td>\n",
       "    </tr>\n",
       "    <tr>\n",
       "      <th>20</th>\n",
       "      <td>Consistent</td>\n",
       "      <td>2200-2400</td>\n",
       "      <td>1</td>\n",
       "    </tr>\n",
       "  </tbody>\n",
       "</table>\n",
       "</div>"
      ],
      "text/plain": [
       "          status        bin  count\n",
       "0   Inconsistent    200-400      3\n",
       "1   Inconsistent    400-600     16\n",
       "2   Inconsistent    600-800     20\n",
       "3   Inconsistent   800-1000     23\n",
       "4   Inconsistent  1000-1200     14\n",
       "5   Inconsistent  1200-1400     10\n",
       "6   Inconsistent  1400-1600      6\n",
       "7   Inconsistent  1600-1800      3\n",
       "8   Inconsistent  1800-2000      2\n",
       "9   Inconsistent  2000-2200      1\n",
       "10  Inconsistent  2200-2400      1\n",
       "11    Consistent    200-400      5\n",
       "12    Consistent    400-600     25\n",
       "13    Consistent    600-800     23\n",
       "14    Consistent   800-1000     28\n",
       "15    Consistent  1000-1200     13\n",
       "16    Consistent  1200-1400      6\n",
       "17    Consistent  1400-1600      5\n",
       "18    Consistent  1600-1800      4\n",
       "19    Consistent  1800-2000      2\n",
       "20    Consistent  2200-2400      1"
      ]
     },
     "execution_count": 44,
     "metadata": {},
     "output_type": "execute_result"
    }
   ],
   "source": [
    "# ------------------------------------------------------------------------------\n",
    "# Figure 8: Distributions of proof size, student use case\n",
    "# ------------------------------------------------------------------------------\n",
    "\n",
    "# we will operate on a copy of the dataframe\n",
    "tmp = grade_dat.copy()\n",
    "\n",
    "# same renaming as in previous plot, for conciseness and readability\n",
    "tmp['status'] = tmp[\"Con_2\"].map(status_map)\n",
    "\n",
    "# add a \"bin\" column that organizes each proof into bins by length of proof\n",
    "tmp['bin'] = pd.cut(\n",
    "    tmp[\"Bytes\"],\n",
    "    bins=breaks, right=True, include_lowest=True, labels=bin_labs\n",
    ")\n",
    "\n",
    "# sort data into bins, but separately for each consistency assessment\n",
    "tmp = (\n",
    "    tmp\n",
    "    .groupby([\"status\", \"bin\"], observed=True)   # group by proof length and consistency\n",
    "    .size()                                      # aggregate by count\n",
    "    .reset_index(name=\"count\")                   # make clearer name for new column\n",
    ")\n",
    "tmp"
   ]
  },
  {
   "cell_type": "code",
   "execution_count": 45,
   "metadata": {
    "cell_id": "b3a05e9105904d02965465f9b61dc019",
    "deepnote_cell_type": "code",
    "deepnote_table_loading": false,
    "deepnote_table_state": {
     "cellFormattingRules": [],
     "columnDisplayNames": [],
     "columnOrder": [
      "status",
      "bin",
      "count",
      "pct"
     ],
     "conditionalFilters": [],
     "filters": [],
     "hiddenColumnIds": [],
     "pageIndex": 2,
     "pageSize": 10,
     "sortBy": [],
     "wrappedTextColumnIds": []
    },
    "execution_context_id": "3e5c51cf-c3c5-4dc9-b492-f691f1887d86",
    "execution_millis": 0,
    "execution_start": 1756498194379,
    "source_hash": "2f65fa08"
   },
   "outputs": [
    {
     "data": {
      "application/vnd.deepnote.dataframe.v3+json": {
       "column_count": 4,
       "columns": [
        {
         "dtype": "category",
         "name": "status",
         "stats": {
          "categories": [
           {
            "count": 11,
            "name": "Inconsistent"
           },
           {
            "count": 10,
            "name": "Consistent"
           }
          ],
          "histogram": null,
          "max": null,
          "min": null,
          "nan_count": 0,
          "unique_count": 2
         }
        },
        {
         "dtype": "category",
         "name": "bin",
         "stats": {
          "categories": [
           {
            "count": 2,
            "name": "200-400"
           },
           {
            "count": 2,
            "name": "400-600"
           },
           {
            "count": 17,
            "name": "9 others"
           }
          ],
          "histogram": null,
          "max": null,
          "min": null,
          "nan_count": 0,
          "unique_count": 11
         }
        },
        {
         "dtype": "int64",
         "name": "count",
         "stats": {
          "categories": null,
          "histogram": [
           {
            "bin_end": 3.7,
            "bin_start": 1,
            "count": 7
           },
           {
            "bin_end": 6.4,
            "bin_start": 3.7,
            "count": 5
           },
           {
            "bin_end": 9.100000000000001,
            "bin_start": 6.4,
            "count": 0
           },
           {
            "bin_end": 11.8,
            "bin_start": 9.100000000000001,
            "count": 1
           },
           {
            "bin_end": 14.5,
            "bin_start": 11.8,
            "count": 2
           },
           {
            "bin_end": 17.200000000000003,
            "bin_start": 14.5,
            "count": 1
           },
           {
            "bin_end": 19.900000000000002,
            "bin_start": 17.200000000000003,
            "count": 0
           },
           {
            "bin_end": 22.6,
            "bin_start": 19.900000000000002,
            "count": 1
           },
           {
            "bin_end": 25.3,
            "bin_start": 22.6,
            "count": 3
           },
           {
            "bin_end": 28,
            "bin_start": 25.3,
            "count": 1
           }
          ],
          "max": "28",
          "min": "1",
          "nan_count": 0,
          "unique_count": 14
         }
        },
        {
         "dtype": "float64",
         "name": "pct",
         "stats": {
          "categories": null,
          "histogram": [
           {
            "bin_end": 0.033035714285714286,
            "bin_start": 0.008928571428571428,
            "count": 7
           },
           {
            "bin_end": 0.05714285714285715,
            "bin_start": 0.033035714285714286,
            "count": 4
           },
           {
            "bin_end": 0.08125,
            "bin_start": 0.05714285714285715,
            "count": 1
           },
           {
            "bin_end": 0.10535714285714286,
            "bin_start": 0.08125,
            "count": 1
           },
           {
            "bin_end": 0.12946428571428573,
            "bin_start": 0.10535714285714286,
            "count": 1
           },
           {
            "bin_end": 0.15357142857142858,
            "bin_start": 0.12946428571428573,
            "count": 1
           },
           {
            "bin_end": 0.17767857142857144,
            "bin_start": 0.15357142857142858,
            "count": 1
           },
           {
            "bin_end": 0.2017857142857143,
            "bin_start": 0.17767857142857144,
            "count": 0
           },
           {
            "bin_end": 0.22589285714285715,
            "bin_start": 0.2017857142857143,
            "count": 3
           },
           {
            "bin_end": 0.25,
            "bin_start": 0.22589285714285715,
            "count": 2
           }
          ],
          "max": "0.25",
          "min": "0.008928571428571428",
          "nan_count": 0,
          "unique_count": 18
         }
        },
        {
         "dtype": "int64",
         "name": "_deepnote_index_column"
        }
       ],
       "preview_row_count": 21,
       "row_count": 21,
       "rows": [
        {
         "_deepnote_index_column": 20,
         "bin": "2200-2400",
         "count": 1,
         "pct": 0.008928571428571428,
         "status": "Consistent"
        }
       ],
       "type": "dataframe"
      },
      "text/html": [
       "<div>\n",
       "<style scoped>\n",
       "    .dataframe tbody tr th:only-of-type {\n",
       "        vertical-align: middle;\n",
       "    }\n",
       "\n",
       "    .dataframe tbody tr th {\n",
       "        vertical-align: top;\n",
       "    }\n",
       "\n",
       "    .dataframe thead th {\n",
       "        text-align: right;\n",
       "    }\n",
       "</style>\n",
       "<table border=\"1\" class=\"dataframe\">\n",
       "  <thead>\n",
       "    <tr style=\"text-align: right;\">\n",
       "      <th></th>\n",
       "      <th>status</th>\n",
       "      <th>bin</th>\n",
       "      <th>count</th>\n",
       "      <th>pct</th>\n",
       "    </tr>\n",
       "  </thead>\n",
       "  <tbody>\n",
       "    <tr>\n",
       "      <th>0</th>\n",
       "      <td>Inconsistent</td>\n",
       "      <td>200-400</td>\n",
       "      <td>3</td>\n",
       "      <td>0.030303</td>\n",
       "    </tr>\n",
       "    <tr>\n",
       "      <th>1</th>\n",
       "      <td>Inconsistent</td>\n",
       "      <td>400-600</td>\n",
       "      <td>16</td>\n",
       "      <td>0.161616</td>\n",
       "    </tr>\n",
       "    <tr>\n",
       "      <th>2</th>\n",
       "      <td>Inconsistent</td>\n",
       "      <td>600-800</td>\n",
       "      <td>20</td>\n",
       "      <td>0.202020</td>\n",
       "    </tr>\n",
       "    <tr>\n",
       "      <th>3</th>\n",
       "      <td>Inconsistent</td>\n",
       "      <td>800-1000</td>\n",
       "      <td>23</td>\n",
       "      <td>0.232323</td>\n",
       "    </tr>\n",
       "    <tr>\n",
       "      <th>4</th>\n",
       "      <td>Inconsistent</td>\n",
       "      <td>1000-1200</td>\n",
       "      <td>14</td>\n",
       "      <td>0.141414</td>\n",
       "    </tr>\n",
       "    <tr>\n",
       "      <th>5</th>\n",
       "      <td>Inconsistent</td>\n",
       "      <td>1200-1400</td>\n",
       "      <td>10</td>\n",
       "      <td>0.101010</td>\n",
       "    </tr>\n",
       "    <tr>\n",
       "      <th>6</th>\n",
       "      <td>Inconsistent</td>\n",
       "      <td>1400-1600</td>\n",
       "      <td>6</td>\n",
       "      <td>0.060606</td>\n",
       "    </tr>\n",
       "    <tr>\n",
       "      <th>7</th>\n",
       "      <td>Inconsistent</td>\n",
       "      <td>1600-1800</td>\n",
       "      <td>3</td>\n",
       "      <td>0.030303</td>\n",
       "    </tr>\n",
       "    <tr>\n",
       "      <th>8</th>\n",
       "      <td>Inconsistent</td>\n",
       "      <td>1800-2000</td>\n",
       "      <td>2</td>\n",
       "      <td>0.020202</td>\n",
       "    </tr>\n",
       "    <tr>\n",
       "      <th>9</th>\n",
       "      <td>Inconsistent</td>\n",
       "      <td>2000-2200</td>\n",
       "      <td>1</td>\n",
       "      <td>0.010101</td>\n",
       "    </tr>\n",
       "    <tr>\n",
       "      <th>10</th>\n",
       "      <td>Inconsistent</td>\n",
       "      <td>2200-2400</td>\n",
       "      <td>1</td>\n",
       "      <td>0.010101</td>\n",
       "    </tr>\n",
       "    <tr>\n",
       "      <th>11</th>\n",
       "      <td>Consistent</td>\n",
       "      <td>200-400</td>\n",
       "      <td>5</td>\n",
       "      <td>0.044643</td>\n",
       "    </tr>\n",
       "    <tr>\n",
       "      <th>12</th>\n",
       "      <td>Consistent</td>\n",
       "      <td>400-600</td>\n",
       "      <td>25</td>\n",
       "      <td>0.223214</td>\n",
       "    </tr>\n",
       "    <tr>\n",
       "      <th>13</th>\n",
       "      <td>Consistent</td>\n",
       "      <td>600-800</td>\n",
       "      <td>23</td>\n",
       "      <td>0.205357</td>\n",
       "    </tr>\n",
       "    <tr>\n",
       "      <th>14</th>\n",
       "      <td>Consistent</td>\n",
       "      <td>800-1000</td>\n",
       "      <td>28</td>\n",
       "      <td>0.250000</td>\n",
       "    </tr>\n",
       "    <tr>\n",
       "      <th>15</th>\n",
       "      <td>Consistent</td>\n",
       "      <td>1000-1200</td>\n",
       "      <td>13</td>\n",
       "      <td>0.116071</td>\n",
       "    </tr>\n",
       "    <tr>\n",
       "      <th>16</th>\n",
       "      <td>Consistent</td>\n",
       "      <td>1200-1400</td>\n",
       "      <td>6</td>\n",
       "      <td>0.053571</td>\n",
       "    </tr>\n",
       "    <tr>\n",
       "      <th>17</th>\n",
       "      <td>Consistent</td>\n",
       "      <td>1400-1600</td>\n",
       "      <td>5</td>\n",
       "      <td>0.044643</td>\n",
       "    </tr>\n",
       "    <tr>\n",
       "      <th>18</th>\n",
       "      <td>Consistent</td>\n",
       "      <td>1600-1800</td>\n",
       "      <td>4</td>\n",
       "      <td>0.035714</td>\n",
       "    </tr>\n",
       "    <tr>\n",
       "      <th>19</th>\n",
       "      <td>Consistent</td>\n",
       "      <td>1800-2000</td>\n",
       "      <td>2</td>\n",
       "      <td>0.017857</td>\n",
       "    </tr>\n",
       "    <tr>\n",
       "      <th>20</th>\n",
       "      <td>Consistent</td>\n",
       "      <td>2200-2400</td>\n",
       "      <td>1</td>\n",
       "      <td>0.008929</td>\n",
       "    </tr>\n",
       "  </tbody>\n",
       "</table>\n",
       "</div>"
      ],
      "text/plain": [
       "          status        bin  count       pct\n",
       "0   Inconsistent    200-400      3  0.030303\n",
       "1   Inconsistent    400-600     16  0.161616\n",
       "2   Inconsistent    600-800     20  0.202020\n",
       "3   Inconsistent   800-1000     23  0.232323\n",
       "4   Inconsistent  1000-1200     14  0.141414\n",
       "5   Inconsistent  1200-1400     10  0.101010\n",
       "6   Inconsistent  1400-1600      6  0.060606\n",
       "7   Inconsistent  1600-1800      3  0.030303\n",
       "8   Inconsistent  1800-2000      2  0.020202\n",
       "9   Inconsistent  2000-2200      1  0.010101\n",
       "10  Inconsistent  2200-2400      1  0.010101\n",
       "11    Consistent    200-400      5  0.044643\n",
       "12    Consistent    400-600     25  0.223214\n",
       "13    Consistent    600-800     23  0.205357\n",
       "14    Consistent   800-1000     28  0.250000\n",
       "15    Consistent  1000-1200     13  0.116071\n",
       "16    Consistent  1200-1400      6  0.053571\n",
       "17    Consistent  1400-1600      5  0.044643\n",
       "18    Consistent  1600-1800      4  0.035714\n",
       "19    Consistent  1800-2000      2  0.017857\n",
       "20    Consistent  2200-2400      1  0.008929"
      ]
     },
     "execution_count": 45,
     "metadata": {},
     "output_type": "execute_result"
    }
   ],
   "source": [
    "# order the bins by size, not alphabetically\n",
    "tmp[\"bin\"] = pd.Categorical(tmp[\"bin\"], categories=bin_labs, ordered=True)\n",
    "\n",
    "# compute the percent within each status\n",
    "tmp[\"pct\"] = (\n",
    "    tmp\n",
    "    .groupby(\"status\", observed=True)[\"count\"]\n",
    "    .transform(lambda s: s / s.sum())\n",
    ")\n",
    "tmp"
   ]
  },
  {
   "cell_type": "code",
   "execution_count": 46,
   "metadata": {
    "cell_id": "6673024af35a4879abff73f0e5e8a3b9",
    "deepnote_cell_type": "code",
    "execution_context_id": "3e5c51cf-c3c5-4dc9-b492-f691f1887d86",
    "execution_millis": 750,
    "execution_start": 1756498194452,
    "source_hash": "dd23ab04"
   },
   "outputs": [
    {
     "data": {
      "image/png": "[encoded data removed]",
      "text/plain": [
       "<Figure size 1100x600 with 1 Axes>"
      ]
     },
     "metadata": {
      "image/png": {
       "height": 590,
       "width": 1089
      }
     },
     "output_type": "display_data"
    }
   ],
   "source": [
    "# ask seaborn to create a plot of these two distributions\n",
    "fig, ax = plt.subplots(figsize=(11, 6))\n",
    "sns.barplot(\n",
    "    data=tmp,\n",
    "    x=\"bin\", y=\"pct\", hue=\"status\",\n",
    "    dodge=True, edgecolor=\"black\", width=0.75,\n",
    "    palette={\"Inconsistent\": \"#FF7F00\",\"Consistent\": \"#377EB8\"},\n",
    "    ax=ax,\n",
    ")\n",
    "\n",
    "# format y axis as a percent, and zoomed comparably to next plot, below\n",
    "ax.set_ylim(0, 0.3)\n",
    "ax.yaxis.set_major_formatter(PercentFormatter(xmax=1, decimals=0))\n",
    "\n",
    "# add labels/titles\n",
    "ax.set_title(\"Distributions of Proof Size, Student Use Case\", pad=12)\n",
    "ax.set_xlabel(\"Proof length in bytes (proportional to the number of characters in Markdown)\")\n",
    "ax.set_ylabel(\"Percentage of proofs in each category\")\n",
    "\n",
    "# rotate x axis labels by 45 degrees\n",
    "ax.tick_params(axis=\"x\", rotation=45)\n",
    "\n",
    "# instead of using the word \"status\" in the legend\n",
    "ax.legend(title=\"Categories\", ncol=1, loc=\"upper right\")\n",
    "\n",
    "# save and show plot\n",
    "plt.savefig( 'SUC con by size.pdf', bbox_inches='tight' )\n",
    "plt.tight_layout()\n",
    "plt.show()"
   ]
  },
  {
   "cell_type": "code",
   "execution_count": 47,
   "metadata": {
    "cell_id": "4ae46959de01483991eea95264fefe02",
    "deepnote_cell_type": "code",
    "execution_context_id": "3e5c51cf-c3c5-4dc9-b492-f691f1887d86",
    "execution_millis": 1,
    "execution_start": 1756498195258,
    "source_hash": "7fa50f9d"
   },
   "outputs": [
    {
     "name": "stdout",
     "output_type": "stream",
     "text": [
      "p1hat, EUC No mistakes Consistent%: 14 / 79 ~= 0.177\n",
      "p2hat, SUC No mistakes Consistent%: 39 / 79 ~= 0.494\n",
      "diff in proportions (p1hat - p2hat): -0.316\n",
      "95% CI for diff: (-0.455, -0.178)\n",
      "95% CI width: 0.277\n",
      "CI width relative to absolute diff: 0.88x the effect size\n",
      "CI excludes 0 → significant difference\n",
      "stat ~= -4.212, p ~= 1.26e-05, Reject\n",
      "--------------------------------------------------\n"
     ]
    }
   ],
   "source": [
    "# ------------------------------------------------------------------------------\n",
    "# Hypothesis Testing 5\n",
    "# ------------------------------------------------------------------------------\n",
    "\n",
    "# Is EUC Consistent% <= same for SUC for proofs humans labeled as having no mistake?\n",
    "hyp_test_pop1_leq_pop2(\n",
    "    grade_dat[grade_dat['T_H']=='No mistakes']['Con_1'].str.startswith( 'Yes' ),\n",
    "    grade_dat[grade_dat['T_H']=='No mistakes']['Con_2'].str.startswith( 'Yes' ),\n",
    "    name1=\"EUC No mistakes Consistent%\", \n",
    "    name2=\"SUC No mistakes Consistent%\" \n",
    ")"
   ]
  },
  {
   "cell_type": "markdown",
   "metadata": {
    "cell_id": "76a0553a040944de9da0ecf0b050b50d",
    "deepnote_cell_type": "text-cell-p",
    "formattedRanges": [
     {
      "fromCodePoint": 0,
      "marks": {
       "bold": true
      },
      "toCodePoint": 3,
      "type": "marks"
     }
    ]
   },
   "source": [
    "6.3"
   ]
  },
  {
   "cell_type": "markdown",
   "metadata": {
    "cell_id": "e5db547ef0bd475e88c9be1254916b3e",
    "deepnote_cell_type": "text-cell-p",
    "formattedRanges": [
     {
      "fromCodePoint": 0,
      "marks": {
       "bold": true
      },
      "toCodePoint": 13,
      "type": "marks"
     }
    ]
   },
   "source": [
    "Calculation: What percentage of assessed proofs were marked as having the AI feedback instruct the student to \"do what you did\"?"
   ]
  },
  {
   "cell_type": "code",
   "execution_count": 48,
   "metadata": {
    "cell_id": "ab5d0ecbb1034e0593c9deff400cb061",
    "deepnote_cell_type": "code",
    "execution_context_id": "3e5c51cf-c3c5-4dc9-b492-f691f1887d86",
    "execution_millis": 0,
    "execution_start": 1756498195318,
    "source_hash": "7bf69298"
   },
   "outputs": [
    {
     "data": {
      "text/plain": [
       "DWYD_1\n",
       "False    200\n",
       "True      13\n",
       "Name: count, dtype: int64"
      ]
     },
     "execution_count": 48,
     "metadata": {},
     "output_type": "execute_result"
    }
   ],
   "source": [
    "# embedded use case\n",
    "euc_dwyd_feedback = grade_dat['DWYD_1'].value_counts()\n",
    "euc_dwyd_feedback "
   ]
  },
  {
   "cell_type": "code",
   "execution_count": 49,
   "metadata": {
    "cell_id": "1ce787f5cf5b48878e25220c1160daf6",
    "deepnote_cell_type": "code",
    "execution_context_id": "3e5c51cf-c3c5-4dc9-b492-f691f1887d86",
    "execution_millis": 0,
    "execution_start": 1756498195379,
    "source_hash": "6b47c6a3"
   },
   "outputs": [
    {
     "data": {
      "text/plain": [
       "0.06103286384976526"
      ]
     },
     "execution_count": 49,
     "metadata": {},
     "output_type": "execute_result"
    }
   ],
   "source": [
    "euc_dwyd_feedback[True] / euc_dwyd_feedback.sum()"
   ]
  },
  {
   "cell_type": "code",
   "execution_count": 50,
   "metadata": {
    "cell_id": "61bf227daff84bb59f212e600b8575e7",
    "deepnote_cell_type": "code",
    "execution_context_id": "3e5c51cf-c3c5-4dc9-b492-f691f1887d86",
    "execution_millis": 1,
    "execution_start": 1756498195441,
    "source_hash": "77c5c6f7"
   },
   "outputs": [
    {
     "data": {
      "text/plain": [
       "DWYD_2\n",
       "False    198\n",
       "True      15\n",
       "Name: count, dtype: int64"
      ]
     },
     "execution_count": 50,
     "metadata": {},
     "output_type": "execute_result"
    }
   ],
   "source": [
    "# student use case\n",
    "suc_dwyd_feedback = grade_dat['DWYD_2'].value_counts()\n",
    "suc_dwyd_feedback "
   ]
  },
  {
   "cell_type": "code",
   "execution_count": 51,
   "metadata": {
    "cell_id": "254bee7c8a384627987a7c0cc9192ebc",
    "deepnote_cell_type": "code",
    "execution_context_id": "3e5c51cf-c3c5-4dc9-b492-f691f1887d86",
    "execution_millis": 0,
    "execution_start": 1756498195498,
    "source_hash": "bd68bcba"
   },
   "outputs": [
    {
     "data": {
      "text/plain": [
       "0.07042253521126761"
      ]
     },
     "execution_count": 51,
     "metadata": {},
     "output_type": "execute_result"
    }
   ],
   "source": [
    "suc_dwyd_feedback[True] / suc_dwyd_feedback.sum()"
   ]
  },
  {
   "cell_type": "markdown",
   "metadata": {
    "created_in_deepnote_cell": true,
    "deepnote_cell_type": "markdown"
   },
   "source": [
    "<a style='text-decoration:none;line-height:16px;display:flex;color:#5B5B62;padding:10px;justify-content:end;' href='https://deepnote.com?utm_source=created-in-deepnote-cell&projectId=c255b22f-0373-4b42-8357-9f9654d4fbb8' target=\"_blank\">\n",
    "<img alt='Created in deepnote.com' style='display:inline;max-height:16px;margin:0px;margin-right:7.5px;' src='data:image/svg+xml;base64,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' > </img>\n",
    "Created in <span style='font-weight:600;margin-left:4px;'>Deepnote</span></a>"
   ]
  }
 ],
 "metadata": {
  "deepnote_notebook_id": "2529556d96f14acabef05e07be79d25b",
  "deepnote_persisted_session": {
   "createdAt": "2025-08-29T20:30:03.659Z"
  },
  "language_info": {
   "name": "python"
  }
 },
 "nbformat": 4,
 "nbformat_minor": 0
}
